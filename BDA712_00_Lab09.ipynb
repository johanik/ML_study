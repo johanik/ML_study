{
  "nbformat": 4,
  "nbformat_minor": 0,
  "metadata": {
    "colab": {
      "provenance": [],
      "include_colab_link": true
    },
    "kernelspec": {
      "name": "python3",
      "display_name": "Python 3"
    },
    "language_info": {
      "name": "python"
    }
  },
  "cells": [
    {
      "cell_type": "markdown",
      "metadata": {
        "id": "view-in-github",
        "colab_type": "text"
      },
      "source": [
        "<a href=\"https://colab.research.google.com/github/johanik/ML_study/blob/main/BDA712_00_Lab09.ipynb\" target=\"_parent\"><img src=\"https://colab.research.google.com/assets/colab-badge.svg\" alt=\"Open In Colab\"/></a>"
      ]
    },
    {
      "cell_type": "markdown",
      "metadata": {
        "id": "saaO06RMwzGH"
      },
      "source": [
        "# Lab Session \\# 09\n",
        "\n",
        "\n",
        "---\n",
        "\n",
        "\n",
        "by Josué Obregón <br>\n",
        "BDA712-00 - Machine Learning Programming <br>\n",
        "Department of Big Data Analytics - Kyung Hee University<br>\n",
        "\n",
        "## Objective\n",
        "\n",
        "The objective of this worksheet is to introduce the student to data cleaning and data transformation.\n",
        "\n",
        "First, some techniques to handle missing data gonna be introduced.\n",
        "\n",
        "Second, various techniques for transforming numerical variables will be studied. These techniques include Feature Scaling, Feature Transformation, and Feature Discretization.\n",
        "\n",
        "And third, different coding techniques for categorical variables will ve presented. These techniques include classical and contrast encoders.\n",
        "\n",
        "It is also intended that the student practice the use of these techniques with the libraries available in the Python language.\n",
        "\n"
      ]
    },
    {
      "cell_type": "markdown",
      "metadata": {
        "id": "RYjZ_KEuTCTe"
      },
      "source": [
        "## Importing libraries and uploading data to various pandas [DataFrames](https://pandas.pydata.org/pandas-docs/version/1.1.5/reference/frame.html)\n",
        "\n",
        "\n",
        "The libraries we'll import to start with are pandas and numpy for data handling, and matplotlib, seaborn, and plotly for display generation."
      ]
    },
    {
      "cell_type": "code",
      "metadata": {
        "id": "npr4qhABfl-I"
      },
      "source": [
        "import pandas as pd\n",
        "import numpy as np\n",
        "import matplotlib.pyplot as plt\n",
        "import seaborn as sns"
      ],
      "execution_count": null,
      "outputs": []
    },
    {
      "cell_type": "markdown",
      "source": [
        "# Cleaning data"
      ],
      "metadata": {
        "id": "eHrqQ4xE5FC2"
      }
    },
    {
      "cell_type": "markdown",
      "source": [
        "## Missing data\n",
        "\n",
        "Let's learn how to use a simple imputer to replace missing values with different strategies"
      ],
      "metadata": {
        "id": "cl5NKkyd5SHL"
      }
    },
    {
      "cell_type": "code",
      "source": [
        "from sklearn.impute import SimpleImputer"
      ],
      "metadata": {
        "id": "eVwjtpwL5Qap"
      },
      "execution_count": null,
      "outputs": []
    },
    {
      "cell_type": "code",
      "source": [
        "X1 = [[7, 2, 3], [4, np.nan, 6], [10, 5, 9]]\n",
        "imp_mean = SimpleImputer(missing_values=np.nan, strategy='mean')\n",
        "pd.DataFrame(X1)"
      ],
      "metadata": {
        "id": "GHBcIm615RGW",
        "colab": {
          "base_uri": "https://localhost:8080/",
          "height": 143
        },
        "outputId": "abe5964e-80c4-4f8f-d26d-896c39b57f26"
      },
      "execution_count": null,
      "outputs": [
        {
          "output_type": "execute_result",
          "data": {
            "text/plain": [
              "    0    1  2\n",
              "0   7  2.0  3\n",
              "1   4  NaN  6\n",
              "2  10  5.0  9"
            ],
            "text/html": [
              "\n",
              "  <div id=\"df-6347a219-13ac-4a63-99e8-e5acdf89dd02\">\n",
              "    <div class=\"colab-df-container\">\n",
              "      <div>\n",
              "<style scoped>\n",
              "    .dataframe tbody tr th:only-of-type {\n",
              "        vertical-align: middle;\n",
              "    }\n",
              "\n",
              "    .dataframe tbody tr th {\n",
              "        vertical-align: top;\n",
              "    }\n",
              "\n",
              "    .dataframe thead th {\n",
              "        text-align: right;\n",
              "    }\n",
              "</style>\n",
              "<table border=\"1\" class=\"dataframe\">\n",
              "  <thead>\n",
              "    <tr style=\"text-align: right;\">\n",
              "      <th></th>\n",
              "      <th>0</th>\n",
              "      <th>1</th>\n",
              "      <th>2</th>\n",
              "    </tr>\n",
              "  </thead>\n",
              "  <tbody>\n",
              "    <tr>\n",
              "      <th>0</th>\n",
              "      <td>7</td>\n",
              "      <td>2.0</td>\n",
              "      <td>3</td>\n",
              "    </tr>\n",
              "    <tr>\n",
              "      <th>1</th>\n",
              "      <td>4</td>\n",
              "      <td>NaN</td>\n",
              "      <td>6</td>\n",
              "    </tr>\n",
              "    <tr>\n",
              "      <th>2</th>\n",
              "      <td>10</td>\n",
              "      <td>5.0</td>\n",
              "      <td>9</td>\n",
              "    </tr>\n",
              "  </tbody>\n",
              "</table>\n",
              "</div>\n",
              "      <button class=\"colab-df-convert\" onclick=\"convertToInteractive('df-6347a219-13ac-4a63-99e8-e5acdf89dd02')\"\n",
              "              title=\"Convert this dataframe to an interactive table.\"\n",
              "              style=\"display:none;\">\n",
              "        \n",
              "  <svg xmlns=\"http://www.w3.org/2000/svg\" height=\"24px\"viewBox=\"0 0 24 24\"\n",
              "       width=\"24px\">\n",
              "    <path d=\"M0 0h24v24H0V0z\" fill=\"none\"/>\n",
              "    <path d=\"M18.56 5.44l.94 2.06.94-2.06 2.06-.94-2.06-.94-.94-2.06-.94 2.06-2.06.94zm-11 1L8.5 8.5l.94-2.06 2.06-.94-2.06-.94L8.5 2.5l-.94 2.06-2.06.94zm10 10l.94 2.06.94-2.06 2.06-.94-2.06-.94-.94-2.06-.94 2.06-2.06.94z\"/><path d=\"M17.41 7.96l-1.37-1.37c-.4-.4-.92-.59-1.43-.59-.52 0-1.04.2-1.43.59L10.3 9.45l-7.72 7.72c-.78.78-.78 2.05 0 2.83L4 21.41c.39.39.9.59 1.41.59.51 0 1.02-.2 1.41-.59l7.78-7.78 2.81-2.81c.8-.78.8-2.07 0-2.86zM5.41 20L4 18.59l7.72-7.72 1.47 1.35L5.41 20z\"/>\n",
              "  </svg>\n",
              "      </button>\n",
              "      \n",
              "  <style>\n",
              "    .colab-df-container {\n",
              "      display:flex;\n",
              "      flex-wrap:wrap;\n",
              "      gap: 12px;\n",
              "    }\n",
              "\n",
              "    .colab-df-convert {\n",
              "      background-color: #E8F0FE;\n",
              "      border: none;\n",
              "      border-radius: 50%;\n",
              "      cursor: pointer;\n",
              "      display: none;\n",
              "      fill: #1967D2;\n",
              "      height: 32px;\n",
              "      padding: 0 0 0 0;\n",
              "      width: 32px;\n",
              "    }\n",
              "\n",
              "    .colab-df-convert:hover {\n",
              "      background-color: #E2EBFA;\n",
              "      box-shadow: 0px 1px 2px rgba(60, 64, 67, 0.3), 0px 1px 3px 1px rgba(60, 64, 67, 0.15);\n",
              "      fill: #174EA6;\n",
              "    }\n",
              "\n",
              "    [theme=dark] .colab-df-convert {\n",
              "      background-color: #3B4455;\n",
              "      fill: #D2E3FC;\n",
              "    }\n",
              "\n",
              "    [theme=dark] .colab-df-convert:hover {\n",
              "      background-color: #434B5C;\n",
              "      box-shadow: 0px 1px 3px 1px rgba(0, 0, 0, 0.15);\n",
              "      filter: drop-shadow(0px 1px 2px rgba(0, 0, 0, 0.3));\n",
              "      fill: #FFFFFF;\n",
              "    }\n",
              "  </style>\n",
              "\n",
              "      <script>\n",
              "        const buttonEl =\n",
              "          document.querySelector('#df-6347a219-13ac-4a63-99e8-e5acdf89dd02 button.colab-df-convert');\n",
              "        buttonEl.style.display =\n",
              "          google.colab.kernel.accessAllowed ? 'block' : 'none';\n",
              "\n",
              "        async function convertToInteractive(key) {\n",
              "          const element = document.querySelector('#df-6347a219-13ac-4a63-99e8-e5acdf89dd02');\n",
              "          const dataTable =\n",
              "            await google.colab.kernel.invokeFunction('convertToInteractive',\n",
              "                                                     [key], {});\n",
              "          if (!dataTable) return;\n",
              "\n",
              "          const docLinkHtml = 'Like what you see? Visit the ' +\n",
              "            '<a target=\"_blank\" href=https://colab.research.google.com/notebooks/data_table.ipynb>data table notebook</a>'\n",
              "            + ' to learn more about interactive tables.';\n",
              "          element.innerHTML = '';\n",
              "          dataTable['output_type'] = 'display_data';\n",
              "          await google.colab.output.renderOutput(dataTable, element);\n",
              "          const docLink = document.createElement('div');\n",
              "          docLink.innerHTML = docLinkHtml;\n",
              "          element.appendChild(docLink);\n",
              "        }\n",
              "      </script>\n",
              "    </div>\n",
              "  </div>\n",
              "  "
            ]
          },
          "metadata": {},
          "execution_count": 3
        }
      ]
    },
    {
      "cell_type": "code",
      "source": [
        "imp_mean.fit(X1)"
      ],
      "metadata": {
        "id": "DzN0YXeF8n76",
        "colab": {
          "base_uri": "https://localhost:8080/"
        },
        "outputId": "4f4bb4d7-24c5-4e52-c92b-415b9ec77548"
      },
      "execution_count": null,
      "outputs": [
        {
          "output_type": "execute_result",
          "data": {
            "text/plain": [
              "SimpleImputer()"
            ]
          },
          "metadata": {},
          "execution_count": 4
        }
      ]
    },
    {
      "cell_type": "code",
      "source": [
        "pd.DataFrame(imp_mean.transform(X1))"
      ],
      "metadata": {
        "id": "--cQP9s9IV3u",
        "colab": {
          "base_uri": "https://localhost:8080/",
          "height": 143
        },
        "outputId": "2cb9e885-0634-48cc-9d94-28b2606f03a7"
      },
      "execution_count": null,
      "outputs": [
        {
          "output_type": "execute_result",
          "data": {
            "text/plain": [
              "      0    1    2\n",
              "0   7.0  2.0  3.0\n",
              "1   4.0  3.5  6.0\n",
              "2  10.0  5.0  9.0"
            ],
            "text/html": [
              "\n",
              "  <div id=\"df-d39f7856-7fe9-46b2-9765-8418497b0540\">\n",
              "    <div class=\"colab-df-container\">\n",
              "      <div>\n",
              "<style scoped>\n",
              "    .dataframe tbody tr th:only-of-type {\n",
              "        vertical-align: middle;\n",
              "    }\n",
              "\n",
              "    .dataframe tbody tr th {\n",
              "        vertical-align: top;\n",
              "    }\n",
              "\n",
              "    .dataframe thead th {\n",
              "        text-align: right;\n",
              "    }\n",
              "</style>\n",
              "<table border=\"1\" class=\"dataframe\">\n",
              "  <thead>\n",
              "    <tr style=\"text-align: right;\">\n",
              "      <th></th>\n",
              "      <th>0</th>\n",
              "      <th>1</th>\n",
              "      <th>2</th>\n",
              "    </tr>\n",
              "  </thead>\n",
              "  <tbody>\n",
              "    <tr>\n",
              "      <th>0</th>\n",
              "      <td>7.0</td>\n",
              "      <td>2.0</td>\n",
              "      <td>3.0</td>\n",
              "    </tr>\n",
              "    <tr>\n",
              "      <th>1</th>\n",
              "      <td>4.0</td>\n",
              "      <td>3.5</td>\n",
              "      <td>6.0</td>\n",
              "    </tr>\n",
              "    <tr>\n",
              "      <th>2</th>\n",
              "      <td>10.0</td>\n",
              "      <td>5.0</td>\n",
              "      <td>9.0</td>\n",
              "    </tr>\n",
              "  </tbody>\n",
              "</table>\n",
              "</div>\n",
              "      <button class=\"colab-df-convert\" onclick=\"convertToInteractive('df-d39f7856-7fe9-46b2-9765-8418497b0540')\"\n",
              "              title=\"Convert this dataframe to an interactive table.\"\n",
              "              style=\"display:none;\">\n",
              "        \n",
              "  <svg xmlns=\"http://www.w3.org/2000/svg\" height=\"24px\"viewBox=\"0 0 24 24\"\n",
              "       width=\"24px\">\n",
              "    <path d=\"M0 0h24v24H0V0z\" fill=\"none\"/>\n",
              "    <path d=\"M18.56 5.44l.94 2.06.94-2.06 2.06-.94-2.06-.94-.94-2.06-.94 2.06-2.06.94zm-11 1L8.5 8.5l.94-2.06 2.06-.94-2.06-.94L8.5 2.5l-.94 2.06-2.06.94zm10 10l.94 2.06.94-2.06 2.06-.94-2.06-.94-.94-2.06-.94 2.06-2.06.94z\"/><path d=\"M17.41 7.96l-1.37-1.37c-.4-.4-.92-.59-1.43-.59-.52 0-1.04.2-1.43.59L10.3 9.45l-7.72 7.72c-.78.78-.78 2.05 0 2.83L4 21.41c.39.39.9.59 1.41.59.51 0 1.02-.2 1.41-.59l7.78-7.78 2.81-2.81c.8-.78.8-2.07 0-2.86zM5.41 20L4 18.59l7.72-7.72 1.47 1.35L5.41 20z\"/>\n",
              "  </svg>\n",
              "      </button>\n",
              "      \n",
              "  <style>\n",
              "    .colab-df-container {\n",
              "      display:flex;\n",
              "      flex-wrap:wrap;\n",
              "      gap: 12px;\n",
              "    }\n",
              "\n",
              "    .colab-df-convert {\n",
              "      background-color: #E8F0FE;\n",
              "      border: none;\n",
              "      border-radius: 50%;\n",
              "      cursor: pointer;\n",
              "      display: none;\n",
              "      fill: #1967D2;\n",
              "      height: 32px;\n",
              "      padding: 0 0 0 0;\n",
              "      width: 32px;\n",
              "    }\n",
              "\n",
              "    .colab-df-convert:hover {\n",
              "      background-color: #E2EBFA;\n",
              "      box-shadow: 0px 1px 2px rgba(60, 64, 67, 0.3), 0px 1px 3px 1px rgba(60, 64, 67, 0.15);\n",
              "      fill: #174EA6;\n",
              "    }\n",
              "\n",
              "    [theme=dark] .colab-df-convert {\n",
              "      background-color: #3B4455;\n",
              "      fill: #D2E3FC;\n",
              "    }\n",
              "\n",
              "    [theme=dark] .colab-df-convert:hover {\n",
              "      background-color: #434B5C;\n",
              "      box-shadow: 0px 1px 3px 1px rgba(0, 0, 0, 0.15);\n",
              "      filter: drop-shadow(0px 1px 2px rgba(0, 0, 0, 0.3));\n",
              "      fill: #FFFFFF;\n",
              "    }\n",
              "  </style>\n",
              "\n",
              "      <script>\n",
              "        const buttonEl =\n",
              "          document.querySelector('#df-d39f7856-7fe9-46b2-9765-8418497b0540 button.colab-df-convert');\n",
              "        buttonEl.style.display =\n",
              "          google.colab.kernel.accessAllowed ? 'block' : 'none';\n",
              "\n",
              "        async function convertToInteractive(key) {\n",
              "          const element = document.querySelector('#df-d39f7856-7fe9-46b2-9765-8418497b0540');\n",
              "          const dataTable =\n",
              "            await google.colab.kernel.invokeFunction('convertToInteractive',\n",
              "                                                     [key], {});\n",
              "          if (!dataTable) return;\n",
              "\n",
              "          const docLinkHtml = 'Like what you see? Visit the ' +\n",
              "            '<a target=\"_blank\" href=https://colab.research.google.com/notebooks/data_table.ipynb>data table notebook</a>'\n",
              "            + ' to learn more about interactive tables.';\n",
              "          element.innerHTML = '';\n",
              "          dataTable['output_type'] = 'display_data';\n",
              "          await google.colab.output.renderOutput(dataTable, element);\n",
              "          const docLink = document.createElement('div');\n",
              "          docLink.innerHTML = docLinkHtml;\n",
              "          element.appendChild(docLink);\n",
              "        }\n",
              "      </script>\n",
              "    </div>\n",
              "  </div>\n",
              "  "
            ]
          },
          "metadata": {},
          "execution_count": 5
        }
      ]
    },
    {
      "cell_type": "code",
      "source": [
        "X2 = [[np.nan, 2, 3], [4, np.nan, 6], [10, np.nan, 9]]\n",
        "pd.DataFrame(X2)"
      ],
      "metadata": {
        "id": "_V1HLWWi5RKC",
        "colab": {
          "base_uri": "https://localhost:8080/",
          "height": 143
        },
        "outputId": "e4028a17-c569-4d6b-d6be-608f1f32bddd"
      },
      "execution_count": null,
      "outputs": [
        {
          "output_type": "execute_result",
          "data": {
            "text/plain": [
              "      0    1  2\n",
              "0   NaN  2.0  3\n",
              "1   4.0  NaN  6\n",
              "2  10.0  NaN  9"
            ],
            "text/html": [
              "\n",
              "  <div id=\"df-5120b669-af83-4b42-b565-72e3ebbf032f\">\n",
              "    <div class=\"colab-df-container\">\n",
              "      <div>\n",
              "<style scoped>\n",
              "    .dataframe tbody tr th:only-of-type {\n",
              "        vertical-align: middle;\n",
              "    }\n",
              "\n",
              "    .dataframe tbody tr th {\n",
              "        vertical-align: top;\n",
              "    }\n",
              "\n",
              "    .dataframe thead th {\n",
              "        text-align: right;\n",
              "    }\n",
              "</style>\n",
              "<table border=\"1\" class=\"dataframe\">\n",
              "  <thead>\n",
              "    <tr style=\"text-align: right;\">\n",
              "      <th></th>\n",
              "      <th>0</th>\n",
              "      <th>1</th>\n",
              "      <th>2</th>\n",
              "    </tr>\n",
              "  </thead>\n",
              "  <tbody>\n",
              "    <tr>\n",
              "      <th>0</th>\n",
              "      <td>NaN</td>\n",
              "      <td>2.0</td>\n",
              "      <td>3</td>\n",
              "    </tr>\n",
              "    <tr>\n",
              "      <th>1</th>\n",
              "      <td>4.0</td>\n",
              "      <td>NaN</td>\n",
              "      <td>6</td>\n",
              "    </tr>\n",
              "    <tr>\n",
              "      <th>2</th>\n",
              "      <td>10.0</td>\n",
              "      <td>NaN</td>\n",
              "      <td>9</td>\n",
              "    </tr>\n",
              "  </tbody>\n",
              "</table>\n",
              "</div>\n",
              "      <button class=\"colab-df-convert\" onclick=\"convertToInteractive('df-5120b669-af83-4b42-b565-72e3ebbf032f')\"\n",
              "              title=\"Convert this dataframe to an interactive table.\"\n",
              "              style=\"display:none;\">\n",
              "        \n",
              "  <svg xmlns=\"http://www.w3.org/2000/svg\" height=\"24px\"viewBox=\"0 0 24 24\"\n",
              "       width=\"24px\">\n",
              "    <path d=\"M0 0h24v24H0V0z\" fill=\"none\"/>\n",
              "    <path d=\"M18.56 5.44l.94 2.06.94-2.06 2.06-.94-2.06-.94-.94-2.06-.94 2.06-2.06.94zm-11 1L8.5 8.5l.94-2.06 2.06-.94-2.06-.94L8.5 2.5l-.94 2.06-2.06.94zm10 10l.94 2.06.94-2.06 2.06-.94-2.06-.94-.94-2.06-.94 2.06-2.06.94z\"/><path d=\"M17.41 7.96l-1.37-1.37c-.4-.4-.92-.59-1.43-.59-.52 0-1.04.2-1.43.59L10.3 9.45l-7.72 7.72c-.78.78-.78 2.05 0 2.83L4 21.41c.39.39.9.59 1.41.59.51 0 1.02-.2 1.41-.59l7.78-7.78 2.81-2.81c.8-.78.8-2.07 0-2.86zM5.41 20L4 18.59l7.72-7.72 1.47 1.35L5.41 20z\"/>\n",
              "  </svg>\n",
              "      </button>\n",
              "      \n",
              "  <style>\n",
              "    .colab-df-container {\n",
              "      display:flex;\n",
              "      flex-wrap:wrap;\n",
              "      gap: 12px;\n",
              "    }\n",
              "\n",
              "    .colab-df-convert {\n",
              "      background-color: #E8F0FE;\n",
              "      border: none;\n",
              "      border-radius: 50%;\n",
              "      cursor: pointer;\n",
              "      display: none;\n",
              "      fill: #1967D2;\n",
              "      height: 32px;\n",
              "      padding: 0 0 0 0;\n",
              "      width: 32px;\n",
              "    }\n",
              "\n",
              "    .colab-df-convert:hover {\n",
              "      background-color: #E2EBFA;\n",
              "      box-shadow: 0px 1px 2px rgba(60, 64, 67, 0.3), 0px 1px 3px 1px rgba(60, 64, 67, 0.15);\n",
              "      fill: #174EA6;\n",
              "    }\n",
              "\n",
              "    [theme=dark] .colab-df-convert {\n",
              "      background-color: #3B4455;\n",
              "      fill: #D2E3FC;\n",
              "    }\n",
              "\n",
              "    [theme=dark] .colab-df-convert:hover {\n",
              "      background-color: #434B5C;\n",
              "      box-shadow: 0px 1px 3px 1px rgba(0, 0, 0, 0.15);\n",
              "      filter: drop-shadow(0px 1px 2px rgba(0, 0, 0, 0.3));\n",
              "      fill: #FFFFFF;\n",
              "    }\n",
              "  </style>\n",
              "\n",
              "      <script>\n",
              "        const buttonEl =\n",
              "          document.querySelector('#df-5120b669-af83-4b42-b565-72e3ebbf032f button.colab-df-convert');\n",
              "        buttonEl.style.display =\n",
              "          google.colab.kernel.accessAllowed ? 'block' : 'none';\n",
              "\n",
              "        async function convertToInteractive(key) {\n",
              "          const element = document.querySelector('#df-5120b669-af83-4b42-b565-72e3ebbf032f');\n",
              "          const dataTable =\n",
              "            await google.colab.kernel.invokeFunction('convertToInteractive',\n",
              "                                                     [key], {});\n",
              "          if (!dataTable) return;\n",
              "\n",
              "          const docLinkHtml = 'Like what you see? Visit the ' +\n",
              "            '<a target=\"_blank\" href=https://colab.research.google.com/notebooks/data_table.ipynb>data table notebook</a>'\n",
              "            + ' to learn more about interactive tables.';\n",
              "          element.innerHTML = '';\n",
              "          dataTable['output_type'] = 'display_data';\n",
              "          await google.colab.output.renderOutput(dataTable, element);\n",
              "          const docLink = document.createElement('div');\n",
              "          docLink.innerHTML = docLinkHtml;\n",
              "          element.appendChild(docLink);\n",
              "        }\n",
              "      </script>\n",
              "    </div>\n",
              "  </div>\n",
              "  "
            ]
          },
          "metadata": {},
          "execution_count": 6
        }
      ]
    },
    {
      "cell_type": "code",
      "source": [
        "pd.DataFrame(imp_mean.transform(X2))"
      ],
      "metadata": {
        "id": "a_FkBoze6F_-",
        "colab": {
          "base_uri": "https://localhost:8080/",
          "height": 143
        },
        "outputId": "9f1586bc-dd1f-4e3a-dafd-41cb55c3885a"
      },
      "execution_count": null,
      "outputs": [
        {
          "output_type": "execute_result",
          "data": {
            "text/plain": [
              "      0    1    2\n",
              "0   7.0  2.0  3.0\n",
              "1   4.0  3.5  6.0\n",
              "2  10.0  3.5  9.0"
            ],
            "text/html": [
              "\n",
              "  <div id=\"df-ac03da85-ca50-4673-b570-8d81ae78fcf4\">\n",
              "    <div class=\"colab-df-container\">\n",
              "      <div>\n",
              "<style scoped>\n",
              "    .dataframe tbody tr th:only-of-type {\n",
              "        vertical-align: middle;\n",
              "    }\n",
              "\n",
              "    .dataframe tbody tr th {\n",
              "        vertical-align: top;\n",
              "    }\n",
              "\n",
              "    .dataframe thead th {\n",
              "        text-align: right;\n",
              "    }\n",
              "</style>\n",
              "<table border=\"1\" class=\"dataframe\">\n",
              "  <thead>\n",
              "    <tr style=\"text-align: right;\">\n",
              "      <th></th>\n",
              "      <th>0</th>\n",
              "      <th>1</th>\n",
              "      <th>2</th>\n",
              "    </tr>\n",
              "  </thead>\n",
              "  <tbody>\n",
              "    <tr>\n",
              "      <th>0</th>\n",
              "      <td>7.0</td>\n",
              "      <td>2.0</td>\n",
              "      <td>3.0</td>\n",
              "    </tr>\n",
              "    <tr>\n",
              "      <th>1</th>\n",
              "      <td>4.0</td>\n",
              "      <td>3.5</td>\n",
              "      <td>6.0</td>\n",
              "    </tr>\n",
              "    <tr>\n",
              "      <th>2</th>\n",
              "      <td>10.0</td>\n",
              "      <td>3.5</td>\n",
              "      <td>9.0</td>\n",
              "    </tr>\n",
              "  </tbody>\n",
              "</table>\n",
              "</div>\n",
              "      <button class=\"colab-df-convert\" onclick=\"convertToInteractive('df-ac03da85-ca50-4673-b570-8d81ae78fcf4')\"\n",
              "              title=\"Convert this dataframe to an interactive table.\"\n",
              "              style=\"display:none;\">\n",
              "        \n",
              "  <svg xmlns=\"http://www.w3.org/2000/svg\" height=\"24px\"viewBox=\"0 0 24 24\"\n",
              "       width=\"24px\">\n",
              "    <path d=\"M0 0h24v24H0V0z\" fill=\"none\"/>\n",
              "    <path d=\"M18.56 5.44l.94 2.06.94-2.06 2.06-.94-2.06-.94-.94-2.06-.94 2.06-2.06.94zm-11 1L8.5 8.5l.94-2.06 2.06-.94-2.06-.94L8.5 2.5l-.94 2.06-2.06.94zm10 10l.94 2.06.94-2.06 2.06-.94-2.06-.94-.94-2.06-.94 2.06-2.06.94z\"/><path d=\"M17.41 7.96l-1.37-1.37c-.4-.4-.92-.59-1.43-.59-.52 0-1.04.2-1.43.59L10.3 9.45l-7.72 7.72c-.78.78-.78 2.05 0 2.83L4 21.41c.39.39.9.59 1.41.59.51 0 1.02-.2 1.41-.59l7.78-7.78 2.81-2.81c.8-.78.8-2.07 0-2.86zM5.41 20L4 18.59l7.72-7.72 1.47 1.35L5.41 20z\"/>\n",
              "  </svg>\n",
              "      </button>\n",
              "      \n",
              "  <style>\n",
              "    .colab-df-container {\n",
              "      display:flex;\n",
              "      flex-wrap:wrap;\n",
              "      gap: 12px;\n",
              "    }\n",
              "\n",
              "    .colab-df-convert {\n",
              "      background-color: #E8F0FE;\n",
              "      border: none;\n",
              "      border-radius: 50%;\n",
              "      cursor: pointer;\n",
              "      display: none;\n",
              "      fill: #1967D2;\n",
              "      height: 32px;\n",
              "      padding: 0 0 0 0;\n",
              "      width: 32px;\n",
              "    }\n",
              "\n",
              "    .colab-df-convert:hover {\n",
              "      background-color: #E2EBFA;\n",
              "      box-shadow: 0px 1px 2px rgba(60, 64, 67, 0.3), 0px 1px 3px 1px rgba(60, 64, 67, 0.15);\n",
              "      fill: #174EA6;\n",
              "    }\n",
              "\n",
              "    [theme=dark] .colab-df-convert {\n",
              "      background-color: #3B4455;\n",
              "      fill: #D2E3FC;\n",
              "    }\n",
              "\n",
              "    [theme=dark] .colab-df-convert:hover {\n",
              "      background-color: #434B5C;\n",
              "      box-shadow: 0px 1px 3px 1px rgba(0, 0, 0, 0.15);\n",
              "      filter: drop-shadow(0px 1px 2px rgba(0, 0, 0, 0.3));\n",
              "      fill: #FFFFFF;\n",
              "    }\n",
              "  </style>\n",
              "\n",
              "      <script>\n",
              "        const buttonEl =\n",
              "          document.querySelector('#df-ac03da85-ca50-4673-b570-8d81ae78fcf4 button.colab-df-convert');\n",
              "        buttonEl.style.display =\n",
              "          google.colab.kernel.accessAllowed ? 'block' : 'none';\n",
              "\n",
              "        async function convertToInteractive(key) {\n",
              "          const element = document.querySelector('#df-ac03da85-ca50-4673-b570-8d81ae78fcf4');\n",
              "          const dataTable =\n",
              "            await google.colab.kernel.invokeFunction('convertToInteractive',\n",
              "                                                     [key], {});\n",
              "          if (!dataTable) return;\n",
              "\n",
              "          const docLinkHtml = 'Like what you see? Visit the ' +\n",
              "            '<a target=\"_blank\" href=https://colab.research.google.com/notebooks/data_table.ipynb>data table notebook</a>'\n",
              "            + ' to learn more about interactive tables.';\n",
              "          element.innerHTML = '';\n",
              "          dataTable['output_type'] = 'display_data';\n",
              "          await google.colab.output.renderOutput(dataTable, element);\n",
              "          const docLink = document.createElement('div');\n",
              "          docLink.innerHTML = docLinkHtml;\n",
              "          element.appendChild(docLink);\n",
              "        }\n",
              "      </script>\n",
              "    </div>\n",
              "  </div>\n",
              "  "
            ]
          },
          "metadata": {},
          "execution_count": 7
        }
      ]
    },
    {
      "cell_type": "code",
      "source": [
        "imp_mean.statistics_"
      ],
      "metadata": {
        "id": "lXG9ZfENIj8b",
        "colab": {
          "base_uri": "https://localhost:8080/"
        },
        "outputId": "2a40b4bb-f4d3-4ee4-b47d-3ce4965ad2f7"
      },
      "execution_count": null,
      "outputs": [
        {
          "output_type": "execute_result",
          "data": {
            "text/plain": [
              "array([7. , 3.5, 6. ])"
            ]
          },
          "metadata": {},
          "execution_count": 8
        }
      ]
    },
    {
      "cell_type": "markdown",
      "source": [
        "You can also check the [KNN imputer](https://scikit-learn.org/stable/modules/generated/sklearn.impute.KNNImputer.html#sklearn.impute.KNNImputer). Can you guess how this work?"
      ],
      "metadata": {
        "id": "AU1BdakFJIsc"
      }
    },
    {
      "cell_type": "markdown",
      "source": [
        "Another way is to add an indicator variable to denote that there are missing values"
      ],
      "metadata": {
        "id": "Cvqqcxe56m39"
      }
    },
    {
      "cell_type": "code",
      "source": [
        "from sklearn.impute import MissingIndicator"
      ],
      "metadata": {
        "id": "HUXwh4-86lZw"
      },
      "execution_count": null,
      "outputs": []
    },
    {
      "cell_type": "code",
      "source": [
        "indicator = MissingIndicator(features='all', error_on_new=False)\n",
        "indicator.fit(X1)"
      ],
      "metadata": {
        "id": "0wYFGY_d6mML",
        "colab": {
          "base_uri": "https://localhost:8080/"
        },
        "outputId": "5bbdf4e4-3449-4ffb-9475-204425dd5cef"
      },
      "execution_count": null,
      "outputs": [
        {
          "output_type": "execute_result",
          "data": {
            "text/plain": [
              "MissingIndicator(error_on_new=False, features='all')"
            ]
          },
          "metadata": {},
          "execution_count": 10
        }
      ]
    },
    {
      "cell_type": "code",
      "source": [
        "indicator.transform(X2)"
      ],
      "metadata": {
        "id": "UmS6_kHZJ5IY",
        "colab": {
          "base_uri": "https://localhost:8080/"
        },
        "outputId": "e425cf95-7355-4086-81c1-0bf4836889dc"
      },
      "execution_count": null,
      "outputs": [
        {
          "output_type": "execute_result",
          "data": {
            "text/plain": [
              "array([[ True, False, False],\n",
              "       [False,  True, False],\n",
              "       [False,  True, False]])"
            ]
          },
          "metadata": {},
          "execution_count": 11
        }
      ]
    },
    {
      "cell_type": "code",
      "source": [],
      "metadata": {
        "id": "CdqpNvvJ6mPS"
      },
      "execution_count": null,
      "outputs": []
    },
    {
      "cell_type": "markdown",
      "source": [
        "# Loading data and checking outliers"
      ],
      "metadata": {
        "id": "gnOvfgbm9JiN"
      }
    },
    {
      "cell_type": "code",
      "metadata": {
        "id": "TKledaEXfpT3"
      },
      "source": [
        "from sklearn.datasets import fetch_california_housing\n",
        "from sklearn.model_selection import train_test_split"
      ],
      "execution_count": null,
      "outputs": []
    },
    {
      "cell_type": "code",
      "metadata": {
        "id": "hAaRL20BhT6r",
        "colab": {
          "base_uri": "https://localhost:8080/"
        },
        "outputId": "b4f0271d-ea15-4b36-a5ff-fb71db717f62"
      },
      "source": [
        "data = fetch_california_housing()\n",
        "print(data.DESCR)"
      ],
      "execution_count": null,
      "outputs": [
        {
          "output_type": "stream",
          "name": "stdout",
          "text": [
            ".. _california_housing_dataset:\n",
            "\n",
            "California Housing dataset\n",
            "--------------------------\n",
            "\n",
            "**Data Set Characteristics:**\n",
            "\n",
            "    :Number of Instances: 20640\n",
            "\n",
            "    :Number of Attributes: 8 numeric, predictive attributes and the target\n",
            "\n",
            "    :Attribute Information:\n",
            "        - MedInc        median income in block group\n",
            "        - HouseAge      median house age in block group\n",
            "        - AveRooms      average number of rooms per household\n",
            "        - AveBedrms     average number of bedrooms per household\n",
            "        - Population    block group population\n",
            "        - AveOccup      average number of household members\n",
            "        - Latitude      block group latitude\n",
            "        - Longitude     block group longitude\n",
            "\n",
            "    :Missing Attribute Values: None\n",
            "\n",
            "This dataset was obtained from the StatLib repository.\n",
            "https://www.dcc.fc.up.pt/~ltorgo/Regression/cal_housing.html\n",
            "\n",
            "The target variable is the median house value for California districts,\n",
            "expressed in hundreds of thousands of dollars ($100,000).\n",
            "\n",
            "This dataset was derived from the 1990 U.S. census, using one row per census\n",
            "block group. A block group is the smallest geographical unit for which the U.S.\n",
            "Census Bureau publishes sample data (a block group typically has a population\n",
            "of 600 to 3,000 people).\n",
            "\n",
            "An household is a group of people residing within a home. Since the average\n",
            "number of rooms and bedrooms in this dataset are provided per household, these\n",
            "columns may take surpinsingly large values for block groups with few households\n",
            "and many empty houses, such as vacation resorts.\n",
            "\n",
            "It can be downloaded/loaded using the\n",
            ":func:`sklearn.datasets.fetch_california_housing` function.\n",
            "\n",
            ".. topic:: References\n",
            "\n",
            "    - Pace, R. Kelley and Ronald Barry, Sparse Spatial Autoregressions,\n",
            "      Statistics and Probability Letters, 33 (1997) 291-297\n",
            "\n"
          ]
        }
      ]
    },
    {
      "cell_type": "code",
      "metadata": {
        "id": "rpgL6Jpphd1e",
        "colab": {
          "base_uri": "https://localhost:8080/"
        },
        "outputId": "7911a368-71f7-4d68-e472-e473ce299b79"
      },
      "source": [
        "#X, y = data.data, data.target\n",
        "\n",
        "df = pd.DataFrame(data.data, columns=data.feature_names)\n",
        "\n",
        "X_train, X_test, y_train, y_test = train_test_split(df,data.target, shuffle=True,test_size = 0.25, random_state=712 )\n",
        "\n",
        "print(X_train.shape)\n",
        "print(X_test.shape)"
      ],
      "execution_count": null,
      "outputs": [
        {
          "output_type": "stream",
          "name": "stdout",
          "text": [
            "(15480, 8)\n",
            "(5160, 8)\n"
          ]
        }
      ]
    },
    {
      "cell_type": "code",
      "metadata": {
        "id": "N8seG0xhrEv6"
      },
      "source": [
        "X_train = X_train.copy()"
      ],
      "execution_count": null,
      "outputs": []
    },
    {
      "cell_type": "markdown",
      "metadata": {
        "id": "Eu0zZVWXoakB"
      },
      "source": [
        "## Overview of the dataset and removing outliers"
      ]
    },
    {
      "cell_type": "code",
      "metadata": {
        "id": "w_qKK02wlcN-",
        "colab": {
          "base_uri": "https://localhost:8080/",
          "height": 344
        },
        "outputId": "2001a13c-3223-4696-82cf-7debca7adab0"
      },
      "source": [
        "X_train.describe()"
      ],
      "execution_count": null,
      "outputs": [
        {
          "output_type": "execute_result",
          "data": {
            "text/plain": [
              "             MedInc      HouseAge      AveRooms     AveBedrms    Population  \\\n",
              "count  15480.000000  15480.000000  15480.000000  15480.000000  15480.000000   \n",
              "mean       3.861731     28.588372      5.424765      1.095334   1425.278359   \n",
              "std        1.880197     12.588856      2.315685      0.447110   1136.006138   \n",
              "min        0.499900      1.000000      0.846154      0.444444      3.000000   \n",
              "25%        2.559800     18.000000      4.442168      1.005592    786.000000   \n",
              "50%        3.543550     29.000000      5.234243      1.048023   1167.500000   \n",
              "75%        4.736900     37.000000      6.052381      1.099490   1732.000000   \n",
              "max       15.000100     52.000000    132.533333     34.066667  35682.000000   \n",
              "\n",
              "           AveOccup      Latitude     Longitude  \n",
              "count  15480.000000  15480.000000  15480.000000  \n",
              "mean       3.008388     35.627668   -119.562800  \n",
              "std        5.286262      2.134114      2.001199  \n",
              "min        0.750000     32.540000   -124.350000  \n",
              "25%        2.433883     33.930000   -121.770000  \n",
              "50%        2.824752     34.260000   -118.500000  \n",
              "75%        3.286539     37.710000   -118.000000  \n",
              "max      599.714286     41.950000   -114.310000  "
            ],
            "text/html": [
              "\n",
              "  <div id=\"df-58151ad1-451c-473c-98d1-e40f4c3a733b\">\n",
              "    <div class=\"colab-df-container\">\n",
              "      <div>\n",
              "<style scoped>\n",
              "    .dataframe tbody tr th:only-of-type {\n",
              "        vertical-align: middle;\n",
              "    }\n",
              "\n",
              "    .dataframe tbody tr th {\n",
              "        vertical-align: top;\n",
              "    }\n",
              "\n",
              "    .dataframe thead th {\n",
              "        text-align: right;\n",
              "    }\n",
              "</style>\n",
              "<table border=\"1\" class=\"dataframe\">\n",
              "  <thead>\n",
              "    <tr style=\"text-align: right;\">\n",
              "      <th></th>\n",
              "      <th>MedInc</th>\n",
              "      <th>HouseAge</th>\n",
              "      <th>AveRooms</th>\n",
              "      <th>AveBedrms</th>\n",
              "      <th>Population</th>\n",
              "      <th>AveOccup</th>\n",
              "      <th>Latitude</th>\n",
              "      <th>Longitude</th>\n",
              "    </tr>\n",
              "  </thead>\n",
              "  <tbody>\n",
              "    <tr>\n",
              "      <th>count</th>\n",
              "      <td>15480.000000</td>\n",
              "      <td>15480.000000</td>\n",
              "      <td>15480.000000</td>\n",
              "      <td>15480.000000</td>\n",
              "      <td>15480.000000</td>\n",
              "      <td>15480.000000</td>\n",
              "      <td>15480.000000</td>\n",
              "      <td>15480.000000</td>\n",
              "    </tr>\n",
              "    <tr>\n",
              "      <th>mean</th>\n",
              "      <td>3.861731</td>\n",
              "      <td>28.588372</td>\n",
              "      <td>5.424765</td>\n",
              "      <td>1.095334</td>\n",
              "      <td>1425.278359</td>\n",
              "      <td>3.008388</td>\n",
              "      <td>35.627668</td>\n",
              "      <td>-119.562800</td>\n",
              "    </tr>\n",
              "    <tr>\n",
              "      <th>std</th>\n",
              "      <td>1.880197</td>\n",
              "      <td>12.588856</td>\n",
              "      <td>2.315685</td>\n",
              "      <td>0.447110</td>\n",
              "      <td>1136.006138</td>\n",
              "      <td>5.286262</td>\n",
              "      <td>2.134114</td>\n",
              "      <td>2.001199</td>\n",
              "    </tr>\n",
              "    <tr>\n",
              "      <th>min</th>\n",
              "      <td>0.499900</td>\n",
              "      <td>1.000000</td>\n",
              "      <td>0.846154</td>\n",
              "      <td>0.444444</td>\n",
              "      <td>3.000000</td>\n",
              "      <td>0.750000</td>\n",
              "      <td>32.540000</td>\n",
              "      <td>-124.350000</td>\n",
              "    </tr>\n",
              "    <tr>\n",
              "      <th>25%</th>\n",
              "      <td>2.559800</td>\n",
              "      <td>18.000000</td>\n",
              "      <td>4.442168</td>\n",
              "      <td>1.005592</td>\n",
              "      <td>786.000000</td>\n",
              "      <td>2.433883</td>\n",
              "      <td>33.930000</td>\n",
              "      <td>-121.770000</td>\n",
              "    </tr>\n",
              "    <tr>\n",
              "      <th>50%</th>\n",
              "      <td>3.543550</td>\n",
              "      <td>29.000000</td>\n",
              "      <td>5.234243</td>\n",
              "      <td>1.048023</td>\n",
              "      <td>1167.500000</td>\n",
              "      <td>2.824752</td>\n",
              "      <td>34.260000</td>\n",
              "      <td>-118.500000</td>\n",
              "    </tr>\n",
              "    <tr>\n",
              "      <th>75%</th>\n",
              "      <td>4.736900</td>\n",
              "      <td>37.000000</td>\n",
              "      <td>6.052381</td>\n",
              "      <td>1.099490</td>\n",
              "      <td>1732.000000</td>\n",
              "      <td>3.286539</td>\n",
              "      <td>37.710000</td>\n",
              "      <td>-118.000000</td>\n",
              "    </tr>\n",
              "    <tr>\n",
              "      <th>max</th>\n",
              "      <td>15.000100</td>\n",
              "      <td>52.000000</td>\n",
              "      <td>132.533333</td>\n",
              "      <td>34.066667</td>\n",
              "      <td>35682.000000</td>\n",
              "      <td>599.714286</td>\n",
              "      <td>41.950000</td>\n",
              "      <td>-114.310000</td>\n",
              "    </tr>\n",
              "  </tbody>\n",
              "</table>\n",
              "</div>\n",
              "      <button class=\"colab-df-convert\" onclick=\"convertToInteractive('df-58151ad1-451c-473c-98d1-e40f4c3a733b')\"\n",
              "              title=\"Convert this dataframe to an interactive table.\"\n",
              "              style=\"display:none;\">\n",
              "        \n",
              "  <svg xmlns=\"http://www.w3.org/2000/svg\" height=\"24px\"viewBox=\"0 0 24 24\"\n",
              "       width=\"24px\">\n",
              "    <path d=\"M0 0h24v24H0V0z\" fill=\"none\"/>\n",
              "    <path d=\"M18.56 5.44l.94 2.06.94-2.06 2.06-.94-2.06-.94-.94-2.06-.94 2.06-2.06.94zm-11 1L8.5 8.5l.94-2.06 2.06-.94-2.06-.94L8.5 2.5l-.94 2.06-2.06.94zm10 10l.94 2.06.94-2.06 2.06-.94-2.06-.94-.94-2.06-.94 2.06-2.06.94z\"/><path d=\"M17.41 7.96l-1.37-1.37c-.4-.4-.92-.59-1.43-.59-.52 0-1.04.2-1.43.59L10.3 9.45l-7.72 7.72c-.78.78-.78 2.05 0 2.83L4 21.41c.39.39.9.59 1.41.59.51 0 1.02-.2 1.41-.59l7.78-7.78 2.81-2.81c.8-.78.8-2.07 0-2.86zM5.41 20L4 18.59l7.72-7.72 1.47 1.35L5.41 20z\"/>\n",
              "  </svg>\n",
              "      </button>\n",
              "      \n",
              "  <style>\n",
              "    .colab-df-container {\n",
              "      display:flex;\n",
              "      flex-wrap:wrap;\n",
              "      gap: 12px;\n",
              "    }\n",
              "\n",
              "    .colab-df-convert {\n",
              "      background-color: #E8F0FE;\n",
              "      border: none;\n",
              "      border-radius: 50%;\n",
              "      cursor: pointer;\n",
              "      display: none;\n",
              "      fill: #1967D2;\n",
              "      height: 32px;\n",
              "      padding: 0 0 0 0;\n",
              "      width: 32px;\n",
              "    }\n",
              "\n",
              "    .colab-df-convert:hover {\n",
              "      background-color: #E2EBFA;\n",
              "      box-shadow: 0px 1px 2px rgba(60, 64, 67, 0.3), 0px 1px 3px 1px rgba(60, 64, 67, 0.15);\n",
              "      fill: #174EA6;\n",
              "    }\n",
              "\n",
              "    [theme=dark] .colab-df-convert {\n",
              "      background-color: #3B4455;\n",
              "      fill: #D2E3FC;\n",
              "    }\n",
              "\n",
              "    [theme=dark] .colab-df-convert:hover {\n",
              "      background-color: #434B5C;\n",
              "      box-shadow: 0px 1px 3px 1px rgba(0, 0, 0, 0.15);\n",
              "      filter: drop-shadow(0px 1px 2px rgba(0, 0, 0, 0.3));\n",
              "      fill: #FFFFFF;\n",
              "    }\n",
              "  </style>\n",
              "\n",
              "      <script>\n",
              "        const buttonEl =\n",
              "          document.querySelector('#df-58151ad1-451c-473c-98d1-e40f4c3a733b button.colab-df-convert');\n",
              "        buttonEl.style.display =\n",
              "          google.colab.kernel.accessAllowed ? 'block' : 'none';\n",
              "\n",
              "        async function convertToInteractive(key) {\n",
              "          const element = document.querySelector('#df-58151ad1-451c-473c-98d1-e40f4c3a733b');\n",
              "          const dataTable =\n",
              "            await google.colab.kernel.invokeFunction('convertToInteractive',\n",
              "                                                     [key], {});\n",
              "          if (!dataTable) return;\n",
              "\n",
              "          const docLinkHtml = 'Like what you see? Visit the ' +\n",
              "            '<a target=\"_blank\" href=https://colab.research.google.com/notebooks/data_table.ipynb>data table notebook</a>'\n",
              "            + ' to learn more about interactive tables.';\n",
              "          element.innerHTML = '';\n",
              "          dataTable['output_type'] = 'display_data';\n",
              "          await google.colab.output.renderOutput(dataTable, element);\n",
              "          const docLink = document.createElement('div');\n",
              "          docLink.innerHTML = docLinkHtml;\n",
              "          element.appendChild(docLink);\n",
              "        }\n",
              "      </script>\n",
              "    </div>\n",
              "  </div>\n",
              "  "
            ]
          },
          "metadata": {},
          "execution_count": 16
        }
      ]
    },
    {
      "cell_type": "code",
      "metadata": {
        "id": "Ct__foq4honB",
        "colab": {
          "base_uri": "https://localhost:8080/"
        },
        "outputId": "6690fec2-035f-4ed2-ab39-ac85829e8c3d"
      },
      "source": [
        "X_train.info()"
      ],
      "execution_count": null,
      "outputs": [
        {
          "output_type": "stream",
          "name": "stdout",
          "text": [
            "<class 'pandas.core.frame.DataFrame'>\n",
            "Int64Index: 15480 entries, 10391 to 16429\n",
            "Data columns (total 8 columns):\n",
            " #   Column      Non-Null Count  Dtype  \n",
            "---  ------      --------------  -----  \n",
            " 0   MedInc      15480 non-null  float64\n",
            " 1   HouseAge    15480 non-null  float64\n",
            " 2   AveRooms    15480 non-null  float64\n",
            " 3   AveBedrms   15480 non-null  float64\n",
            " 4   Population  15480 non-null  float64\n",
            " 5   AveOccup    15480 non-null  float64\n",
            " 6   Latitude    15480 non-null  float64\n",
            " 7   Longitude   15480 non-null  float64\n",
            "dtypes: float64(8)\n",
            "memory usage: 1.1 MB\n"
          ]
        }
      ]
    },
    {
      "cell_type": "code",
      "metadata": {
        "id": "GyfvFj8_EvN3",
        "colab": {
          "base_uri": "https://localhost:8080/",
          "height": 1000
        },
        "outputId": "08390f34-2f2f-4c09-e1fc-c89e9341726e"
      },
      "source": [
        "X_train.plot.kde(subplots=True, figsize=(10,20), sharex=False)"
      ],
      "execution_count": null,
      "outputs": [
        {
          "output_type": "execute_result",
          "data": {
            "text/plain": [
              "array([<matplotlib.axes._subplots.AxesSubplot object at 0x7f38ee786e10>,\n",
              "       <matplotlib.axes._subplots.AxesSubplot object at 0x7f38f15f8990>,\n",
              "       <matplotlib.axes._subplots.AxesSubplot object at 0x7f38eed93b10>,\n",
              "       <matplotlib.axes._subplots.AxesSubplot object at 0x7f38ef059150>,\n",
              "       <matplotlib.axes._subplots.AxesSubplot object at 0x7f38ef00e750>,\n",
              "       <matplotlib.axes._subplots.AxesSubplot object at 0x7f38ef044d50>,\n",
              "       <matplotlib.axes._subplots.AxesSubplot object at 0x7f38ef007410>,\n",
              "       <matplotlib.axes._subplots.AxesSubplot object at 0x7f38eefbc850>],\n",
              "      dtype=object)"
            ]
          },
          "metadata": {},
          "execution_count": 18
        },
        {
          "output_type": "display_data",
          "data": {
            "text/plain": [
              "<Figure size 720x1440 with 8 Axes>"
            ],
            "image/png": "[encoded data removed]"
          },
          "metadata": {
            "needs_background": "light"
          }
        }
      ]
    },
    {
      "cell_type": "code",
      "metadata": {
        "id": "NcF6TJ1qi_DO",
        "colab": {
          "base_uri": "https://localhost:8080/",
          "height": 296
        },
        "outputId": "351b1211-4398-480e-df71-9df8aa0593ea"
      },
      "source": [
        "sns.histplot(data=X_train, x='AveRooms')"
      ],
      "execution_count": null,
      "outputs": [
        {
          "output_type": "execute_result",
          "data": {
            "text/plain": [
              "<matplotlib.axes._subplots.AxesSubplot at 0x7f38ee8b1d90>"
            ]
          },
          "metadata": {},
          "execution_count": 19
        },
        {
          "output_type": "display_data",
          "data": {
            "text/plain": [
              "<Figure size 432x288 with 1 Axes>"
            ],
            "image/png": "[encoded data removed]"
          },
          "metadata": {
            "needs_background": "light"
          }
        }
      ]
    },
    {
      "cell_type": "code",
      "metadata": {
        "id": "rfhgxgjAlMCb",
        "colab": {
          "base_uri": "https://localhost:8080/"
        },
        "outputId": "a5176ac3-3bd4-4410-bc79-64a099d3c97a"
      },
      "source": [
        "X_train['AveRooms'].quantile([0.1, 0.5, 0.9, 0.95, 0.99])"
      ],
      "execution_count": null,
      "outputs": [
        {
          "output_type": "execute_result",
          "data": {
            "text/plain": [
              "0.10     3.789901\n",
              "0.50     5.234243\n",
              "0.90     6.949711\n",
              "0.95     7.621966\n",
              "0.99    10.389467\n",
              "Name: AveRooms, dtype: float64"
            ]
          },
          "metadata": {},
          "execution_count": 20
        }
      ]
    },
    {
      "cell_type": "code",
      "metadata": {
        "id": "iXyYmDi9mAd2"
      },
      "source": [
        "X_train_99 = X_train[X_train['AveRooms']<X_train['AveRooms'].quantile(0.99)].copy()"
      ],
      "execution_count": null,
      "outputs": []
    },
    {
      "cell_type": "code",
      "metadata": {
        "id": "wslNF7yHmv4q",
        "colab": {
          "base_uri": "https://localhost:8080/",
          "height": 344
        },
        "outputId": "50812619-3aed-4e9f-e781-bab7380e27f6"
      },
      "source": [
        "X_train_99.describe()"
      ],
      "execution_count": null,
      "outputs": [
        {
          "output_type": "execute_result",
          "data": {
            "text/plain": [
              "             MedInc      HouseAge      AveRooms     AveBedrms    Population  \\\n",
              "count  15325.000000  15325.000000  15325.000000  15325.000000  15325.000000   \n",
              "mean       3.858829     28.698532      5.280798      1.066798   1433.951843   \n",
              "std        1.872197     12.569164      1.236694      0.131820   1137.113957   \n",
              "min        0.499900      1.000000      0.846154      0.444444      3.000000   \n",
              "25%        2.558300     18.000000      4.434322      1.005017    794.000000   \n",
              "50%        3.541700     29.000000      5.219766      1.047109   1173.000000   \n",
              "75%        4.738100     37.000000      6.018868      1.097297   1740.000000   \n",
              "max       15.000100     52.000000     10.386667      3.187970  35682.000000   \n",
              "\n",
              "           AveOccup     Latitude     Longitude  \n",
              "count  15325.000000  15325.00000  15325.000000  \n",
              "mean       3.012213     35.61549   -119.568251  \n",
              "std        5.311717      2.12748      2.001296  \n",
              "min        0.750000     32.54000   -124.350000  \n",
              "25%        2.436923     33.93000   -121.790000  \n",
              "50%        2.830357     34.25000   -118.490000  \n",
              "75%        3.291322     37.71000   -118.010000  \n",
              "max      599.714286     41.95000   -114.550000  "
            ],
            "text/html": [
              "\n",
              "  <div id=\"df-9f4e7500-5158-456b-b7ba-2642fbf1cfb5\">\n",
              "    <div class=\"colab-df-container\">\n",
              "      <div>\n",
              "<style scoped>\n",
              "    .dataframe tbody tr th:only-of-type {\n",
              "        vertical-align: middle;\n",
              "    }\n",
              "\n",
              "    .dataframe tbody tr th {\n",
              "        vertical-align: top;\n",
              "    }\n",
              "\n",
              "    .dataframe thead th {\n",
              "        text-align: right;\n",
              "    }\n",
              "</style>\n",
              "<table border=\"1\" class=\"dataframe\">\n",
              "  <thead>\n",
              "    <tr style=\"text-align: right;\">\n",
              "      <th></th>\n",
              "      <th>MedInc</th>\n",
              "      <th>HouseAge</th>\n",
              "      <th>AveRooms</th>\n",
              "      <th>AveBedrms</th>\n",
              "      <th>Population</th>\n",
              "      <th>AveOccup</th>\n",
              "      <th>Latitude</th>\n",
              "      <th>Longitude</th>\n",
              "    </tr>\n",
              "  </thead>\n",
              "  <tbody>\n",
              "    <tr>\n",
              "      <th>count</th>\n",
              "      <td>15325.000000</td>\n",
              "      <td>15325.000000</td>\n",
              "      <td>15325.000000</td>\n",
              "      <td>15325.000000</td>\n",
              "      <td>15325.000000</td>\n",
              "      <td>15325.000000</td>\n",
              "      <td>15325.00000</td>\n",
              "      <td>15325.000000</td>\n",
              "    </tr>\n",
              "    <tr>\n",
              "      <th>mean</th>\n",
              "      <td>3.858829</td>\n",
              "      <td>28.698532</td>\n",
              "      <td>5.280798</td>\n",
              "      <td>1.066798</td>\n",
              "      <td>1433.951843</td>\n",
              "      <td>3.012213</td>\n",
              "      <td>35.61549</td>\n",
              "      <td>-119.568251</td>\n",
              "    </tr>\n",
              "    <tr>\n",
              "      <th>std</th>\n",
              "      <td>1.872197</td>\n",
              "      <td>12.569164</td>\n",
              "      <td>1.236694</td>\n",
              "      <td>0.131820</td>\n",
              "      <td>1137.113957</td>\n",
              "      <td>5.311717</td>\n",
              "      <td>2.12748</td>\n",
              "      <td>2.001296</td>\n",
              "    </tr>\n",
              "    <tr>\n",
              "      <th>min</th>\n",
              "      <td>0.499900</td>\n",
              "      <td>1.000000</td>\n",
              "      <td>0.846154</td>\n",
              "      <td>0.444444</td>\n",
              "      <td>3.000000</td>\n",
              "      <td>0.750000</td>\n",
              "      <td>32.54000</td>\n",
              "      <td>-124.350000</td>\n",
              "    </tr>\n",
              "    <tr>\n",
              "      <th>25%</th>\n",
              "      <td>2.558300</td>\n",
              "      <td>18.000000</td>\n",
              "      <td>4.434322</td>\n",
              "      <td>1.005017</td>\n",
              "      <td>794.000000</td>\n",
              "      <td>2.436923</td>\n",
              "      <td>33.93000</td>\n",
              "      <td>-121.790000</td>\n",
              "    </tr>\n",
              "    <tr>\n",
              "      <th>50%</th>\n",
              "      <td>3.541700</td>\n",
              "      <td>29.000000</td>\n",
              "      <td>5.219766</td>\n",
              "      <td>1.047109</td>\n",
              "      <td>1173.000000</td>\n",
              "      <td>2.830357</td>\n",
              "      <td>34.25000</td>\n",
              "      <td>-118.490000</td>\n",
              "    </tr>\n",
              "    <tr>\n",
              "      <th>75%</th>\n",
              "      <td>4.738100</td>\n",
              "      <td>37.000000</td>\n",
              "      <td>6.018868</td>\n",
              "      <td>1.097297</td>\n",
              "      <td>1740.000000</td>\n",
              "      <td>3.291322</td>\n",
              "      <td>37.71000</td>\n",
              "      <td>-118.010000</td>\n",
              "    </tr>\n",
              "    <tr>\n",
              "      <th>max</th>\n",
              "      <td>15.000100</td>\n",
              "      <td>52.000000</td>\n",
              "      <td>10.386667</td>\n",
              "      <td>3.187970</td>\n",
              "      <td>35682.000000</td>\n",
              "      <td>599.714286</td>\n",
              "      <td>41.95000</td>\n",
              "      <td>-114.550000</td>\n",
              "    </tr>\n",
              "  </tbody>\n",
              "</table>\n",
              "</div>\n",
              "      <button class=\"colab-df-convert\" onclick=\"convertToInteractive('df-9f4e7500-5158-456b-b7ba-2642fbf1cfb5')\"\n",
              "              title=\"Convert this dataframe to an interactive table.\"\n",
              "              style=\"display:none;\">\n",
              "        \n",
              "  <svg xmlns=\"http://www.w3.org/2000/svg\" height=\"24px\"viewBox=\"0 0 24 24\"\n",
              "       width=\"24px\">\n",
              "    <path d=\"M0 0h24v24H0V0z\" fill=\"none\"/>\n",
              "    <path d=\"M18.56 5.44l.94 2.06.94-2.06 2.06-.94-2.06-.94-.94-2.06-.94 2.06-2.06.94zm-11 1L8.5 8.5l.94-2.06 2.06-.94-2.06-.94L8.5 2.5l-.94 2.06-2.06.94zm10 10l.94 2.06.94-2.06 2.06-.94-2.06-.94-.94-2.06-.94 2.06-2.06.94z\"/><path d=\"M17.41 7.96l-1.37-1.37c-.4-.4-.92-.59-1.43-.59-.52 0-1.04.2-1.43.59L10.3 9.45l-7.72 7.72c-.78.78-.78 2.05 0 2.83L4 21.41c.39.39.9.59 1.41.59.51 0 1.02-.2 1.41-.59l7.78-7.78 2.81-2.81c.8-.78.8-2.07 0-2.86zM5.41 20L4 18.59l7.72-7.72 1.47 1.35L5.41 20z\"/>\n",
              "  </svg>\n",
              "      </button>\n",
              "      \n",
              "  <style>\n",
              "    .colab-df-container {\n",
              "      display:flex;\n",
              "      flex-wrap:wrap;\n",
              "      gap: 12px;\n",
              "    }\n",
              "\n",
              "    .colab-df-convert {\n",
              "      background-color: #E8F0FE;\n",
              "      border: none;\n",
              "      border-radius: 50%;\n",
              "      cursor: pointer;\n",
              "      display: none;\n",
              "      fill: #1967D2;\n",
              "      height: 32px;\n",
              "      padding: 0 0 0 0;\n",
              "      width: 32px;\n",
              "    }\n",
              "\n",
              "    .colab-df-convert:hover {\n",
              "      background-color: #E2EBFA;\n",
              "      box-shadow: 0px 1px 2px rgba(60, 64, 67, 0.3), 0px 1px 3px 1px rgba(60, 64, 67, 0.15);\n",
              "      fill: #174EA6;\n",
              "    }\n",
              "\n",
              "    [theme=dark] .colab-df-convert {\n",
              "      background-color: #3B4455;\n",
              "      fill: #D2E3FC;\n",
              "    }\n",
              "\n",
              "    [theme=dark] .colab-df-convert:hover {\n",
              "      background-color: #434B5C;\n",
              "      box-shadow: 0px 1px 3px 1px rgba(0, 0, 0, 0.15);\n",
              "      filter: drop-shadow(0px 1px 2px rgba(0, 0, 0, 0.3));\n",
              "      fill: #FFFFFF;\n",
              "    }\n",
              "  </style>\n",
              "\n",
              "      <script>\n",
              "        const buttonEl =\n",
              "          document.querySelector('#df-9f4e7500-5158-456b-b7ba-2642fbf1cfb5 button.colab-df-convert');\n",
              "        buttonEl.style.display =\n",
              "          google.colab.kernel.accessAllowed ? 'block' : 'none';\n",
              "\n",
              "        async function convertToInteractive(key) {\n",
              "          const element = document.querySelector('#df-9f4e7500-5158-456b-b7ba-2642fbf1cfb5');\n",
              "          const dataTable =\n",
              "            await google.colab.kernel.invokeFunction('convertToInteractive',\n",
              "                                                     [key], {});\n",
              "          if (!dataTable) return;\n",
              "\n",
              "          const docLinkHtml = 'Like what you see? Visit the ' +\n",
              "            '<a target=\"_blank\" href=https://colab.research.google.com/notebooks/data_table.ipynb>data table notebook</a>'\n",
              "            + ' to learn more about interactive tables.';\n",
              "          element.innerHTML = '';\n",
              "          dataTable['output_type'] = 'display_data';\n",
              "          await google.colab.output.renderOutput(dataTable, element);\n",
              "          const docLink = document.createElement('div');\n",
              "          docLink.innerHTML = docLinkHtml;\n",
              "          element.appendChild(docLink);\n",
              "        }\n",
              "      </script>\n",
              "    </div>\n",
              "  </div>\n",
              "  "
            ]
          },
          "metadata": {},
          "execution_count": 22
        }
      ]
    },
    {
      "cell_type": "code",
      "source": [
        "X_train_99_2 = X_train.copy()\n",
        "X_train_99_2[X_train['AveRooms']>X_train['AveRooms'].quantile(0.99)] = X_train['AveRooms'].quantile(0.99)\n",
        "X_train_99_2.describe()"
      ],
      "metadata": {
        "id": "5HKtLJoJ-Hl_",
        "colab": {
          "base_uri": "https://localhost:8080/",
          "height": 344
        },
        "outputId": "962c6117-3ee2-410c-ead6-d373fb9b095d"
      },
      "execution_count": null,
      "outputs": [
        {
          "output_type": "execute_result",
          "data": {
            "text/plain": [
              "             MedInc      HouseAge      AveRooms     AveBedrms    Population  \\\n",
              "count  15480.000000  15480.000000  15480.000000  15480.000000  15480.000000   \n",
              "mean       3.924220     28.515205      5.331950      1.160145   1419.697827   \n",
              "std        1.973022     12.638238      1.331472      0.937437   1140.249942   \n",
              "min        0.499900      1.000000      0.846154      0.444444      3.000000   \n",
              "25%        2.565425     18.000000      4.442168      1.005592    783.000000   \n",
              "50%        3.558700     29.000000      5.234243      1.048023   1166.000000   \n",
              "75%        4.794600     37.000000      6.052381      1.099490   1729.250000   \n",
              "max       15.000100     52.000000     10.389467     10.389467  35682.000000   \n",
              "\n",
              "           AveOccup      Latitude     Longitude  \n",
              "count  15480.000000  15480.000000  15480.000000  \n",
              "mean       3.086080     35.362904   -118.266994  \n",
              "std        5.335853      3.284692     13.091635  \n",
              "min        0.750000     10.389467   -124.350000  \n",
              "25%        2.441291     33.920000   -121.770000  \n",
              "50%        2.837905     34.240000   -118.470000  \n",
              "75%        3.311486     37.700000   -117.990000  \n",
              "max      599.714286     41.950000     10.389467  "
            ],
            "text/html": [
              "\n",
              "  <div id=\"df-ee432589-8a7c-4f2a-8c06-d4cd2b25258c\">\n",
              "    <div class=\"colab-df-container\">\n",
              "      <div>\n",
              "<style scoped>\n",
              "    .dataframe tbody tr th:only-of-type {\n",
              "        vertical-align: middle;\n",
              "    }\n",
              "\n",
              "    .dataframe tbody tr th {\n",
              "        vertical-align: top;\n",
              "    }\n",
              "\n",
              "    .dataframe thead th {\n",
              "        text-align: right;\n",
              "    }\n",
              "</style>\n",
              "<table border=\"1\" class=\"dataframe\">\n",
              "  <thead>\n",
              "    <tr style=\"text-align: right;\">\n",
              "      <th></th>\n",
              "      <th>MedInc</th>\n",
              "      <th>HouseAge</th>\n",
              "      <th>AveRooms</th>\n",
              "      <th>AveBedrms</th>\n",
              "      <th>Population</th>\n",
              "      <th>AveOccup</th>\n",
              "      <th>Latitude</th>\n",
              "      <th>Longitude</th>\n",
              "    </tr>\n",
              "  </thead>\n",
              "  <tbody>\n",
              "    <tr>\n",
              "      <th>count</th>\n",
              "      <td>15480.000000</td>\n",
              "      <td>15480.000000</td>\n",
              "      <td>15480.000000</td>\n",
              "      <td>15480.000000</td>\n",
              "      <td>15480.000000</td>\n",
              "      <td>15480.000000</td>\n",
              "      <td>15480.000000</td>\n",
              "      <td>15480.000000</td>\n",
              "    </tr>\n",
              "    <tr>\n",
              "      <th>mean</th>\n",
              "      <td>3.924220</td>\n",
              "      <td>28.515205</td>\n",
              "      <td>5.331950</td>\n",
              "      <td>1.160145</td>\n",
              "      <td>1419.697827</td>\n",
              "      <td>3.086080</td>\n",
              "      <td>35.362904</td>\n",
              "      <td>-118.266994</td>\n",
              "    </tr>\n",
              "    <tr>\n",
              "      <th>std</th>\n",
              "      <td>1.973022</td>\n",
              "      <td>12.638238</td>\n",
              "      <td>1.331472</td>\n",
              "      <td>0.937437</td>\n",
              "      <td>1140.249942</td>\n",
              "      <td>5.335853</td>\n",
              "      <td>3.284692</td>\n",
              "      <td>13.091635</td>\n",
              "    </tr>\n",
              "    <tr>\n",
              "      <th>min</th>\n",
              "      <td>0.499900</td>\n",
              "      <td>1.000000</td>\n",
              "      <td>0.846154</td>\n",
              "      <td>0.444444</td>\n",
              "      <td>3.000000</td>\n",
              "      <td>0.750000</td>\n",
              "      <td>10.389467</td>\n",
              "      <td>-124.350000</td>\n",
              "    </tr>\n",
              "    <tr>\n",
              "      <th>25%</th>\n",
              "      <td>2.565425</td>\n",
              "      <td>18.000000</td>\n",
              "      <td>4.442168</td>\n",
              "      <td>1.005592</td>\n",
              "      <td>783.000000</td>\n",
              "      <td>2.441291</td>\n",
              "      <td>33.920000</td>\n",
              "      <td>-121.770000</td>\n",
              "    </tr>\n",
              "    <tr>\n",
              "      <th>50%</th>\n",
              "      <td>3.558700</td>\n",
              "      <td>29.000000</td>\n",
              "      <td>5.234243</td>\n",
              "      <td>1.048023</td>\n",
              "      <td>1166.000000</td>\n",
              "      <td>2.837905</td>\n",
              "      <td>34.240000</td>\n",
              "      <td>-118.470000</td>\n",
              "    </tr>\n",
              "    <tr>\n",
              "      <th>75%</th>\n",
              "      <td>4.794600</td>\n",
              "      <td>37.000000</td>\n",
              "      <td>6.052381</td>\n",
              "      <td>1.099490</td>\n",
              "      <td>1729.250000</td>\n",
              "      <td>3.311486</td>\n",
              "      <td>37.700000</td>\n",
              "      <td>-117.990000</td>\n",
              "    </tr>\n",
              "    <tr>\n",
              "      <th>max</th>\n",
              "      <td>15.000100</td>\n",
              "      <td>52.000000</td>\n",
              "      <td>10.389467</td>\n",
              "      <td>10.389467</td>\n",
              "      <td>35682.000000</td>\n",
              "      <td>599.714286</td>\n",
              "      <td>41.950000</td>\n",
              "      <td>10.389467</td>\n",
              "    </tr>\n",
              "  </tbody>\n",
              "</table>\n",
              "</div>\n",
              "      <button class=\"colab-df-convert\" onclick=\"convertToInteractive('df-ee432589-8a7c-4f2a-8c06-d4cd2b25258c')\"\n",
              "              title=\"Convert this dataframe to an interactive table.\"\n",
              "              style=\"display:none;\">\n",
              "        \n",
              "  <svg xmlns=\"http://www.w3.org/2000/svg\" height=\"24px\"viewBox=\"0 0 24 24\"\n",
              "       width=\"24px\">\n",
              "    <path d=\"M0 0h24v24H0V0z\" fill=\"none\"/>\n",
              "    <path d=\"M18.56 5.44l.94 2.06.94-2.06 2.06-.94-2.06-.94-.94-2.06-.94 2.06-2.06.94zm-11 1L8.5 8.5l.94-2.06 2.06-.94-2.06-.94L8.5 2.5l-.94 2.06-2.06.94zm10 10l.94 2.06.94-2.06 2.06-.94-2.06-.94-.94-2.06-.94 2.06-2.06.94z\"/><path d=\"M17.41 7.96l-1.37-1.37c-.4-.4-.92-.59-1.43-.59-.52 0-1.04.2-1.43.59L10.3 9.45l-7.72 7.72c-.78.78-.78 2.05 0 2.83L4 21.41c.39.39.9.59 1.41.59.51 0 1.02-.2 1.41-.59l7.78-7.78 2.81-2.81c.8-.78.8-2.07 0-2.86zM5.41 20L4 18.59l7.72-7.72 1.47 1.35L5.41 20z\"/>\n",
              "  </svg>\n",
              "      </button>\n",
              "      \n",
              "  <style>\n",
              "    .colab-df-container {\n",
              "      display:flex;\n",
              "      flex-wrap:wrap;\n",
              "      gap: 12px;\n",
              "    }\n",
              "\n",
              "    .colab-df-convert {\n",
              "      background-color: #E8F0FE;\n",
              "      border: none;\n",
              "      border-radius: 50%;\n",
              "      cursor: pointer;\n",
              "      display: none;\n",
              "      fill: #1967D2;\n",
              "      height: 32px;\n",
              "      padding: 0 0 0 0;\n",
              "      width: 32px;\n",
              "    }\n",
              "\n",
              "    .colab-df-convert:hover {\n",
              "      background-color: #E2EBFA;\n",
              "      box-shadow: 0px 1px 2px rgba(60, 64, 67, 0.3), 0px 1px 3px 1px rgba(60, 64, 67, 0.15);\n",
              "      fill: #174EA6;\n",
              "    }\n",
              "\n",
              "    [theme=dark] .colab-df-convert {\n",
              "      background-color: #3B4455;\n",
              "      fill: #D2E3FC;\n",
              "    }\n",
              "\n",
              "    [theme=dark] .colab-df-convert:hover {\n",
              "      background-color: #434B5C;\n",
              "      box-shadow: 0px 1px 3px 1px rgba(0, 0, 0, 0.15);\n",
              "      filter: drop-shadow(0px 1px 2px rgba(0, 0, 0, 0.3));\n",
              "      fill: #FFFFFF;\n",
              "    }\n",
              "  </style>\n",
              "\n",
              "      <script>\n",
              "        const buttonEl =\n",
              "          document.querySelector('#df-ee432589-8a7c-4f2a-8c06-d4cd2b25258c button.colab-df-convert');\n",
              "        buttonEl.style.display =\n",
              "          google.colab.kernel.accessAllowed ? 'block' : 'none';\n",
              "\n",
              "        async function convertToInteractive(key) {\n",
              "          const element = document.querySelector('#df-ee432589-8a7c-4f2a-8c06-d4cd2b25258c');\n",
              "          const dataTable =\n",
              "            await google.colab.kernel.invokeFunction('convertToInteractive',\n",
              "                                                     [key], {});\n",
              "          if (!dataTable) return;\n",
              "\n",
              "          const docLinkHtml = 'Like what you see? Visit the ' +\n",
              "            '<a target=\"_blank\" href=https://colab.research.google.com/notebooks/data_table.ipynb>data table notebook</a>'\n",
              "            + ' to learn more about interactive tables.';\n",
              "          element.innerHTML = '';\n",
              "          dataTable['output_type'] = 'display_data';\n",
              "          await google.colab.output.renderOutput(dataTable, element);\n",
              "          const docLink = document.createElement('div');\n",
              "          docLink.innerHTML = docLinkHtml;\n",
              "          element.appendChild(docLink);\n",
              "        }\n",
              "      </script>\n",
              "    </div>\n",
              "  </div>\n",
              "  "
            ]
          },
          "metadata": {},
          "execution_count": 23
        }
      ]
    },
    {
      "cell_type": "code",
      "source": [
        "sns.histplot(data=X_train_99, x='AveRooms')"
      ],
      "metadata": {
        "id": "Vag4sUn3-fMG",
        "colab": {
          "base_uri": "https://localhost:8080/",
          "height": 296
        },
        "outputId": "4f2bc666-5ac4-4e1a-a742-5a3b8e97ee4f"
      },
      "execution_count": null,
      "outputs": [
        {
          "output_type": "execute_result",
          "data": {
            "text/plain": [
              "<matplotlib.axes._subplots.AxesSubplot at 0x7f38e9b3a210>"
            ]
          },
          "metadata": {},
          "execution_count": 24
        },
        {
          "output_type": "display_data",
          "data": {
            "text/plain": [
              "<Figure size 432x288 with 1 Axes>"
            ],
            "image/png": "[encoded data removed]"
          },
          "metadata": {
            "needs_background": "light"
          }
        }
      ]
    },
    {
      "cell_type": "code",
      "source": [
        "sns.histplot(data=X_train_99_2, x='AveRooms')"
      ],
      "metadata": {
        "id": "umSXhGdz-znt",
        "colab": {
          "base_uri": "https://localhost:8080/",
          "height": 296
        },
        "outputId": "18a8d55c-3c56-407e-efed-8e6d4fb57a2d"
      },
      "execution_count": null,
      "outputs": [
        {
          "output_type": "execute_result",
          "data": {
            "text/plain": [
              "<matplotlib.axes._subplots.AxesSubplot at 0x7f38e998c990>"
            ]
          },
          "metadata": {},
          "execution_count": 25
        },
        {
          "output_type": "display_data",
          "data": {
            "text/plain": [
              "<Figure size 432x288 with 1 Axes>"
            ],
            "image/png": "[encoded data removed]"
          },
          "metadata": {
            "needs_background": "light"
          }
        }
      ]
    },
    {
      "cell_type": "code",
      "metadata": {
        "id": "-iGJK-EWmw_O"
      },
      "source": [],
      "execution_count": null,
      "outputs": []
    },
    {
      "cell_type": "markdown",
      "source": [
        "# Engineering numeric predictors"
      ],
      "metadata": {
        "id": "c83niv61_AAQ"
      }
    },
    {
      "cell_type": "markdown",
      "metadata": {
        "id": "u9MSCuJ0518B"
      },
      "source": [
        "## Feature Scaling\n",
        "---\n",
        "\n",
        "**Some commonly used models**\n",
        "  \n",
        "|Algorithm name | Do you need scaling? |\n",
        "|--|--|\n",
        "| SVM, KNN, PCA, K-Means, Linear Regression, Logistic Regression, Linear Discriminant Analysis| $\\checkmark$ |\n",
        "| Naïve Bayes, Tree-Based models | $\\times$ |\n"
      ]
    },
    {
      "cell_type": "markdown",
      "metadata": {
        "id": "7qCRIBr5nke1"
      },
      "source": [
        "### Min-Max scaling\n",
        "\n",
        "Suppose we want to rescale the attribute in the range $(a,b)$\n",
        "\n",
        "Formula: ${x}' = a + \\frac{x - \\mathrm{min}(x)\\times (b - a) }{\\mathrm{max}(x) -\\mathrm{min}(x)} $\n",
        "\n",
        "This method is very sensitive to outliers because they affect both min$(x)$ and max$(x)$"
      ]
    },
    {
      "cell_type": "code",
      "metadata": {
        "id": "MbWw-ZmRn3Iy"
      },
      "source": [
        "from sklearn.preprocessing import MinMaxScaler"
      ],
      "execution_count": null,
      "outputs": []
    },
    {
      "cell_type": "code",
      "metadata": {
        "id": "5Gh25fOQor1V"
      },
      "source": [
        "mm_scaler =MinMaxScaler()"
      ],
      "execution_count": null,
      "outputs": []
    },
    {
      "cell_type": "code",
      "metadata": {
        "id": "qlXNGRAMo1Rp"
      },
      "source": [
        "col_name = 'AveRooms'\n",
        "trans_col_name = 'AveRooms_mm'\n",
        "X_train[trans_col_name] = mm_scaler.fit_transform(X_train[[col_name]])\n",
        "X_train_99[trans_col_name] = mm_scaler.fit_transform(X_train_99[[col_name]])"
      ],
      "execution_count": null,
      "outputs": []
    },
    {
      "cell_type": "code",
      "metadata": {
        "id": "HH62Vzydq_sh",
        "colab": {
          "base_uri": "https://localhost:8080/",
          "height": 585
        },
        "outputId": "16573f25-6c61-4c10-e8cd-151bd9af62fe"
      },
      "source": [
        "fig, axes = plt.subplots(nrows=2, figsize=(6,8))\n",
        "sns.histplot(data=X_train, x=col_name, ax=axes[0],kde=True)\n",
        "axes[0].set_title('Original data')\n",
        "sns.histplot(data=X_train, x=trans_col_name, ax=axes[1],kde=True)\n",
        "axes[1].set_title('Transformed data')\n",
        "plt.tight_layout()"
      ],
      "execution_count": null,
      "outputs": [
        {
          "output_type": "display_data",
          "data": {
            "text/plain": [
              "<Figure size 432x576 with 2 Axes>"
            ],
            "image/png": "[encoded data removed]"
          },
          "metadata": {
            "needs_background": "light"
          }
        }
      ]
    },
    {
      "cell_type": "code",
      "metadata": {
        "id": "g_7aD_CKpA5o",
        "colab": {
          "base_uri": "https://localhost:8080/",
          "height": 585
        },
        "outputId": "0e48ddbd-c49b-401c-ba43-67c31db07e1f"
      },
      "source": [
        "fig, axes = plt.subplots(nrows=2, figsize=(6,8))\n",
        "sns.histplot(data=X_train_99, x=col_name, ax=axes[0],kde=True)\n",
        "axes[0].set_title('Original data')\n",
        "sns.histplot(data=X_train_99, x=trans_col_name, ax=axes[1],kde=True)\n",
        "axes[1].set_title('Transformed data')\n",
        "plt.tight_layout()"
      ],
      "execution_count": null,
      "outputs": [
        {
          "output_type": "display_data",
          "data": {
            "text/plain": [
              "<Figure size 432x576 with 2 Axes>"
            ],
            "image/png": "[encoded data removed]"
          },
          "metadata": {
            "needs_background": "light"
          }
        }
      ]
    },
    {
      "cell_type": "markdown",
      "metadata": {
        "id": "KII0Q1u6tIHe"
      },
      "source": [
        "### Standardization or Normalization\n",
        "\n",
        "Formula: ${z} = \\frac{x - \\mu }{\\sigma}$\n",
        "\n",
        "Where $\\mu$ is the mean of $X$ and $\\sigma$ is the standard deviation.\n",
        "\n",
        "This method is also sensitive to outliers because they affect both $\\mu$ and $\\sigma$"
      ]
    },
    {
      "cell_type": "code",
      "metadata": {
        "id": "80Emtp68s61d"
      },
      "source": [
        "from sklearn.preprocessing import StandardScaler"
      ],
      "execution_count": null,
      "outputs": []
    },
    {
      "cell_type": "code",
      "metadata": {
        "id": "DZ6YOs96tLs5"
      },
      "source": [
        "sd_scaler = StandardScaler()"
      ],
      "execution_count": null,
      "outputs": []
    },
    {
      "cell_type": "code",
      "metadata": {
        "id": "RE_t1HYitde6"
      },
      "source": [
        "col_name = 'AveRooms'\n",
        "trans_col_name = 'AveRooms_sd'\n",
        "X_train[trans_col_name] = sd_scaler.fit_transform(X_train[[col_name]])\n",
        "X_train_99[trans_col_name] = sd_scaler.fit_transform(X_train_99[[col_name]])"
      ],
      "execution_count": null,
      "outputs": []
    },
    {
      "cell_type": "code",
      "metadata": {
        "id": "peqmqKUmtde_",
        "colab": {
          "base_uri": "https://localhost:8080/"
        },
        "outputId": "34f0501b-32b9-4c8e-eae8-f616f359dc22"
      },
      "source": [
        "fig, axes = plt.subplots(nrows=2, figsize=(6,8))\n",
        "sns.histplot(data=X_train, x=col_name, ax=axes[0],kde=True)\n",
        "axes[0].set_title('Original data')\n",
        "sns.histplot(data=X_train, x=trans_col_name, ax=axes[1],kde=True)\n",
        "axes[1].set_title('Transformed data')\n",
        "plt.tight_layout()"
      ],
      "execution_count": null,
      "outputs": [
        {
          "output_type": "display_data",
          "data": {
            "text/plain": [
              "<Figure size 432x576 with 2 Axes>"
            ],
            "image/png": "[encoded data removed]"
          },
          "metadata": {
            "needs_background": "light"
          }
        }
      ]
    },
    {
      "cell_type": "code",
      "metadata": {
        "id": "3oLtUryvtgdM",
        "colab": {
          "base_uri": "https://localhost:8080/"
        },
        "outputId": "86287169-1d98-47a7-b7ed-d6357935be21"
      },
      "source": [
        "fig, axes = plt.subplots(nrows=2, figsize=(6,8))\n",
        "sns.histplot(data=X_train_99, x=col_name, ax=axes[0],kde=True)\n",
        "axes[0].set_title('Original data')\n",
        "sns.histplot(data=X_train_99, x=trans_col_name, ax=axes[1], kde=True)\n",
        "axes[1].set_title('Transformed data')\n",
        "plt.tight_layout()"
      ],
      "execution_count": null,
      "outputs": [
        {
          "output_type": "display_data",
          "data": {
            "text/plain": [
              "<Figure size 432x576 with 2 Axes>"
            ],
            "image/png": "[encoded data removed]"
          },
          "metadata": {
            "needs_background": "light"
          }
        }
      ]
    },
    {
      "cell_type": "code",
      "source": [
        "sd_scaler.mean_"
      ],
      "metadata": {
        "colab": {
          "base_uri": "https://localhost:8080/"
        },
        "id": "UvFX05RHUI4n",
        "outputId": "f514baaa-036b-443e-ad5e-04f1052ba50d"
      },
      "execution_count": null,
      "outputs": [
        {
          "output_type": "execute_result",
          "data": {
            "text/plain": [
              "array([5.28079769])"
            ]
          },
          "metadata": {},
          "execution_count": 36
        }
      ]
    },
    {
      "cell_type": "code",
      "source": [
        "sd_scaler.var_"
      ],
      "metadata": {
        "colab": {
          "base_uri": "https://localhost:8080/"
        },
        "id": "RGujQamEUNpV",
        "outputId": "e8fdafc2-cf90-4368-85c6-5a7251be6903"
      },
      "execution_count": null,
      "outputs": [
        {
          "output_type": "execute_result",
          "data": {
            "text/plain": [
              "array([1.52931158])"
            ]
          },
          "metadata": {},
          "execution_count": 37
        }
      ]
    },
    {
      "cell_type": "markdown",
      "metadata": {
        "id": "kpDHYcYz8o7T"
      },
      "source": [
        "### Robust Scaling\n",
        "\n",
        "Suppose we want to scale the attribute in the range of quantiles $(a, b)$\n",
        "\n",
        "Formula: ${x}' = \\frac{x - \\mathrm{median}(x)}{\\mathrm{quantile}(x,b) - \\mathrm{quantile}(x,a)}$\n",
        "\n",
        "This method is more robust to outliers."
      ]
    },
    {
      "cell_type": "code",
      "metadata": {
        "id": "T5hL38i5AsxN"
      },
      "source": [
        "from sklearn.preprocessing import RobustScaler"
      ],
      "execution_count": null,
      "outputs": []
    },
    {
      "cell_type": "code",
      "metadata": {
        "id": "Ketsa_-eB6v9"
      },
      "source": [
        "rb_scaler = RobustScaler()"
      ],
      "execution_count": null,
      "outputs": []
    },
    {
      "cell_type": "code",
      "metadata": {
        "id": "BEdhmfwQB6wA"
      },
      "source": [
        "col_name = 'AveRooms'\n",
        "trans_col_name = 'AveRooms_rb'\n",
        "X_train[trans_col_name] = rb_scaler.fit_transform(X_train[[col_name]])\n",
        "X_train_99[trans_col_name] = rb_scaler.fit_transform(X_train_99[[col_name]])"
      ],
      "execution_count": null,
      "outputs": []
    },
    {
      "cell_type": "code",
      "metadata": {
        "id": "3vEy_ASZB6wA",
        "colab": {
          "base_uri": "https://localhost:8080/",
          "height": 585
        },
        "outputId": "4c64bcd0-4b54-4393-980f-462a9d7f0707"
      },
      "source": [
        "fig, axes = plt.subplots(nrows=2, figsize=(6,8))\n",
        "sns.histplot(data=X_train, x=col_name, ax=axes[0],kde=True)\n",
        "axes[0].set_title('Original data')\n",
        "sns.histplot(data=X_train, x=trans_col_name, ax=axes[1],kde=True)\n",
        "axes[1].set_title('Transformed data')\n",
        "plt.tight_layout()"
      ],
      "execution_count": null,
      "outputs": [
        {
          "output_type": "display_data",
          "data": {
            "text/plain": [
              "<Figure size 432x576 with 2 Axes>"
            ],
            "image/png": "[encoded data removed]"
          },
          "metadata": {
            "needs_background": "light"
          }
        }
      ]
    },
    {
      "cell_type": "code",
      "metadata": {
        "id": "o54PLlaaB6wB",
        "colab": {
          "base_uri": "https://localhost:8080/",
          "height": 585
        },
        "outputId": "3d58281a-9352-4733-a11f-b0839e8a5700"
      },
      "source": [
        "fig, axes = plt.subplots(nrows=2, figsize=(6,8))\n",
        "sns.histplot(data=X_train_99, x=col_name, ax=axes[0],kde=True)\n",
        "axes[0].set_title('Original data')\n",
        "sns.histplot(data=X_train_99, x=trans_col_name, ax=axes[1],kde=True)\n",
        "axes[1].set_title('Transformed data')\n",
        "plt.tight_layout()"
      ],
      "execution_count": null,
      "outputs": [
        {
          "output_type": "display_data",
          "data": {
            "text/plain": [
              "<Figure size 432x576 with 2 Axes>"
            ],
            "image/png": "[encoded data removed]"
          },
          "metadata": {
            "needs_background": "light"
          }
        }
      ]
    },
    {
      "cell_type": "markdown",
      "metadata": {
        "id": "aoQiUPZI5-Gc"
      },
      "source": [
        "## Feature Transformation\n",
        "---"
      ]
    },
    {
      "cell_type": "markdown",
      "metadata": {
        "id": "BWmkq4INFgi-"
      },
      "source": [
        "### Box-Cox transformation\n",
        "\n",
        "The Box-Cox transformation works only for strictly positive numbers. The transformation is defined as follows:\n",
        "\n",
        "$x_i'(\\lambda) = \\left\\{\\begin{matrix}\n",
        "  \\frac{x_i^\\lambda - 1}{\\lambda}& if \\lambda \\neq 0\\\\\n",
        "  log(\\lambda)& if \\lambda = 0\n",
        "\\end{matrix}\\right.$"
      ]
    },
    {
      "cell_type": "markdown",
      "metadata": {
        "id": "lpN6O9z2wdlZ"
      },
      "source": [
        "### Yeo-Johnson Transformation\n",
        "\n",
        "The Yeo-Johnson transformation works for both positive and negative values. The transformation is defined as follows:\n",
        "\n",
        "$x_i(\\lambda) = \\left\\{\\begin{matrix}\n",
        "\\frac{[(x_i + 1)^{\\lambda} -1]}{\\lambda} & if \\, \\, \\lambda\\neq 0, x_i \\geq 0 \\\\\n",
        "ln(x_i + 1) & if \\, \\, \\lambda = 0, x_i \\geq 0\\\\\n",
        "-\\frac{[(-x_i + 1)^{2- \\lambda} -1]}{2-\\lambda} & if \\, \\, \\lambda\\neq 2, x_i < 0 \\\\\n",
        "-ln(-x_i + 1) & if \\, \\, \\lambda = 2, x_i < 0\\\\\n",
        "\\end{matrix}\\right.$\n",
        "\n",
        "\n",
        "Usually the values of $\\lambda$ between $[-5.5]$ are considered and the optimal value that stabilizes the variance and minimizes the asymmetry is selected using MLE (Maximum Likelihood Estimate)"
      ]
    },
    {
      "cell_type": "code",
      "metadata": {
        "id": "JciHufAOQuyH",
        "colab": {
          "base_uri": "https://localhost:8080/"
        },
        "outputId": "d1dd6a02-310d-4c6b-9d3f-a5a4b88e50f9"
      },
      "source": [
        "X_train_99['MedInc']"
      ],
      "execution_count": null,
      "outputs": [
        {
          "output_type": "execute_result",
          "data": {
            "text/plain": [
              "5873     4.0742\n",
              "19197    3.9191\n",
              "18334    4.5987\n",
              "1408     2.5268\n",
              "3169     1.7716\n",
              "          ...  \n",
              "11830    2.8603\n",
              "7959     4.7361\n",
              "7221     2.6964\n",
              "2646     2.4896\n",
              "16429    5.5942\n",
              "Name: MedInc, Length: 15325, dtype: float64"
            ]
          },
          "metadata": {},
          "execution_count": 46
        }
      ]
    },
    {
      "cell_type": "code",
      "metadata": {
        "id": "b921DRLj8sk3"
      },
      "source": [],
      "execution_count": null,
      "outputs": []
    },
    {
      "cell_type": "code",
      "metadata": {
        "id": "Sb7KetTv8t9o"
      },
      "source": [],
      "execution_count": null,
      "outputs": []
    },
    {
      "cell_type": "code",
      "metadata": {
        "id": "ieI12NkXQe9r"
      },
      "source": [
        "col_name = 'MedInc'\n",
        "trans_col_name = 'MedInc_bx'\n"
      ],
      "execution_count": null,
      "outputs": []
    },
    {
      "cell_type": "code",
      "metadata": {
        "id": "Zx_wMt4zQe9r"
      },
      "source": [
        "fig, axes = plt.subplots(ncols=2, figsize=(16,6))\n"
      ],
      "execution_count": null,
      "outputs": []
    },
    {
      "cell_type": "code",
      "metadata": {
        "id": "_mIWGo9fQe9s"
      },
      "source": [],
      "execution_count": null,
      "outputs": []
    },
    {
      "cell_type": "code",
      "metadata": {
        "id": "cmkSJmvirD0S"
      },
      "source": [],
      "execution_count": null,
      "outputs": []
    },
    {
      "cell_type": "code",
      "metadata": {
        "id": "LB-z7QOXQe9t"
      },
      "source": [
        "fig, axes = plt.subplots(ncols=2, figsize=(16,6))\n",
        "\n"
      ],
      "execution_count": null,
      "outputs": []
    },
    {
      "cell_type": "code",
      "metadata": {
        "id": "FSilWJtYqyF1"
      },
      "source": [
        "fig, axes = plt.subplots(nrows=2, ncols=2, figsize=(12,8))\n",
        "sns.histplot(data=X_train_99, x=col_name, ax=axes[0,0],kde=True)\n",
        "probplot(X_train[col_name], plot=axes[0,1])\n",
        "axes[0,0].set_title('Original data')\n",
        "axes[0,1].set_title(axes[0,1].get_title()+' Original data')\n",
        "sns.histplot(data=X_train_99, x=trans_col_name, ax=axes[1,0], kde=True)\n",
        "probplot(X_train[trans_col_name], plot=axes[1,1])\n",
        "axes[1,0].set_title('Transformed data')\n",
        "axes[1,1].set_title(axes[1,1].get_title()+' Transformed data')\n",
        "plt.tight_layout()"
      ],
      "execution_count": null,
      "outputs": []
    },
    {
      "cell_type": "code",
      "metadata": {
        "id": "cc3N3_XpZmsI"
      },
      "source": [],
      "execution_count": null,
      "outputs": []
    },
    {
      "cell_type": "markdown",
      "metadata": {
        "id": "57xT1Ho5Zz49"
      },
      "source": [
        "np.log\n",
        "\n",
        "np.reciprocal\n",
        "\n",
        "np.sqrt\n",
        "\n",
        "np.cbrt"
      ]
    },
    {
      "cell_type": "code",
      "metadata": {
        "id": "sek2A3KQZrrp"
      },
      "source": [],
      "execution_count": null,
      "outputs": []
    },
    {
      "cell_type": "code",
      "metadata": {
        "id": "fsPrvA8Wa43R"
      },
      "source": [],
      "execution_count": null,
      "outputs": []
    },
    {
      "cell_type": "code",
      "metadata": {
        "id": "b-4zMFdkZrw4"
      },
      "source": [],
      "execution_count": null,
      "outputs": []
    },
    {
      "cell_type": "code",
      "metadata": {
        "id": "XN9AGoztZryT"
      },
      "source": [],
      "execution_count": null,
      "outputs": []
    },
    {
      "cell_type": "code",
      "metadata": {
        "id": "NozWmN7ubCa2"
      },
      "source": [],
      "execution_count": null,
      "outputs": []
    },
    {
      "cell_type": "code",
      "metadata": {
        "id": "amDgheosbCgz"
      },
      "source": [],
      "execution_count": null,
      "outputs": []
    },
    {
      "cell_type": "markdown",
      "metadata": {
        "id": "fu2p1HVhO0n-"
      },
      "source": [
        "Lest try with another attribute"
      ]
    },
    {
      "cell_type": "code",
      "metadata": {
        "id": "sLrx3HVA9NXZ"
      },
      "source": [],
      "execution_count": null,
      "outputs": []
    },
    {
      "cell_type": "code",
      "metadata": {
        "id": "4dNot6BVwoz_"
      },
      "source": [
        "col_name = 'HouseAge'\n",
        "trans_col_name = 'HouseAge_bx'\n"
      ],
      "execution_count": null,
      "outputs": []
    },
    {
      "cell_type": "code",
      "metadata": {
        "id": "_U9pmgvwwoz_"
      },
      "source": [
        "fig, axes = plt.subplots(ncols=2, figsize=(16,6))\n",
        "sns.histplot(data=X_train, x=trans_col_name, ax=axes[0], kde=True)\n",
        "# axes[0].set_title('Histogram with whole training data')\n",
        "sns.histplot(data=X_train_99, x=trans_col_name, ax=axes[1],kde=True)\n",
        "# axes[1].set_title('Histogram of training data with no outliers (99 percentile)')"
      ],
      "execution_count": null,
      "outputs": []
    },
    {
      "cell_type": "code",
      "metadata": {
        "id": "otMaUi0Iwo0A"
      },
      "source": [],
      "execution_count": null,
      "outputs": []
    },
    {
      "cell_type": "code",
      "metadata": {
        "id": "lvR7ruwowo0A"
      },
      "source": [
        "fig, axes = plt.subplots(ncols=2, figsize=(16,6))\n"
      ],
      "execution_count": null,
      "outputs": []
    },
    {
      "cell_type": "code",
      "metadata": {
        "id": "TB4lElM3wo0A"
      },
      "source": [
        "fig, axes = plt.subplots(nrows=2, ncols=2, figsize=(12,8))\n",
        "sns.histplot(data=X_train_99, x=col_name, ax=axes[0,0],kde=True)\n",
        "probplot(X_train[col_name], plot=axes[0,1])\n",
        "axes[0,0].set_title('Original data')\n",
        "axes[0,1].set_title(axes[0,1].get_title()+' Original data')\n",
        "sns.histplot(data=X_train_99, x=trans_col_name, ax=axes[1,0], kde=True)\n",
        "probplot(X_train[trans_col_name], plot=axes[1,1])\n",
        "axes[1,0].set_title('Transformed data')\n",
        "axes[1,1].set_title(axes[1,1].get_title()+' Transformed data')\n",
        "plt.tight_layout()"
      ],
      "execution_count": null,
      "outputs": []
    },
    {
      "cell_type": "markdown",
      "metadata": {
        "id": "AgZDPOXF6PYG"
      },
      "source": [
        "## Feature Discretization\n",
        "---"
      ]
    },
    {
      "cell_type": "markdown",
      "metadata": {
        "id": "JaLMzUi04tP6"
      },
      "source": [
        "### Binarization\n",
        "\n",
        "Convert numeric variables to binary responses"
      ]
    },
    {
      "cell_type": "code",
      "metadata": {
        "id": "9p4cJo9B5rdE"
      },
      "source": [],
      "execution_count": null,
      "outputs": []
    },
    {
      "cell_type": "code",
      "metadata": {
        "id": "Sfc7f5oq74Gp"
      },
      "source": [
        "col_name = 'MedInc'\n",
        "trans_col_name = 'MedInc_bin'"
      ],
      "execution_count": null,
      "outputs": []
    },
    {
      "cell_type": "code",
      "metadata": {
        "id": "M3shM55B7nwS"
      },
      "source": [],
      "execution_count": null,
      "outputs": []
    },
    {
      "cell_type": "code",
      "metadata": {
        "id": "wzyfXOmU7nwS"
      },
      "source": [],
      "execution_count": null,
      "outputs": []
    },
    {
      "cell_type": "code",
      "metadata": {
        "id": "OYkU5NCW8S30"
      },
      "source": [],
      "execution_count": null,
      "outputs": []
    },
    {
      "cell_type": "code",
      "metadata": {
        "id": "ST9q4_Bb7nwS"
      },
      "source": [
        "fig, axes = plt.subplots(ncols=2, figsize=(16,6))\n"
      ],
      "execution_count": null,
      "outputs": []
    },
    {
      "cell_type": "code",
      "metadata": {
        "id": "8dDy06o_7YkI"
      },
      "source": [
        "fig, axes = plt.subplots(nrows=2, figsize=(6,8))\n",
        "sns.histplot(data=X_train_99, x=col_name, ax=axes[0],kde=True)\n",
        "axes[0].set_title('Histogram with whole training data')\n",
        "sns.countplot(data=X_train_99, x=trans_col_name, ax=axes[1])\n",
        "axes[1].set_title('Count plot with the binarized data (threshold of 6)')\n",
        "plt.tight_layout()"
      ],
      "execution_count": null,
      "outputs": []
    },
    {
      "cell_type": "markdown",
      "metadata": {
        "id": "tCpBRsJuAm52"
      },
      "source": [
        "### Uniform binning\n",
        "\n",
        "Map numeric variables into uniform blocks"
      ]
    },
    {
      "cell_type": "code",
      "metadata": {
        "id": "5w5YSZbmfwRa"
      },
      "source": [],
      "execution_count": null,
      "outputs": []
    },
    {
      "cell_type": "code",
      "metadata": {
        "id": "UGB-u4Bqlu07"
      },
      "source": [],
      "execution_count": null,
      "outputs": []
    },
    {
      "cell_type": "code",
      "metadata": {
        "id": "m0Bph9EufG0_"
      },
      "source": [
        "col_name = 'Population'\n",
        "trans_col_name = 'Population_ubin'"
      ],
      "execution_count": null,
      "outputs": []
    },
    {
      "cell_type": "code",
      "metadata": {
        "id": "WTZVLpBzf8TM"
      },
      "source": [],
      "execution_count": null,
      "outputs": []
    },
    {
      "cell_type": "code",
      "metadata": {
        "id": "dLoI0qfYf8TM"
      },
      "source": [],
      "execution_count": null,
      "outputs": []
    },
    {
      "cell_type": "code",
      "metadata": {
        "id": "EdbJ9AvulEdC"
      },
      "source": [],
      "execution_count": null,
      "outputs": []
    },
    {
      "cell_type": "code",
      "metadata": {
        "id": "WWJHDtYVk1pH"
      },
      "source": [
        "fig, axes = plt.subplots(nrows=2, figsize=(6,8))\n",
        "sns.histplot(data=X_train_99, x=col_name, ax=axes[0], kde=True)\n",
        "axes[0].set_title('Histogram with whole training data')\n",
        "for edge in ubin_discretizer.bin_edges_[0]: # uniform bins\n",
        "    line = axes[0].axvline(edge, color='b')\n",
        "axes[0].legend([line], ['Uniform in edges'], fontsize=10)\n",
        "sns.countplot(x=X_train_99[trans_col_name])\n",
        "axes[1].set_title(f'Uniform binning result ({n_bins} bins)')\n",
        "plt.tight_layout()"
      ],
      "execution_count": null,
      "outputs": []
    },
    {
      "cell_type": "markdown",
      "metadata": {
        "id": "RDEjE1Ekf2pv"
      },
      "source": [
        "### *k*-means binning\n",
        "\n",
        "\n",
        "Map numeric variables into *k* blocks using clustering techniques"
      ]
    },
    {
      "cell_type": "code",
      "metadata": {
        "id": "7r3N-K3riCtz"
      },
      "source": [
        "col_name = 'Population'\n",
        "trans_col_name = 'Population_kbin'"
      ],
      "execution_count": null,
      "outputs": []
    },
    {
      "cell_type": "code",
      "metadata": {
        "id": "SSzzNRenhsiX"
      },
      "source": [],
      "execution_count": null,
      "outputs": []
    },
    {
      "cell_type": "code",
      "metadata": {
        "id": "jLKZAUrnhsie"
      },
      "source": [],
      "execution_count": null,
      "outputs": []
    },
    {
      "cell_type": "code",
      "metadata": {
        "id": "d1LQ_rSumJtQ"
      },
      "source": [],
      "execution_count": null,
      "outputs": []
    },
    {
      "cell_type": "code",
      "metadata": {
        "id": "QQosXccFmJtW"
      },
      "source": [
        "fig, axes = plt.subplots(nrows=2, figsize=(6,8))\n",
        "sns.histplot(data=X_train_99, x=col_name, ax=axes[0], kde=True)\n",
        "axes[0].set_title('Histogram with whole training data')\n",
        "for edge in kbin_discretizer.bin_edges_[0]: # kmeans bins\n",
        "    line = axes[0].axvline(edge, color='b')\n",
        "axes[0].legend([line], ['k-means bin Edges'], fontsize=10)\n",
        "sns.countplot(x=X_train_99[trans_col_name])\n",
        "axes[1].set_title(f'k-means binning result ({n_bins} bins)')\n",
        "plt.tight_layout()"
      ],
      "execution_count": null,
      "outputs": []
    },
    {
      "cell_type": "markdown",
      "metadata": {
        "id": "_g1hOmGwf3PP"
      },
      "source": [
        "### Quantile binning\n",
        "\n",
        "Map numerical variables in blocks with uniform frequencies\n"
      ]
    },
    {
      "cell_type": "code",
      "metadata": {
        "id": "vAIG1RA9iH9H"
      },
      "source": [
        "col_name = 'Population'\n",
        "trans_col_name = 'Population_qbin'"
      ],
      "execution_count": null,
      "outputs": []
    },
    {
      "cell_type": "code",
      "metadata": {
        "id": "siRE4ohWhtXI"
      },
      "source": [],
      "execution_count": null,
      "outputs": []
    },
    {
      "cell_type": "code",
      "metadata": {
        "id": "Sxndt7TEhtXI"
      },
      "source": [],
      "execution_count": null,
      "outputs": []
    },
    {
      "cell_type": "code",
      "metadata": {
        "id": "u-gi98J7maRP"
      },
      "source": [],
      "execution_count": null,
      "outputs": []
    },
    {
      "cell_type": "code",
      "metadata": {
        "id": "ZeOwJi-OmaRP"
      },
      "source": [
        "fig, axes = plt.subplots(nrows=2, figsize=(12,8))\n",
        "sns.histplot(data=X_train_99, x=col_name, ax=axes[0], kde=True)\n",
        "axes[0].set_title('Histogram with whole training data')\n",
        "for edge in qbin_discretizer.bin_edges_[0]: # quantile bins\n",
        "  line = axes[0].axvline(edge, color='b')\n",
        "axes[0].legend([line], ['Quantile bin Edges'], fontsize=10)\n",
        "sns.countplot(x=X_train_99[trans_col_name])\n",
        "axes[1].set_title(f'Quantile binning result ({n_bins} bins)')\n",
        "plt.tight_layout()"
      ],
      "execution_count": null,
      "outputs": []
    },
    {
      "cell_type": "markdown",
      "source": [
        "# Encoding categorical predictors"
      ],
      "metadata": {
        "id": "HPZj76ieI7Sb"
      }
    },
    {
      "cell_type": "code",
      "metadata": {
        "id": "bBRl7VGfALex"
      },
      "source": [
        "!mkdir data"
      ],
      "execution_count": null,
      "outputs": []
    },
    {
      "cell_type": "code",
      "metadata": {
        "id": "YR1uTokC8Wzi"
      },
      "source": [
        "import gdown\n",
        "\n",
        "urls = ['https://drive.google.com/uc?export=download&id=16AGQw1nM9NYILv2aSZaSNSn9jBPByWPq', # okc_train  https://drive.google.com/file/d/16AGQw1nM9NYILv2aSZaSNSn9jBPByWPq/view?usp=sharing\n",
        "        ]\n",
        "outputs = ['okc_train.csv']\n",
        "for url,output in zip(urls,outputs):\n",
        "  gdown.download(url, f'data/{output}', quiet=False)"
      ],
      "execution_count": null,
      "outputs": []
    },
    {
      "cell_type": "code",
      "metadata": {
        "id": "tbt7GzUNOT3O"
      },
      "source": [
        "df = pd.read_csv('data/okc_train.csv',index_col=0)"
      ],
      "execution_count": null,
      "outputs": []
    },
    {
      "cell_type": "code",
      "metadata": {
        "id": "JZpHzHmXH_9p"
      },
      "source": [],
      "execution_count": null,
      "outputs": []
    },
    {
      "cell_type": "code",
      "metadata": {
        "id": "w__Vfr55ICKt"
      },
      "source": [],
      "execution_count": null,
      "outputs": []
    },
    {
      "cell_type": "code",
      "metadata": {
        "id": "ifqD4NX9tDcV"
      },
      "source": [],
      "execution_count": null,
      "outputs": []
    },
    {
      "cell_type": "markdown",
      "metadata": {
        "id": "V4ftP8Trwta8"
      },
      "source": [
        "Small test dataset for some explanations and for the figures on the slides\n"
      ]
    },
    {
      "cell_type": "code",
      "metadata": {
        "id": "N6QlcRqsw2mL"
      },
      "source": [
        "df_test = pd.DataFrame({\n",
        "... 'City': ['SF', 'SF', 'SF', 'NYC', 'NYC', 'NYC',\n",
        "... 'Seattle', 'Seattle', 'Seattle'],\n",
        "... 'Rent': [3999, 4000, 4001, 3499, 3500, 3501, 2499, 2500, 2501]\n",
        "... })"
      ],
      "execution_count": null,
      "outputs": []
    },
    {
      "cell_type": "code",
      "metadata": {
        "id": "QIJZ13cvw2mL"
      },
      "source": [
        "df_test"
      ],
      "execution_count": null,
      "outputs": []
    },
    {
      "cell_type": "code",
      "source": [],
      "metadata": {
        "id": "4xj6nlhzjyXD"
      },
      "execution_count": null,
      "outputs": []
    },
    {
      "cell_type": "markdown",
      "metadata": {
        "id": "4pKFtLouXfG4"
      },
      "source": [
        "For this worksheet we are going to use the [category_encoders](http://contrib.scikit-learn.org/category_encoders/index.html) library, which is compatible with scikit-learn."
      ]
    },
    {
      "cell_type": "code",
      "metadata": {
        "id": "6TJXc11RIOG5"
      },
      "source": [
        "!pip install category_encoders"
      ],
      "execution_count": null,
      "outputs": []
    },
    {
      "cell_type": "markdown",
      "metadata": {
        "id": "bHbRN1o_U55I"
      },
      "source": [
        "# Unsupervised Encoders"
      ]
    },
    {
      "cell_type": "markdown",
      "metadata": {
        "id": "oEFMQtldVDTw"
      },
      "source": [
        "### One-Hot Encoder"
      ]
    },
    {
      "cell_type": "code",
      "metadata": {
        "id": "o9jm8j4vpUR7"
      },
      "source": [
        "col = 'drinks'"
      ],
      "execution_count": null,
      "outputs": []
    },
    {
      "cell_type": "code",
      "metadata": {
        "id": "L7UbjPTMVC2k"
      },
      "source": [],
      "execution_count": null,
      "outputs": []
    },
    {
      "cell_type": "code",
      "metadata": {
        "id": "zDtIFqWiVGhN"
      },
      "source": [],
      "execution_count": null,
      "outputs": []
    },
    {
      "cell_type": "code",
      "metadata": {
        "id": "XgKgbHSNWlsy"
      },
      "source": [],
      "execution_count": null,
      "outputs": []
    },
    {
      "cell_type": "code",
      "metadata": {
        "id": "d7CZ32Vcwkrh"
      },
      "source": [],
      "execution_count": null,
      "outputs": []
    },
    {
      "cell_type": "code",
      "metadata": {
        "id": "MdJnvyV2tXXS"
      },
      "source": [],
      "execution_count": null,
      "outputs": []
    },
    {
      "cell_type": "markdown",
      "source": [
        "### Dummy Coding"
      ],
      "metadata": {
        "id": "LNtA1AaWJivh"
      }
    },
    {
      "cell_type": "code",
      "metadata": {
        "id": "zr-sBr_S2fG6"
      },
      "source": [
        "col='drinks'"
      ],
      "execution_count": null,
      "outputs": []
    },
    {
      "cell_type": "code",
      "metadata": {
        "id": "bZIsRVzTpgM0"
      },
      "source": [],
      "execution_count": null,
      "outputs": []
    },
    {
      "cell_type": "code",
      "metadata": {
        "id": "sjyaNzGCbT8G"
      },
      "source": [],
      "execution_count": null,
      "outputs": []
    },
    {
      "cell_type": "code",
      "metadata": {
        "id": "73EjQArKbT8N"
      },
      "source": [],
      "execution_count": null,
      "outputs": []
    },
    {
      "cell_type": "code",
      "metadata": {
        "id": "MgUOc40xb2PW"
      },
      "source": [],
      "execution_count": null,
      "outputs": []
    },
    {
      "cell_type": "code",
      "metadata": {
        "id": "RCqJxPQfcpfO"
      },
      "source": [],
      "execution_count": null,
      "outputs": []
    },
    {
      "cell_type": "code",
      "metadata": {
        "id": "Z_pxCnC3dL5u"
      },
      "source": [],
      "execution_count": null,
      "outputs": []
    },
    {
      "cell_type": "code",
      "metadata": {
        "id": "lSKMh7lgd_h1"
      },
      "source": [],
      "execution_count": null,
      "outputs": []
    },
    {
      "cell_type": "markdown",
      "metadata": {
        "id": "r28M6q1BVIUP"
      },
      "source": [
        "### Binary Encoder"
      ]
    },
    {
      "cell_type": "code",
      "metadata": {
        "id": "Jw-iL8HhVJr1"
      },
      "source": [],
      "execution_count": null,
      "outputs": []
    },
    {
      "cell_type": "code",
      "metadata": {
        "id": "0D0AwPeoZ97V"
      },
      "source": [],
      "execution_count": null,
      "outputs": []
    },
    {
      "cell_type": "code",
      "metadata": {
        "id": "EvqdOJ5FZ-A4"
      },
      "source": [],
      "execution_count": null,
      "outputs": []
    },
    {
      "cell_type": "code",
      "source": [
        "]"
      ],
      "metadata": {
        "id": "LFXk8rLXOgwi"
      },
      "execution_count": null,
      "outputs": []
    },
    {
      "cell_type": "code",
      "metadata": {
        "id": "RgBKcFB1xMJ6"
      },
      "source": [],
      "execution_count": null,
      "outputs": []
    },
    {
      "cell_type": "code",
      "source": [],
      "metadata": {
        "id": "MvaiSnIQPSH_"
      },
      "execution_count": null,
      "outputs": []
    },
    {
      "cell_type": "markdown",
      "metadata": {
        "id": "isF60gocgLlE"
      },
      "source": [
        "### Frequency or Count Encoder"
      ]
    },
    {
      "cell_type": "code",
      "metadata": {
        "id": "3vUZDuvdgMkV"
      },
      "source": [],
      "execution_count": null,
      "outputs": []
    },
    {
      "cell_type": "code",
      "metadata": {
        "id": "cAH-Rs9lgMnY"
      },
      "source": [],
      "execution_count": null,
      "outputs": []
    },
    {
      "cell_type": "code",
      "metadata": {
        "id": "uGXLVE-OgMu-"
      },
      "source": [],
      "execution_count": null,
      "outputs": []
    },
    {
      "cell_type": "code",
      "metadata": {
        "id": "fZa79Q6VgM3P"
      },
      "source": [],
      "execution_count": null,
      "outputs": []
    },
    {
      "cell_type": "markdown",
      "metadata": {
        "id": "u3OwsExn4FC6"
      },
      "source": [
        "Let's try using the group merge functions\n"
      ]
    },
    {
      "cell_type": "code",
      "metadata": {
        "id": "wh7yndmE4I2H"
      },
      "source": [],
      "execution_count": null,
      "outputs": []
    },
    {
      "cell_type": "code",
      "metadata": {
        "id": "LLqpbctQ4I2H"
      },
      "source": [],
      "execution_count": null,
      "outputs": []
    },
    {
      "cell_type": "code",
      "metadata": {
        "id": "PKtHIEGQ4I2I"
      },
      "source": [],
      "execution_count": null,
      "outputs": []
    },
    {
      "cell_type": "markdown",
      "metadata": {
        "id": "pyS3hX38VOw-"
      },
      "source": [
        "### Ordinal Encoder"
      ]
    },
    {
      "cell_type": "code",
      "metadata": {
        "id": "vMsIUlXXXCDL"
      },
      "source": [],
      "execution_count": null,
      "outputs": []
    },
    {
      "cell_type": "code",
      "metadata": {
        "id": "tkp6y0XdXCDL"
      },
      "source": [],
      "execution_count": null,
      "outputs": []
    },
    {
      "cell_type": "code",
      "metadata": {
        "id": "DntqepleXCDL"
      },
      "source": [],
      "execution_count": null,
      "outputs": []
    },
    {
      "cell_type": "code",
      "metadata": {
        "id": "gfMliXuSXCDM"
      },
      "source": [],
      "execution_count": null,
      "outputs": []
    },
    {
      "cell_type": "code",
      "source": [],
      "metadata": {
        "id": "Li_APiTxLAw7"
      },
      "execution_count": null,
      "outputs": []
    }
  ]
}