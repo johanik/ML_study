{
  "nbformat": 4,
  "nbformat_minor": 0,
  "metadata": {
    "colab": {
      "provenance": [],
      "collapsed_sections": []
    },
    "kernelspec": {
      "name": "python3",
      "display_name": "Python 3"
    },
    "language_info": {
      "name": "python"
    }
  },
  "cells": [
    {
      "cell_type": "markdown",
      "metadata": {
        "id": "Y9FCLIzbM9fn"
      },
      "source": [
        "# Lab Session \\# 01 \n",
        "\n",
        "\n",
        "---\n",
        "\n",
        "\n",
        "by Josué Obregón <br>\n",
        "BDA712-00 - Machine Learning Programming <br>\n",
        "Department of Big Data Analytics - Kyung Hee University<br>\n"
      ]
    },
    {
      "cell_type": "markdown",
      "metadata": {
        "id": "w0-nImUHNxOv"
      },
      "source": [
        "## Objective\n",
        "\n",
        "The objective of this lab session is to familiarize the student with some of the different technologies tools that we will use throughout the course: GitHub, Google colab and Pyhton programming language."
      ]
    },
    {
      "cell_type": "markdown",
      "source": [
        "# Introduction to Python"
      ],
      "metadata": {
        "id": "0xRTYrPZkSW8"
      }
    },
    {
      "cell_type": "markdown",
      "source": [
        "## Why do we use Jupyter Notebooks? and why Google Colab?\n",
        "\n",
        "Jupyter Notebook is a popular tool used in the ML community because it allows you to type and run Python code in a web page, mixed with descriptive text. \n",
        "\n",
        "It has two advantages\n",
        "\n",
        "* It allows you to mix Python code with formatted text, images, and data visualizations like charts and tables. That’s a big deal for data scientists, who often need to explain the context, input, and output of their system.\n",
        "\n",
        "* With their gigantic toolbars and hundreds of keyboard shortcuts, IDEs are\n",
        "intimidating. By contrast, Jupyter is friendly and welcoming, especially to people who lack a programming background. Jupyter allows them to type and run code in the familiar context of a web page."
      ],
      "metadata": {
        "id": "jKDsZtNvr_hV"
      }
    },
    {
      "cell_type": "markdown",
      "source": [
        "## What does Python looks like?\n"
      ],
      "metadata": {
        "id": "7SINZnXmkW1W"
      }
    },
    {
      "cell_type": "code",
      "source": [
        "# Import the square root function\n",
        "from math import sqrt\n",
        "\n",
        "# Return True if the argument is a prime number, False otherwise\n",
        "def is_prime(n):\n",
        "  # n is prime if it cannot be divided evenly by any number in\n",
        "  # the range from 2 to the square root of n.\n",
        "  max_check_value = sqrt(n)\n",
        "  # range(a, b) goes from a included to b excluded. Both a and b\n",
        "  # must be integers, so we convert max_check_value to an integer\n",
        "  # with the in-built int() function.\n",
        "  for x in range(2, int(max_check_value) + 1):\n",
        "    # Check the remainder of the integer division of n by x\n",
        "    if n % x == 0:\n",
        "      return False # n can be divided by x, so it's not prime\n",
        "  return True # n is prime\n",
        "\n",
        "MAX_RANGE = 100\n",
        "primes = []\n",
        "print(f\"Computing the prime numbers from 2 to {MAX_RANGE}:\")\n",
        "for n in range(2, MAX_RANGE):\n",
        "  if is_prime(n):\n",
        "    primes.append(n)\n",
        "print(primes)"
      ],
      "metadata": {
        "id": "rh52CkVXss0u"
      },
      "execution_count": null,
      "outputs": []
    },
    {
      "cell_type": "markdown",
      "source": [
        "This program finds the prime numbers in the range from 2 to 100. It’s short, but it uses most of the features of Python that you need for following and understanding this course.\n",
        "\n",
        "* Comments\n",
        "```python\n",
        "# this is a comment and it will be ignored by the python interpreter\n",
        "primes = []\n",
        "```\n",
        "* Reserved words\n",
        "```python\n",
        "def\n",
        "for\n",
        "this_is_not_a_reserved_word\n",
        "in\n",
        "```\n",
        "* Dynamic typing *(Note:The assignment operator in Python is `=`)*\n",
        "```python\n",
        "x = ​\"Hello!\"​\n",
        "x = 42\n",
        "```\n",
        "* Significant whitespace (identation matters)\n",
        "```python\n",
        "​ \tx = 7\n",
        "​ \t​if​ x > 5:\n",
        "​ \t    ​print​(​\"x is greater than 5\"​)\n",
        "​ \t    ​print​(​\"And while we're here...\"​)\n",
        "​ \t    ​if​ x < 10:\n",
        "​ \t        ​print​(​\"...it's also smaller than 10\"​)\n",
        "​ \t​else​:\n",
        "​ \t    ​print​(​\"x is less or equal than 5\"​)\n",
        "```"
      ],
      "metadata": {
        "id": "0tpjxI_ZOR4b"
      }
    },
    {
      "cell_type": "markdown",
      "source": [
        "Python community is serious about coding conventions. They even have an  [official stylesheet](https://peps.python.org/pep-0008/) that is revered by coders and automatically checked by IDEs.\n",
        "\n",
        "Here are a couple of examples of consistent style in Python. \n",
        "* Almost all programmers use “snake case” —as oposed to camelCase or kebab-case— for the names of Python’s variables and functions, as in:\n",
        "```python\n",
        "this_is_a_variable\n",
        "is_prime\n",
        "```\n",
        "* As a second example, Python has no language-level support for constants, but if you want to let the reader know that a variable is meant to be a constant, then you name it with uppercase letters separated by underscores, as in \n",
        "```python\n",
        "MAX_RANGE = 100\n",
        "```"
      ],
      "metadata": {
        "id": "LkTgclyhUxkf"
      }
    },
    {
      "cell_type": "markdown",
      "source": [
        "# Pyhton's building blocks\n",
        "\n",
        "Following our course book's author style, I won’t bog you down in details that you can look up yourself\n",
        "later, when you’re confronted with real code. I’ll keep the follwing sections as brief as possible. But, I will give some time for you to explore and grasp the concepts we are studying. "
      ],
      "metadata": {
        "id": "IhhBYdCGWM61"
      }
    },
    {
      "cell_type": "markdown",
      "source": [
        "## (Primitive) Types\n",
        "\n",
        "Python comes with the data types you expect: integers, floating-point numbers,\n",
        "booleans, strings—the works:\n",
        "\n",
        "```python\n",
        "​ \tan_integer = 42\n",
        "​ \ta_float = 0.5\n",
        "​ \ta_boolean = True\n",
        "​ \ta_string = ​\"abc\"\n",
        "```\n",
        "\n",
        "Try yourself some types ...\n"
      ],
      "metadata": {
        "id": "mRCzvrDukcjA"
      }
    },
    {
      "cell_type": "code",
      "source": [],
      "metadata": {
        "id": "LEJ2Xo6mkrYb"
      },
      "execution_count": null,
      "outputs": []
    },
    {
      "cell_type": "markdown",
      "source": [
        "For checking the type of an object, you can use the function type()\n",
        "\n",
        "```python\n",
        "type(object)\n",
        "```"
      ],
      "metadata": {
        "id": "0b5SlFkfkN4q"
      }
    },
    {
      "cell_type": "code",
      "source": [],
      "metadata": {
        "id": "VoZT-WyskEBT"
      },
      "execution_count": null,
      "outputs": []
    },
    {
      "cell_type": "markdown",
      "source": [
        "As for Python’s operators, you’ll probably find them familiar across the board:\n",
        "\n",
        "* Arithmetic operators `+`, `-`, `*`, `/`, `//` (integer division), '**' power\n",
        "* The boolean operators are spelled out as the words `and`, `not`, `or`. \n",
        "* Comparison operators `>`, `<`, `>=` (greater or equal), `<=` (less or equal), `==` equality, `!=` or `is not` not equal, `is` identical.\n",
        "\n",
        "```python\n",
        "an_integer + a_float # => 42.5\n",
        "an_integer >= a_float # => True  ( other operators <=, <, >, ==, != )\n",
        "a_float * 2 # => 1.0\n",
        "an_integer ** 2  # => 4\n",
        "an_integer / 10 # => 4.2\n",
        "an_integer % 10 # => 2\n",
        "not a_boolean # => False\n",
        "a_boolean or False # => True\n",
        "a_string + 'def' # => 'abcdef\n",
        "```\n",
        "\n",
        "Try some operators yourself..."
      ],
      "metadata": {
        "id": "YxXn-70dkHNr"
      }
    },
    {
      "cell_type": "code",
      "source": [],
      "metadata": {
        "id": "L-ZTTFFvkEIf"
      },
      "execution_count": null,
      "outputs": []
    },
    {
      "cell_type": "markdown",
      "source": [
        "Compared to some other dynamic languages like JavaScript or Perl, Python\n",
        "is strict about mixing types. While the language does cast types automatically\n",
        "in some cases, potentially ambigous operations usually result in an error:\n",
        "```python\n",
        "# Implicit cast from an integer to a boolean:\n",
        "not 10 # => False\n",
        "# Failing implicit cast from an integer to a string:\n",
        "\"20\" + 20 # => TypeError: must be str, not int\n",
        "```\n",
        "\n",
        "Let's try some examples of mixing types"
      ],
      "metadata": {
        "id": "7Rl-C1tdk4LK"
      }
    },
    {
      "cell_type": "code",
      "source": [],
      "metadata": {
        "id": "aCUqDldbl8H7"
      },
      "execution_count": null,
      "outputs": []
    },
    {
      "cell_type": "markdown",
      "source": [
        "If you need to convert Python values from one type to the other, you generally\n",
        "do so explicitly, with functions such as str(), int(), and bool():\n",
        "```python\n",
        "\"20\" + str(20) # => '2020'\n",
        "```\n",
        "We’ll get a closer look at Python’s strings in a minute—but first, let’s look at\n",
        "variables that contain multiple values."
      ],
      "metadata": {
        "id": "3TisX86Nl7fL"
      }
    },
    {
      "cell_type": "markdown",
      "source": [
        "## Collections\n",
        "\n",
        "Every modern language supports variables with multiple ordered values,\n",
        "usually called “arrays,” “lists,” or “vectors.” Python has two such multi-valued\n",
        "collection types: *lists* and *tuples*.\n",
        "\n",
        "Here is what tuples look like:\n",
        "\n",
        "```python\n",
        "a_tuple = (3, 9, 12, 7, 1, -4)\n",
        "len(a_tuple) # => 6\n",
        "a_tuple[2] # => 12\n",
        "a_tuple[2:5] # => (12, 7, 1)\n",
        "```\n",
        "\n",
        "You create a tuple by wrapping a sequence of comma-separated values in\n",
        "round brackets. The preceding code demonstrates a couple of things you can\n",
        "do with tuples: getting their length, and getting one or more of their elements\n",
        "(using zero-based indexes)\n",
        "\n",
        "Let's explore what we just learned..."
      ],
      "metadata": {
        "id": "NYlQ7cOYmDU1"
      }
    },
    {
      "cell_type": "code",
      "source": [
        "tuple_example = (3, 2, 7, 8, 9, 3) \n",
        "tuple_example"
      ],
      "metadata": {
        "id": "fUlXyWu1mE-o",
        "colab": {
          "base_uri": "https://localhost:8080/"
        },
        "outputId": "d7629b71-e4be-4e93-e730-023a9aebe4e9"
      },
      "execution_count": 3,
      "outputs": [
        {
          "output_type": "execute_result",
          "data": {
            "text/plain": [
              "(3, 2, 7, 8, 9, 3)"
            ]
          },
          "metadata": {},
          "execution_count": 3
        }
      ]
    },
    {
      "cell_type": "code",
      "source": [
        "tuple_example[2]"
      ],
      "metadata": {
        "id": "FDZEFWOvnzN5",
        "colab": {
          "base_uri": "https://localhost:8080/"
        },
        "outputId": "a4d37de8-cc87-4df0-c267-1ca733cfe290"
      },
      "execution_count": 4,
      "outputs": [
        {
          "output_type": "execute_result",
          "data": {
            "text/plain": [
              "7"
            ]
          },
          "metadata": {},
          "execution_count": 4
        }
      ]
    },
    {
      "cell_type": "markdown",
      "source": [
        "Tuples are immutable: once you create one, it cannot change. If you want a\n",
        "mutable collection of values… that’s what lists are for. They look similar to\n",
        "tuples—only they use square brackets, and they are mutable:\n",
        "\n",
        "```python\n",
        "a_list = [10, 20, 30]\n",
        "a_list[1] = a_list[1] + 2\n",
        "a_list.append(100)\n",
        "a_list # => [10, 22, 30, 100]\n",
        "```\n",
        "\n",
        "Let's explore lists..."
      ],
      "metadata": {
        "id": "6bCuTlFgnzrk"
      }
    },
    {
      "cell_type": "code",
      "source": [
        "l = [1,2,3,4]\n",
        "l"
      ],
      "metadata": {
        "id": "OpjxwBvIoGRI",
        "colab": {
          "base_uri": "https://localhost:8080/"
        },
        "outputId": "13e356ed-f1e2-41f4-9314-925c72d1df85"
      },
      "execution_count": 6,
      "outputs": [
        {
          "output_type": "execute_result",
          "data": {
            "text/plain": [
              "[1, 2, 3, 4]"
            ]
          },
          "metadata": {},
          "execution_count": 6
        }
      ]
    },
    {
      "cell_type": "code",
      "source": [
        "l.append(5)\n",
        "l"
      ],
      "metadata": {
        "id": "c2bFsc21oGVC",
        "colab": {
          "base_uri": "https://localhost:8080/"
        },
        "outputId": "75e87edd-6166-4637-8c8e-e868c64d8bdd"
      },
      "execution_count": 8,
      "outputs": [
        {
          "output_type": "execute_result",
          "data": {
            "text/plain": [
              "[1, 2, 3, 4, 5, 5]"
            ]
          },
          "metadata": {},
          "execution_count": 8
        }
      ]
    },
    {
      "cell_type": "code",
      "source": [
        "l[0] = -1 "
      ],
      "metadata": {
        "id": "2RGiSZy5XsuW"
      },
      "execution_count": 9,
      "outputs": []
    },
    {
      "cell_type": "code",
      "source": [
        "l"
      ],
      "metadata": {
        "colab": {
          "base_uri": "https://localhost:8080/"
        },
        "id": "Iim0M5FHXswc",
        "outputId": "67230465-3977-4999-c180-42e3a956509f"
      },
      "execution_count": 10,
      "outputs": [
        {
          "output_type": "execute_result",
          "data": {
            "text/plain": [
              "[-1, 2, 3, 4, 5, 5]"
            ]
          },
          "metadata": {},
          "execution_count": 10
        }
      ]
    },
    {
      "cell_type": "code",
      "source": [
        "l2 = [6,7,8] \n",
        "l2"
      ],
      "metadata": {
        "colab": {
          "base_uri": "https://localhost:8080/"
        },
        "id": "hKjRZl67XszN",
        "outputId": "e6dee39e-a14a-417e-b9b3-eb47280f7f95"
      },
      "execution_count": 23,
      "outputs": [
        {
          "output_type": "execute_result",
          "data": {
            "text/plain": [
              "[6, 7, 8]"
            ]
          },
          "metadata": {},
          "execution_count": 23
        }
      ]
    },
    {
      "cell_type": "code",
      "source": [
        "l.extend(l2)"
      ],
      "metadata": {
        "id": "miRrOsAkaBVg"
      },
      "execution_count": 24,
      "outputs": []
    },
    {
      "cell_type": "code",
      "source": [
        "l"
      ],
      "metadata": {
        "colab": {
          "base_uri": "https://localhost:8080/"
        },
        "id": "Cfx5DngvaBXo",
        "outputId": "5bd28cd6-b667-47a7-ddc5-0bf6cb053160"
      },
      "execution_count": 25,
      "outputs": [
        {
          "output_type": "execute_result",
          "data": {
            "text/plain": [
              "[-1, 2, 3, 4, 5, 5, 6, 7, 8]"
            ]
          },
          "metadata": {},
          "execution_count": 25
        }
      ]
    },
    {
      "cell_type": "markdown",
      "source": [
        "Lists and tuples will both appear in this course source code—but they won’t\n",
        "get the spotlight. The most common collection we’ll use, by far, is the powerful\n",
        "array type from the NumPy library. But we will explore Numpy with more detail later in this Notebook"
      ],
      "metadata": {
        "id": "U00tZdJVoG9_"
      }
    },
    {
      "cell_type": "markdown",
      "source": [
        "Finally, we will quickly learn about dictionaries. \n",
        "\n",
        "A **dictionary** is like a list, but more general. In a list, the indices have to be integers; in a dictionary they can be (almost) any type.\n",
        "\n",
        "A dictionary contains a collection of indices, which are called **keys**, and a collection of values. Each key is associated with a single **value**. The association of a key and a value is called a **key-value pair** or sometimes an item.\n",
        "\n",
        "```python\n",
        "a_dictionary = dict  # => empty dictionary\n",
        "a_dictionary = {'one': 1, 'two': 2}  # => initializing a dictionary\n",
        "a_dictionary['three'] = 3 # => adding an element to the dictionary\n",
        "a_dictionary['one'] # => 1 ... accessing the element of a dictionary\n",
        "```"
      ],
      "metadata": {
        "id": "eMPTPdBVXdba"
      }
    },
    {
      "cell_type": "code",
      "source": [
        "d = dict()\n",
        "d"
      ],
      "metadata": {
        "colab": {
          "base_uri": "https://localhost:8080/"
        },
        "id": "pL3rI_EtYJMi",
        "outputId": "09c8793b-3c34-4b6e-b2fd-315a86207ea3"
      },
      "execution_count": 11,
      "outputs": [
        {
          "output_type": "execute_result",
          "data": {
            "text/plain": [
              "{}"
            ]
          },
          "metadata": {},
          "execution_count": 11
        }
      ]
    },
    {
      "cell_type": "code",
      "source": [
        "a_dictionary = {'one' : 1, 'two' : 2} "
      ],
      "metadata": {
        "id": "XMq4Zzk8YJT4"
      },
      "execution_count": 16,
      "outputs": []
    },
    {
      "cell_type": "code",
      "source": [
        "a_dictionary"
      ],
      "metadata": {
        "colab": {
          "base_uri": "https://localhost:8080/"
        },
        "id": "kf8WaxZKYJWc",
        "outputId": "a6b79134-2057-433b-8990-5d4fdde88fe5"
      },
      "execution_count": 17,
      "outputs": [
        {
          "output_type": "execute_result",
          "data": {
            "text/plain": [
              "{'one': 1, 'two': 2}"
            ]
          },
          "metadata": {},
          "execution_count": 17
        }
      ]
    },
    {
      "cell_type": "code",
      "source": [
        "a_dictionary['one']"
      ],
      "metadata": {
        "colab": {
          "base_uri": "https://localhost:8080/"
        },
        "id": "iuRrc0_7YJYg",
        "outputId": "f56e8ae7-1a33-406f-8998-8fd5560041fc"
      },
      "execution_count": 18,
      "outputs": [
        {
          "output_type": "execute_result",
          "data": {
            "text/plain": [
              "1"
            ]
          },
          "metadata": {},
          "execution_count": 18
        }
      ]
    },
    {
      "cell_type": "code",
      "source": [
        "a_dictionary['three'] = 3 \n",
        "a_dictionary"
      ],
      "metadata": {
        "colab": {
          "base_uri": "https://localhost:8080/"
        },
        "id": "uH3mdaN_Yos9",
        "outputId": "c44cc823-ea60-4090-d6c8-4905db0edfa4"
      },
      "execution_count": 19,
      "outputs": [
        {
          "output_type": "execute_result",
          "data": {
            "text/plain": [
              "{'one': 1, 'two': 2, 'three': 3}"
            ]
          },
          "metadata": {},
          "execution_count": 19
        }
      ]
    },
    {
      "cell_type": "code",
      "source": [
        "a_dictionary[(1,2)] = 12 \n",
        "a_dictionary"
      ],
      "metadata": {
        "colab": {
          "base_uri": "https://localhost:8080/"
        },
        "id": "nFs42VGXYovV",
        "outputId": "3f378d55-901c-4e0e-969c-cd68326e08f5"
      },
      "execution_count": 21,
      "outputs": [
        {
          "output_type": "execute_result",
          "data": {
            "text/plain": [
              "{'one': 1, 'two': 2, 'three': 3, (1, 2): 12}"
            ]
          },
          "metadata": {},
          "execution_count": 21
        }
      ]
    },
    {
      "cell_type": "markdown",
      "source": [
        "We will not use a lot of dictionaries on the first half of our course, but in the second half, when we learn about machine learning libraries, they will be usfeul and frequently used. Don't forget them."
      ],
      "metadata": {
        "id": "9qrF9i07Ynpy"
      }
    },
    {
      "cell_type": "markdown",
      "source": [
        "## Strings\n",
        "\n",
        "We’re almost done with Python’s basic types. We only need to give a closer look at strings.\n",
        "\n",
        "You can define a string with either double or single quotes:\n",
        "\n",
        "```python\n",
        "​ s1 = ​\"This is a string\"​\n",
        "​ s2 = ​'this is also a string'​\n",
        "​ s1 + ​\" and \"​ + s2  ​# => 'This is a string and this is also a string'\n",
        "```\n",
        "\n",
        "A string behaves pretty much like a tuple of characters, which is why we looked at collections first. In particular, you can index a string’s individual characters:\n",
        "\n",
        "```python\n",
        "​ s3 = s2[8:12]\n",
        " s3  ​# => 'also'\n",
        "```\n",
        "\n",
        "Let's explore the use of strings"
      ],
      "metadata": {
        "id": "6x-pTXq9Y0Ga"
      }
    },
    {
      "cell_type": "code",
      "source": [
        "s1 = 'This is a string' "
      ],
      "metadata": {
        "id": "tEmG9Z4hcD-x"
      },
      "execution_count": 26,
      "outputs": []
    },
    {
      "cell_type": "code",
      "source": [
        "len(s1)"
      ],
      "metadata": {
        "id": "rOw5QpkBcEB8",
        "colab": {
          "base_uri": "https://localhost:8080/"
        },
        "outputId": "2d283ec5-e052-4a63-d4eb-1aee754edc77"
      },
      "execution_count": 27,
      "outputs": [
        {
          "output_type": "execute_result",
          "data": {
            "text/plain": [
              "16"
            ]
          },
          "metadata": {},
          "execution_count": 27
        }
      ]
    },
    {
      "cell_type": "code",
      "source": [
        "s2 = 'this is also a string'"
      ],
      "metadata": {
        "id": "ts4sC1kpaT7E"
      },
      "execution_count": 28,
      "outputs": []
    },
    {
      "cell_type": "code",
      "source": [
        "s1 + s2 "
      ],
      "metadata": {
        "colab": {
          "base_uri": "https://localhost:8080/",
          "height": 36
        },
        "id": "xh0CCHz2aRLT",
        "outputId": "68181806-ec64-4d4d-cebe-8a3e8b53e9fb"
      },
      "execution_count": 30,
      "outputs": [
        {
          "output_type": "execute_result",
          "data": {
            "text/plain": [
              "'This is a stringthis is also a string'"
            ],
            "application/vnd.google.colaboratory.intrinsic+json": {
              "type": "string"
            }
          },
          "metadata": {},
          "execution_count": 30
        }
      ]
    },
    {
      "cell_type": "code",
      "source": [],
      "metadata": {
        "id": "tuiGwE8oaRNT"
      },
      "execution_count": null,
      "outputs": []
    },
    {
      "cell_type": "markdown",
      "source": [
        "One feature that we use a lot in this course is **string interpolation**—a way to embed variables in a string. Python offers a few ways to do string interpolation, but we’re going to use what is called f-strings. \n",
        "\n",
        "Also called “*formatted string literals*,” f-strings are string literals that have an f at the beginning and curly braces containing expressions that will be replaced with their values.\n",
        "\n",
        "For example:\n",
        "\n",
        "```python\n",
        "name = \"Eric\"\n",
        "age = 74\n",
        "f\"Hello, {name}. You are {age}.\" # => 'Hello, Eric. You are 74.'\n",
        "```\n",
        "\n",
        "Let's play a bit with f-strings..."
      ],
      "metadata": {
        "id": "K0xzt5gJcEfu"
      }
    },
    {
      "cell_type": "code",
      "source": [
        "name = 'Eric' \n",
        "age = 28 "
      ],
      "metadata": {
        "id": "ekMdAwuba20B"
      },
      "execution_count": 31,
      "outputs": []
    },
    {
      "cell_type": "code",
      "source": [
        "f'Hello, {name}. You are {age+2} years old'"
      ],
      "metadata": {
        "colab": {
          "base_uri": "https://localhost:8080/",
          "height": 36
        },
        "id": "sL8Tt7ELa21_",
        "outputId": "a4ab13f9-7b48-4c04-9b80-c78d9615c254"
      },
      "execution_count": 38,
      "outputs": [
        {
          "output_type": "execute_result",
          "data": {
            "text/plain": [
              "'Hello, Eric. You are 30 years old'"
            ],
            "application/vnd.google.colaboratory.intrinsic+json": {
              "type": "string"
            }
          },
          "metadata": {},
          "execution_count": 38
        }
      ]
    },
    {
      "cell_type": "code",
      "source": [],
      "metadata": {
        "id": "fA528qbea24J"
      },
      "execution_count": null,
      "outputs": []
    },
    {
      "cell_type": "code",
      "source": [],
      "metadata": {
        "id": "4aNf92jMa293"
      },
      "execution_count": null,
      "outputs": []
    },
    {
      "cell_type": "markdown",
      "source": [
        "## Control structures\n",
        "\n",
        "Python comes with the usual C-style control structures: **if**, **while**, **for**, and their like. We already saw how to use if in our first Python example, in [​What Python Looks Like](#scrollTo=7SINZnXmkW1W)​."
      ],
      "metadata": {
        "id": "Bk6MgLWzkkA8"
      }
    },
    {
      "cell_type": "markdown",
      "source": [
        "### Conditional statements\n",
        "\n",
        "The Python syntax for conditional execution of code uses the keywords if, elif (else if), else:\n",
        "\n",
        "```python\n",
        "statement1 = False\n",
        "statement2 = False\n",
        "\n",
        "if statement1:\n",
        "    print(\"statement1 is True\")    \n",
        "elif statement2:\n",
        "    print(\"statement2 is True\")\n",
        "else:\n",
        "    print(\"statement1 and statement2 are False\")\n",
        "```\n",
        "\n",
        "Let's try to use it!"
      ],
      "metadata": {
        "id": "BA_aRZCzeRbc"
      }
    },
    {
      "cell_type": "code",
      "source": [
        "statement1 = True \n",
        "statement2 = False\n",
        "\n",
        "if statement1:\n",
        "    print(\"statement1 is True\")    \n",
        "elif statement2:\n",
        "    print(\"statement2 is True\")\n",
        "else:\n",
        "    print(\"statement1 and statement2 are False\")"
      ],
      "metadata": {
        "id": "_F6HwKIB1ppv",
        "colab": {
          "base_uri": "https://localhost:8080/"
        },
        "outputId": "fd9a2c3a-495f-4304-d930-7e3663e38984"
      },
      "execution_count": 40,
      "outputs": [
        {
          "output_type": "stream",
          "name": "stdout",
          "text": [
            "statement1 is True\n"
          ]
        }
      ]
    },
    {
      "cell_type": "code",
      "source": [
        "a = 5 \n",
        "b = 10 \n",
        "\n",
        "if  3 <= a <= 6:    # a > 3 and b >13 : # statement1\n",
        "    print(\"statement1 is True\")    \n",
        "elif b < 11: # statement2\n",
        "    print(\"statement2 is True\")\n",
        "else:\n",
        "    print(\"statement1 and statement2 are False\")"
      ],
      "metadata": {
        "id": "FwlZq-6d1psy",
        "colab": {
          "base_uri": "https://localhost:8080/"
        },
        "outputId": "e5c6ec3d-5d7d-4eed-b6f3-074a3b3bb1f8"
      },
      "execution_count": 42,
      "outputs": [
        {
          "output_type": "stream",
          "name": "stdout",
          "text": [
            "statement1 is True\n"
          ]
        }
      ]
    },
    {
      "cell_type": "markdown",
      "source": [
        "### Loops\n",
        "\n",
        "\n",
        "The while loop won't be used too much in this course.\n",
        "\n",
        "On the other hand, we’ll use for loops all the time. Here is what they look like:\n",
        "\n",
        "```python\n",
        "for i in range(4):\n",
        "  if i % 2 == 0:\n",
        "    print(f\"{i} is an even number\")\n",
        "  else:\n",
        "    print(f\"{i} is an odd number\")\n",
        "```\n",
        "\n",
        "Let's try that code:"
      ],
      "metadata": {
        "id": "su_ZxoHr1cLO"
      }
    },
    {
      "cell_type": "code",
      "source": [
        "for i in range(4):\n",
        "  if i == 2:\n",
        "     break\n",
        "  if i % 2 == 0:\n",
        "    print(f\"{i} is an even number\")\n",
        "  else:\n",
        "    print(f\"{i} is an odd number\")"
      ],
      "metadata": {
        "colab": {
          "base_uri": "https://localhost:8080/"
        },
        "id": "iP55CuORfHwU",
        "outputId": "a1a6ffc8-8856-418d-dd63-b43653c7a93b"
      },
      "execution_count": 48,
      "outputs": [
        {
          "output_type": "stream",
          "name": "stdout",
          "text": [
            "0 is an even number\n",
            "1 is an odd number\n"
          ]
        }
      ]
    },
    {
      "cell_type": "code",
      "source": [
        "for i in range(4):\n",
        "  if i == 2:\n",
        "     continue\n",
        "  if i % 2 == 0:\n",
        "    print(f\"{i} is an even number\")\n",
        "  else:\n",
        "    print(f\"{i} is an odd number\")"
      ],
      "metadata": {
        "id": "QVn5xEzkkr3k",
        "colab": {
          "base_uri": "https://localhost:8080/"
        },
        "outputId": "61da33f7-0f0b-4ea0-ea48-6f867f297511"
      },
      "execution_count": 47,
      "outputs": [
        {
          "output_type": "stream",
          "name": "stdout",
          "text": [
            "0 is an even number\n",
            "1 is an odd number\n",
            "3 is an odd number\n"
          ]
        }
      ]
    },
    {
      "cell_type": "code",
      "source": [
        "for i in range(4):\n",
        "  if i == 2:\n",
        "     break\n",
        "  if i % 2 == 0:\n",
        "    print(f\"{i} is an even number\")\n",
        "  else:\n",
        "    print(f\"{i} is an odd number\")"
      ],
      "metadata": {
        "id": "9viiPt8ekr6L",
        "colab": {
          "base_uri": "https://localhost:8080/"
        },
        "outputId": "636ddf8a-f72a-472b-c884-f45f291c9e85"
      },
      "execution_count": 50,
      "outputs": [
        {
          "output_type": "stream",
          "name": "stdout",
          "text": [
            "0 is an even number\n",
            "1 is an odd number\n"
          ]
        }
      ]
    },
    {
      "cell_type": "markdown",
      "source": [
        "Experienced Python coders tend to shun for loops, in favor of more elegant\n",
        "constructs inspired by functional programming. We won’t use those constructs\n",
        "in this book. If you’re curious, check out Python’s [list comprehension](https://docs.python.org/3/tutorial/datastructures.html#list-comprehensions).\n",
        "\n",
        "```python\n",
        "squares = [x**2 for x in range(10)]\n",
        "```\n",
        "\n",
        "You can use list comprehensions if you want, but I will try to keep it simple."
      ],
      "metadata": {
        "id": "h748cvWxiVg6"
      }
    },
    {
      "cell_type": "markdown",
      "source": [
        "## Functions\n",
        "\n",
        "In most programming languages, you cannot go far without defining and calling your own functions. In Python, you define a function with the def keyword:\n",
        "\n",
        "\n",
        "```python\n",
        "def welcome(user):\n",
        "  PASSWORD = \"1234\"\n",
        "  message = f\"Hi, {user}! Your new password is {PASSWORD}\"\n",
        "  return message\n",
        "```\n",
        "\n",
        "This function generates a password for a new user. (Admittedly, the default password isn’t the most secure—but hey, at least it’s popular.) Then it composes a welcome message, and returns the message to the caller.\n",
        "\n",
        "Pythonically, you don’t need to delimit the function’s body with brackets—you just indent it. Also, being Python dynamically typed, you don’t need to specify the type of the user parameter, or the type of the function’s return value. Taken together, these features make for a very concise function declaration.\n",
        "\n",
        "Once you have a function defined, you can call it:\n",
        "\n",
        "```python\n",
        "welcome(\"Josue\")  # => 'Hi, Josue! Your new password is 1234'\n",
        "```\n",
        "\n",
        "Let's try out this function, and try others..."
      ],
      "metadata": {
        "id": "lLr11B6HkkOV"
      }
    },
    {
      "cell_type": "code",
      "source": [
        "def welcome(user):\n",
        "  PASSWORD = \"1234\"\n",
        "  message = f\"Hi, {user}! Your new password is {PASSWORD}\"\n",
        "  return message"
      ],
      "metadata": {
        "id": "GaZt0gVEksjW"
      },
      "execution_count": 56,
      "outputs": []
    },
    {
      "cell_type": "code",
      "source": [
        "welcome('Hanik')"
      ],
      "metadata": {
        "id": "pwJTovdgjvHL",
        "colab": {
          "base_uri": "https://localhost:8080/",
          "height": 36
        },
        "outputId": "756557a1-2b19-4815-e9e8-875f35d74ec2"
      },
      "execution_count": 57,
      "outputs": [
        {
          "output_type": "execute_result",
          "data": {
            "text/plain": [
              "'Hi, Hanik! Your new password is 1234'"
            ],
            "application/vnd.google.colaboratory.intrinsic+json": {
              "type": "string"
            }
          },
          "metadata": {},
          "execution_count": 57
        }
      ]
    },
    {
      "cell_type": "code",
      "source": [
        "def welcome(user, secure):\n",
        "  PASSWORD = \"1234\"\n",
        "  if secure: \n",
        "    PASSWORD = \"123456\"\n",
        "  else: \n",
        "    PASSWORD = \"1234\"\n",
        "  message = f\"Hi, {user}! Your new password is {PASSWORD}\"\n",
        "  return message "
      ],
      "metadata": {
        "id": "ZJwPEeQNjvJn"
      },
      "execution_count": 58,
      "outputs": []
    },
    {
      "cell_type": "code",
      "source": [
        "welcome('Hanik', secure = False)"
      ],
      "metadata": {
        "id": "FzbP5oTtkuGr",
        "colab": {
          "base_uri": "https://localhost:8080/",
          "height": 36
        },
        "outputId": "07d47354-ccff-457b-ef03-5cbe2833166f"
      },
      "execution_count": 60,
      "outputs": [
        {
          "output_type": "execute_result",
          "data": {
            "text/plain": [
              "'Hi, Hanik! Your new password is 1234'"
            ],
            "application/vnd.google.colaboratory.intrinsic+json": {
              "type": "string"
            }
          },
          "metadata": {},
          "execution_count": 60
        }
      ]
    },
    {
      "cell_type": "code",
      "source": [
        "welcome('Hanik', secure = True) "
      ],
      "metadata": {
        "colab": {
          "base_uri": "https://localhost:8080/",
          "height": 36
        },
        "id": "xv7i2NXdhd61",
        "outputId": "b5820679-84df-417c-9b59-aaa72c5d2e5b"
      },
      "execution_count": 61,
      "outputs": [
        {
          "output_type": "execute_result",
          "data": {
            "text/plain": [
              "'Hi, Hanik! Your new password is 123456'"
            ],
            "application/vnd.google.colaboratory.intrinsic+json": {
              "type": "string"
            }
          },
          "metadata": {},
          "execution_count": 61
        }
      ]
    },
    {
      "cell_type": "code",
      "source": [],
      "metadata": {
        "id": "IQAJgK5shd83"
      },
      "execution_count": null,
      "outputs": []
    },
    {
      "cell_type": "markdown",
      "source": [
        "Pythonically, you don’t need to delimit the function’s body with brackets—you just indent it. Also, being Python dynamically typed, you don’t need to specify the type of the user parameter, or the type of the function’s return value. Taken together, these features make for a very concise function declaration."
      ],
      "metadata": {
        "id": "crjJ_ePyjvwM"
      }
    },
    {
      "cell_type": "markdown",
      "source": [
        "Python has a few different flavors of function arguments. Let’s look at them."
      ],
      "metadata": {
        "id": "r8kRh1z5maZS"
      }
    },
    {
      "cell_type": "markdown",
      "source": [
        "\n",
        "\n",
        "```\n",
        "# 코드로 형식 지정됨\n",
        "```\n",
        "\n",
        "### Named arguments (parameters)\n",
        "\n",
        "You can use named arguments, also called keyword arguments, to make a\n",
        "function call easier to read. Let’s look at an example.\n",
        "\n",
        "Let's say that we want to make our previous (welcome) function more secure. So we add a new argument *secure*. If the parameter *secure* is True, then we should generate a more secure password.\n",
        "\n",
        "Here is the updated *welcome()* function:\n",
        "\n",
        "```python\n",
        "def welcome(user, secure):\n",
        "  if secure:\n",
        "    PASSWORD = \"123456\"\n",
        "  else:\n",
        "    PASSWORD = \"1234\"\n",
        "  return f\"Hi, {user}! Your new password is {PASSWORD}\"\n",
        "```\n",
        "Explicitly using named arguments makes our code more readable. Additionally, we can change the order of the arguments. \n",
        "\n",
        "Let's try out the new function and play around with the arguments."
      ],
      "metadata": {
        "id": "jkEfC7i-mdEY"
      }
    },
    {
      "cell_type": "code",
      "source": [
        "def welcome(user, secure):\n",
        "  if secure:\n",
        "    PASSWORD = \"123456\"\n",
        "  else:\n",
        "    PASSWORD = \"1234\"\n",
        "  return f\"Hi, {user}! Your new password is {PASSWORD}\""
      ],
      "metadata": {
        "id": "VFue3N-nnkpx"
      },
      "execution_count": 62,
      "outputs": []
    },
    {
      "cell_type": "code",
      "source": [],
      "metadata": {
        "id": "zR1KakYLnks6"
      },
      "execution_count": null,
      "outputs": []
    },
    {
      "cell_type": "markdown",
      "source": [
        "We’re not quite done with function arguments yet. There is one last useful\n",
        "feature related to them, and we use it a lot in this book."
      ],
      "metadata": {
        "id": "VeQpW5SCnk77"
      }
    },
    {
      "cell_type": "markdown",
      "source": [
        "### Default arguments\n",
        "\n",
        "Let's say that we would like the *welcome* function to work even if we don’t provide the user’s name. Besides, we also want the password to be secure by default, unless the caller specificies otherwise.\n",
        "\n",
        "We can implement both features by specifying the arguments’ default values\n",
        "in the function definition:\n",
        "\n",
        "```python\n",
        "def welcome(user=\"default user\", secure=True):\n",
        "  if secure:\n",
        "    PASSWORD = \"123456\"\n",
        "  else:\n",
        "    PASSWORD = \"1234\"\n",
        "  return f\"Hi, {user}! Your new password is {PASSWORD}\"\n",
        "```\n",
        "\n",
        "Now we can skip one or both arguments, and they’ll take their default values:\n",
        "```python\n",
        "welcome() # => Hi, dear user! Your new password is 123456\n",
        "```\n",
        "\n",
        "You can even mix and match named arguments and default arguments:\n",
        "```python\n",
        "welcome(secure=False) # => Hi, dear user! Your new password is 1234\n",
        "```\n",
        "\n",
        "Let's play around with our new information..."
      ],
      "metadata": {
        "id": "4_TaxumOoWkR"
      }
    },
    {
      "cell_type": "code",
      "source": [
        "def welcome(user=\"default user\", secure=True):\n",
        "  if secure:\n",
        "    PASSWORD = \"123456\"\n",
        "  else:\n",
        "    PASSWORD = \"1234\"\n",
        "  return f\"Hi, {user}! Your new password is {PASSWORD}\""
      ],
      "metadata": {
        "id": "8Ch1qo6LpRN1"
      },
      "execution_count": 66,
      "outputs": []
    },
    {
      "cell_type": "code",
      "source": [
        "welcome('user') "
      ],
      "metadata": {
        "id": "I4RdfFmHpRQ6",
        "colab": {
          "base_uri": "https://localhost:8080/",
          "height": 36
        },
        "outputId": "a1387550-855e-4926-ce57-e16ae819a37f"
      },
      "execution_count": 65,
      "outputs": [
        {
          "output_type": "execute_result",
          "data": {
            "text/plain": [
              "'Hi, user! Your new password is 123456'"
            ],
            "application/vnd.google.colaboratory.intrinsic+json": {
              "type": "string"
            }
          },
          "metadata": {},
          "execution_count": 65
        }
      ]
    },
    {
      "cell_type": "markdown",
      "source": [
        "## Modules and packages\n",
        "\n",
        "A short Python program can happily live in a single file—but as soon as we write larger programs, we need a way to organize its code. \n",
        "\n",
        "Above functions, Python has two more levels of code organization: \n",
        "\n",
        "* Functions and other code that lives in modules\n",
        "* Modules that live in packages\n",
        "\n",
        "Let’s start by looking at modules."
      ],
      "metadata": {
        "id": "IKNbb-HjkkTI"
      }
    },
    {
      "cell_type": "markdown",
      "source": [
        "### Defining and importing modules\n",
        "\n",
        "A module defines entities such as constants and functions that you can import and use in a program. Aside from some of the in-built modules of the Python interpreter, a module is a Python file.\n",
        "\n",
        "For example, if we have a file named `my_module.py` with the following code:\n",
        "\n",
        "```python\n",
        "​THE_ANSWER = 42\n",
        "​​ \t\n",
        "​​def​ ​ask​():\n",
        "  ​return​ THE_ANSWER\n",
        "```\n",
        "\n",
        "This file defines a function and a constant. Now imagine that we have a Python program in the same directory. This program can import either (or both) definitions with the import keyword:\n",
        "\n",
        "```python\n",
        "from​ ​my_module​ ​import​ ask, THE_ANSWER\n",
        "```\n",
        "\n",
        "Let's try out importing our own modules!"
      ],
      "metadata": {
        "id": "tak06XrSuMic"
      }
    },
    {
      "cell_type": "code",
      "source": [
        "from my_module import ask, THE_ANSWER "
      ],
      "metadata": {
        "id": "ttXvQ-eTkvQX"
      },
      "execution_count": 68,
      "outputs": []
    },
    {
      "cell_type": "code",
      "source": [
        "THE_ANSWER"
      ],
      "metadata": {
        "id": "nqLDEAIAu4Ja",
        "colab": {
          "base_uri": "https://localhost:8080/"
        },
        "outputId": "4b83217f-5160-4fe5-c916-2207325a745e"
      },
      "execution_count": 70,
      "outputs": [
        {
          "output_type": "execute_result",
          "data": {
            "text/plain": [
              "42"
            ]
          },
          "metadata": {},
          "execution_count": 70
        }
      ]
    },
    {
      "cell_type": "code",
      "source": [
        "ask()"
      ],
      "metadata": {
        "id": "LhewpDH3u4MV",
        "colab": {
          "base_uri": "https://localhost:8080/"
        },
        "outputId": "c4f9daa6-d084-4975-ae2b-dc0fc5c15a18"
      },
      "execution_count": 71,
      "outputs": [
        {
          "output_type": "execute_result",
          "data": {
            "text/plain": [
              "42"
            ]
          },
          "metadata": {},
          "execution_count": 71
        }
      ]
    },
    {
      "cell_type": "code",
      "source": [],
      "metadata": {
        "id": "h-Nad7uWkuxD"
      },
      "execution_count": null,
      "outputs": []
    },
    {
      "cell_type": "markdown",
      "source": [
        "When you import a module, two things happen:\n",
        "\n",
        "* First, the code in the module is executed.\n",
        "* Second, the names you imported become available in your program.\n",
        "\n",
        "Instead of cherry-picking the names you want to import, as we did before, you could instead import the entire module:\n",
        "\n",
        "```python\n",
        "import​ ​my_module\n",
        "```\n",
        "This line will import all the names defined in my_module.py. When you import an entire module like that, however, those names might clash with other names in the main program, or in another module. To avoid those clashes, Python forces you to prefix the names with the name of the module, like this:\n",
        "\n",
        "```python\n",
        "my_module.ask()       ​# => 42​\n",
        "my_module.THE_ANSWER  ​# => 42\n",
        "```\n",
        "\n",
        "To avoid prefixing the same long module name dozens of time, you can give a shorter name to the module when you import it, like this:\n",
        "\n",
        "```python\n",
        "​import​ ​my_module​ ​as​ ​mm​\n",
        "\n",
        "mm.ask()  ​# => 42\n",
        "```\n",
        "\n",
        "Let's try out this..."
      ],
      "metadata": {
        "id": "NW3yElK9u5T3"
      }
    },
    {
      "cell_type": "code",
      "source": [
        "import my_module as mm "
      ],
      "metadata": {
        "id": "dR8073P0xhUi"
      },
      "execution_count": 72,
      "outputs": []
    },
    {
      "cell_type": "code",
      "source": [
        "mm.ask()"
      ],
      "metadata": {
        "id": "eCO-0imbxhXr",
        "colab": {
          "base_uri": "https://localhost:8080/"
        },
        "outputId": "ea753a09-7762-4c9f-ecd0-20acd47bdf6d"
      },
      "execution_count": 73,
      "outputs": [
        {
          "output_type": "execute_result",
          "data": {
            "text/plain": [
              "42"
            ]
          },
          "metadata": {},
          "execution_count": 73
        }
      ]
    },
    {
      "cell_type": "code",
      "source": [
        "mm.THE_ANSWER"
      ],
      "metadata": {
        "id": "QsI_UdFaxhaY",
        "colab": {
          "base_uri": "https://localhost:8080/"
        },
        "outputId": "1675d8a8-f832-48ec-e6be-c0cfbf2a36da"
      },
      "execution_count": 74,
      "outputs": [
        {
          "output_type": "execute_result",
          "data": {
            "text/plain": [
              "42"
            ]
          },
          "metadata": {},
          "execution_count": 74
        }
      ]
    },
    {
      "cell_type": "markdown",
      "source": [
        "### The standard library\n",
        "\n",
        "Python prides itself on being “batteries included,” meaning that it comes with a bunch of useful modules right out of the box. For example, the [math module](https://docs.python.org/3/library/math.html) gives you the basic mathematical functions and constants:\n",
        "\n",
        "```python\n",
        "import​ ​math​\n",
        "\n",
        "math.sqrt(16)  ​# => 4.0​\n",
        "math.pi \n",
        "```\n",
        "\n",
        "Let's check some functions!"
      ],
      "metadata": {
        "id": "WIMUR8e0xhss"
      }
    },
    {
      "cell_type": "code",
      "source": [
        "import math \n",
        "\n",
        "math.sqrt(16) \n",
        "# math.pi "
      ],
      "metadata": {
        "id": "1njc5sQ7yCqy",
        "colab": {
          "base_uri": "https://localhost:8080/"
        },
        "outputId": "b1bd2123-b3c6-406d-aa97-0094dd4c5a05"
      },
      "execution_count": 77,
      "outputs": [
        {
          "output_type": "execute_result",
          "data": {
            "text/plain": [
              "4.0"
            ]
          },
          "metadata": {},
          "execution_count": 77
        }
      ]
    },
    {
      "cell_type": "code",
      "source": [
        "math.pi"
      ],
      "metadata": {
        "id": "osRNb9A7yGV6",
        "colab": {
          "base_uri": "https://localhost:8080/"
        },
        "outputId": "d0ad7c6f-a2dd-48ef-a55b-7dc90ffafdb1"
      },
      "execution_count": 80,
      "outputs": [
        {
          "output_type": "execute_result",
          "data": {
            "text/plain": [
              "3.141592653589793"
            ]
          },
          "metadata": {},
          "execution_count": 80
        }
      ]
    },
    {
      "cell_type": "code",
      "source": [],
      "metadata": {
        "id": "2D0sn3sTyGYu"
      },
      "execution_count": null,
      "outputs": []
    },
    {
      "cell_type": "markdown",
      "source": [
        "Please read the remaining parts in the Appendix A1.Just Enough Python\n",
        "\n",
        "* The main idiom\n",
        "* Managing packages\n",
        "\n",
        "We will study the part of creating and using objects when we start the second part of our course, when we study Machine Learning libraries.\n",
        "\n",
        "That's all about the basic things we need to know to use Python for Machine Learning Programming. If you are very familiar with them, congratulations, now you need to focus only in the Machine Learning concepts. However, if the previous topics were new or a difficult, I recommend you practice enough this concepts as soon as possible so you can feel more confident while we advance in the class.\n",
        "\n",
        "The next topic will be to learn the basics of Numpy, a powerful library that brings the computational power of languages like C and Fortran to Python, a language much easier to learn and use (as we learned today).\n",
        "\n"
      ],
      "metadata": {
        "id": "2jmqGRj_yGu_"
      }
    },
    {
      "cell_type": "code",
      "source": [],
      "metadata": {
        "id": "MyTPIRdLz6-k"
      },
      "execution_count": null,
      "outputs": []
    }
  ]
}