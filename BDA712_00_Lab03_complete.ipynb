{
  "nbformat": 4,
  "nbformat_minor": 0,
  "metadata": {
    "colab": {
      "provenance": [],
      "collapsed_sections": [],
      "include_colab_link": true
    },
    "kernelspec": {
      "name": "python3",
      "display_name": "Python 3"
    },
    "language_info": {
      "name": "python"
    }
  },
  "cells": [
    {
      "cell_type": "markdown",
      "metadata": {
        "id": "view-in-github",
        "colab_type": "text"
      },
      "source": [
        "<a href=\"https://colab.research.google.com/github/johanik/ML_study/blob/main/BDA712_00_Lab03_complete.ipynb\" target=\"_parent\"><img src=\"https://colab.research.google.com/assets/colab-badge.svg\" alt=\"Open In Colab\"/></a>"
      ]
    },
    {
      "cell_type": "markdown",
      "source": [
        "# Lab Session \\# 03\n",
        "\n",
        "\n",
        "---\n",
        "\n",
        "\n",
        "by Josué Obregón <br>\n",
        "BDA712-00 - Machine Learning Programming <br>\n",
        "Department of Big Data Analytics - Kyung Hee University<br>\n",
        "\n",
        "## Objective\n",
        "\n",
        "The objective of this session is to start playing around with the concept of linear regression. We will program a simple linear regression to help Roberto with his pizza business.\n"
      ],
      "metadata": {
        "id": "jCqG2Vz70NNX"
      }
    },
    {
      "cell_type": "markdown",
      "source": [
        "# Getting the data"
      ],
      "metadata": {
        "id": "tffQN5TXQoMe"
      }
    },
    {
      "cell_type": "code",
      "source": [
        "import gdown"
      ],
      "metadata": {
        "id": "2M5n_qs5acMe"
      },
      "execution_count": null,
      "outputs": []
    },
    {
      "cell_type": "code",
      "source": [
        "!mkdir data"
      ],
      "metadata": {
        "id": "vouLYEd0aZcf",
        "colab": {
          "base_uri": "https://localhost:8080/"
        },
        "outputId": "d2126bb8-01d4-4c14-d7a3-55c32d2ad2fe"
      },
      "execution_count": null,
      "outputs": [
        {
          "output_type": "stream",
          "name": "stdout",
          "text": [
            "mkdir: cannot create directory ‘data’: File exists\n"
          ]
        }
      ]
    },
    {
      "cell_type": "code",
      "source": [
        "urls = ['https://drive.google.com/uc?export=download&id=1Hqv36-YZKOMJwoAy__LERnrC9mzFNT6G', # pizza.txt  https://drive.google.com/file/d/1Hqv36-YZKOMJwoAy__LERnrC9mzFNT6G/view?usp=sharing       \n",
        "      ]\n",
        "outputs = ['pizza.txt']\n",
        "for url,output in zip(urls,outputs):\n",
        "  gdown.download(url, f'data/{output}', quiet=False)"
      ],
      "metadata": {
        "id": "gkFTKhLl0I72",
        "colab": {
          "base_uri": "https://localhost:8080/"
        },
        "outputId": "cf87b2e9-7f6c-4f67-8279-a0478e1394f2"
      },
      "execution_count": null,
      "outputs": [
        {
          "output_type": "stream",
          "name": "stderr",
          "text": [
            "Downloading...\n",
            "From: https://drive.google.com/uc?export=download&id=1Hqv36-YZKOMJwoAy__LERnrC9mzFNT6G\n",
            "To: /content/data/pizza.txt\n",
            "100%|██████████| 232/232 [00:00<00:00, 266kB/s]\n"
          ]
        }
      ]
    },
    {
      "cell_type": "markdown",
      "source": [
        "# Making sense of the data\n",
        "\n",
        "If we glance at Roberto’s examples, it seems that the reservations and pizzas are correlated. \n",
        "\n",
        "Let's import the file into a numpy array and take a peek on the data..."
      ],
      "metadata": {
        "id": "zhc1fdmralXW"
      }
    },
    {
      "cell_type": "code",
      "source": [
        "import numpy as np"
      ],
      "metadata": {
        "id": "ElL0PnEca2tJ"
      },
      "execution_count": null,
      "outputs": []
    },
    {
      "cell_type": "code",
      "source": [
        "data = np.genfromtxt('data/pizza.txt', delimiter=',', skip_header=1)"
      ],
      "metadata": {
        "id": "WE6dVncXby1R"
      },
      "execution_count": null,
      "outputs": []
    },
    {
      "cell_type": "code",
      "source": [
        "data.shape"
      ],
      "metadata": {
        "id": "73eT8OmLcEhx",
        "colab": {
          "base_uri": "https://localhost:8080/"
        },
        "outputId": "7d9e6470-033c-4fca-ed19-94580dad477a"
      },
      "execution_count": null,
      "outputs": [
        {
          "output_type": "execute_result",
          "data": {
            "text/plain": [
              "(30, 2)"
            ]
          },
          "metadata": {},
          "execution_count": 6
        }
      ]
    },
    {
      "cell_type": "code",
      "source": [
        "X, Y = data[:, 0], data[:,1]"
      ],
      "metadata": {
        "id": "CCX3fAozc2GR"
      },
      "execution_count": null,
      "outputs": []
    },
    {
      "cell_type": "code",
      "source": [
        "X.shape  # number of reservations"
      ],
      "metadata": {
        "id": "I_6ldlw-dOYY",
        "colab": {
          "base_uri": "https://localhost:8080/"
        },
        "outputId": "e62fc565-f118-4280-dd93-b2465df25a48"
      },
      "execution_count": null,
      "outputs": [
        {
          "output_type": "execute_result",
          "data": {
            "text/plain": [
              "(30,)"
            ]
          },
          "metadata": {},
          "execution_count": 8
        }
      ]
    },
    {
      "cell_type": "code",
      "source": [
        "Y.shape  # number of pizzas"
      ],
      "metadata": {
        "id": "CBU4HhJvdQng",
        "colab": {
          "base_uri": "https://localhost:8080/"
        },
        "outputId": "7c7905e7-d996-4f16-facb-6ea7cfa1c70a"
      },
      "execution_count": null,
      "outputs": [
        {
          "output_type": "execute_result",
          "data": {
            "text/plain": [
              "(30,)"
            ]
          },
          "metadata": {},
          "execution_count": 9
        }
      ]
    },
    {
      "cell_type": "code",
      "source": [
        "X[:5]"
      ],
      "metadata": {
        "id": "8C_77U5-dRMY",
        "colab": {
          "base_uri": "https://localhost:8080/"
        },
        "outputId": "b9480962-bd0e-4713-c8d9-6c23c76d26f8"
      },
      "execution_count": null,
      "outputs": [
        {
          "output_type": "execute_result",
          "data": {
            "text/plain": [
              "array([13.,  2., 14., 23., 13.])"
            ]
          },
          "metadata": {},
          "execution_count": 10
        }
      ]
    },
    {
      "cell_type": "code",
      "source": [
        "Y[:5]"
      ],
      "metadata": {
        "id": "FGeq6QK2dZrJ",
        "colab": {
          "base_uri": "https://localhost:8080/"
        },
        "outputId": "313b9847-8641-4e8b-8546-eaf0137fa3a8"
      },
      "execution_count": null,
      "outputs": [
        {
          "output_type": "execute_result",
          "data": {
            "text/plain": [
              "array([33., 16., 32., 51., 27.])"
            ]
          },
          "metadata": {},
          "execution_count": 11
        }
      ]
    },
    {
      "cell_type": "markdown",
      "source": [
        "The numbers are consistent with Roberto’s file, but it’s still hard to make\n",
        "sense of them. Plot them on a chart, though, and they become clear:"
      ],
      "metadata": {
        "id": "Hr-IJ5wLdv2N"
      }
    },
    {
      "cell_type": "code",
      "source": [
        "import matplotlib.pyplot as plt\n",
        "import seaborn as sns"
      ],
      "metadata": {
        "id": "-prVtQf7dao5"
      },
      "execution_count": null,
      "outputs": []
    },
    {
      "cell_type": "code",
      "source": [
        "sns.set()\n",
        "plt.figure()\n",
        "plt.scatter(X,Y)\n",
        "plt.xlabel('Number of reservations')\n",
        "plt.ylabel('Number of pizzas')"
      ],
      "metadata": {
        "id": "lQa5Hmhrd2nP",
        "colab": {
          "base_uri": "https://localhost:8080/",
          "height": 302
        },
        "outputId": "043b2c22-347b-415a-b648-9ebcde5e4c57"
      },
      "execution_count": null,
      "outputs": [
        {
          "output_type": "execute_result",
          "data": {
            "text/plain": [
              "Text(0, 0.5, 'Number of pizzas')"
            ]
          },
          "metadata": {},
          "execution_count": 13
        },
        {
          "output_type": "display_data",
          "data": {
            "text/plain": [
              "<Figure size 432x288 with 1 Axes>"
            ],
            "image/png": "[encoded data removed]"
          },
          "metadata": {}
        }
      ]
    },
    {
      "cell_type": "markdown",
      "source": [
        "Is there a clear relationship between $X$ and $Y$?"
      ],
      "metadata": {
        "id": "wPmK4-JwJqYw"
      }
    },
    {
      "cell_type": "markdown",
      "source": [],
      "metadata": {
        "id": "kDqwA8rFJx9L"
      }
    },
    {
      "cell_type": "markdown",
      "source": [
        "# Coding Linear Regression\n",
        "\n",
        "---\n",
        "* So to recap our goal: we want to write a program that calculates the number of\n",
        "pizzas from the number of reservations. \n",
        "* In other words, make predictions of $Y$ at new points $X = x$.\n",
        "\n",
        "So that program should follow the following approach:\n",
        "\n",
        "* During the `training phase`, the program approximates the data with a function\n",
        "* Then, during the `prediction phase`, it should use that function to infer the number of pizzas.\n",
        "\n",
        "---\n",
        "\n",
        "More formally:\n",
        "\n",
        "\n",
        "We want to use the observed data to construct a predictor $\\hat{f}(x)$ that is\n",
        "a good estimate of the regression function $f(x) = E(Y  | X = x)$.\n"
      ],
      "metadata": {
        "id": "dtgj0hBcKEGS"
      }
    },
    {
      "cell_type": "markdown",
      "source": [
        "In the general case, finding a function $\\hat{f}(x)$ that approximates the data could be a lot of work. In our specific case, however, we lucked out. Our data points are roughly aligned, so we can approximate them with an especially simple function:\n",
        "\n",
        "\n",
        "\n",
        "> **a line**\n",
        "\n"
      ],
      "metadata": {
        "id": "r_EE47gkKo1Y"
      }
    },
    {
      "cell_type": "markdown",
      "source": [
        "Let's try to plot a nice line that passes throuh the origin of the axes and seems to follow those points.\n",
        "\n",
        "Hint: let's use the slope-intercept line equation: $y = mx + b$"
      ],
      "metadata": {
        "id": "Q4M9HFQ_NAFu"
      }
    },
    {
      "cell_type": "code",
      "source": [
        "# b=0, since its go through origin\n",
        "# x=15, y=30\n",
        "#m  dy/dx = 30/15 = 2\n",
        "m=2\n",
        "x_line = np.linspace(0,30, 100)\n",
        "y_line = m * x_line\n",
        "\n",
        "plt.figure()\n",
        "plt.scatter(X,Y)\n",
        "plt.plot(x_line, y_line, 'r')\n",
        "plt.xlabel('number of reservations')\n",
        "plt.ylabel('number of pizzas')\n"
      ],
      "metadata": {
        "id": "oUVSEDdpeHrn",
        "colab": {
          "base_uri": "https://localhost:8080/",
          "height": 302
        },
        "outputId": "9a3850fb-b14e-490d-dabd-98205023701f"
      },
      "execution_count": null,
      "outputs": [
        {
          "output_type": "execute_result",
          "data": {
            "text/plain": [
              "Text(0, 0.5, 'number of pizzas')"
            ]
          },
          "metadata": {},
          "execution_count": 14
        },
        {
          "output_type": "display_data",
          "data": {
            "text/plain": [
              "<Figure size 432x288 with 1 Axes>"
            ],
            "image/png": "[encoded data removed]"
          },
          "metadata": {}
        }
      ]
    },
    {
      "cell_type": "markdown",
      "source": [
        "Let's try with different slopes."
      ],
      "metadata": {
        "id": "1zPRXjajWsPH"
      }
    },
    {
      "cell_type": "code",
      "source": [
        "m = 2\n",
        "m2 = 3\n",
        "m3 = 1\n",
        "x_line = np.linspace(0,30, 100)\n",
        "\n",
        "y_line = m * x_line\n",
        "y_line2 = m2 * x_line\n",
        "y_line3 = m3 * x_line\n",
        "\n",
        "plt.figure()\n",
        "plt.scatter(X,Y)\n",
        "plt.plot(x_line, y_line, 'r', label='m1')\n",
        "plt.plot(x_line, y_line2, 'g',label='m2')\n",
        "plt.plot(x_line, y_line3, 'y',label='m3')\n",
        "plt.xlabel('number of reservations')\n",
        "plt.ylabel('number of pizzas')\n",
        "plt.legend()"
      ],
      "metadata": {
        "id": "Ulv3C6bSV2Iu",
        "colab": {
          "base_uri": "https://localhost:8080/",
          "height": 302
        },
        "outputId": "c2e983a1-6683-4b1b-d2ac-d75484724337"
      },
      "execution_count": null,
      "outputs": [
        {
          "output_type": "execute_result",
          "data": {
            "text/plain": [
              "<matplotlib.legend.Legend at 0x7f1bcfe70890>"
            ]
          },
          "metadata": {},
          "execution_count": 15
        },
        {
          "output_type": "display_data",
          "data": {
            "text/plain": [
              "<Figure size 432x288 with 1 Axes>"
            ],
            "image/png": "[encoded data removed]"
          },
          "metadata": {}
        }
      ]
    },
    {
      "cell_type": "markdown",
      "source": [
        "Once we’ve found the line, the `training phase` is over. You can say that the\n",
        "line is our model of the relation between reservations and pizzas. Therefore\n",
        "\n",
        "$\\hat{f}(x)= (2)x = (2)x$\n",
        "\n",
        "Now we can move on to the `prediction phase`, where we use the line to predict\n",
        "the label from the input variable."
      ],
      "metadata": {
        "id": "KSEr38lTPouS"
      }
    },
    {
      "cell_type": "markdown",
      "source": [
        "## Implementing the prediction phase"
      ],
      "metadata": {
        "id": "FVp2QURDZ15W"
      }
    },
    {
      "cell_type": "markdown",
      "source": [
        "Here is an example: we have 20 reservations;\n",
        "how much pizza do we expect to sell? \n",
        "\n",
        "For this let's create a `predict` function that implements the next equation:\n",
        "\n",
        "$\\hat{y}= x*w$\n",
        "\n",
        "What do you think it will look like?\n",
        "\n",
        "\n",
        "> Note: for convenience, let's change the $m$ of the slope to $w$, we will see in a few moments why.\n",
        "\n"
      ],
      "metadata": {
        "id": "GrxJPZB-Z2ZK"
      }
    },
    {
      "cell_type": "code",
      "source": [
        "def predict(X, w):\n",
        "  return X * w"
      ],
      "metadata": {
        "id": "Ax3FKv0sPWY2"
      },
      "execution_count": null,
      "outputs": []
    },
    {
      "cell_type": "markdown",
      "source": [
        "Let's use this function with the slope we found"
      ],
      "metadata": {
        "id": "jwhaNZtQUowL"
      }
    },
    {
      "cell_type": "code",
      "source": [
        "x= 20\n",
        "w = 2\n",
        "predict(x,w)"
      ],
      "metadata": {
        "id": "6gK5h7TOUoCT",
        "colab": {
          "base_uri": "https://localhost:8080/"
        },
        "outputId": "b6baa332-2ec1-411c-f482-e1aa819b0e92"
      },
      "execution_count": null,
      "outputs": [
        {
          "output_type": "execute_result",
          "data": {
            "text/plain": [
              "40"
            ]
          },
          "metadata": {},
          "execution_count": 17
        }
      ]
    },
    {
      "cell_type": "markdown",
      "source": [
        "To recap, here is how you do supervised learning with linear regression:\n",
        "* `Training phase` : Trace a line that approximates the examples.\n",
        "* `Prediction phase` : Use the line to predict the label from the input variable\n",
        "\n",
        "Admittedly, not every relation can be approximated well with a straight line.\n",
        "If your examples fall along a curve, or lack a discernible shape, then you\n",
        "can’t get away with this simple method.\n",
        "\n",
        "But, remember what we said before:\n",
        "\n",
        "> Linear models don’t work for everything in our world, but they do work  well in many cases. \n",
        "\n",
        "So let's learn one way to implement linear regression.\n",
        "\n"
      ],
      "metadata": {
        "id": "aVkkJWmcQwry"
      }
    },
    {
      "cell_type": "markdown",
      "source": [
        "For the `prediction phase`, the `predict()` function predicts the pizzas from the reservations. To be more precise, it takes the input variable and the weight, and it uses them to calculate $\\hat{y}$.\n",
        "\n",
        "This tiny function is more powerful than you may think. In particular, $X$ can\n",
        "be either a single number, or an entire array of reservations (NumPy comes handy here since it can be used in both ways)\n",
        "\n",
        "Try it!"
      ],
      "metadata": {
        "id": "OFL13nWRZAzC"
      }
    },
    {
      "cell_type": "code",
      "source": [
        "predict(X,w)"
      ],
      "metadata": {
        "id": "TrJqnNmmRBmD",
        "colab": {
          "base_uri": "https://localhost:8080/"
        },
        "outputId": "2d87f988-e784-44f0-e55a-ba41635b5241"
      },
      "execution_count": null,
      "outputs": [
        {
          "output_type": "execute_result",
          "data": {
            "text/plain": [
              "array([26.,  4., 28., 46., 26.,  2., 36., 20., 52.,  6.,  6., 42., 14.,\n",
              "       44.,  4., 54., 12., 20., 36., 30., 18., 52., 16., 30., 20., 42.,\n",
              "       10., 12., 26., 26.])"
            ]
          },
          "metadata": {},
          "execution_count": 18
        }
      ]
    },
    {
      "cell_type": "code",
      "source": [
        "predict(x,w)"
      ],
      "metadata": {
        "id": "uci8JhuvQuvS",
        "colab": {
          "base_uri": "https://localhost:8080/"
        },
        "outputId": "34c7d4dd-456e-4593-fefc-daab63b0cf1b"
      },
      "execution_count": null,
      "outputs": [
        {
          "output_type": "execute_result",
          "data": {
            "text/plain": [
              "40"
            ]
          },
          "metadata": {},
          "execution_count": 19
        }
      ]
    },
    {
      "cell_type": "markdown",
      "source": [
        "## Implementing the training phase"
      ],
      "metadata": {
        "id": "_EIRAoCwZ6o3"
      }
    },
    {
      "cell_type": "markdown",
      "source": [
        "Now we want to write code that implements the first part of linear regression:\n",
        "given a bunch of examples ($X$ and $Y$), it finds a line $w$ that approximates them.\n",
        "\n",
        "Can you think of a way to do that?"
      ],
      "metadata": {
        "id": "O_vHrkPmaGSe"
      }
    },
    {
      "cell_type": "markdown",
      "source": [
        "### How wrong are we?"
      ],
      "metadata": {
        "id": "OEn8TcyyakER"
      }
    },
    {
      "cell_type": "markdown",
      "source": [
        "Here is one strategy to find the best line that approximates the examples.\n",
        "\n",
        "Imagine if we had a function that takes the examples $(X$ and $Y)$ and a line $(w)$, and measures the line’s error. The better the line approximates the examples, the lower the error. \n",
        "\n",
        "If we had such a function, we could use it to evaluate multiple lines, until we find a line with a low enough error.\n",
        "\n",
        "\n",
        "\n",
        "> This error function is called `loss function` in the machine learning lingo.\n",
        "\n",
        "Let's think together:\n"
      ],
      "metadata": {
        "id": "FZLDwEZXdYFx"
      }
    },
    {
      "cell_type": "markdown",
      "source": [
        "Now let's define our loss function!!"
      ],
      "metadata": {
        "id": "uyxTu2QThChQ"
      }
    },
    {
      "cell_type": "code",
      "source": [
        "def loss(X, Y, w):\n",
        "  return np.mean((predict(X,w)-Y)**2)"
      ],
      "metadata": {
        "id": "3rjgMaowhBwS"
      },
      "execution_count": null,
      "outputs": []
    },
    {
      "cell_type": "markdown",
      "source": [
        "\n",
        "The name of this loss function is mean squared error"
      ],
      "metadata": {
        "id": "zUQa7yAJhaHj"
      }
    },
    {
      "cell_type": "markdown",
      "source": [
        "## Closer and closer"
      ],
      "metadata": {
        "id": "f8GrZQ4Vh0_n"
      }
    },
    {
      "cell_type": "markdown",
      "source": [
        "Remember what the training phase of linear regression is about: we want to find a line that approximates the examples. In other words, we want to calculate $w$ from the values in $X$ and $Y$. We can use an iterative algorithm to do that:\n",
        "\n",
        "* The `train()` function should go over the examples over and over, until it learns how to approximate them. Its arguments are $X$, $Y$, a number of iterations, and a value called `lr` which means learning rate. \n",
        "\n",
        "* The algorithm begins by initializing $w$ to an arbitrary value of 0. This $w$ represents a line on the chart. It’s unlikely to be a good approximation of the examples, but it’s a start.\n",
        "\n",
        "* Afterwards, `train()` gets into a loop. Each iteration starts by calculating the current loss. Then it considers an alternative line—the one that you get when you increase $w$ by a small amount. We could call that amount the “step size,” or \"learning rate\" —lr for short.\n",
        "\n",
        "* We just added the learning rate to $w$, that results in a new line. Does this new line result in a lower loss than our current line? \n",
        "\n",
        "* If so, then $w + lr$ becomes the new current $w$, and the loop continues. Otherwise, the algorithm tries another line: $w - lr$. Once again, if that line results in a lower loss than the current $w$, the code updates $w$ and continues the loop.\n",
        "\n",
        "* If neither $w + lr$ nor $w - lr$ yield a better loss than the current $w$, then we’re done. \n",
        "\n",
        "* We’ve approximated the examples as well as we can, and we return $w$ to the\n",
        "caller."
      ],
      "metadata": {
        "id": "J-3kzylri5Dm"
      }
    },
    {
      "cell_type": "code",
      "source": [
        "def train(X, Y, iterations, lr):\n",
        "  w = 0\n",
        "  for i in range(iterations):\n",
        "    current_loss = loss(X, Y, w)\n",
        "    print(f'Iterations {i} => Loss (MSE): {current_loss:.6f} ')\n",
        "    if loss(X, Y, w + lr) < current_loss:\n",
        "      w += lr\n",
        "    elif loss(X, Y, w - lr) < current_loss:\n",
        "      w -= lr\n",
        "    else:\n",
        "      print(f'Best w: {w}')\n",
        "      return w\n",
        "  raise Exception(f'Couldn\\'t coverge within {iterations} iterations')\n",
        "\n"
      ],
      "metadata": {
        "id": "WD01OrokQpou"
      },
      "execution_count": null,
      "outputs": []
    },
    {
      "cell_type": "markdown",
      "source": [
        "To put it in more concrete terms, this algorithm rotates the line, making it either a tad steeper or a tad less steep at each iteration, while keeping an eye on the loss. \n",
        "\n",
        "The higher the learning rate, the faster the system rotates the line.\n",
        "\n",
        "Let's experiment with this function!"
      ],
      "metadata": {
        "id": "xFAmkhtPkw77"
      }
    },
    {
      "cell_type": "markdown",
      "source": [
        "Let's find the best $w$ and plot our linear model!!"
      ],
      "metadata": {
        "id": "4zm3ONXelQ2F"
      }
    },
    {
      "cell_type": "code",
      "source": [
        "w = train(X,Y, 10000, 0.009)\n",
        "print(w)"
      ],
      "metadata": {
        "id": "nMmxg0pEiiuR",
        "colab": {
          "base_uri": "https://localhost:8080/"
        },
        "outputId": "081bbf7e-a2cd-44ff-a131-f4f364ceaae0"
      },
      "execution_count": null,
      "outputs": [
        {
          "output_type": "stream",
          "name": "stdout",
          "text": [
            "Iterations 0 => Loss (MSE): 812.866667 \n",
            "Iterations 1 => Loss (MSE): 805.623189 \n",
            "Iterations 2 => Loss (MSE): 798.415158 \n",
            "Iterations 3 => Loss (MSE): 791.242572 \n",
            "Iterations 4 => Loss (MSE): 784.105431 \n",
            "Iterations 5 => Loss (MSE): 777.003737 \n",
            "Iterations 6 => Loss (MSE): 769.937487 \n",
            "Iterations 7 => Loss (MSE): 762.906684 \n",
            "Iterations 8 => Loss (MSE): 755.911326 \n",
            "Iterations 9 => Loss (MSE): 748.951413 \n",
            "Iterations 10 => Loss (MSE): 742.026947 \n",
            "Iterations 11 => Loss (MSE): 735.137925 \n",
            "Iterations 12 => Loss (MSE): 728.284350 \n",
            "Iterations 13 => Loss (MSE): 721.466220 \n",
            "Iterations 14 => Loss (MSE): 714.683535 \n",
            "Iterations 15 => Loss (MSE): 707.936297 \n",
            "Iterations 16 => Loss (MSE): 701.224503 \n",
            "Iterations 17 => Loss (MSE): 694.548156 \n",
            "Iterations 18 => Loss (MSE): 687.907254 \n",
            "Iterations 19 => Loss (MSE): 681.301797 \n",
            "Iterations 20 => Loss (MSE): 674.731787 \n",
            "Iterations 21 => Loss (MSE): 668.197221 \n",
            "Iterations 22 => Loss (MSE): 661.698102 \n",
            "Iterations 23 => Loss (MSE): 655.234428 \n",
            "Iterations 24 => Loss (MSE): 648.806199 \n",
            "Iterations 25 => Loss (MSE): 642.413417 \n",
            "Iterations 26 => Loss (MSE): 636.056079 \n",
            "Iterations 27 => Loss (MSE): 629.734188 \n",
            "Iterations 28 => Loss (MSE): 623.447742 \n",
            "Iterations 29 => Loss (MSE): 617.196741 \n",
            "Iterations 30 => Loss (MSE): 610.981187 \n",
            "Iterations 31 => Loss (MSE): 604.801077 \n",
            "Iterations 32 => Loss (MSE): 598.656414 \n",
            "Iterations 33 => Loss (MSE): 592.547196 \n",
            "Iterations 34 => Loss (MSE): 586.473423 \n",
            "Iterations 35 => Loss (MSE): 580.435097 \n",
            "Iterations 36 => Loss (MSE): 574.432215 \n",
            "Iterations 37 => Loss (MSE): 568.464780 \n",
            "Iterations 38 => Loss (MSE): 562.532790 \n",
            "Iterations 39 => Loss (MSE): 556.636245 \n",
            "Iterations 40 => Loss (MSE): 550.775147 \n",
            "Iterations 41 => Loss (MSE): 544.949493 \n",
            "Iterations 42 => Loss (MSE): 539.159286 \n",
            "Iterations 43 => Loss (MSE): 533.404524 \n",
            "Iterations 44 => Loss (MSE): 527.685207 \n",
            "Iterations 45 => Loss (MSE): 522.001337 \n",
            "Iterations 46 => Loss (MSE): 516.352911 \n",
            "Iterations 47 => Loss (MSE): 510.739932 \n",
            "Iterations 48 => Loss (MSE): 505.162398 \n",
            "Iterations 49 => Loss (MSE): 499.620309 \n",
            "Iterations 50 => Loss (MSE): 494.113667 \n",
            "Iterations 51 => Loss (MSE): 488.642469 \n",
            "Iterations 52 => Loss (MSE): 483.206718 \n",
            "Iterations 53 => Loss (MSE): 477.806412 \n",
            "Iterations 54 => Loss (MSE): 472.441551 \n",
            "Iterations 55 => Loss (MSE): 467.112137 \n",
            "Iterations 56 => Loss (MSE): 461.818167 \n",
            "Iterations 57 => Loss (MSE): 456.559644 \n",
            "Iterations 58 => Loss (MSE): 451.336566 \n",
            "Iterations 59 => Loss (MSE): 446.148933 \n",
            "Iterations 60 => Loss (MSE): 440.996747 \n",
            "Iterations 61 => Loss (MSE): 435.880005 \n",
            "Iterations 62 => Loss (MSE): 430.798710 \n",
            "Iterations 63 => Loss (MSE): 425.752860 \n",
            "Iterations 64 => Loss (MSE): 420.742455 \n",
            "Iterations 65 => Loss (MSE): 415.767497 \n",
            "Iterations 66 => Loss (MSE): 410.827983 \n",
            "Iterations 67 => Loss (MSE): 405.923916 \n",
            "Iterations 68 => Loss (MSE): 401.055294 \n",
            "Iterations 69 => Loss (MSE): 396.222117 \n",
            "Iterations 70 => Loss (MSE): 391.424387 \n",
            "Iterations 71 => Loss (MSE): 386.662101 \n",
            "Iterations 72 => Loss (MSE): 381.935262 \n",
            "Iterations 73 => Loss (MSE): 377.243868 \n",
            "Iterations 74 => Loss (MSE): 372.587919 \n",
            "Iterations 75 => Loss (MSE): 367.967417 \n",
            "Iterations 76 => Loss (MSE): 363.382359 \n",
            "Iterations 77 => Loss (MSE): 358.832748 \n",
            "Iterations 78 => Loss (MSE): 354.318582 \n",
            "Iterations 79 => Loss (MSE): 349.839861 \n",
            "Iterations 80 => Loss (MSE): 345.396587 \n",
            "Iterations 81 => Loss (MSE): 340.988757 \n",
            "Iterations 82 => Loss (MSE): 336.616374 \n",
            "Iterations 83 => Loss (MSE): 332.279436 \n",
            "Iterations 84 => Loss (MSE): 327.977943 \n",
            "Iterations 85 => Loss (MSE): 323.711897 \n",
            "Iterations 86 => Loss (MSE): 319.481295 \n",
            "Iterations 87 => Loss (MSE): 315.286140 \n",
            "Iterations 88 => Loss (MSE): 311.126430 \n",
            "Iterations 89 => Loss (MSE): 307.002165 \n",
            "Iterations 90 => Loss (MSE): 302.913347 \n",
            "Iterations 91 => Loss (MSE): 298.859973 \n",
            "Iterations 92 => Loss (MSE): 294.842046 \n",
            "Iterations 93 => Loss (MSE): 290.859564 \n",
            "Iterations 94 => Loss (MSE): 286.912527 \n",
            "Iterations 95 => Loss (MSE): 283.000937 \n",
            "Iterations 96 => Loss (MSE): 279.124791 \n",
            "Iterations 97 => Loss (MSE): 275.284092 \n",
            "Iterations 98 => Loss (MSE): 271.478838 \n",
            "Iterations 99 => Loss (MSE): 267.709029 \n",
            "Iterations 100 => Loss (MSE): 263.974667 \n",
            "Iterations 101 => Loss (MSE): 260.275749 \n",
            "Iterations 102 => Loss (MSE): 256.612278 \n",
            "Iterations 103 => Loss (MSE): 252.984252 \n",
            "Iterations 104 => Loss (MSE): 249.391671 \n",
            "Iterations 105 => Loss (MSE): 245.834537 \n",
            "Iterations 106 => Loss (MSE): 242.312847 \n",
            "Iterations 107 => Loss (MSE): 238.826604 \n",
            "Iterations 108 => Loss (MSE): 235.375806 \n",
            "Iterations 109 => Loss (MSE): 231.960453 \n",
            "Iterations 110 => Loss (MSE): 228.580547 \n",
            "Iterations 111 => Loss (MSE): 225.236085 \n",
            "Iterations 112 => Loss (MSE): 221.927070 \n",
            "Iterations 113 => Loss (MSE): 218.653500 \n",
            "Iterations 114 => Loss (MSE): 215.415375 \n",
            "Iterations 115 => Loss (MSE): 212.212697 \n",
            "Iterations 116 => Loss (MSE): 209.045463 \n",
            "Iterations 117 => Loss (MSE): 205.913676 \n",
            "Iterations 118 => Loss (MSE): 202.817334 \n",
            "Iterations 119 => Loss (MSE): 199.756437 \n",
            "Iterations 120 => Loss (MSE): 196.730987 \n",
            "Iterations 121 => Loss (MSE): 193.740981 \n",
            "Iterations 122 => Loss (MSE): 190.786422 \n",
            "Iterations 123 => Loss (MSE): 187.867308 \n",
            "Iterations 124 => Loss (MSE): 184.983639 \n",
            "Iterations 125 => Loss (MSE): 182.135417 \n",
            "Iterations 126 => Loss (MSE): 179.322639 \n",
            "Iterations 127 => Loss (MSE): 176.545308 \n",
            "Iterations 128 => Loss (MSE): 173.803422 \n",
            "Iterations 129 => Loss (MSE): 171.096981 \n",
            "Iterations 130 => Loss (MSE): 168.425987 \n",
            "Iterations 131 => Loss (MSE): 165.790437 \n",
            "Iterations 132 => Loss (MSE): 163.190334 \n",
            "Iterations 133 => Loss (MSE): 160.625676 \n",
            "Iterations 134 => Loss (MSE): 158.096463 \n",
            "Iterations 135 => Loss (MSE): 155.602697 \n",
            "Iterations 136 => Loss (MSE): 153.144375 \n",
            "Iterations 137 => Loss (MSE): 150.721500 \n",
            "Iterations 138 => Loss (MSE): 148.334070 \n",
            "Iterations 139 => Loss (MSE): 145.982085 \n",
            "Iterations 140 => Loss (MSE): 143.665547 \n",
            "Iterations 141 => Loss (MSE): 141.384453 \n",
            "Iterations 142 => Loss (MSE): 139.138806 \n",
            "Iterations 143 => Loss (MSE): 136.928604 \n",
            "Iterations 144 => Loss (MSE): 134.753847 \n",
            "Iterations 145 => Loss (MSE): 132.614537 \n",
            "Iterations 146 => Loss (MSE): 130.510671 \n",
            "Iterations 147 => Loss (MSE): 128.442252 \n",
            "Iterations 148 => Loss (MSE): 126.409278 \n",
            "Iterations 149 => Loss (MSE): 124.411749 \n",
            "Iterations 150 => Loss (MSE): 122.449667 \n",
            "Iterations 151 => Loss (MSE): 120.523029 \n",
            "Iterations 152 => Loss (MSE): 118.631838 \n",
            "Iterations 153 => Loss (MSE): 116.776092 \n",
            "Iterations 154 => Loss (MSE): 114.955791 \n",
            "Iterations 155 => Loss (MSE): 113.170937 \n",
            "Iterations 156 => Loss (MSE): 111.421527 \n",
            "Iterations 157 => Loss (MSE): 109.707564 \n",
            "Iterations 158 => Loss (MSE): 108.029046 \n",
            "Iterations 159 => Loss (MSE): 106.385973 \n",
            "Iterations 160 => Loss (MSE): 104.778347 \n",
            "Iterations 161 => Loss (MSE): 103.206165 \n",
            "Iterations 162 => Loss (MSE): 101.669430 \n",
            "Iterations 163 => Loss (MSE): 100.168140 \n",
            "Iterations 164 => Loss (MSE): 98.702295 \n",
            "Iterations 165 => Loss (MSE): 97.271897 \n",
            "Iterations 166 => Loss (MSE): 95.876943 \n",
            "Iterations 167 => Loss (MSE): 94.517436 \n",
            "Iterations 168 => Loss (MSE): 93.193374 \n",
            "Iterations 169 => Loss (MSE): 91.904757 \n",
            "Iterations 170 => Loss (MSE): 90.651587 \n",
            "Iterations 171 => Loss (MSE): 89.433861 \n",
            "Iterations 172 => Loss (MSE): 88.251582 \n",
            "Iterations 173 => Loss (MSE): 87.104748 \n",
            "Iterations 174 => Loss (MSE): 85.993359 \n",
            "Iterations 175 => Loss (MSE): 84.917417 \n",
            "Iterations 176 => Loss (MSE): 83.876919 \n",
            "Iterations 177 => Loss (MSE): 82.871868 \n",
            "Iterations 178 => Loss (MSE): 81.902262 \n",
            "Iterations 179 => Loss (MSE): 80.968101 \n",
            "Iterations 180 => Loss (MSE): 80.069387 \n",
            "Iterations 181 => Loss (MSE): 79.206117 \n",
            "Iterations 182 => Loss (MSE): 78.378294 \n",
            "Iterations 183 => Loss (MSE): 77.585916 \n",
            "Iterations 184 => Loss (MSE): 76.828983 \n",
            "Iterations 185 => Loss (MSE): 76.107497 \n",
            "Iterations 186 => Loss (MSE): 75.421455 \n",
            "Iterations 187 => Loss (MSE): 74.770860 \n",
            "Iterations 188 => Loss (MSE): 74.155710 \n",
            "Iterations 189 => Loss (MSE): 73.576005 \n",
            "Iterations 190 => Loss (MSE): 73.031747 \n",
            "Iterations 191 => Loss (MSE): 72.522933 \n",
            "Iterations 192 => Loss (MSE): 72.049566 \n",
            "Iterations 193 => Loss (MSE): 71.611644 \n",
            "Iterations 194 => Loss (MSE): 71.209167 \n",
            "Iterations 195 => Loss (MSE): 70.842137 \n",
            "Iterations 196 => Loss (MSE): 70.510551 \n",
            "Iterations 197 => Loss (MSE): 70.214412 \n",
            "Iterations 198 => Loss (MSE): 69.953718 \n",
            "Iterations 199 => Loss (MSE): 69.728469 \n",
            "Iterations 200 => Loss (MSE): 69.538667 \n",
            "Iterations 201 => Loss (MSE): 69.384309 \n",
            "Iterations 202 => Loss (MSE): 69.265398 \n",
            "Iterations 203 => Loss (MSE): 69.181932 \n",
            "Iterations 204 => Loss (MSE): 69.133911 \n",
            "Iterations 205 => Loss (MSE): 69.121337 \n",
            "Best w: 1.844999999999991\n",
            "1.844999999999991\n"
          ]
        }
      ]
    },
    {
      "cell_type": "markdown",
      "source": [
        "Success! The loss decreased at each iteration, until the algorithm gave up at\n",
        "squeezing it further. The weight at that point is $w=1.844$, so that’s the number of pizzas that Roberto can expect to sell for each reservation. "
      ],
      "metadata": {
        "id": "5-2Bqf3J8Mbm"
      }
    },
    {
      "cell_type": "code",
      "source": [
        "y_line = w*x_line\n",
        "\n",
        "plt.figure()\n",
        "plt.scatter(X,Y)\n",
        "plt.plot(x_line,y_line, 'r')\n",
        "plt.xlabel('Number of reservations')\n",
        "plt.ylabel('Number of pizzas')\n",
        "plt.show()"
      ],
      "metadata": {
        "id": "srMySDaq9iR9",
        "colab": {
          "base_uri": "https://localhost:8080/",
          "height": 285
        },
        "outputId": "44854bcd-f5df-4117-dcc3-36e0d66b19c3"
      },
      "execution_count": null,
      "outputs": [
        {
          "output_type": "display_data",
          "data": {
            "text/plain": [
              "<Figure size 432x288 with 1 Axes>"
            ],
            "image/png": "[encoded data removed]"
          },
          "metadata": {}
        }
      ]
    },
    {
      "cell_type": "markdown",
      "source": [
        "Look at the chart we just plotted. Our line is not quite the best approximation of the examples, is it? The perfect line would have less slope, and it wouldn’t pass by the origin. Give or take, it would cross the “Pizzas” axis around the value of 10."
      ],
      "metadata": {
        "id": "oOCXusiVWyQF"
      }
    },
    {
      "cell_type": "markdown",
      "source": [
        "## Adding a Bias"
      ],
      "metadata": {
        "id": "BuXGOlH9l39k"
      }
    },
    {
      "cell_type": "markdown",
      "source": [
        "So far, we forced the line to pass by the origin to keep our model as simple as we could. It’s time to remove that constraint. To draw a line that is not constrained to pass by the origin, we need one more parameter in our model:\n",
        "\n",
        "$\\hat{y} = w*x + b$\n",
        "\n",
        "Remember we just saw this classic slope-intercept line equation: $y = mx + b$\n",
        "\n",
        "Using the ML vocabulary we will call them:\n",
        "\n",
        "* $w$ : weight\n",
        "* $b$ : bias"
      ],
      "metadata": {
        "id": "9WRDgase_G-7"
      }
    },
    {
      "cell_type": "markdown",
      "source": [
        "Intuitively, the bias measures the “shift” of the line up or down the chart, as shown in the slide. The line crosses the $y$ axis at a value equal to $b$. If the bias happens to be 0, then we’re back at our previous case, with a\n",
        "line passing by the origin."
      ],
      "metadata": {
        "id": "Anme_WE0AE80"
      }
    },
    {
      "cell_type": "markdown",
      "source": [
        "Let's add the bias parameter $b$ to our training function..."
      ],
      "metadata": {
        "id": "O6wm4u2HAqoB"
      }
    },
    {
      "cell_type": "code",
      "source": [
        "def predict(X, w, b):\n",
        "  return X * w + b"
      ],
      "metadata": {
        "id": "ed7aNV1Pltah"
      },
      "execution_count": null,
      "outputs": []
    },
    {
      "cell_type": "code",
      "source": [
        "def loss(X, Y, w, b):\n",
        "  return np.mean((predict(X, w, b) - Y ) **2)"
      ],
      "metadata": {
        "id": "ejw2ZXFzBBwZ"
      },
      "execution_count": null,
      "outputs": []
    },
    {
      "cell_type": "code",
      "source": [
        "def train(X, Y, iterations, lr):\n",
        "  w = 0\n",
        "  b = 0 \n",
        "  for i in range(iterations):\n",
        "    current_loss = loss(X, Y, w, b)\n",
        "    print(f'Iterations {i} => Loss (MSE): {current_loss:.6f} ')\n",
        "    if loss(X, Y, w + lr, b) < current_loss:\n",
        "      w += lr\n",
        "    elif loss(X, Y, w - lr, b) < current_loss:\n",
        "      w -= lr\n",
        "    elif loss(X, Y, w , b + lr) < current_loss:\n",
        "      b += lr\n",
        "    elif loss(X, Y, w , b - lr) < current_loss:\n",
        "      b -= lr\n",
        "    else:\n",
        "      print(f'Best w: {w}, Best b: {b}')\n",
        "      return w, b\n",
        "  raise Exception(f'Couldn\\'t coverge within {iterations} iterations')"
      ],
      "metadata": {
        "id": "jk4RxXi_BEiH"
      },
      "execution_count": null,
      "outputs": []
    },
    {
      "cell_type": "markdown",
      "source": [
        "Let's use the new function!!! What do you think it will happen to the last loss function value???\n"
      ],
      "metadata": {
        "id": "IGrPP2eeBrBw"
      }
    },
    {
      "cell_type": "code",
      "source": [
        "w, b = train(X, Y, iterations= 10000, lr = 0.01)"
      ],
      "metadata": {
        "id": "3hYUE9e-Bosl",
        "colab": {
          "base_uri": "https://localhost:8080/"
        },
        "outputId": "dfaa47e6-6c84-4e7e-9e9d-d7aeb0b05291"
      },
      "execution_count": null,
      "outputs": [
        {
          "output_type": "stream",
          "name": "stdout",
          "text": [
            "Iterations 0 => Loss (MSE): 812.866667 \n",
            "Iterations 1 => Loss (MSE): 804.820547 \n",
            "Iterations 2 => Loss (MSE): 796.818187 \n",
            "Iterations 3 => Loss (MSE): 788.859587 \n",
            "Iterations 4 => Loss (MSE): 780.944747 \n",
            "Iterations 5 => Loss (MSE): 773.073667 \n",
            "Iterations 6 => Loss (MSE): 765.246347 \n",
            "Iterations 7 => Loss (MSE): 757.462787 \n",
            "Iterations 8 => Loss (MSE): 749.722987 \n",
            "Iterations 9 => Loss (MSE): 742.026947 \n",
            "Iterations 10 => Loss (MSE): 734.374667 \n",
            "Iterations 11 => Loss (MSE): 726.766147 \n",
            "Iterations 12 => Loss (MSE): 719.201387 \n",
            "Iterations 13 => Loss (MSE): 711.680387 \n",
            "Iterations 14 => Loss (MSE): 704.203147 \n",
            "Iterations 15 => Loss (MSE): 696.769667 \n",
            "Iterations 16 => Loss (MSE): 689.379947 \n",
            "Iterations 17 => Loss (MSE): 682.033987 \n",
            "Iterations 18 => Loss (MSE): 674.731787 \n",
            "Iterations 19 => Loss (MSE): 667.473347 \n",
            "Iterations 20 => Loss (MSE): 660.258667 \n",
            "Iterations 21 => Loss (MSE): 653.087747 \n",
            "Iterations 22 => Loss (MSE): 645.960587 \n",
            "Iterations 23 => Loss (MSE): 638.877187 \n",
            "Iterations 24 => Loss (MSE): 631.837547 \n",
            "Iterations 25 => Loss (MSE): 624.841667 \n",
            "Iterations 26 => Loss (MSE): 617.889547 \n",
            "Iterations 27 => Loss (MSE): 610.981187 \n",
            "Iterations 28 => Loss (MSE): 604.116587 \n",
            "Iterations 29 => Loss (MSE): 597.295747 \n",
            "Iterations 30 => Loss (MSE): 590.518667 \n",
            "Iterations 31 => Loss (MSE): 583.785347 \n",
            "Iterations 32 => Loss (MSE): 577.095787 \n",
            "Iterations 33 => Loss (MSE): 570.449987 \n",
            "Iterations 34 => Loss (MSE): 563.847947 \n",
            "Iterations 35 => Loss (MSE): 557.289667 \n",
            "Iterations 36 => Loss (MSE): 550.775147 \n",
            "Iterations 37 => Loss (MSE): 544.304387 \n",
            "Iterations 38 => Loss (MSE): 537.877387 \n",
            "Iterations 39 => Loss (MSE): 531.494147 \n",
            "Iterations 40 => Loss (MSE): 525.154667 \n",
            "Iterations 41 => Loss (MSE): 518.858947 \n",
            "Iterations 42 => Loss (MSE): 512.606987 \n",
            "Iterations 43 => Loss (MSE): 506.398787 \n",
            "Iterations 44 => Loss (MSE): 500.234347 \n",
            "Iterations 45 => Loss (MSE): 494.113667 \n",
            "Iterations 46 => Loss (MSE): 488.036747 \n",
            "Iterations 47 => Loss (MSE): 482.003587 \n",
            "Iterations 48 => Loss (MSE): 476.014187 \n",
            "Iterations 49 => Loss (MSE): 470.068547 \n",
            "Iterations 50 => Loss (MSE): 464.166667 \n",
            "Iterations 51 => Loss (MSE): 458.308547 \n",
            "Iterations 52 => Loss (MSE): 452.494187 \n",
            "Iterations 53 => Loss (MSE): 446.723587 \n",
            "Iterations 54 => Loss (MSE): 440.996747 \n",
            "Iterations 55 => Loss (MSE): 435.313667 \n",
            "Iterations 56 => Loss (MSE): 429.674347 \n",
            "Iterations 57 => Loss (MSE): 424.078787 \n",
            "Iterations 58 => Loss (MSE): 418.526987 \n",
            "Iterations 59 => Loss (MSE): 413.018947 \n",
            "Iterations 60 => Loss (MSE): 407.554667 \n",
            "Iterations 61 => Loss (MSE): 402.134147 \n",
            "Iterations 62 => Loss (MSE): 396.757387 \n",
            "Iterations 63 => Loss (MSE): 391.424387 \n",
            "Iterations 64 => Loss (MSE): 386.135147 \n",
            "Iterations 65 => Loss (MSE): 380.889667 \n",
            "Iterations 66 => Loss (MSE): 375.687947 \n",
            "Iterations 67 => Loss (MSE): 370.529987 \n",
            "Iterations 68 => Loss (MSE): 365.415787 \n",
            "Iterations 69 => Loss (MSE): 360.345347 \n",
            "Iterations 70 => Loss (MSE): 355.318667 \n",
            "Iterations 71 => Loss (MSE): 350.335747 \n",
            "Iterations 72 => Loss (MSE): 345.396587 \n",
            "Iterations 73 => Loss (MSE): 340.501187 \n",
            "Iterations 74 => Loss (MSE): 335.649547 \n",
            "Iterations 75 => Loss (MSE): 330.841667 \n",
            "Iterations 76 => Loss (MSE): 326.077547 \n",
            "Iterations 77 => Loss (MSE): 321.357187 \n",
            "Iterations 78 => Loss (MSE): 316.680587 \n",
            "Iterations 79 => Loss (MSE): 312.047747 \n",
            "Iterations 80 => Loss (MSE): 307.458667 \n",
            "Iterations 81 => Loss (MSE): 302.913347 \n",
            "Iterations 82 => Loss (MSE): 298.411787 \n",
            "Iterations 83 => Loss (MSE): 293.953987 \n",
            "Iterations 84 => Loss (MSE): 289.539947 \n",
            "Iterations 85 => Loss (MSE): 285.169667 \n",
            "Iterations 86 => Loss (MSE): 280.843147 \n",
            "Iterations 87 => Loss (MSE): 276.560387 \n",
            "Iterations 88 => Loss (MSE): 272.321387 \n",
            "Iterations 89 => Loss (MSE): 268.126147 \n",
            "Iterations 90 => Loss (MSE): 263.974667 \n",
            "Iterations 91 => Loss (MSE): 259.866947 \n",
            "Iterations 92 => Loss (MSE): 255.802987 \n",
            "Iterations 93 => Loss (MSE): 251.782787 \n",
            "Iterations 94 => Loss (MSE): 247.806347 \n",
            "Iterations 95 => Loss (MSE): 243.873667 \n",
            "Iterations 96 => Loss (MSE): 239.984747 \n",
            "Iterations 97 => Loss (MSE): 236.139587 \n",
            "Iterations 98 => Loss (MSE): 232.338187 \n",
            "Iterations 99 => Loss (MSE): 228.580547 \n",
            "Iterations 100 => Loss (MSE): 224.866667 \n",
            "Iterations 101 => Loss (MSE): 221.196547 \n",
            "Iterations 102 => Loss (MSE): 217.570187 \n",
            "Iterations 103 => Loss (MSE): 213.987587 \n",
            "Iterations 104 => Loss (MSE): 210.448747 \n",
            "Iterations 105 => Loss (MSE): 206.953667 \n",
            "Iterations 106 => Loss (MSE): 203.502347 \n",
            "Iterations 107 => Loss (MSE): 200.094787 \n",
            "Iterations 108 => Loss (MSE): 196.730987 \n",
            "Iterations 109 => Loss (MSE): 193.410947 \n",
            "Iterations 110 => Loss (MSE): 190.134667 \n",
            "Iterations 111 => Loss (MSE): 186.902147 \n",
            "Iterations 112 => Loss (MSE): 183.713387 \n",
            "Iterations 113 => Loss (MSE): 180.568387 \n",
            "Iterations 114 => Loss (MSE): 177.467147 \n",
            "Iterations 115 => Loss (MSE): 174.409667 \n",
            "Iterations 116 => Loss (MSE): 171.395947 \n",
            "Iterations 117 => Loss (MSE): 168.425987 \n",
            "Iterations 118 => Loss (MSE): 165.499787 \n",
            "Iterations 119 => Loss (MSE): 162.617347 \n",
            "Iterations 120 => Loss (MSE): 159.778667 \n",
            "Iterations 121 => Loss (MSE): 156.983747 \n",
            "Iterations 122 => Loss (MSE): 154.232587 \n",
            "Iterations 123 => Loss (MSE): 151.525187 \n",
            "Iterations 124 => Loss (MSE): 148.861547 \n",
            "Iterations 125 => Loss (MSE): 146.241667 \n",
            "Iterations 126 => Loss (MSE): 143.665547 \n",
            "Iterations 127 => Loss (MSE): 141.133187 \n",
            "Iterations 128 => Loss (MSE): 138.644587 \n",
            "Iterations 129 => Loss (MSE): 136.199747 \n",
            "Iterations 130 => Loss (MSE): 133.798667 \n",
            "Iterations 131 => Loss (MSE): 131.441347 \n",
            "Iterations 132 => Loss (MSE): 129.127787 \n",
            "Iterations 133 => Loss (MSE): 126.857987 \n",
            "Iterations 134 => Loss (MSE): 124.631947 \n",
            "Iterations 135 => Loss (MSE): 122.449667 \n",
            "Iterations 136 => Loss (MSE): 120.311147 \n",
            "Iterations 137 => Loss (MSE): 118.216387 \n",
            "Iterations 138 => Loss (MSE): 116.165387 \n",
            "Iterations 139 => Loss (MSE): 114.158147 \n",
            "Iterations 140 => Loss (MSE): 112.194667 \n",
            "Iterations 141 => Loss (MSE): 110.274947 \n",
            "Iterations 142 => Loss (MSE): 108.398987 \n",
            "Iterations 143 => Loss (MSE): 106.566787 \n",
            "Iterations 144 => Loss (MSE): 104.778347 \n",
            "Iterations 145 => Loss (MSE): 103.033667 \n",
            "Iterations 146 => Loss (MSE): 101.332747 \n",
            "Iterations 147 => Loss (MSE): 99.675587 \n",
            "Iterations 148 => Loss (MSE): 98.062187 \n",
            "Iterations 149 => Loss (MSE): 96.492547 \n",
            "Iterations 150 => Loss (MSE): 94.966667 \n",
            "Iterations 151 => Loss (MSE): 93.484547 \n",
            "Iterations 152 => Loss (MSE): 92.046187 \n",
            "Iterations 153 => Loss (MSE): 90.651587 \n",
            "Iterations 154 => Loss (MSE): 89.300747 \n",
            "Iterations 155 => Loss (MSE): 87.993667 \n",
            "Iterations 156 => Loss (MSE): 86.730347 \n",
            "Iterations 157 => Loss (MSE): 85.510787 \n",
            "Iterations 158 => Loss (MSE): 84.334987 \n",
            "Iterations 159 => Loss (MSE): 83.202947 \n",
            "Iterations 160 => Loss (MSE): 82.114667 \n",
            "Iterations 161 => Loss (MSE): 81.070147 \n",
            "Iterations 162 => Loss (MSE): 80.069387 \n",
            "Iterations 163 => Loss (MSE): 79.112387 \n",
            "Iterations 164 => Loss (MSE): 78.199147 \n",
            "Iterations 165 => Loss (MSE): 77.329667 \n",
            "Iterations 166 => Loss (MSE): 76.503947 \n",
            "Iterations 167 => Loss (MSE): 75.721987 \n",
            "Iterations 168 => Loss (MSE): 74.983787 \n",
            "Iterations 169 => Loss (MSE): 74.289347 \n",
            "Iterations 170 => Loss (MSE): 73.638667 \n",
            "Iterations 171 => Loss (MSE): 73.031747 \n",
            "Iterations 172 => Loss (MSE): 72.468587 \n",
            "Iterations 173 => Loss (MSE): 71.949187 \n",
            "Iterations 174 => Loss (MSE): 71.473547 \n",
            "Iterations 175 => Loss (MSE): 71.041667 \n",
            "Iterations 176 => Loss (MSE): 70.653547 \n",
            "Iterations 177 => Loss (MSE): 70.309187 \n",
            "Iterations 178 => Loss (MSE): 70.008587 \n",
            "Iterations 179 => Loss (MSE): 69.751747 \n",
            "Iterations 180 => Loss (MSE): 69.538667 \n",
            "Iterations 181 => Loss (MSE): 69.369347 \n",
            "Iterations 182 => Loss (MSE): 69.243787 \n",
            "Iterations 183 => Loss (MSE): 69.161987 \n",
            "Iterations 184 => Loss (MSE): 69.123947 \n",
            "Iterations 185 => Loss (MSE): 69.052847 \n",
            "Iterations 186 => Loss (MSE): 68.981947 \n",
            "Iterations 187 => Loss (MSE): 68.911247 \n",
            "Iterations 188 => Loss (MSE): 68.840747 \n",
            "Iterations 189 => Loss (MSE): 68.770447 \n",
            "Iterations 190 => Loss (MSE): 68.700347 \n",
            "Iterations 191 => Loss (MSE): 68.630447 \n",
            "Iterations 192 => Loss (MSE): 68.560747 \n",
            "Iterations 193 => Loss (MSE): 68.491247 \n",
            "Iterations 194 => Loss (MSE): 68.421947 \n",
            "Iterations 195 => Loss (MSE): 68.352847 \n",
            "Iterations 196 => Loss (MSE): 68.283947 \n",
            "Iterations 197 => Loss (MSE): 68.215247 \n",
            "Iterations 198 => Loss (MSE): 68.146747 \n",
            "Iterations 199 => Loss (MSE): 68.078447 \n",
            "Iterations 200 => Loss (MSE): 68.010347 \n",
            "Iterations 201 => Loss (MSE): 68.007853 \n",
            "Iterations 202 => Loss (MSE): 67.937420 \n",
            "Iterations 203 => Loss (MSE): 67.867187 \n",
            "Iterations 204 => Loss (MSE): 67.797153 \n",
            "Iterations 205 => Loss (MSE): 67.727320 \n",
            "Iterations 206 => Loss (MSE): 67.657687 \n",
            "Iterations 207 => Loss (MSE): 67.588253 \n",
            "Iterations 208 => Loss (MSE): 67.519020 \n",
            "Iterations 209 => Loss (MSE): 67.449987 \n",
            "Iterations 210 => Loss (MSE): 67.381153 \n",
            "Iterations 211 => Loss (MSE): 67.312520 \n",
            "Iterations 212 => Loss (MSE): 67.244087 \n",
            "Iterations 213 => Loss (MSE): 67.175853 \n",
            "Iterations 214 => Loss (MSE): 67.107820 \n",
            "Iterations 215 => Loss (MSE): 67.039987 \n",
            "Iterations 216 => Loss (MSE): 66.972353 \n",
            "Iterations 217 => Loss (MSE): 66.904920 \n",
            "Iterations 218 => Loss (MSE): 66.837687 \n",
            "Iterations 219 => Loss (MSE): 66.835887 \n",
            "Iterations 220 => Loss (MSE): 66.766320 \n",
            "Iterations 221 => Loss (MSE): 66.696953 \n",
            "Iterations 222 => Loss (MSE): 66.627787 \n",
            "Iterations 223 => Loss (MSE): 66.558820 \n",
            "Iterations 224 => Loss (MSE): 66.490053 \n",
            "Iterations 225 => Loss (MSE): 66.421487 \n",
            "Iterations 226 => Loss (MSE): 66.353120 \n",
            "Iterations 227 => Loss (MSE): 66.284953 \n",
            "Iterations 228 => Loss (MSE): 66.216987 \n",
            "Iterations 229 => Loss (MSE): 66.149220 \n",
            "Iterations 230 => Loss (MSE): 66.081653 \n",
            "Iterations 231 => Loss (MSE): 66.014287 \n",
            "Iterations 232 => Loss (MSE): 65.947120 \n",
            "Iterations 233 => Loss (MSE): 65.880153 \n",
            "Iterations 234 => Loss (MSE): 65.813387 \n",
            "Iterations 235 => Loss (MSE): 65.746820 \n",
            "Iterations 236 => Loss (MSE): 65.680453 \n",
            "Iterations 237 => Loss (MSE): 65.679347 \n",
            "Iterations 238 => Loss (MSE): 65.610647 \n",
            "Iterations 239 => Loss (MSE): 65.542147 \n",
            "Iterations 240 => Loss (MSE): 65.473847 \n",
            "Iterations 241 => Loss (MSE): 65.405747 \n",
            "Iterations 242 => Loss (MSE): 65.337847 \n",
            "Iterations 243 => Loss (MSE): 65.270147 \n",
            "Iterations 244 => Loss (MSE): 65.202647 \n",
            "Iterations 245 => Loss (MSE): 65.135347 \n",
            "Iterations 246 => Loss (MSE): 65.068247 \n",
            "Iterations 247 => Loss (MSE): 65.001347 \n",
            "Iterations 248 => Loss (MSE): 64.934647 \n",
            "Iterations 249 => Loss (MSE): 64.868147 \n",
            "Iterations 250 => Loss (MSE): 64.801847 \n",
            "Iterations 251 => Loss (MSE): 64.735747 \n",
            "Iterations 252 => Loss (MSE): 64.669847 \n",
            "Iterations 253 => Loss (MSE): 64.604147 \n",
            "Iterations 254 => Loss (MSE): 64.538647 \n",
            "Iterations 255 => Loss (MSE): 64.538233 \n",
            "Iterations 256 => Loss (MSE): 64.470400 \n",
            "Iterations 257 => Loss (MSE): 64.402767 \n",
            "Iterations 258 => Loss (MSE): 64.335333 \n",
            "Iterations 259 => Loss (MSE): 64.268100 \n",
            "Iterations 260 => Loss (MSE): 64.201067 \n",
            "Iterations 261 => Loss (MSE): 64.134233 \n",
            "Iterations 262 => Loss (MSE): 64.067600 \n",
            "Iterations 263 => Loss (MSE): 64.001167 \n",
            "Iterations 264 => Loss (MSE): 63.934933 \n",
            "Iterations 265 => Loss (MSE): 63.868900 \n",
            "Iterations 266 => Loss (MSE): 63.803067 \n",
            "Iterations 267 => Loss (MSE): 63.737433 \n",
            "Iterations 268 => Loss (MSE): 63.672000 \n",
            "Iterations 269 => Loss (MSE): 63.606767 \n",
            "Iterations 270 => Loss (MSE): 63.541733 \n",
            "Iterations 271 => Loss (MSE): 63.476900 \n",
            "Iterations 272 => Loss (MSE): 63.412267 \n",
            "Iterations 273 => Loss (MSE): 63.347833 \n",
            "Iterations 274 => Loss (MSE): 63.345580 \n",
            "Iterations 275 => Loss (MSE): 63.278813 \n",
            "Iterations 276 => Loss (MSE): 63.212247 \n",
            "Iterations 277 => Loss (MSE): 63.145880 \n",
            "Iterations 278 => Loss (MSE): 63.079713 \n",
            "Iterations 279 => Loss (MSE): 63.013747 \n",
            "Iterations 280 => Loss (MSE): 62.947980 \n",
            "Iterations 281 => Loss (MSE): 62.882413 \n",
            "Iterations 282 => Loss (MSE): 62.817047 \n",
            "Iterations 283 => Loss (MSE): 62.751880 \n",
            "Iterations 284 => Loss (MSE): 62.686913 \n",
            "Iterations 285 => Loss (MSE): 62.622147 \n",
            "Iterations 286 => Loss (MSE): 62.557580 \n",
            "Iterations 287 => Loss (MSE): 62.493213 \n",
            "Iterations 288 => Loss (MSE): 62.429047 \n",
            "Iterations 289 => Loss (MSE): 62.365080 \n",
            "Iterations 290 => Loss (MSE): 62.301313 \n",
            "Iterations 291 => Loss (MSE): 62.237747 \n",
            "Iterations 292 => Loss (MSE): 62.236187 \n",
            "Iterations 293 => Loss (MSE): 62.170287 \n",
            "Iterations 294 => Loss (MSE): 62.104587 \n",
            "Iterations 295 => Loss (MSE): 62.039087 \n",
            "Iterations 296 => Loss (MSE): 61.973787 \n",
            "Iterations 297 => Loss (MSE): 61.908687 \n",
            "Iterations 298 => Loss (MSE): 61.843787 \n",
            "Iterations 299 => Loss (MSE): 61.779087 \n",
            "Iterations 300 => Loss (MSE): 61.714587 \n",
            "Iterations 301 => Loss (MSE): 61.650287 \n",
            "Iterations 302 => Loss (MSE): 61.586187 \n",
            "Iterations 303 => Loss (MSE): 61.522287 \n",
            "Iterations 304 => Loss (MSE): 61.458587 \n",
            "Iterations 305 => Loss (MSE): 61.395087 \n",
            "Iterations 306 => Loss (MSE): 61.331787 \n",
            "Iterations 307 => Loss (MSE): 61.268687 \n",
            "Iterations 308 => Loss (MSE): 61.205787 \n",
            "Iterations 309 => Loss (MSE): 61.143087 \n",
            "Iterations 310 => Loss (MSE): 61.142220 \n",
            "Iterations 311 => Loss (MSE): 61.077187 \n",
            "Iterations 312 => Loss (MSE): 61.012353 \n",
            "Iterations 313 => Loss (MSE): 60.947720 \n",
            "Iterations 314 => Loss (MSE): 60.883287 \n",
            "Iterations 315 => Loss (MSE): 60.819053 \n",
            "Iterations 316 => Loss (MSE): 60.755020 \n",
            "Iterations 317 => Loss (MSE): 60.691187 \n",
            "Iterations 318 => Loss (MSE): 60.627553 \n",
            "Iterations 319 => Loss (MSE): 60.564120 \n",
            "Iterations 320 => Loss (MSE): 60.500887 \n",
            "Iterations 321 => Loss (MSE): 60.437853 \n",
            "Iterations 322 => Loss (MSE): 60.375020 \n",
            "Iterations 323 => Loss (MSE): 60.312387 \n",
            "Iterations 324 => Loss (MSE): 60.249953 \n",
            "Iterations 325 => Loss (MSE): 60.187720 \n",
            "Iterations 326 => Loss (MSE): 60.125687 \n",
            "Iterations 327 => Loss (MSE): 60.063853 \n",
            "Iterations 328 => Loss (MSE): 60.063680 \n",
            "Iterations 329 => Loss (MSE): 59.999513 \n",
            "Iterations 330 => Loss (MSE): 59.935547 \n",
            "Iterations 331 => Loss (MSE): 59.871780 \n",
            "Iterations 332 => Loss (MSE): 59.808213 \n",
            "Iterations 333 => Loss (MSE): 59.744847 \n",
            "Iterations 334 => Loss (MSE): 59.681680 \n",
            "Iterations 335 => Loss (MSE): 59.618713 \n",
            "Iterations 336 => Loss (MSE): 59.555947 \n",
            "Iterations 337 => Loss (MSE): 59.493380 \n",
            "Iterations 338 => Loss (MSE): 59.431013 \n",
            "Iterations 339 => Loss (MSE): 59.368847 \n",
            "Iterations 340 => Loss (MSE): 59.306880 \n",
            "Iterations 341 => Loss (MSE): 59.245113 \n",
            "Iterations 342 => Loss (MSE): 59.183547 \n",
            "Iterations 343 => Loss (MSE): 59.122180 \n",
            "Iterations 344 => Loss (MSE): 59.061013 \n",
            "Iterations 345 => Loss (MSE): 59.000047 \n",
            "Iterations 346 => Loss (MSE): 58.939280 \n",
            "Iterations 347 => Loss (MSE): 58.937267 \n",
            "Iterations 348 => Loss (MSE): 58.874167 \n",
            "Iterations 349 => Loss (MSE): 58.811267 \n",
            "Iterations 350 => Loss (MSE): 58.748567 \n",
            "Iterations 351 => Loss (MSE): 58.686067 \n",
            "Iterations 352 => Loss (MSE): 58.623767 \n",
            "Iterations 353 => Loss (MSE): 58.561667 \n",
            "Iterations 354 => Loss (MSE): 58.499767 \n",
            "Iterations 355 => Loss (MSE): 58.438067 \n",
            "Iterations 356 => Loss (MSE): 58.376567 \n",
            "Iterations 357 => Loss (MSE): 58.315267 \n",
            "Iterations 358 => Loss (MSE): 58.254167 \n",
            "Iterations 359 => Loss (MSE): 58.193267 \n",
            "Iterations 360 => Loss (MSE): 58.132567 \n",
            "Iterations 361 => Loss (MSE): 58.072067 \n",
            "Iterations 362 => Loss (MSE): 58.011767 \n",
            "Iterations 363 => Loss (MSE): 57.951667 \n",
            "Iterations 364 => Loss (MSE): 57.891767 \n",
            "Iterations 365 => Loss (MSE): 57.890447 \n",
            "Iterations 366 => Loss (MSE): 57.828213 \n",
            "Iterations 367 => Loss (MSE): 57.766180 \n",
            "Iterations 368 => Loss (MSE): 57.704347 \n",
            "Iterations 369 => Loss (MSE): 57.642713 \n",
            "Iterations 370 => Loss (MSE): 57.581280 \n",
            "Iterations 371 => Loss (MSE): 57.520047 \n",
            "Iterations 372 => Loss (MSE): 57.459013 \n",
            "Iterations 373 => Loss (MSE): 57.398180 \n",
            "Iterations 374 => Loss (MSE): 57.337547 \n",
            "Iterations 375 => Loss (MSE): 57.277113 \n",
            "Iterations 376 => Loss (MSE): 57.216880 \n",
            "Iterations 377 => Loss (MSE): 57.156847 \n",
            "Iterations 378 => Loss (MSE): 57.097013 \n",
            "Iterations 379 => Loss (MSE): 57.037380 \n",
            "Iterations 380 => Loss (MSE): 56.977947 \n",
            "Iterations 381 => Loss (MSE): 56.918713 \n",
            "Iterations 382 => Loss (MSE): 56.859680 \n",
            "Iterations 383 => Loss (MSE): 56.859053 \n",
            "Iterations 384 => Loss (MSE): 56.797687 \n",
            "Iterations 385 => Loss (MSE): 56.736520 \n",
            "Iterations 386 => Loss (MSE): 56.675553 \n",
            "Iterations 387 => Loss (MSE): 56.614787 \n",
            "Iterations 388 => Loss (MSE): 56.554220 \n",
            "Iterations 389 => Loss (MSE): 56.493853 \n",
            "Iterations 390 => Loss (MSE): 56.433687 \n",
            "Iterations 391 => Loss (MSE): 56.373720 \n",
            "Iterations 392 => Loss (MSE): 56.313953 \n",
            "Iterations 393 => Loss (MSE): 56.254387 \n",
            "Iterations 394 => Loss (MSE): 56.195020 \n",
            "Iterations 395 => Loss (MSE): 56.135853 \n",
            "Iterations 396 => Loss (MSE): 56.076887 \n",
            "Iterations 397 => Loss (MSE): 56.018120 \n",
            "Iterations 398 => Loss (MSE): 55.959553 \n",
            "Iterations 399 => Loss (MSE): 55.901187 \n",
            "Iterations 400 => Loss (MSE): 55.843020 \n",
            "Iterations 401 => Loss (MSE): 55.785053 \n",
            "Iterations 402 => Loss (MSE): 55.782587 \n",
            "Iterations 403 => Loss (MSE): 55.722287 \n",
            "Iterations 404 => Loss (MSE): 55.662187 \n",
            "Iterations 405 => Loss (MSE): 55.602287 \n",
            "Iterations 406 => Loss (MSE): 55.542587 \n",
            "Iterations 407 => Loss (MSE): 55.483087 \n",
            "Iterations 408 => Loss (MSE): 55.423787 \n",
            "Iterations 409 => Loss (MSE): 55.364687 \n",
            "Iterations 410 => Loss (MSE): 55.305787 \n",
            "Iterations 411 => Loss (MSE): 55.247087 \n",
            "Iterations 412 => Loss (MSE): 55.188587 \n",
            "Iterations 413 => Loss (MSE): 55.130287 \n",
            "Iterations 414 => Loss (MSE): 55.072187 \n",
            "Iterations 415 => Loss (MSE): 55.014287 \n",
            "Iterations 416 => Loss (MSE): 54.956587 \n",
            "Iterations 417 => Loss (MSE): 54.899087 \n",
            "Iterations 418 => Loss (MSE): 54.841787 \n",
            "Iterations 419 => Loss (MSE): 54.784687 \n",
            "Iterations 420 => Loss (MSE): 54.782913 \n",
            "Iterations 421 => Loss (MSE): 54.723480 \n",
            "Iterations 422 => Loss (MSE): 54.664247 \n",
            "Iterations 423 => Loss (MSE): 54.605213 \n",
            "Iterations 424 => Loss (MSE): 54.546380 \n",
            "Iterations 425 => Loss (MSE): 54.487747 \n",
            "Iterations 426 => Loss (MSE): 54.429313 \n",
            "Iterations 427 => Loss (MSE): 54.371080 \n",
            "Iterations 428 => Loss (MSE): 54.313047 \n",
            "Iterations 429 => Loss (MSE): 54.255213 \n",
            "Iterations 430 => Loss (MSE): 54.197580 \n",
            "Iterations 431 => Loss (MSE): 54.140147 \n",
            "Iterations 432 => Loss (MSE): 54.082913 \n",
            "Iterations 433 => Loss (MSE): 54.025880 \n",
            "Iterations 434 => Loss (MSE): 53.969047 \n",
            "Iterations 435 => Loss (MSE): 53.912413 \n",
            "Iterations 436 => Loss (MSE): 53.855980 \n",
            "Iterations 437 => Loss (MSE): 53.799747 \n",
            "Iterations 438 => Loss (MSE): 53.798667 \n",
            "Iterations 439 => Loss (MSE): 53.740100 \n",
            "Iterations 440 => Loss (MSE): 53.681733 \n",
            "Iterations 441 => Loss (MSE): 53.623567 \n",
            "Iterations 442 => Loss (MSE): 53.565600 \n",
            "Iterations 443 => Loss (MSE): 53.507833 \n",
            "Iterations 444 => Loss (MSE): 53.450267 \n",
            "Iterations 445 => Loss (MSE): 53.392900 \n",
            "Iterations 446 => Loss (MSE): 53.335733 \n",
            "Iterations 447 => Loss (MSE): 53.278767 \n",
            "Iterations 448 => Loss (MSE): 53.222000 \n",
            "Iterations 449 => Loss (MSE): 53.165433 \n",
            "Iterations 450 => Loss (MSE): 53.109067 \n",
            "Iterations 451 => Loss (MSE): 53.052900 \n",
            "Iterations 452 => Loss (MSE): 52.996933 \n",
            "Iterations 453 => Loss (MSE): 52.941167 \n",
            "Iterations 454 => Loss (MSE): 52.885600 \n",
            "Iterations 455 => Loss (MSE): 52.830233 \n",
            "Iterations 456 => Loss (MSE): 52.829847 \n",
            "Iterations 457 => Loss (MSE): 52.772147 \n",
            "Iterations 458 => Loss (MSE): 52.714647 \n",
            "Iterations 459 => Loss (MSE): 52.657347 \n",
            "Iterations 460 => Loss (MSE): 52.600247 \n",
            "Iterations 461 => Loss (MSE): 52.543347 \n",
            "Iterations 462 => Loss (MSE): 52.486647 \n",
            "Iterations 463 => Loss (MSE): 52.430147 \n",
            "Iterations 464 => Loss (MSE): 52.373847 \n",
            "Iterations 465 => Loss (MSE): 52.317747 \n",
            "Iterations 466 => Loss (MSE): 52.261847 \n",
            "Iterations 467 => Loss (MSE): 52.206147 \n",
            "Iterations 468 => Loss (MSE): 52.150647 \n",
            "Iterations 469 => Loss (MSE): 52.095347 \n",
            "Iterations 470 => Loss (MSE): 52.040247 \n",
            "Iterations 471 => Loss (MSE): 51.985347 \n",
            "Iterations 472 => Loss (MSE): 51.930647 \n",
            "Iterations 473 => Loss (MSE): 51.876147 \n",
            "Iterations 474 => Loss (MSE): 51.821847 \n",
            "Iterations 475 => Loss (MSE): 51.819620 \n",
            "Iterations 476 => Loss (MSE): 51.762987 \n",
            "Iterations 477 => Loss (MSE): 51.706553 \n",
            "Iterations 478 => Loss (MSE): 51.650320 \n",
            "Iterations 479 => Loss (MSE): 51.594287 \n",
            "Iterations 480 => Loss (MSE): 51.538453 \n",
            "Iterations 481 => Loss (MSE): 51.482820 \n",
            "Iterations 482 => Loss (MSE): 51.427387 \n",
            "Iterations 483 => Loss (MSE): 51.372153 \n",
            "Iterations 484 => Loss (MSE): 51.317120 \n",
            "Iterations 485 => Loss (MSE): 51.262287 \n",
            "Iterations 486 => Loss (MSE): 51.207653 \n",
            "Iterations 487 => Loss (MSE): 51.153220 \n",
            "Iterations 488 => Loss (MSE): 51.098987 \n",
            "Iterations 489 => Loss (MSE): 51.044953 \n",
            "Iterations 490 => Loss (MSE): 50.991120 \n",
            "Iterations 491 => Loss (MSE): 50.937487 \n",
            "Iterations 492 => Loss (MSE): 50.884053 \n",
            "Iterations 493 => Loss (MSE): 50.882520 \n",
            "Iterations 494 => Loss (MSE): 50.826753 \n",
            "Iterations 495 => Loss (MSE): 50.771187 \n",
            "Iterations 496 => Loss (MSE): 50.715820 \n",
            "Iterations 497 => Loss (MSE): 50.660653 \n",
            "Iterations 498 => Loss (MSE): 50.605687 \n",
            "Iterations 499 => Loss (MSE): 50.550920 \n",
            "Iterations 500 => Loss (MSE): 50.496353 \n",
            "Iterations 501 => Loss (MSE): 50.441987 \n",
            "Iterations 502 => Loss (MSE): 50.387820 \n",
            "Iterations 503 => Loss (MSE): 50.333853 \n",
            "Iterations 504 => Loss (MSE): 50.280087 \n",
            "Iterations 505 => Loss (MSE): 50.226520 \n",
            "Iterations 506 => Loss (MSE): 50.173153 \n",
            "Iterations 507 => Loss (MSE): 50.119987 \n",
            "Iterations 508 => Loss (MSE): 50.067020 \n",
            "Iterations 509 => Loss (MSE): 50.014253 \n",
            "Iterations 510 => Loss (MSE): 49.961687 \n",
            "Iterations 511 => Loss (MSE): 49.960847 \n",
            "Iterations 512 => Loss (MSE): 49.905947 \n",
            "Iterations 513 => Loss (MSE): 49.851247 \n",
            "Iterations 514 => Loss (MSE): 49.796747 \n",
            "Iterations 515 => Loss (MSE): 49.742447 \n",
            "Iterations 516 => Loss (MSE): 49.688347 \n",
            "Iterations 517 => Loss (MSE): 49.634447 \n",
            "Iterations 518 => Loss (MSE): 49.580747 \n",
            "Iterations 519 => Loss (MSE): 49.527247 \n",
            "Iterations 520 => Loss (MSE): 49.473947 \n",
            "Iterations 521 => Loss (MSE): 49.420847 \n",
            "Iterations 522 => Loss (MSE): 49.367947 \n",
            "Iterations 523 => Loss (MSE): 49.315247 \n",
            "Iterations 524 => Loss (MSE): 49.262747 \n",
            "Iterations 525 => Loss (MSE): 49.210447 \n",
            "Iterations 526 => Loss (MSE): 49.158347 \n",
            "Iterations 527 => Loss (MSE): 49.106447 \n",
            "Iterations 528 => Loss (MSE): 49.054747 \n",
            "Iterations 529 => Loss (MSE): 49.054600 \n",
            "Iterations 530 => Loss (MSE): 49.000567 \n",
            "Iterations 531 => Loss (MSE): 48.946733 \n",
            "Iterations 532 => Loss (MSE): 48.893100 \n",
            "Iterations 533 => Loss (MSE): 48.839667 \n",
            "Iterations 534 => Loss (MSE): 48.786433 \n",
            "Iterations 535 => Loss (MSE): 48.733400 \n",
            "Iterations 536 => Loss (MSE): 48.680567 \n",
            "Iterations 537 => Loss (MSE): 48.627933 \n",
            "Iterations 538 => Loss (MSE): 48.575500 \n",
            "Iterations 539 => Loss (MSE): 48.523267 \n",
            "Iterations 540 => Loss (MSE): 48.471233 \n",
            "Iterations 541 => Loss (MSE): 48.419400 \n",
            "Iterations 542 => Loss (MSE): 48.367767 \n",
            "Iterations 543 => Loss (MSE): 48.316333 \n",
            "Iterations 544 => Loss (MSE): 48.265100 \n",
            "Iterations 545 => Loss (MSE): 48.214067 \n",
            "Iterations 546 => Loss (MSE): 48.163233 \n",
            "Iterations 547 => Loss (MSE): 48.112600 \n",
            "Iterations 548 => Loss (MSE): 48.110613 \n",
            "Iterations 549 => Loss (MSE): 48.057647 \n",
            "Iterations 550 => Loss (MSE): 48.004880 \n",
            "Iterations 551 => Loss (MSE): 47.952313 \n",
            "Iterations 552 => Loss (MSE): 47.899947 \n",
            "Iterations 553 => Loss (MSE): 47.847780 \n",
            "Iterations 554 => Loss (MSE): 47.795813 \n",
            "Iterations 555 => Loss (MSE): 47.744047 \n",
            "Iterations 556 => Loss (MSE): 47.692480 \n",
            "Iterations 557 => Loss (MSE): 47.641113 \n",
            "Iterations 558 => Loss (MSE): 47.589947 \n",
            "Iterations 559 => Loss (MSE): 47.538980 \n",
            "Iterations 560 => Loss (MSE): 47.488213 \n",
            "Iterations 561 => Loss (MSE): 47.437647 \n",
            "Iterations 562 => Loss (MSE): 47.387280 \n",
            "Iterations 563 => Loss (MSE): 47.337113 \n",
            "Iterations 564 => Loss (MSE): 47.287147 \n",
            "Iterations 565 => Loss (MSE): 47.237380 \n",
            "Iterations 566 => Loss (MSE): 47.236087 \n",
            "Iterations 567 => Loss (MSE): 47.183987 \n",
            "Iterations 568 => Loss (MSE): 47.132087 \n",
            "Iterations 569 => Loss (MSE): 47.080387 \n",
            "Iterations 570 => Loss (MSE): 47.028887 \n",
            "Iterations 571 => Loss (MSE): 46.977587 \n",
            "Iterations 572 => Loss (MSE): 46.926487 \n",
            "Iterations 573 => Loss (MSE): 46.875587 \n",
            "Iterations 574 => Loss (MSE): 46.824887 \n",
            "Iterations 575 => Loss (MSE): 46.774387 \n",
            "Iterations 576 => Loss (MSE): 46.724087 \n",
            "Iterations 577 => Loss (MSE): 46.673987 \n",
            "Iterations 578 => Loss (MSE): 46.624087 \n",
            "Iterations 579 => Loss (MSE): 46.574387 \n",
            "Iterations 580 => Loss (MSE): 46.524887 \n",
            "Iterations 581 => Loss (MSE): 46.475587 \n",
            "Iterations 582 => Loss (MSE): 46.426487 \n",
            "Iterations 583 => Loss (MSE): 46.377587 \n",
            "Iterations 584 => Loss (MSE): 46.376987 \n",
            "Iterations 585 => Loss (MSE): 46.325753 \n",
            "Iterations 586 => Loss (MSE): 46.274720 \n",
            "Iterations 587 => Loss (MSE): 46.223887 \n",
            "Iterations 588 => Loss (MSE): 46.173253 \n",
            "Iterations 589 => Loss (MSE): 46.122820 \n",
            "Iterations 590 => Loss (MSE): 46.072587 \n",
            "Iterations 591 => Loss (MSE): 46.022553 \n",
            "Iterations 592 => Loss (MSE): 45.972720 \n",
            "Iterations 593 => Loss (MSE): 45.923087 \n",
            "Iterations 594 => Loss (MSE): 45.873653 \n",
            "Iterations 595 => Loss (MSE): 45.824420 \n",
            "Iterations 596 => Loss (MSE): 45.775387 \n",
            "Iterations 597 => Loss (MSE): 45.726553 \n",
            "Iterations 598 => Loss (MSE): 45.677920 \n",
            "Iterations 599 => Loss (MSE): 45.629487 \n",
            "Iterations 600 => Loss (MSE): 45.581253 \n",
            "Iterations 601 => Loss (MSE): 45.533220 \n",
            "Iterations 602 => Loss (MSE): 45.485387 \n",
            "Iterations 603 => Loss (MSE): 45.482947 \n",
            "Iterations 604 => Loss (MSE): 45.432780 \n",
            "Iterations 605 => Loss (MSE): 45.382813 \n",
            "Iterations 606 => Loss (MSE): 45.333047 \n",
            "Iterations 607 => Loss (MSE): 45.283480 \n",
            "Iterations 608 => Loss (MSE): 45.234113 \n",
            "Iterations 609 => Loss (MSE): 45.184947 \n",
            "Iterations 610 => Loss (MSE): 45.135980 \n",
            "Iterations 611 => Loss (MSE): 45.087213 \n",
            "Iterations 612 => Loss (MSE): 45.038647 \n",
            "Iterations 613 => Loss (MSE): 44.990280 \n",
            "Iterations 614 => Loss (MSE): 44.942113 \n",
            "Iterations 615 => Loss (MSE): 44.894147 \n",
            "Iterations 616 => Loss (MSE): 44.846380 \n",
            "Iterations 617 => Loss (MSE): 44.798813 \n",
            "Iterations 618 => Loss (MSE): 44.751447 \n",
            "Iterations 619 => Loss (MSE): 44.704280 \n",
            "Iterations 620 => Loss (MSE): 44.657313 \n",
            "Iterations 621 => Loss (MSE): 44.655567 \n",
            "Iterations 622 => Loss (MSE): 44.606267 \n",
            "Iterations 623 => Loss (MSE): 44.557167 \n",
            "Iterations 624 => Loss (MSE): 44.508267 \n",
            "Iterations 625 => Loss (MSE): 44.459567 \n",
            "Iterations 626 => Loss (MSE): 44.411067 \n",
            "Iterations 627 => Loss (MSE): 44.362767 \n",
            "Iterations 628 => Loss (MSE): 44.314667 \n",
            "Iterations 629 => Loss (MSE): 44.266767 \n",
            "Iterations 630 => Loss (MSE): 44.219067 \n",
            "Iterations 631 => Loss (MSE): 44.171567 \n",
            "Iterations 632 => Loss (MSE): 44.124267 \n",
            "Iterations 633 => Loss (MSE): 44.077167 \n",
            "Iterations 634 => Loss (MSE): 44.030267 \n",
            "Iterations 635 => Loss (MSE): 43.983567 \n",
            "Iterations 636 => Loss (MSE): 43.937067 \n",
            "Iterations 637 => Loss (MSE): 43.890767 \n",
            "Iterations 638 => Loss (MSE): 43.844667 \n",
            "Iterations 639 => Loss (MSE): 43.843613 \n",
            "Iterations 640 => Loss (MSE): 43.795180 \n",
            "Iterations 641 => Loss (MSE): 43.746947 \n",
            "Iterations 642 => Loss (MSE): 43.698913 \n",
            "Iterations 643 => Loss (MSE): 43.651080 \n",
            "Iterations 644 => Loss (MSE): 43.603447 \n",
            "Iterations 645 => Loss (MSE): 43.556013 \n",
            "Iterations 646 => Loss (MSE): 43.508780 \n",
            "Iterations 647 => Loss (MSE): 43.461747 \n",
            "Iterations 648 => Loss (MSE): 43.414913 \n",
            "Iterations 649 => Loss (MSE): 43.368280 \n",
            "Iterations 650 => Loss (MSE): 43.321847 \n",
            "Iterations 651 => Loss (MSE): 43.275613 \n",
            "Iterations 652 => Loss (MSE): 43.229580 \n",
            "Iterations 653 => Loss (MSE): 43.183747 \n",
            "Iterations 654 => Loss (MSE): 43.138113 \n",
            "Iterations 655 => Loss (MSE): 43.092680 \n",
            "Iterations 656 => Loss (MSE): 43.047447 \n",
            "Iterations 657 => Loss (MSE): 43.047087 \n",
            "Iterations 658 => Loss (MSE): 42.999520 \n",
            "Iterations 659 => Loss (MSE): 42.952153 \n",
            "Iterations 660 => Loss (MSE): 42.904987 \n",
            "Iterations 661 => Loss (MSE): 42.858020 \n",
            "Iterations 662 => Loss (MSE): 42.811253 \n",
            "Iterations 663 => Loss (MSE): 42.764687 \n",
            "Iterations 664 => Loss (MSE): 42.718320 \n",
            "Iterations 665 => Loss (MSE): 42.672153 \n",
            "Iterations 666 => Loss (MSE): 42.626187 \n",
            "Iterations 667 => Loss (MSE): 42.580420 \n",
            "Iterations 668 => Loss (MSE): 42.534853 \n",
            "Iterations 669 => Loss (MSE): 42.489487 \n",
            "Iterations 670 => Loss (MSE): 42.444320 \n",
            "Iterations 671 => Loss (MSE): 42.399353 \n",
            "Iterations 672 => Loss (MSE): 42.354587 \n",
            "Iterations 673 => Loss (MSE): 42.310020 \n",
            "Iterations 674 => Loss (MSE): 42.265653 \n",
            "Iterations 675 => Loss (MSE): 42.221487 \n",
            "Iterations 676 => Loss (MSE): 42.219287 \n",
            "Iterations 677 => Loss (MSE): 42.172787 \n",
            "Iterations 678 => Loss (MSE): 42.126487 \n",
            "Iterations 679 => Loss (MSE): 42.080387 \n",
            "Iterations 680 => Loss (MSE): 42.034487 \n",
            "Iterations 681 => Loss (MSE): 41.988787 \n",
            "Iterations 682 => Loss (MSE): 41.943287 \n",
            "Iterations 683 => Loss (MSE): 41.897987 \n",
            "Iterations 684 => Loss (MSE): 41.852887 \n",
            "Iterations 685 => Loss (MSE): 41.807987 \n",
            "Iterations 686 => Loss (MSE): 41.763287 \n",
            "Iterations 687 => Loss (MSE): 41.718787 \n",
            "Iterations 688 => Loss (MSE): 41.674487 \n",
            "Iterations 689 => Loss (MSE): 41.630387 \n",
            "Iterations 690 => Loss (MSE): 41.586487 \n",
            "Iterations 691 => Loss (MSE): 41.542787 \n",
            "Iterations 692 => Loss (MSE): 41.499287 \n",
            "Iterations 693 => Loss (MSE): 41.455987 \n",
            "Iterations 694 => Loss (MSE): 41.454480 \n",
            "Iterations 695 => Loss (MSE): 41.408847 \n",
            "Iterations 696 => Loss (MSE): 41.363413 \n",
            "Iterations 697 => Loss (MSE): 41.318180 \n",
            "Iterations 698 => Loss (MSE): 41.273147 \n",
            "Iterations 699 => Loss (MSE): 41.228313 \n",
            "Iterations 700 => Loss (MSE): 41.183680 \n",
            "Iterations 701 => Loss (MSE): 41.139247 \n",
            "Iterations 702 => Loss (MSE): 41.095013 \n",
            "Iterations 703 => Loss (MSE): 41.050980 \n",
            "Iterations 704 => Loss (MSE): 41.007147 \n",
            "Iterations 705 => Loss (MSE): 40.963513 \n",
            "Iterations 706 => Loss (MSE): 40.920080 \n",
            "Iterations 707 => Loss (MSE): 40.876847 \n",
            "Iterations 708 => Loss (MSE): 40.833813 \n",
            "Iterations 709 => Loss (MSE): 40.790980 \n",
            "Iterations 710 => Loss (MSE): 40.748347 \n",
            "Iterations 711 => Loss (MSE): 40.705913 \n",
            "Iterations 712 => Loss (MSE): 40.705100 \n",
            "Iterations 713 => Loss (MSE): 40.660333 \n",
            "Iterations 714 => Loss (MSE): 40.615767 \n",
            "Iterations 715 => Loss (MSE): 40.571400 \n",
            "Iterations 716 => Loss (MSE): 40.527233 \n",
            "Iterations 717 => Loss (MSE): 40.483267 \n",
            "Iterations 718 => Loss (MSE): 40.439500 \n",
            "Iterations 719 => Loss (MSE): 40.395933 \n",
            "Iterations 720 => Loss (MSE): 40.352567 \n",
            "Iterations 721 => Loss (MSE): 40.309400 \n",
            "Iterations 722 => Loss (MSE): 40.266433 \n",
            "Iterations 723 => Loss (MSE): 40.223667 \n",
            "Iterations 724 => Loss (MSE): 40.181100 \n",
            "Iterations 725 => Loss (MSE): 40.138733 \n",
            "Iterations 726 => Loss (MSE): 40.096567 \n",
            "Iterations 727 => Loss (MSE): 40.054600 \n",
            "Iterations 728 => Loss (MSE): 40.012833 \n",
            "Iterations 729 => Loss (MSE): 39.971267 \n",
            "Iterations 730 => Loss (MSE): 39.971147 \n",
            "Iterations 731 => Loss (MSE): 39.927247 \n",
            "Iterations 732 => Loss (MSE): 39.883547 \n",
            "Iterations 733 => Loss (MSE): 39.840047 \n",
            "Iterations 734 => Loss (MSE): 39.796747 \n",
            "Iterations 735 => Loss (MSE): 39.753647 \n",
            "Iterations 736 => Loss (MSE): 39.710747 \n",
            "Iterations 737 => Loss (MSE): 39.668047 \n",
            "Iterations 738 => Loss (MSE): 39.625547 \n",
            "Iterations 739 => Loss (MSE): 39.583247 \n",
            "Iterations 740 => Loss (MSE): 39.541147 \n",
            "Iterations 741 => Loss (MSE): 39.499247 \n",
            "Iterations 742 => Loss (MSE): 39.457547 \n",
            "Iterations 743 => Loss (MSE): 39.416047 \n",
            "Iterations 744 => Loss (MSE): 39.374747 \n",
            "Iterations 745 => Loss (MSE): 39.333647 \n",
            "Iterations 746 => Loss (MSE): 39.292747 \n",
            "Iterations 747 => Loss (MSE): 39.252047 \n",
            "Iterations 748 => Loss (MSE): 39.211547 \n",
            "Iterations 749 => Loss (MSE): 39.209587 \n",
            "Iterations 750 => Loss (MSE): 39.166753 \n",
            "Iterations 751 => Loss (MSE): 39.124120 \n",
            "Iterations 752 => Loss (MSE): 39.081687 \n",
            "Iterations 753 => Loss (MSE): 39.039453 \n",
            "Iterations 754 => Loss (MSE): 38.997420 \n",
            "Iterations 755 => Loss (MSE): 38.955587 \n",
            "Iterations 756 => Loss (MSE): 38.913953 \n",
            "Iterations 757 => Loss (MSE): 38.872520 \n",
            "Iterations 758 => Loss (MSE): 38.831287 \n",
            "Iterations 759 => Loss (MSE): 38.790253 \n",
            "Iterations 760 => Loss (MSE): 38.749420 \n",
            "Iterations 761 => Loss (MSE): 38.708787 \n",
            "Iterations 762 => Loss (MSE): 38.668353 \n",
            "Iterations 763 => Loss (MSE): 38.628120 \n",
            "Iterations 764 => Loss (MSE): 38.588087 \n",
            "Iterations 765 => Loss (MSE): 38.548253 \n",
            "Iterations 766 => Loss (MSE): 38.508620 \n",
            "Iterations 767 => Loss (MSE): 38.507353 \n",
            "Iterations 768 => Loss (MSE): 38.465387 \n",
            "Iterations 769 => Loss (MSE): 38.423620 \n",
            "Iterations 770 => Loss (MSE): 38.382053 \n",
            "Iterations 771 => Loss (MSE): 38.340687 \n",
            "Iterations 772 => Loss (MSE): 38.299520 \n",
            "Iterations 773 => Loss (MSE): 38.258553 \n",
            "Iterations 774 => Loss (MSE): 38.217787 \n",
            "Iterations 775 => Loss (MSE): 38.177220 \n",
            "Iterations 776 => Loss (MSE): 38.136853 \n",
            "Iterations 777 => Loss (MSE): 38.096687 \n",
            "Iterations 778 => Loss (MSE): 38.056720 \n",
            "Iterations 779 => Loss (MSE): 38.016953 \n",
            "Iterations 780 => Loss (MSE): 37.977387 \n",
            "Iterations 781 => Loss (MSE): 37.938020 \n",
            "Iterations 782 => Loss (MSE): 37.898853 \n",
            "Iterations 783 => Loss (MSE): 37.859887 \n",
            "Iterations 784 => Loss (MSE): 37.821120 \n",
            "Iterations 785 => Loss (MSE): 37.820547 \n",
            "Iterations 786 => Loss (MSE): 37.779447 \n",
            "Iterations 787 => Loss (MSE): 37.738547 \n",
            "Iterations 788 => Loss (MSE): 37.697847 \n",
            "Iterations 789 => Loss (MSE): 37.657347 \n",
            "Iterations 790 => Loss (MSE): 37.617047 \n",
            "Iterations 791 => Loss (MSE): 37.576947 \n",
            "Iterations 792 => Loss (MSE): 37.537047 \n",
            "Iterations 793 => Loss (MSE): 37.497347 \n",
            "Iterations 794 => Loss (MSE): 37.457847 \n",
            "Iterations 795 => Loss (MSE): 37.418547 \n",
            "Iterations 796 => Loss (MSE): 37.379447 \n",
            "Iterations 797 => Loss (MSE): 37.340547 \n",
            "Iterations 798 => Loss (MSE): 37.301847 \n",
            "Iterations 799 => Loss (MSE): 37.263347 \n",
            "Iterations 800 => Loss (MSE): 37.225047 \n",
            "Iterations 801 => Loss (MSE): 37.186947 \n",
            "Iterations 802 => Loss (MSE): 37.149047 \n",
            "Iterations 803 => Loss (MSE): 37.111347 \n",
            "Iterations 804 => Loss (MSE): 37.108933 \n",
            "Iterations 805 => Loss (MSE): 37.068900 \n",
            "Iterations 806 => Loss (MSE): 37.029067 \n",
            "Iterations 807 => Loss (MSE): 36.989433 \n",
            "Iterations 808 => Loss (MSE): 36.950000 \n",
            "Iterations 809 => Loss (MSE): 36.910767 \n",
            "Iterations 810 => Loss (MSE): 36.871733 \n",
            "Iterations 811 => Loss (MSE): 36.832900 \n",
            "Iterations 812 => Loss (MSE): 36.794267 \n",
            "Iterations 813 => Loss (MSE): 36.755833 \n",
            "Iterations 814 => Loss (MSE): 36.717600 \n",
            "Iterations 815 => Loss (MSE): 36.679567 \n",
            "Iterations 816 => Loss (MSE): 36.641733 \n",
            "Iterations 817 => Loss (MSE): 36.604100 \n",
            "Iterations 818 => Loss (MSE): 36.566667 \n",
            "Iterations 819 => Loss (MSE): 36.529433 \n",
            "Iterations 820 => Loss (MSE): 36.492400 \n",
            "Iterations 821 => Loss (MSE): 36.455567 \n",
            "Iterations 822 => Loss (MSE): 36.453847 \n",
            "Iterations 823 => Loss (MSE): 36.414680 \n",
            "Iterations 824 => Loss (MSE): 36.375713 \n",
            "Iterations 825 => Loss (MSE): 36.336947 \n",
            "Iterations 826 => Loss (MSE): 36.298380 \n",
            "Iterations 827 => Loss (MSE): 36.260013 \n",
            "Iterations 828 => Loss (MSE): 36.221847 \n",
            "Iterations 829 => Loss (MSE): 36.183880 \n",
            "Iterations 830 => Loss (MSE): 36.146113 \n",
            "Iterations 831 => Loss (MSE): 36.108547 \n",
            "Iterations 832 => Loss (MSE): 36.071180 \n",
            "Iterations 833 => Loss (MSE): 36.034013 \n",
            "Iterations 834 => Loss (MSE): 35.997047 \n",
            "Iterations 835 => Loss (MSE): 35.960280 \n",
            "Iterations 836 => Loss (MSE): 35.923713 \n",
            "Iterations 837 => Loss (MSE): 35.887347 \n",
            "Iterations 838 => Loss (MSE): 35.851180 \n",
            "Iterations 839 => Loss (MSE): 35.815213 \n",
            "Iterations 840 => Loss (MSE): 35.814187 \n",
            "Iterations 841 => Loss (MSE): 35.775887 \n",
            "Iterations 842 => Loss (MSE): 35.737787 \n",
            "Iterations 843 => Loss (MSE): 35.699887 \n",
            "Iterations 844 => Loss (MSE): 35.662187 \n",
            "Iterations 845 => Loss (MSE): 35.624687 \n",
            "Iterations 846 => Loss (MSE): 35.587387 \n",
            "Iterations 847 => Loss (MSE): 35.550287 \n",
            "Iterations 848 => Loss (MSE): 35.513387 \n",
            "Iterations 849 => Loss (MSE): 35.476687 \n",
            "Iterations 850 => Loss (MSE): 35.440187 \n",
            "Iterations 851 => Loss (MSE): 35.403887 \n",
            "Iterations 852 => Loss (MSE): 35.367787 \n",
            "Iterations 853 => Loss (MSE): 35.331887 \n",
            "Iterations 854 => Loss (MSE): 35.296187 \n",
            "Iterations 855 => Loss (MSE): 35.260687 \n",
            "Iterations 856 => Loss (MSE): 35.225387 \n",
            "Iterations 857 => Loss (MSE): 35.190287 \n",
            "Iterations 858 => Loss (MSE): 35.189953 \n",
            "Iterations 859 => Loss (MSE): 35.152520 \n",
            "Iterations 860 => Loss (MSE): 35.115287 \n",
            "Iterations 861 => Loss (MSE): 35.078253 \n",
            "Iterations 862 => Loss (MSE): 35.041420 \n",
            "Iterations 863 => Loss (MSE): 35.004787 \n",
            "Iterations 864 => Loss (MSE): 34.968353 \n",
            "Iterations 865 => Loss (MSE): 34.932120 \n",
            "Iterations 866 => Loss (MSE): 34.896087 \n",
            "Iterations 867 => Loss (MSE): 34.860253 \n",
            "Iterations 868 => Loss (MSE): 34.824620 \n",
            "Iterations 869 => Loss (MSE): 34.789187 \n",
            "Iterations 870 => Loss (MSE): 34.753953 \n",
            "Iterations 871 => Loss (MSE): 34.718920 \n",
            "Iterations 872 => Loss (MSE): 34.684087 \n",
            "Iterations 873 => Loss (MSE): 34.649453 \n",
            "Iterations 874 => Loss (MSE): 34.615020 \n",
            "Iterations 875 => Loss (MSE): 34.580787 \n",
            "Iterations 876 => Loss (MSE): 34.546753 \n",
            "Iterations 877 => Loss (MSE): 34.544580 \n",
            "Iterations 878 => Loss (MSE): 34.508213 \n",
            "Iterations 879 => Loss (MSE): 34.472047 \n",
            "Iterations 880 => Loss (MSE): 34.436080 \n",
            "Iterations 881 => Loss (MSE): 34.400313 \n",
            "Iterations 882 => Loss (MSE): 34.364747 \n",
            "Iterations 883 => Loss (MSE): 34.329380 \n",
            "Iterations 884 => Loss (MSE): 34.294213 \n",
            "Iterations 885 => Loss (MSE): 34.259247 \n",
            "Iterations 886 => Loss (MSE): 34.224480 \n",
            "Iterations 887 => Loss (MSE): 34.189913 \n",
            "Iterations 888 => Loss (MSE): 34.155547 \n",
            "Iterations 889 => Loss (MSE): 34.121380 \n",
            "Iterations 890 => Loss (MSE): 34.087413 \n",
            "Iterations 891 => Loss (MSE): 34.053647 \n",
            "Iterations 892 => Loss (MSE): 34.020080 \n",
            "Iterations 893 => Loss (MSE): 33.986713 \n",
            "Iterations 894 => Loss (MSE): 33.953547 \n",
            "Iterations 895 => Loss (MSE): 33.952067 \n",
            "Iterations 896 => Loss (MSE): 33.916567 \n",
            "Iterations 897 => Loss (MSE): 33.881267 \n",
            "Iterations 898 => Loss (MSE): 33.846167 \n",
            "Iterations 899 => Loss (MSE): 33.811267 \n",
            "Iterations 900 => Loss (MSE): 33.776567 \n",
            "Iterations 901 => Loss (MSE): 33.742067 \n",
            "Iterations 902 => Loss (MSE): 33.707767 \n",
            "Iterations 903 => Loss (MSE): 33.673667 \n",
            "Iterations 904 => Loss (MSE): 33.639767 \n",
            "Iterations 905 => Loss (MSE): 33.606067 \n",
            "Iterations 906 => Loss (MSE): 33.572567 \n",
            "Iterations 907 => Loss (MSE): 33.539267 \n",
            "Iterations 908 => Loss (MSE): 33.506167 \n",
            "Iterations 909 => Loss (MSE): 33.473267 \n",
            "Iterations 910 => Loss (MSE): 33.440567 \n",
            "Iterations 911 => Loss (MSE): 33.408067 \n",
            "Iterations 912 => Loss (MSE): 33.375767 \n",
            "Iterations 913 => Loss (MSE): 33.374980 \n",
            "Iterations 914 => Loss (MSE): 33.340347 \n",
            "Iterations 915 => Loss (MSE): 33.305913 \n",
            "Iterations 916 => Loss (MSE): 33.271680 \n",
            "Iterations 917 => Loss (MSE): 33.237647 \n",
            "Iterations 918 => Loss (MSE): 33.203813 \n",
            "Iterations 919 => Loss (MSE): 33.170180 \n",
            "Iterations 920 => Loss (MSE): 33.136747 \n",
            "Iterations 921 => Loss (MSE): 33.103513 \n",
            "Iterations 922 => Loss (MSE): 33.070480 \n",
            "Iterations 923 => Loss (MSE): 33.037647 \n",
            "Iterations 924 => Loss (MSE): 33.005013 \n",
            "Iterations 925 => Loss (MSE): 32.972580 \n",
            "Iterations 926 => Loss (MSE): 32.940347 \n",
            "Iterations 927 => Loss (MSE): 32.908313 \n",
            "Iterations 928 => Loss (MSE): 32.876480 \n",
            "Iterations 929 => Loss (MSE): 32.844847 \n",
            "Iterations 930 => Loss (MSE): 32.813413 \n",
            "Iterations 931 => Loss (MSE): 32.813320 \n",
            "Iterations 932 => Loss (MSE): 32.779553 \n",
            "Iterations 933 => Loss (MSE): 32.745987 \n",
            "Iterations 934 => Loss (MSE): 32.712620 \n",
            "Iterations 935 => Loss (MSE): 32.679453 \n",
            "Iterations 936 => Loss (MSE): 32.646487 \n",
            "Iterations 937 => Loss (MSE): 32.613720 \n",
            "Iterations 938 => Loss (MSE): 32.581153 \n",
            "Iterations 939 => Loss (MSE): 32.548787 \n",
            "Iterations 940 => Loss (MSE): 32.516620 \n",
            "Iterations 941 => Loss (MSE): 32.484653 \n",
            "Iterations 942 => Loss (MSE): 32.452887 \n",
            "Iterations 943 => Loss (MSE): 32.421320 \n",
            "Iterations 944 => Loss (MSE): 32.389953 \n",
            "Iterations 945 => Loss (MSE): 32.358787 \n",
            "Iterations 946 => Loss (MSE): 32.327820 \n",
            "Iterations 947 => Loss (MSE): 32.297053 \n",
            "Iterations 948 => Loss (MSE): 32.266487 \n",
            "Iterations 949 => Loss (MSE): 32.236120 \n",
            "Iterations 950 => Loss (MSE): 32.234187 \n",
            "Iterations 951 => Loss (MSE): 32.201487 \n",
            "Iterations 952 => Loss (MSE): 32.168987 \n",
            "Iterations 953 => Loss (MSE): 32.136687 \n",
            "Iterations 954 => Loss (MSE): 32.104587 \n",
            "Iterations 955 => Loss (MSE): 32.072687 \n",
            "Iterations 956 => Loss (MSE): 32.040987 \n",
            "Iterations 957 => Loss (MSE): 32.009487 \n",
            "Iterations 958 => Loss (MSE): 31.978187 \n",
            "Iterations 959 => Loss (MSE): 31.947087 \n",
            "Iterations 960 => Loss (MSE): 31.916187 \n",
            "Iterations 961 => Loss (MSE): 31.885487 \n",
            "Iterations 962 => Loss (MSE): 31.854987 \n",
            "Iterations 963 => Loss (MSE): 31.824687 \n",
            "Iterations 964 => Loss (MSE): 31.794587 \n",
            "Iterations 965 => Loss (MSE): 31.764687 \n",
            "Iterations 966 => Loss (MSE): 31.734987 \n",
            "Iterations 967 => Loss (MSE): 31.705487 \n",
            "Iterations 968 => Loss (MSE): 31.704247 \n",
            "Iterations 969 => Loss (MSE): 31.672413 \n",
            "Iterations 970 => Loss (MSE): 31.640780 \n",
            "Iterations 971 => Loss (MSE): 31.609347 \n",
            "Iterations 972 => Loss (MSE): 31.578113 \n",
            "Iterations 973 => Loss (MSE): 31.547080 \n",
            "Iterations 974 => Loss (MSE): 31.516247 \n",
            "Iterations 975 => Loss (MSE): 31.485613 \n",
            "Iterations 976 => Loss (MSE): 31.455180 \n",
            "Iterations 977 => Loss (MSE): 31.424947 \n",
            "Iterations 978 => Loss (MSE): 31.394913 \n",
            "Iterations 979 => Loss (MSE): 31.365080 \n",
            "Iterations 980 => Loss (MSE): 31.335447 \n",
            "Iterations 981 => Loss (MSE): 31.306013 \n",
            "Iterations 982 => Loss (MSE): 31.276780 \n",
            "Iterations 983 => Loss (MSE): 31.247747 \n",
            "Iterations 984 => Loss (MSE): 31.218913 \n",
            "Iterations 985 => Loss (MSE): 31.190280 \n",
            "Iterations 986 => Loss (MSE): 31.189733 \n",
            "Iterations 987 => Loss (MSE): 31.158767 \n",
            "Iterations 988 => Loss (MSE): 31.128000 \n",
            "Iterations 989 => Loss (MSE): 31.097433 \n",
            "Iterations 990 => Loss (MSE): 31.067067 \n",
            "Iterations 991 => Loss (MSE): 31.036900 \n",
            "Iterations 992 => Loss (MSE): 31.006933 \n",
            "Iterations 993 => Loss (MSE): 30.977167 \n",
            "Iterations 994 => Loss (MSE): 30.947600 \n",
            "Iterations 995 => Loss (MSE): 30.918233 \n",
            "Iterations 996 => Loss (MSE): 30.889067 \n",
            "Iterations 997 => Loss (MSE): 30.860100 \n",
            "Iterations 998 => Loss (MSE): 30.831333 \n",
            "Iterations 999 => Loss (MSE): 30.802767 \n",
            "Iterations 1000 => Loss (MSE): 30.774400 \n",
            "Iterations 1001 => Loss (MSE): 30.746233 \n",
            "Iterations 1002 => Loss (MSE): 30.718267 \n",
            "Iterations 1003 => Loss (MSE): 30.690500 \n",
            "Iterations 1004 => Loss (MSE): 30.662933 \n",
            "Iterations 1005 => Loss (MSE): 30.660547 \n",
            "Iterations 1006 => Loss (MSE): 30.630647 \n",
            "Iterations 1007 => Loss (MSE): 30.600947 \n",
            "Iterations 1008 => Loss (MSE): 30.571447 \n",
            "Iterations 1009 => Loss (MSE): 30.542147 \n",
            "Iterations 1010 => Loss (MSE): 30.513047 \n",
            "Iterations 1011 => Loss (MSE): 30.484147 \n",
            "Iterations 1012 => Loss (MSE): 30.455447 \n",
            "Iterations 1013 => Loss (MSE): 30.426947 \n",
            "Iterations 1014 => Loss (MSE): 30.398647 \n",
            "Iterations 1015 => Loss (MSE): 30.370547 \n",
            "Iterations 1016 => Loss (MSE): 30.342647 \n",
            "Iterations 1017 => Loss (MSE): 30.314947 \n",
            "Iterations 1018 => Loss (MSE): 30.287447 \n",
            "Iterations 1019 => Loss (MSE): 30.260147 \n",
            "Iterations 1020 => Loss (MSE): 30.233047 \n",
            "Iterations 1021 => Loss (MSE): 30.206147 \n",
            "Iterations 1022 => Loss (MSE): 30.179447 \n",
            "Iterations 1023 => Loss (MSE): 30.177753 \n",
            "Iterations 1024 => Loss (MSE): 30.148720 \n",
            "Iterations 1025 => Loss (MSE): 30.119887 \n",
            "Iterations 1026 => Loss (MSE): 30.091253 \n",
            "Iterations 1027 => Loss (MSE): 30.062820 \n",
            "Iterations 1028 => Loss (MSE): 30.034587 \n",
            "Iterations 1029 => Loss (MSE): 30.006553 \n",
            "Iterations 1030 => Loss (MSE): 29.978720 \n",
            "Iterations 1031 => Loss (MSE): 29.951087 \n",
            "Iterations 1032 => Loss (MSE): 29.923653 \n",
            "Iterations 1033 => Loss (MSE): 29.896420 \n",
            "Iterations 1034 => Loss (MSE): 29.869387 \n",
            "Iterations 1035 => Loss (MSE): 29.842553 \n",
            "Iterations 1036 => Loss (MSE): 29.815920 \n",
            "Iterations 1037 => Loss (MSE): 29.789487 \n",
            "Iterations 1038 => Loss (MSE): 29.763253 \n",
            "Iterations 1039 => Loss (MSE): 29.737220 \n",
            "Iterations 1040 => Loss (MSE): 29.711387 \n",
            "Iterations 1041 => Loss (MSE): 29.710387 \n",
            "Iterations 1042 => Loss (MSE): 29.682220 \n",
            "Iterations 1043 => Loss (MSE): 29.654253 \n",
            "Iterations 1044 => Loss (MSE): 29.626487 \n",
            "Iterations 1045 => Loss (MSE): 29.598920 \n",
            "Iterations 1046 => Loss (MSE): 29.571553 \n",
            "Iterations 1047 => Loss (MSE): 29.544387 \n",
            "Iterations 1048 => Loss (MSE): 29.517420 \n",
            "Iterations 1049 => Loss (MSE): 29.490653 \n",
            "Iterations 1050 => Loss (MSE): 29.464087 \n",
            "Iterations 1051 => Loss (MSE): 29.437720 \n",
            "Iterations 1052 => Loss (MSE): 29.411553 \n",
            "Iterations 1053 => Loss (MSE): 29.385587 \n",
            "Iterations 1054 => Loss (MSE): 29.359820 \n",
            "Iterations 1055 => Loss (MSE): 29.334253 \n",
            "Iterations 1056 => Loss (MSE): 29.308887 \n",
            "Iterations 1057 => Loss (MSE): 29.283720 \n",
            "Iterations 1058 => Loss (MSE): 29.258753 \n",
            "Iterations 1059 => Loss (MSE): 29.258447 \n",
            "Iterations 1060 => Loss (MSE): 29.231147 \n",
            "Iterations 1061 => Loss (MSE): 29.204047 \n",
            "Iterations 1062 => Loss (MSE): 29.177147 \n",
            "Iterations 1063 => Loss (MSE): 29.150447 \n",
            "Iterations 1064 => Loss (MSE): 29.123947 \n",
            "Iterations 1065 => Loss (MSE): 29.097647 \n",
            "Iterations 1066 => Loss (MSE): 29.071547 \n",
            "Iterations 1067 => Loss (MSE): 29.045647 \n",
            "Iterations 1068 => Loss (MSE): 29.019947 \n",
            "Iterations 1069 => Loss (MSE): 28.994447 \n",
            "Iterations 1070 => Loss (MSE): 28.969147 \n",
            "Iterations 1071 => Loss (MSE): 28.944047 \n",
            "Iterations 1072 => Loss (MSE): 28.919147 \n",
            "Iterations 1073 => Loss (MSE): 28.894447 \n",
            "Iterations 1074 => Loss (MSE): 28.869947 \n",
            "Iterations 1075 => Loss (MSE): 28.845647 \n",
            "Iterations 1076 => Loss (MSE): 28.821547 \n",
            "Iterations 1077 => Loss (MSE): 28.797647 \n",
            "Iterations 1078 => Loss (MSE): 28.795500 \n",
            "Iterations 1079 => Loss (MSE): 28.769267 \n",
            "Iterations 1080 => Loss (MSE): 28.743233 \n",
            "Iterations 1081 => Loss (MSE): 28.717400 \n",
            "Iterations 1082 => Loss (MSE): 28.691767 \n",
            "Iterations 1083 => Loss (MSE): 28.666333 \n",
            "Iterations 1084 => Loss (MSE): 28.641100 \n",
            "Iterations 1085 => Loss (MSE): 28.616067 \n",
            "Iterations 1086 => Loss (MSE): 28.591233 \n",
            "Iterations 1087 => Loss (MSE): 28.566600 \n",
            "Iterations 1088 => Loss (MSE): 28.542167 \n",
            "Iterations 1089 => Loss (MSE): 28.517933 \n",
            "Iterations 1090 => Loss (MSE): 28.493900 \n",
            "Iterations 1091 => Loss (MSE): 28.470067 \n",
            "Iterations 1092 => Loss (MSE): 28.446433 \n",
            "Iterations 1093 => Loss (MSE): 28.423000 \n",
            "Iterations 1094 => Loss (MSE): 28.399767 \n",
            "Iterations 1095 => Loss (MSE): 28.376733 \n",
            "Iterations 1096 => Loss (MSE): 28.375280 \n",
            "Iterations 1097 => Loss (MSE): 28.349913 \n",
            "Iterations 1098 => Loss (MSE): 28.324747 \n",
            "Iterations 1099 => Loss (MSE): 28.299780 \n",
            "Iterations 1100 => Loss (MSE): 28.275013 \n",
            "Iterations 1101 => Loss (MSE): 28.250447 \n",
            "Iterations 1102 => Loss (MSE): 28.226080 \n",
            "Iterations 1103 => Loss (MSE): 28.201913 \n",
            "Iterations 1104 => Loss (MSE): 28.177947 \n",
            "Iterations 1105 => Loss (MSE): 28.154180 \n",
            "Iterations 1106 => Loss (MSE): 28.130613 \n",
            "Iterations 1107 => Loss (MSE): 28.107247 \n",
            "Iterations 1108 => Loss (MSE): 28.084080 \n",
            "Iterations 1109 => Loss (MSE): 28.061113 \n",
            "Iterations 1110 => Loss (MSE): 28.038347 \n",
            "Iterations 1111 => Loss (MSE): 28.015780 \n",
            "Iterations 1112 => Loss (MSE): 27.993413 \n",
            "Iterations 1113 => Loss (MSE): 27.971247 \n",
            "Iterations 1114 => Loss (MSE): 27.970487 \n",
            "Iterations 1115 => Loss (MSE): 27.945987 \n",
            "Iterations 1116 => Loss (MSE): 27.921687 \n",
            "Iterations 1117 => Loss (MSE): 27.897587 \n",
            "Iterations 1118 => Loss (MSE): 27.873687 \n",
            "Iterations 1119 => Loss (MSE): 27.849987 \n",
            "Iterations 1120 => Loss (MSE): 27.826487 \n",
            "Iterations 1121 => Loss (MSE): 27.803187 \n",
            "Iterations 1122 => Loss (MSE): 27.780087 \n",
            "Iterations 1123 => Loss (MSE): 27.757187 \n",
            "Iterations 1124 => Loss (MSE): 27.734487 \n",
            "Iterations 1125 => Loss (MSE): 27.711987 \n",
            "Iterations 1126 => Loss (MSE): 27.689687 \n",
            "Iterations 1127 => Loss (MSE): 27.667587 \n",
            "Iterations 1128 => Loss (MSE): 27.645687 \n",
            "Iterations 1129 => Loss (MSE): 27.623987 \n",
            "Iterations 1130 => Loss (MSE): 27.602487 \n",
            "Iterations 1131 => Loss (MSE): 27.581187 \n",
            "Iterations 1132 => Loss (MSE): 27.581120 \n",
            "Iterations 1133 => Loss (MSE): 27.557487 \n",
            "Iterations 1134 => Loss (MSE): 27.534053 \n",
            "Iterations 1135 => Loss (MSE): 27.510820 \n",
            "Iterations 1136 => Loss (MSE): 27.487787 \n",
            "Iterations 1137 => Loss (MSE): 27.464953 \n",
            "Iterations 1138 => Loss (MSE): 27.442320 \n",
            "Iterations 1139 => Loss (MSE): 27.419887 \n",
            "Iterations 1140 => Loss (MSE): 27.397653 \n",
            "Iterations 1141 => Loss (MSE): 27.375620 \n",
            "Iterations 1142 => Loss (MSE): 27.353787 \n",
            "Iterations 1143 => Loss (MSE): 27.332153 \n",
            "Iterations 1144 => Loss (MSE): 27.310720 \n",
            "Iterations 1145 => Loss (MSE): 27.289487 \n",
            "Iterations 1146 => Loss (MSE): 27.268453 \n",
            "Iterations 1147 => Loss (MSE): 27.247620 \n",
            "Iterations 1148 => Loss (MSE): 27.226987 \n",
            "Iterations 1149 => Loss (MSE): 27.206553 \n",
            "Iterations 1150 => Loss (MSE): 27.186320 \n",
            "Iterations 1151 => Loss (MSE): 27.184413 \n",
            "Iterations 1152 => Loss (MSE): 27.161847 \n",
            "Iterations 1153 => Loss (MSE): 27.139480 \n",
            "Iterations 1154 => Loss (MSE): 27.117313 \n",
            "Iterations 1155 => Loss (MSE): 27.095347 \n",
            "Iterations 1156 => Loss (MSE): 27.073580 \n",
            "Iterations 1157 => Loss (MSE): 27.052013 \n",
            "Iterations 1158 => Loss (MSE): 27.030647 \n",
            "Iterations 1159 => Loss (MSE): 27.009480 \n",
            "Iterations 1160 => Loss (MSE): 26.988513 \n",
            "Iterations 1161 => Loss (MSE): 26.967747 \n",
            "Iterations 1162 => Loss (MSE): 26.947180 \n",
            "Iterations 1163 => Loss (MSE): 26.926813 \n",
            "Iterations 1164 => Loss (MSE): 26.906647 \n",
            "Iterations 1165 => Loss (MSE): 26.886680 \n",
            "Iterations 1166 => Loss (MSE): 26.866913 \n",
            "Iterations 1167 => Loss (MSE): 26.847347 \n",
            "Iterations 1168 => Loss (MSE): 26.827980 \n",
            "Iterations 1169 => Loss (MSE): 26.826767 \n",
            "Iterations 1170 => Loss (MSE): 26.805067 \n",
            "Iterations 1171 => Loss (MSE): 26.783567 \n",
            "Iterations 1172 => Loss (MSE): 26.762267 \n",
            "Iterations 1173 => Loss (MSE): 26.741167 \n",
            "Iterations 1174 => Loss (MSE): 26.720267 \n",
            "Iterations 1175 => Loss (MSE): 26.699567 \n",
            "Iterations 1176 => Loss (MSE): 26.679067 \n",
            "Iterations 1177 => Loss (MSE): 26.658767 \n",
            "Iterations 1178 => Loss (MSE): 26.638667 \n",
            "Iterations 1179 => Loss (MSE): 26.618767 \n",
            "Iterations 1180 => Loss (MSE): 26.599067 \n",
            "Iterations 1181 => Loss (MSE): 26.579567 \n",
            "Iterations 1182 => Loss (MSE): 26.560267 \n",
            "Iterations 1183 => Loss (MSE): 26.541167 \n",
            "Iterations 1184 => Loss (MSE): 26.522267 \n",
            "Iterations 1185 => Loss (MSE): 26.503567 \n",
            "Iterations 1186 => Loss (MSE): 26.485067 \n",
            "Iterations 1187 => Loss (MSE): 26.484547 \n",
            "Iterations 1188 => Loss (MSE): 26.463713 \n",
            "Iterations 1189 => Loss (MSE): 26.443080 \n",
            "Iterations 1190 => Loss (MSE): 26.422647 \n",
            "Iterations 1191 => Loss (MSE): 26.402413 \n",
            "Iterations 1192 => Loss (MSE): 26.382380 \n",
            "Iterations 1193 => Loss (MSE): 26.362547 \n",
            "Iterations 1194 => Loss (MSE): 26.342913 \n",
            "Iterations 1195 => Loss (MSE): 26.323480 \n",
            "Iterations 1196 => Loss (MSE): 26.304247 \n",
            "Iterations 1197 => Loss (MSE): 26.285213 \n",
            "Iterations 1198 => Loss (MSE): 26.266380 \n",
            "Iterations 1199 => Loss (MSE): 26.247747 \n",
            "Iterations 1200 => Loss (MSE): 26.229313 \n",
            "Iterations 1201 => Loss (MSE): 26.211080 \n",
            "Iterations 1202 => Loss (MSE): 26.193047 \n",
            "Iterations 1203 => Loss (MSE): 26.175213 \n",
            "Iterations 1204 => Loss (MSE): 26.157580 \n",
            "Iterations 1205 => Loss (MSE): 26.140147 \n",
            "Iterations 1206 => Loss (MSE): 26.137787 \n",
            "Iterations 1207 => Loss (MSE): 26.118020 \n",
            "Iterations 1208 => Loss (MSE): 26.098453 \n",
            "Iterations 1209 => Loss (MSE): 26.079087 \n",
            "Iterations 1210 => Loss (MSE): 26.059920 \n",
            "Iterations 1211 => Loss (MSE): 26.040953 \n",
            "Iterations 1212 => Loss (MSE): 26.022187 \n",
            "Iterations 1213 => Loss (MSE): 26.003620 \n",
            "Iterations 1214 => Loss (MSE): 25.985253 \n",
            "Iterations 1215 => Loss (MSE): 25.967087 \n",
            "Iterations 1216 => Loss (MSE): 25.949120 \n",
            "Iterations 1217 => Loss (MSE): 25.931353 \n",
            "Iterations 1218 => Loss (MSE): 25.913787 \n",
            "Iterations 1219 => Loss (MSE): 25.896420 \n",
            "Iterations 1220 => Loss (MSE): 25.879253 \n",
            "Iterations 1221 => Loss (MSE): 25.862287 \n",
            "Iterations 1222 => Loss (MSE): 25.845520 \n",
            "Iterations 1223 => Loss (MSE): 25.828953 \n",
            "Iterations 1224 => Loss (MSE): 25.827287 \n",
            "Iterations 1225 => Loss (MSE): 25.808387 \n",
            "Iterations 1226 => Loss (MSE): 25.789687 \n",
            "Iterations 1227 => Loss (MSE): 25.771187 \n",
            "Iterations 1228 => Loss (MSE): 25.752887 \n",
            "Iterations 1229 => Loss (MSE): 25.734787 \n",
            "Iterations 1230 => Loss (MSE): 25.716887 \n",
            "Iterations 1231 => Loss (MSE): 25.699187 \n",
            "Iterations 1232 => Loss (MSE): 25.681687 \n",
            "Iterations 1233 => Loss (MSE): 25.664387 \n",
            "Iterations 1234 => Loss (MSE): 25.647287 \n",
            "Iterations 1235 => Loss (MSE): 25.630387 \n",
            "Iterations 1236 => Loss (MSE): 25.613687 \n",
            "Iterations 1237 => Loss (MSE): 25.597187 \n",
            "Iterations 1238 => Loss (MSE): 25.580887 \n",
            "Iterations 1239 => Loss (MSE): 25.564787 \n",
            "Iterations 1240 => Loss (MSE): 25.548887 \n",
            "Iterations 1241 => Loss (MSE): 25.533187 \n",
            "Iterations 1242 => Loss (MSE): 25.532213 \n",
            "Iterations 1243 => Loss (MSE): 25.514180 \n",
            "Iterations 1244 => Loss (MSE): 25.496347 \n",
            "Iterations 1245 => Loss (MSE): 25.478713 \n",
            "Iterations 1246 => Loss (MSE): 25.461280 \n",
            "Iterations 1247 => Loss (MSE): 25.444047 \n",
            "Iterations 1248 => Loss (MSE): 25.427013 \n",
            "Iterations 1249 => Loss (MSE): 25.410180 \n",
            "Iterations 1250 => Loss (MSE): 25.393547 \n",
            "Iterations 1251 => Loss (MSE): 25.377113 \n",
            "Iterations 1252 => Loss (MSE): 25.360880 \n",
            "Iterations 1253 => Loss (MSE): 25.344847 \n",
            "Iterations 1254 => Loss (MSE): 25.329013 \n",
            "Iterations 1255 => Loss (MSE): 25.313380 \n",
            "Iterations 1256 => Loss (MSE): 25.297947 \n",
            "Iterations 1257 => Loss (MSE): 25.282713 \n",
            "Iterations 1258 => Loss (MSE): 25.267680 \n",
            "Iterations 1259 => Loss (MSE): 25.252847 \n",
            "Iterations 1260 => Loss (MSE): 25.252567 \n",
            "Iterations 1261 => Loss (MSE): 25.235400 \n",
            "Iterations 1262 => Loss (MSE): 25.218433 \n",
            "Iterations 1263 => Loss (MSE): 25.201667 \n",
            "Iterations 1264 => Loss (MSE): 25.185100 \n",
            "Iterations 1265 => Loss (MSE): 25.168733 \n",
            "Iterations 1266 => Loss (MSE): 25.152567 \n",
            "Iterations 1267 => Loss (MSE): 25.136600 \n",
            "Iterations 1268 => Loss (MSE): 25.120833 \n",
            "Iterations 1269 => Loss (MSE): 25.105267 \n",
            "Iterations 1270 => Loss (MSE): 25.089900 \n",
            "Iterations 1271 => Loss (MSE): 25.074733 \n",
            "Iterations 1272 => Loss (MSE): 25.059767 \n",
            "Iterations 1273 => Loss (MSE): 25.045000 \n",
            "Iterations 1274 => Loss (MSE): 25.030433 \n",
            "Iterations 1275 => Loss (MSE): 25.016067 \n",
            "Iterations 1276 => Loss (MSE): 25.001900 \n",
            "Iterations 1277 => Loss (MSE): 24.987933 \n",
            "Iterations 1278 => Loss (MSE): 24.974167 \n",
            "Iterations 1279 => Loss (MSE): 24.972047 \n",
            "Iterations 1280 => Loss (MSE): 24.955947 \n",
            "Iterations 1281 => Loss (MSE): 24.940047 \n",
            "Iterations 1282 => Loss (MSE): 24.924347 \n",
            "Iterations 1283 => Loss (MSE): 24.908847 \n",
            "Iterations 1284 => Loss (MSE): 24.893547 \n",
            "Iterations 1285 => Loss (MSE): 24.878447 \n",
            "Iterations 1286 => Loss (MSE): 24.863547 \n",
            "Iterations 1287 => Loss (MSE): 24.848847 \n",
            "Iterations 1288 => Loss (MSE): 24.834347 \n",
            "Iterations 1289 => Loss (MSE): 24.820047 \n",
            "Iterations 1290 => Loss (MSE): 24.805947 \n",
            "Iterations 1291 => Loss (MSE): 24.792047 \n",
            "Iterations 1292 => Loss (MSE): 24.778347 \n",
            "Iterations 1293 => Loss (MSE): 24.764847 \n",
            "Iterations 1294 => Loss (MSE): 24.751547 \n",
            "Iterations 1295 => Loss (MSE): 24.738447 \n",
            "Iterations 1296 => Loss (MSE): 24.725547 \n",
            "Iterations 1297 => Loss (MSE): 24.724120 \n",
            "Iterations 1298 => Loss (MSE): 24.708887 \n",
            "Iterations 1299 => Loss (MSE): 24.693853 \n",
            "Iterations 1300 => Loss (MSE): 24.679020 \n",
            "Iterations 1301 => Loss (MSE): 24.664387 \n",
            "Iterations 1302 => Loss (MSE): 24.649953 \n",
            "Iterations 1303 => Loss (MSE): 24.635720 \n",
            "Iterations 1304 => Loss (MSE): 24.621687 \n",
            "Iterations 1305 => Loss (MSE): 24.607853 \n",
            "Iterations 1306 => Loss (MSE): 24.594220 \n",
            "Iterations 1307 => Loss (MSE): 24.580787 \n",
            "Iterations 1308 => Loss (MSE): 24.567553 \n",
            "Iterations 1309 => Loss (MSE): 24.554520 \n",
            "Iterations 1310 => Loss (MSE): 24.541687 \n",
            "Iterations 1311 => Loss (MSE): 24.529053 \n",
            "Iterations 1312 => Loss (MSE): 24.516620 \n",
            "Iterations 1313 => Loss (MSE): 24.504387 \n",
            "Iterations 1314 => Loss (MSE): 24.492353 \n",
            "Iterations 1315 => Loss (MSE): 24.491620 \n",
            "Iterations 1316 => Loss (MSE): 24.477253 \n",
            "Iterations 1317 => Loss (MSE): 24.463087 \n",
            "Iterations 1318 => Loss (MSE): 24.449120 \n",
            "Iterations 1319 => Loss (MSE): 24.435353 \n",
            "Iterations 1320 => Loss (MSE): 24.421787 \n",
            "Iterations 1321 => Loss (MSE): 24.408420 \n",
            "Iterations 1322 => Loss (MSE): 24.395253 \n",
            "Iterations 1323 => Loss (MSE): 24.382287 \n",
            "Iterations 1324 => Loss (MSE): 24.369520 \n",
            "Iterations 1325 => Loss (MSE): 24.356953 \n",
            "Iterations 1326 => Loss (MSE): 24.344587 \n",
            "Iterations 1327 => Loss (MSE): 24.332420 \n",
            "Iterations 1328 => Loss (MSE): 24.320453 \n",
            "Iterations 1329 => Loss (MSE): 24.308687 \n",
            "Iterations 1330 => Loss (MSE): 24.297120 \n",
            "Iterations 1331 => Loss (MSE): 24.285753 \n",
            "Iterations 1332 => Loss (MSE): 24.274587 \n",
            "Iterations 1333 => Loss (MSE): 24.274547 \n",
            "Iterations 1334 => Loss (MSE): 24.261047 \n",
            "Iterations 1335 => Loss (MSE): 24.247747 \n",
            "Iterations 1336 => Loss (MSE): 24.234647 \n",
            "Iterations 1337 => Loss (MSE): 24.221747 \n",
            "Iterations 1338 => Loss (MSE): 24.209047 \n",
            "Iterations 1339 => Loss (MSE): 24.196547 \n",
            "Iterations 1340 => Loss (MSE): 24.184247 \n",
            "Iterations 1341 => Loss (MSE): 24.172147 \n",
            "Iterations 1342 => Loss (MSE): 24.160247 \n",
            "Iterations 1343 => Loss (MSE): 24.148547 \n",
            "Iterations 1344 => Loss (MSE): 24.137047 \n",
            "Iterations 1345 => Loss (MSE): 24.125747 \n",
            "Iterations 1346 => Loss (MSE): 24.114647 \n",
            "Iterations 1347 => Loss (MSE): 24.103747 \n",
            "Iterations 1348 => Loss (MSE): 24.093047 \n",
            "Iterations 1349 => Loss (MSE): 24.082547 \n",
            "Iterations 1350 => Loss (MSE): 24.072247 \n",
            "Iterations 1351 => Loss (MSE): 24.062147 \n",
            "Iterations 1352 => Loss (MSE): 24.060267 \n",
            "Iterations 1353 => Loss (MSE): 24.047833 \n",
            "Iterations 1354 => Loss (MSE): 24.035600 \n",
            "Iterations 1355 => Loss (MSE): 24.023567 \n",
            "Iterations 1356 => Loss (MSE): 24.011733 \n",
            "Iterations 1357 => Loss (MSE): 24.000100 \n",
            "Iterations 1358 => Loss (MSE): 23.988667 \n",
            "Iterations 1359 => Loss (MSE): 23.977433 \n",
            "Iterations 1360 => Loss (MSE): 23.966400 \n",
            "Iterations 1361 => Loss (MSE): 23.955567 \n",
            "Iterations 1362 => Loss (MSE): 23.944933 \n",
            "Iterations 1363 => Loss (MSE): 23.934500 \n",
            "Iterations 1364 => Loss (MSE): 23.924267 \n",
            "Iterations 1365 => Loss (MSE): 23.914233 \n",
            "Iterations 1366 => Loss (MSE): 23.904400 \n",
            "Iterations 1367 => Loss (MSE): 23.894767 \n",
            "Iterations 1368 => Loss (MSE): 23.885333 \n",
            "Iterations 1369 => Loss (MSE): 23.876100 \n",
            "Iterations 1370 => Loss (MSE): 23.874913 \n",
            "Iterations 1371 => Loss (MSE): 23.863347 \n",
            "Iterations 1372 => Loss (MSE): 23.851980 \n",
            "Iterations 1373 => Loss (MSE): 23.840813 \n",
            "Iterations 1374 => Loss (MSE): 23.829847 \n",
            "Iterations 1375 => Loss (MSE): 23.819080 \n",
            "Iterations 1376 => Loss (MSE): 23.808513 \n",
            "Iterations 1377 => Loss (MSE): 23.798147 \n",
            "Iterations 1378 => Loss (MSE): 23.787980 \n",
            "Iterations 1379 => Loss (MSE): 23.778013 \n",
            "Iterations 1380 => Loss (MSE): 23.768247 \n",
            "Iterations 1381 => Loss (MSE): 23.758680 \n",
            "Iterations 1382 => Loss (MSE): 23.749313 \n",
            "Iterations 1383 => Loss (MSE): 23.740147 \n",
            "Iterations 1384 => Loss (MSE): 23.731180 \n",
            "Iterations 1385 => Loss (MSE): 23.722413 \n",
            "Iterations 1386 => Loss (MSE): 23.713847 \n",
            "Iterations 1387 => Loss (MSE): 23.705480 \n",
            "Iterations 1388 => Loss (MSE): 23.704987 \n",
            "Iterations 1389 => Loss (MSE): 23.694287 \n",
            "Iterations 1390 => Loss (MSE): 23.683787 \n",
            "Iterations 1391 => Loss (MSE): 23.673487 \n",
            "Iterations 1392 => Loss (MSE): 23.663387 \n",
            "Iterations 1393 => Loss (MSE): 23.653487 \n",
            "Iterations 1394 => Loss (MSE): 23.643787 \n",
            "Iterations 1395 => Loss (MSE): 23.634287 \n",
            "Iterations 1396 => Loss (MSE): 23.624987 \n",
            "Iterations 1397 => Loss (MSE): 23.615887 \n",
            "Iterations 1398 => Loss (MSE): 23.606987 \n",
            "Iterations 1399 => Loss (MSE): 23.598287 \n",
            "Iterations 1400 => Loss (MSE): 23.589787 \n",
            "Iterations 1401 => Loss (MSE): 23.581487 \n",
            "Iterations 1402 => Loss (MSE): 23.573387 \n",
            "Iterations 1403 => Loss (MSE): 23.565487 \n",
            "Iterations 1404 => Loss (MSE): 23.557787 \n",
            "Iterations 1405 => Loss (MSE): 23.550287 \n",
            "Iterations 1406 => Loss (MSE): 23.542987 \n",
            "Iterations 1407 => Loss (MSE): 23.540653 \n",
            "Iterations 1408 => Loss (MSE): 23.531020 \n",
            "Iterations 1409 => Loss (MSE): 23.521587 \n",
            "Iterations 1410 => Loss (MSE): 23.512353 \n",
            "Iterations 1411 => Loss (MSE): 23.503320 \n",
            "Iterations 1412 => Loss (MSE): 23.494487 \n",
            "Iterations 1413 => Loss (MSE): 23.485853 \n",
            "Iterations 1414 => Loss (MSE): 23.477420 \n",
            "Iterations 1415 => Loss (MSE): 23.469187 \n",
            "Iterations 1416 => Loss (MSE): 23.461153 \n",
            "Iterations 1417 => Loss (MSE): 23.453320 \n",
            "Iterations 1418 => Loss (MSE): 23.445687 \n",
            "Iterations 1419 => Loss (MSE): 23.438253 \n",
            "Iterations 1420 => Loss (MSE): 23.431020 \n",
            "Iterations 1421 => Loss (MSE): 23.423987 \n",
            "Iterations 1422 => Loss (MSE): 23.417153 \n",
            "Iterations 1423 => Loss (MSE): 23.410520 \n",
            "Iterations 1424 => Loss (MSE): 23.404087 \n",
            "Iterations 1425 => Loss (MSE): 23.402447 \n",
            "Iterations 1426 => Loss (MSE): 23.393680 \n",
            "Iterations 1427 => Loss (MSE): 23.385113 \n",
            "Iterations 1428 => Loss (MSE): 23.376747 \n",
            "Iterations 1429 => Loss (MSE): 23.368580 \n",
            "Iterations 1430 => Loss (MSE): 23.360613 \n",
            "Iterations 1431 => Loss (MSE): 23.352847 \n",
            "Iterations 1432 => Loss (MSE): 23.345280 \n",
            "Iterations 1433 => Loss (MSE): 23.337913 \n",
            "Iterations 1434 => Loss (MSE): 23.330747 \n",
            "Iterations 1435 => Loss (MSE): 23.323780 \n",
            "Iterations 1436 => Loss (MSE): 23.317013 \n",
            "Iterations 1437 => Loss (MSE): 23.310447 \n",
            "Iterations 1438 => Loss (MSE): 23.304080 \n",
            "Iterations 1439 => Loss (MSE): 23.297913 \n",
            "Iterations 1440 => Loss (MSE): 23.291947 \n",
            "Iterations 1441 => Loss (MSE): 23.286180 \n",
            "Iterations 1442 => Loss (MSE): 23.280613 \n",
            "Iterations 1443 => Loss (MSE): 23.279667 \n",
            "Iterations 1444 => Loss (MSE): 23.271767 \n",
            "Iterations 1445 => Loss (MSE): 23.264067 \n",
            "Iterations 1446 => Loss (MSE): 23.256567 \n",
            "Iterations 1447 => Loss (MSE): 23.249267 \n",
            "Iterations 1448 => Loss (MSE): 23.242167 \n",
            "Iterations 1449 => Loss (MSE): 23.235267 \n",
            "Iterations 1450 => Loss (MSE): 23.228567 \n",
            "Iterations 1451 => Loss (MSE): 23.222067 \n",
            "Iterations 1452 => Loss (MSE): 23.215767 \n",
            "Iterations 1453 => Loss (MSE): 23.209667 \n",
            "Iterations 1454 => Loss (MSE): 23.203767 \n",
            "Iterations 1455 => Loss (MSE): 23.198067 \n",
            "Iterations 1456 => Loss (MSE): 23.192567 \n",
            "Iterations 1457 => Loss (MSE): 23.187267 \n",
            "Iterations 1458 => Loss (MSE): 23.182167 \n",
            "Iterations 1459 => Loss (MSE): 23.177267 \n",
            "Iterations 1460 => Loss (MSE): 23.172567 \n",
            "Iterations 1461 => Loss (MSE): 23.172313 \n",
            "Iterations 1462 => Loss (MSE): 23.165280 \n",
            "Iterations 1463 => Loss (MSE): 23.158447 \n",
            "Iterations 1464 => Loss (MSE): 23.151813 \n",
            "Iterations 1465 => Loss (MSE): 23.145380 \n",
            "Iterations 1466 => Loss (MSE): 23.139147 \n",
            "Iterations 1467 => Loss (MSE): 23.133113 \n",
            "Iterations 1468 => Loss (MSE): 23.127280 \n",
            "Iterations 1469 => Loss (MSE): 23.121647 \n",
            "Iterations 1470 => Loss (MSE): 23.116213 \n",
            "Iterations 1471 => Loss (MSE): 23.110980 \n",
            "Iterations 1472 => Loss (MSE): 23.105947 \n",
            "Iterations 1473 => Loss (MSE): 23.101113 \n",
            "Iterations 1474 => Loss (MSE): 23.096480 \n",
            "Iterations 1475 => Loss (MSE): 23.092047 \n",
            "Iterations 1476 => Loss (MSE): 23.087813 \n",
            "Iterations 1477 => Loss (MSE): 23.083780 \n",
            "Iterations 1478 => Loss (MSE): 23.079947 \n",
            "Iterations 1479 => Loss (MSE): 23.076313 \n",
            "Iterations 1480 => Loss (MSE): 23.074220 \n",
            "Iterations 1481 => Loss (MSE): 23.068253 \n",
            "Iterations 1482 => Loss (MSE): 23.062487 \n",
            "Iterations 1483 => Loss (MSE): 23.056920 \n",
            "Iterations 1484 => Loss (MSE): 23.051553 \n",
            "Iterations 1485 => Loss (MSE): 23.046387 \n",
            "Iterations 1486 => Loss (MSE): 23.041420 \n",
            "Iterations 1487 => Loss (MSE): 23.036653 \n",
            "Iterations 1488 => Loss (MSE): 23.032087 \n",
            "Iterations 1489 => Loss (MSE): 23.027720 \n",
            "Iterations 1490 => Loss (MSE): 23.023553 \n",
            "Iterations 1491 => Loss (MSE): 23.019587 \n",
            "Iterations 1492 => Loss (MSE): 23.015820 \n",
            "Iterations 1493 => Loss (MSE): 23.012253 \n",
            "Iterations 1494 => Loss (MSE): 23.008887 \n",
            "Iterations 1495 => Loss (MSE): 23.005720 \n",
            "Iterations 1496 => Loss (MSE): 23.002753 \n",
            "Iterations 1497 => Loss (MSE): 22.999987 \n",
            "Iterations 1498 => Loss (MSE): 22.998587 \n",
            "Iterations 1499 => Loss (MSE): 22.993487 \n",
            "Iterations 1500 => Loss (MSE): 22.988587 \n",
            "Iterations 1501 => Loss (MSE): 22.983887 \n",
            "Iterations 1502 => Loss (MSE): 22.979387 \n",
            "Iterations 1503 => Loss (MSE): 22.975087 \n",
            "Iterations 1504 => Loss (MSE): 22.970987 \n",
            "Iterations 1505 => Loss (MSE): 22.967087 \n",
            "Iterations 1506 => Loss (MSE): 22.963387 \n",
            "Iterations 1507 => Loss (MSE): 22.959887 \n",
            "Iterations 1508 => Loss (MSE): 22.956587 \n",
            "Iterations 1509 => Loss (MSE): 22.953487 \n",
            "Iterations 1510 => Loss (MSE): 22.950587 \n",
            "Iterations 1511 => Loss (MSE): 22.947887 \n",
            "Iterations 1512 => Loss (MSE): 22.945387 \n",
            "Iterations 1513 => Loss (MSE): 22.943087 \n",
            "Iterations 1514 => Loss (MSE): 22.940987 \n",
            "Iterations 1515 => Loss (MSE): 22.939087 \n",
            "Iterations 1516 => Loss (MSE): 22.938380 \n",
            "Iterations 1517 => Loss (MSE): 22.934147 \n",
            "Iterations 1518 => Loss (MSE): 22.930113 \n",
            "Iterations 1519 => Loss (MSE): 22.926280 \n",
            "Iterations 1520 => Loss (MSE): 22.922647 \n",
            "Iterations 1521 => Loss (MSE): 22.919213 \n",
            "Iterations 1522 => Loss (MSE): 22.915980 \n",
            "Iterations 1523 => Loss (MSE): 22.912947 \n",
            "Iterations 1524 => Loss (MSE): 22.910113 \n",
            "Iterations 1525 => Loss (MSE): 22.907480 \n",
            "Iterations 1526 => Loss (MSE): 22.905047 \n",
            "Iterations 1527 => Loss (MSE): 22.902813 \n",
            "Iterations 1528 => Loss (MSE): 22.900780 \n",
            "Iterations 1529 => Loss (MSE): 22.898947 \n",
            "Iterations 1530 => Loss (MSE): 22.897313 \n",
            "Iterations 1531 => Loss (MSE): 22.895880 \n",
            "Iterations 1532 => Loss (MSE): 22.894647 \n",
            "Iterations 1533 => Loss (MSE): 22.893613 \n",
            "Iterations 1534 => Loss (MSE): 22.893600 \n",
            "Iterations 1535 => Loss (MSE): 22.890233 \n",
            "Iterations 1536 => Loss (MSE): 22.887067 \n",
            "Iterations 1537 => Loss (MSE): 22.884100 \n",
            "Iterations 1538 => Loss (MSE): 22.881333 \n",
            "Iterations 1539 => Loss (MSE): 22.878767 \n",
            "Iterations 1540 => Loss (MSE): 22.876400 \n",
            "Iterations 1541 => Loss (MSE): 22.874233 \n",
            "Iterations 1542 => Loss (MSE): 22.872267 \n",
            "Iterations 1543 => Loss (MSE): 22.870500 \n",
            "Iterations 1544 => Loss (MSE): 22.868933 \n",
            "Iterations 1545 => Loss (MSE): 22.867567 \n",
            "Iterations 1546 => Loss (MSE): 22.866400 \n",
            "Iterations 1547 => Loss (MSE): 22.865433 \n",
            "Iterations 1548 => Loss (MSE): 22.864667 \n",
            "Iterations 1549 => Loss (MSE): 22.864100 \n",
            "Iterations 1550 => Loss (MSE): 22.863733 \n",
            "Iterations 1551 => Loss (MSE): 22.863567 \n",
            "Best w: 1.1000000000000008, Best b: 12.929999999999769\n"
          ]
        }
      ]
    },
    {
      "cell_type": "code",
      "source": [
        "print(f'Roberto will sell {w:.2f} times the number of reservations in pizzas. If he has 0 reservations, he will sell {b:.2f} pizzas.')"
      ],
      "metadata": {
        "colab": {
          "base_uri": "https://localhost:8080/"
        },
        "id": "R_8M2rasX3Mn",
        "outputId": "f4380485-4582-447a-c5f0-e218b0beaed6"
      },
      "execution_count": null,
      "outputs": [
        {
          "output_type": "stream",
          "name": "stdout",
          "text": [
            "Roberto will sell 1.10 times the number of reservations in pizzas. If he has 0 reservations, he will sell 12.93 pizzas.\n"
          ]
        }
      ]
    },
    {
      "cell_type": "code",
      "source": [
        "y_line = w*x_line+b\n",
        "\n",
        "plt.figure()\n",
        "plt.scatter(X,Y)\n",
        "plt.plot(x_line,y_line, 'r')\n",
        "plt.xlim(0,30)\n",
        "plt.ylim(0,60)\n",
        "plt.xlabel('Number of reservations')\n",
        "plt.ylabel('Number of pizzas')\n",
        "plt.show()"
      ],
      "metadata": {
        "id": "pSxrCgCoDXeE",
        "colab": {
          "base_uri": "https://localhost:8080/",
          "height": 289
        },
        "outputId": "92933a0c-daf6-4199-ec7f-da1ced8346ca"
      },
      "execution_count": null,
      "outputs": [
        {
          "output_type": "display_data",
          "data": {
            "text/plain": [
              "<Figure size 432x288 with 1 Axes>"
            ],
            "image/png": "[encoded data removed]"
          },
          "metadata": {}
        }
      ]
    },
    {
      "cell_type": "markdown",
      "source": [
        "Now we’re really talking! This line approximates the examples much better, and it crosses the y axis at a value equal to b. Even better, our final loss is lower than it used to be, which means that we’re more accurate than ever at forecasting pizza sales. Roberto will be delighted! "
      ],
      "metadata": {
        "id": "aLPsCPiiD_TL"
      }
    },
    {
      "cell_type": "markdown",
      "source": [
        "# Summary\n",
        "\n",
        "* A supervised learning system learns from examples composed of input variables and labels.\n",
        "  * In our case, the input variables were the number of reservations, and the\n",
        "labels were the number of pizzas.\n",
        "\n",
        "* Supervised learning works by approximating the examples with a function, also called the model. \n",
        "  * In our first program, the model is a line identified by two parameters—the weight and the bias. \n",
        "  * This idea of approximating the examples with a line is called linear regression.\n",
        "\n",
        "* The first phase of supervised learning is the `training phase`, when the system learn the parameters of the model to approximate the examples.\n",
        "  * During this search, the system is guided by a `loss function` that measures the distance between the current model and the ground truth: the lower the loss, the better the model. \n",
        "  * Our program calculates the loss with a formula called the mean\n",
        "squared error. \n",
        "  * The result of training are a weight and a bias—the ones that\n",
        "result in the lowest loss that the system could find.\n",
        "\n",
        "* The parameters found during the `training phase` are then used during the\n",
        "second phase of supervised learning: the `prediction phase`. \n",
        "  * This phase passes an unlabeled input through the parametrized model. The result is a forecast / prediction / estimation, such as: “Tonight, you can expect to sell 42 pizzas.\n",
        "\n",
        "\n",
        "Congratulations, you programmed your first supervised learning algorithm!!!"
      ],
      "metadata": {
        "id": "pJcHheNyEzG0"
      }
    },
    {
      "cell_type": "code",
      "source": [],
      "metadata": {
        "id": "8GMM-SecFukL"
      },
      "execution_count": null,
      "outputs": []
    }
  ]
}