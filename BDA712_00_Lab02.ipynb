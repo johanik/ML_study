{
  "cells": [
    {
      "cell_type": "markdown",
      "metadata": {
        "id": "pptbN6S1xdQW"
      },
      "source": [
        "# Lab Session \\# 02\n",
        "\n",
        "\n",
        "---\n",
        "\n",
        "\n",
        "by Josué Obregón <br>\n",
        "BDA712-00 - Machine Learning Programming <br>\n",
        "Department of Big Data Analytics - Kyung Hee University<br>\n",
        "\n",
        "## Objective\n",
        "\n",
        "The objective of this lab session is to familiarize the student with scientific and ploting python libraries: Numpy and matplotlib.\n"
      ]
    },
    {
      "cell_type": "markdown",
      "metadata": {
        "id": "mjxFNW0TxdQZ"
      },
      "source": [
        "![](https://miro.medium.com/max/2400/0*eNwKHW934I1awMzH.png)\n",
        "\n",
        "# NumPy\n",
        "\n",
        "\n",
        "---\n",
        "\n",
        "\n"
      ]
    },
    {
      "cell_type": "markdown",
      "source": [
        "## Introduction\n",
        "\n",
        "The `numpy` package (module) is used in almost all numerical computation using Python. It is a package that provide high-performance vector, matrix and higher-dimensional data structures for Python. It is implemented in C and Fortran so when calculations are **vectorized** * (formulated with vectors and matrices), the performance is very good. \n",
        "\n",
        "Vectorization is the process of converting an algorithm from operating on a single value at a time to operating on a set of values (vector) at one time. \n",
        "\n",
        "To use `numpy` you need to import the module. By convention, the NumPy module imported under the alias np, like so::\n",
        "\n",
        "```python\n",
        "import numpy as np\n",
        "```\n",
        "\n",
        "After this, we can access functions and classes in the numpy module using the np namespace.\n"
      ],
      "metadata": {
        "id": "fRE8jJS5yTQ2"
      }
    },
    {
      "cell_type": "markdown",
      "source": [
        "### NumPy arrays\n",
        "In the numpy package the terminology used for vectors, matrices and higher-dimensional data sets is *array*.\n",
        "\n",
        "But first, what is an array? Let's refresh a bit.\n",
        "\n",
        "\n",
        "![](https://i.imgur.com/mg8O3kd.png)"
      ],
      "metadata": {
        "id": "ALwwMc-WyBmW"
      }
    },
    {
      "cell_type": "markdown",
      "metadata": {
        "id": "eZir0G9KxdQc"
      },
      "source": [
        "## Creating `numpy` arrays"
      ]
    },
    {
      "cell_type": "markdown",
      "metadata": {
        "id": "SQNx98sTxdQd"
      },
      "source": [
        "There are a number of ways to initialize new numpy arrays, for example from\n",
        "\n",
        "* a Python list or tuples\n",
        "* using functions that are dedicated to generating numpy arrays, such as `arange`, `linspace`, etc.\n",
        "* reading data from files"
      ]
    },
    {
      "cell_type": "markdown",
      "metadata": {
        "id": "_7gvo6xnxdQd"
      },
      "source": [
        "### From lists"
      ]
    },
    {
      "cell_type": "markdown",
      "metadata": {
        "id": "j-anjcfExdQd"
      },
      "source": [
        "For example, for creating a new vector and matrix arrays from Python lists we can use the `numpy.array` function, as follows:\n",
        "\n",
        "```python\n",
        "# a vector (1D array): the argument to the array function is a Python list\n",
        "vec = np.array([1,2,3,4])\n",
        "```\n",
        "\n",
        "```python\n",
        "# a matrix: the argument to the array function is a nested Python list\n",
        "mat = np.array([[1, 2], [3, 4]])\n",
        "```\n",
        "\n",
        "Lets try!!"
      ]
    },
    {
      "cell_type": "code",
      "source": [
        "import numpy as np \n",
        "vec = np.array([1,2,3,4])\n",
        "vec"
      ],
      "metadata": {
        "id": "LKmWKCAG8a_J",
        "colab": {
          "base_uri": "https://localhost:8080/"
        },
        "outputId": "a1f7b5b3-8319-4e98-8d82-3dc04a5fc649"
      },
      "execution_count": 3,
      "outputs": [
        {
          "output_type": "execute_result",
          "data": {
            "text/plain": [
              "array([1, 2, 3, 4])"
            ]
          },
          "metadata": {},
          "execution_count": 3
        }
      ]
    },
    {
      "cell_type": "code",
      "source": [
        "mat3 = np.array([[1, 2], [3, 4], [5, 6]])\n",
        "mat3"
      ],
      "metadata": {
        "id": "hKVR1Knc-6MB",
        "colab": {
          "base_uri": "https://localhost:8080/"
        },
        "outputId": "35566b8b-053f-4f52-a8c6-d9361702b168"
      },
      "execution_count": 9,
      "outputs": [
        {
          "output_type": "execute_result",
          "data": {
            "text/plain": [
              "array([[1, 2],\n",
              "       [3, 4],\n",
              "       [5, 6]])"
            ]
          },
          "metadata": {},
          "execution_count": 9
        }
      ]
    },
    {
      "cell_type": "code",
      "source": [
        "mat3.shape"
      ],
      "metadata": {
        "id": "9w10aKhI-5wP",
        "colab": {
          "base_uri": "https://localhost:8080/"
        },
        "outputId": "55398462-6434-4cae-81ad-60f3174aba24"
      },
      "execution_count": 10,
      "outputs": [
        {
          "output_type": "execute_result",
          "data": {
            "text/plain": [
              "(3, 2)"
            ]
          },
          "metadata": {},
          "execution_count": 10
        }
      ]
    },
    {
      "cell_type": "code",
      "execution_count": 12,
      "metadata": {
        "id": "CELDnTFsxdQe",
        "colab": {
          "base_uri": "https://localhost:8080/"
        },
        "outputId": "6a9bd8f2-0c3b-464e-f059-6c9efe150b85"
      },
      "outputs": [
        {
          "output_type": "execute_result",
          "data": {
            "text/plain": [
              "(numpy.ndarray, numpy.ndarray)"
            ]
          },
          "metadata": {},
          "execution_count": 12
        }
      ],
      "source": [
        "type(vec), type(mat3)"
      ]
    },
    {
      "cell_type": "code",
      "source": [],
      "metadata": {
        "id": "em_ueJHF8P1t"
      },
      "execution_count": null,
      "outputs": []
    },
    {
      "cell_type": "code",
      "source": [],
      "metadata": {
        "id": "l7Zf7RP08QBp"
      },
      "execution_count": null,
      "outputs": []
    },
    {
      "cell_type": "markdown",
      "metadata": {
        "id": "HeGMecOLxdQf"
      },
      "source": [
        "The `vec` and `mat` objects are both of the type `ndarray` that the `numpy` module provides. Let's check!\n",
        "\n",
        "```python\n",
        "type(vec), type(mat)\n",
        "```"
      ]
    },
    {
      "cell_type": "code",
      "execution_count": null,
      "metadata": {
        "id": "5UmW56fGxdQf"
      },
      "outputs": [],
      "source": []
    },
    {
      "cell_type": "markdown",
      "metadata": {
        "id": "C_T81GpxxdQf"
      },
      "source": [
        "The difference between the `vec` and `mat` arrays is only their shapes. We can get information about the shape of an array by using the `ndarray.shape` property.\n",
        "\n",
        "```python\n",
        "vec.shape # => (4,)\n",
        "```"
      ]
    },
    {
      "cell_type": "code",
      "execution_count": 13,
      "metadata": {
        "id": "iTpJBCf8xdQf",
        "colab": {
          "base_uri": "https://localhost:8080/"
        },
        "outputId": "b0b8af8f-c131-4a4b-83d1-4e9eb1c29d22"
      },
      "outputs": [
        {
          "output_type": "execute_result",
          "data": {
            "text/plain": [
              "(4,)"
            ]
          },
          "metadata": {},
          "execution_count": 13
        }
      ],
      "source": [
        "vec.shape"
      ]
    },
    {
      "cell_type": "code",
      "execution_count": 14,
      "metadata": {
        "id": "cZHc9xmLxdQg",
        "colab": {
          "base_uri": "https://localhost:8080/"
        },
        "outputId": "5456e6e0-3094-4383-c0e6-942a7f0e7d1a"
      },
      "outputs": [
        {
          "output_type": "execute_result",
          "data": {
            "text/plain": [
              "(2, 2)"
            ]
          },
          "metadata": {},
          "execution_count": 14
        }
      ],
      "source": [
        "mat.shape"
      ]
    },
    {
      "cell_type": "code",
      "source": [
        "mat3.shape"
      ],
      "metadata": {
        "colab": {
          "base_uri": "https://localhost:8080/"
        },
        "id": "vSBYUE9VtpTW",
        "outputId": "c3af5229-1db6-48e2-8cbb-fbeee87471dc"
      },
      "execution_count": 15,
      "outputs": [
        {
          "output_type": "execute_result",
          "data": {
            "text/plain": [
              "(3, 2)"
            ]
          },
          "metadata": {},
          "execution_count": 15
        }
      ]
    },
    {
      "cell_type": "code",
      "source": [],
      "metadata": {
        "id": "oVev6fLptpVt"
      },
      "execution_count": null,
      "outputs": []
    },
    {
      "cell_type": "code",
      "source": [],
      "metadata": {
        "id": "ypMWxhSCtpag"
      },
      "execution_count": null,
      "outputs": []
    },
    {
      "cell_type": "markdown",
      "source": [
        "Let,s check this figure again\n",
        "\n",
        "\n",
        "![](https://i.imgur.com/mg8O3kd.png)\n",
        "\n",
        "Let's create a 3D array"
      ],
      "metadata": {
        "id": "6eUj3qEsAamy"
      }
    },
    {
      "cell_type": "code",
      "source": [],
      "metadata": {
        "id": "dKBLKM9-AZW1"
      },
      "execution_count": null,
      "outputs": []
    },
    {
      "cell_type": "code",
      "source": [],
      "metadata": {
        "id": "RCsIiUXEApGM"
      },
      "execution_count": null,
      "outputs": []
    },
    {
      "cell_type": "markdown",
      "metadata": {
        "id": "joTLGdx4xdQg"
      },
      "source": [
        "The number of elements in the array is available through the `ndarray.size` property:\n",
        "\n",
        "```python\n",
        "vec.size # => 4\n",
        "mat.size  # => 4\n",
        "```\n",
        "\n",
        "Let's try..."
      ]
    },
    {
      "cell_type": "code",
      "execution_count": 16,
      "metadata": {
        "id": "dm6d6aToxdQg",
        "colab": {
          "base_uri": "https://localhost:8080/"
        },
        "outputId": "9bb5db2d-7f70-4627-9a8f-72ef923350f0"
      },
      "outputs": [
        {
          "output_type": "execute_result",
          "data": {
            "text/plain": [
              "4"
            ]
          },
          "metadata": {},
          "execution_count": 16
        }
      ],
      "source": [
        "vec.size"
      ]
    },
    {
      "cell_type": "code",
      "source": [
        "mat3.size"
      ],
      "metadata": {
        "colab": {
          "base_uri": "https://localhost:8080/"
        },
        "id": "joFshJfvt6t7",
        "outputId": "2d424488-76a5-4f92-da54-9fa6ee539397"
      },
      "execution_count": 17,
      "outputs": [
        {
          "output_type": "execute_result",
          "data": {
            "text/plain": [
              "6"
            ]
          },
          "metadata": {},
          "execution_count": 17
        }
      ]
    },
    {
      "cell_type": "code",
      "source": [
        "np.shape(mat3)"
      ],
      "metadata": {
        "colab": {
          "base_uri": "https://localhost:8080/"
        },
        "id": "v-hi35V8t6wk",
        "outputId": "c1b52eef-9a0c-49ee-e830-53c0adf8f8f1"
      },
      "execution_count": 19,
      "outputs": [
        {
          "output_type": "execute_result",
          "data": {
            "text/plain": [
              "(3, 2)"
            ]
          },
          "metadata": {},
          "execution_count": 19
        }
      ]
    },
    {
      "cell_type": "code",
      "source": [],
      "metadata": {
        "id": "XEkdyMqut6zR"
      },
      "execution_count": null,
      "outputs": []
    },
    {
      "cell_type": "markdown",
      "metadata": {
        "id": "kc7Ygyo8xdQg"
      },
      "source": [
        "Equivalently, we could use the function `numpy.shape` and `numpy.size`\n",
        "\n",
        "```python\n",
        "np.shape(vec)\n",
        "np.size(mat)\n",
        "```\n",
        "\n",
        "Try it out!"
      ]
    },
    {
      "cell_type": "code",
      "execution_count": null,
      "metadata": {
        "id": "ohnKTAMRxdQh"
      },
      "outputs": [],
      "source": []
    },
    {
      "cell_type": "code",
      "execution_count": null,
      "metadata": {
        "id": "2omk7jUmxdQh"
      },
      "outputs": [],
      "source": []
    },
    {
      "cell_type": "markdown",
      "metadata": {
        "id": "ZIXhV94PxdQh"
      },
      "source": [
        "So far the `numpy.ndarray` looks awefully much like a Python list (or nested list). Why not simply use Python lists for computations instead of creating a new array type? \n",
        "\n",
        "There are several reasons:\n",
        "\n",
        "* Python lists are very general. They can contain any kind of object. They are dynamically typed. They do not support mathematical functions such as matrix and dot multiplications, etc. Implementing such functions for Python lists would not be very efficient because of the dynamic typing.\n",
        "* Numpy arrays are **statically typed** and **homogeneous**. The type of the elements is determined when the array is created.\n",
        "* Numpy arrays are memory efficient.\n",
        "* Because of the static typing, fast implementation of mathematical functions such as multiplication and addition of `numpy` arrays can be implemented in a compiled language (C and Fortran is used).\n",
        "\n",
        "Using the `dtype` (data type) property of an `ndarray`, we can see what type the data of an array has:\n",
        "\n",
        "```python\n",
        "mat.dtype  # => dtype('int64')\n",
        "```"
      ]
    },
    {
      "cell_type": "code",
      "execution_count": 20,
      "metadata": {
        "id": "-FiQsp7txdQh",
        "colab": {
          "base_uri": "https://localhost:8080/"
        },
        "outputId": "ed953826-84f3-4bd2-b7b5-0a1b1b437103"
      },
      "outputs": [
        {
          "output_type": "execute_result",
          "data": {
            "text/plain": [
              "dtype('int64')"
            ]
          },
          "metadata": {},
          "execution_count": 20
        }
      ],
      "source": [
        "mat3.dtype  # => dtype('int64') "
      ]
    },
    {
      "cell_type": "code",
      "source": [
        "vec.dtype"
      ],
      "metadata": {
        "colab": {
          "base_uri": "https://localhost:8080/"
        },
        "id": "hzXPsoMWu8cU",
        "outputId": "df0172ce-3f21-4e49-c753-af04219e4454"
      },
      "execution_count": 21,
      "outputs": [
        {
          "output_type": "execute_result",
          "data": {
            "text/plain": [
              "dtype('int64')"
            ]
          },
          "metadata": {},
          "execution_count": 21
        }
      ]
    },
    {
      "cell_type": "markdown",
      "metadata": {
        "id": "06u5MzBaxdQi"
      },
      "source": [
        "We get an error if we try to assign a value of the wrong type to an element in a numpy array:\n",
        "\n",
        "```python\n",
        "mat[0,0] = \"hello\"\n",
        "```"
      ]
    },
    {
      "cell_type": "code",
      "execution_count": 22,
      "metadata": {
        "id": "PWXrB1fDxdQi"
      },
      "outputs": [],
      "source": [
        "mat[0,0] = 5"
      ]
    },
    {
      "cell_type": "markdown",
      "metadata": {
        "id": "qyqpqrqfxdQi"
      },
      "source": [
        "If we want, we can explicitly define the type of the array data when we create it, using the `dtype` keyword argument: \n",
        "\n",
        "```python\n",
        "mat = np.array([[1, 2], [3, 4]], dtype=complex)\n",
        "```"
      ]
    },
    {
      "cell_type": "code",
      "execution_count": 23,
      "metadata": {
        "id": "p8G0Sgj_xdQi"
      },
      "outputs": [],
      "source": [
        "mat = np.array([[1, 2], [3, 4]], dtype=complex)"
      ]
    },
    {
      "cell_type": "code",
      "source": [
        "mat.dtype"
      ],
      "metadata": {
        "colab": {
          "base_uri": "https://localhost:8080/"
        },
        "id": "NqApJAoMvRiX",
        "outputId": "253d2dfa-6298-46e6-b0c3-eb8b2472dc84"
      },
      "execution_count": 25,
      "outputs": [
        {
          "output_type": "execute_result",
          "data": {
            "text/plain": [
              "dtype('complex128')"
            ]
          },
          "metadata": {},
          "execution_count": 25
        }
      ]
    },
    {
      "cell_type": "markdown",
      "metadata": {
        "id": "T6Bk0b3ZxdQi"
      },
      "source": [
        "Common data types that can be used with `dtype` are: `int`, `float`, `complex`, `bool`, `object`, etc.\n",
        "\n",
        "We can also explicitly define the bit size of the data types, for example: `int64`, `int16`, `float128`, `complex128`."
      ]
    },
    {
      "cell_type": "markdown",
      "metadata": {
        "id": "ax6gf4QKxdQi"
      },
      "source": [
        "### Using array-generating functions"
      ]
    },
    {
      "cell_type": "markdown",
      "metadata": {
        "id": "Yz-UYymHxdQj"
      },
      "source": [
        "For larger arrays it is impractical to initialize the data manually, using explicit python lists. Instead we can use one of the many functions in `numpy` that generate arrays of different forms. Some of the more common are:\n"
      ]
    },
    {
      "cell_type": "markdown",
      "metadata": {
        "id": "a5eM9V9cxdQj"
      },
      "source": [
        "#### arange\n",
        "Return evenly spaced values within a given interval.\n",
        "\n",
        "```python\n",
        "x = np.arange(0, 10, 1) # arguments: start, stop, step\n",
        "```"
      ]
    },
    {
      "cell_type": "code",
      "execution_count": 30,
      "metadata": {
        "id": "E7XdiN4jxdQj",
        "colab": {
          "base_uri": "https://localhost:8080/"
        },
        "outputId": "45247390-1fcd-4e02-83ce-33492a1456ac"
      },
      "outputs": [
        {
          "output_type": "execute_result",
          "data": {
            "text/plain": [
              "array([  0,   2,   4,   6,   8,  10,  12,  14,  16,  18,  20,  22,  24,\n",
              "        26,  28,  30,  32,  34,  36,  38,  40,  42,  44,  46,  48,  50,\n",
              "        52,  54,  56,  58,  60,  62,  64,  66,  68,  70,  72,  74,  76,\n",
              "        78,  80,  82,  84,  86,  88,  90,  92,  94,  96,  98, 100, 102,\n",
              "       104, 106, 108, 110, 112, 114, 116, 118, 120, 122, 124, 126, 128,\n",
              "       130, 132, 134, 136, 138, 140, 142, 144, 146, 148, 150, 152, 154,\n",
              "       156, 158, 160, 162, 164, 166, 168, 170, 172, 174, 176, 178, 180,\n",
              "       182, 184, 186, 188, 190, 192, 194, 196, 198, 200, 202, 204, 206,\n",
              "       208, 210, 212, 214, 216, 218, 220, 222, 224, 226, 228, 230, 232,\n",
              "       234, 236, 238, 240, 242, 244, 246, 248, 250, 252, 254, 256, 258,\n",
              "       260, 262, 264, 266, 268, 270, 272, 274, 276, 278, 280, 282, 284,\n",
              "       286, 288, 290, 292, 294, 296, 298, 300, 302, 304, 306, 308, 310,\n",
              "       312, 314, 316, 318, 320, 322, 324, 326, 328, 330, 332, 334, 336,\n",
              "       338, 340, 342, 344, 346, 348, 350, 352, 354, 356, 358, 360, 362,\n",
              "       364, 366, 368, 370, 372, 374, 376, 378, 380, 382, 384, 386, 388,\n",
              "       390, 392, 394, 396, 398, 400, 402, 404, 406, 408, 410, 412, 414,\n",
              "       416, 418, 420, 422, 424, 426, 428, 430, 432, 434, 436, 438, 440,\n",
              "       442, 444, 446, 448, 450, 452, 454, 456, 458, 460, 462, 464, 466,\n",
              "       468, 470, 472, 474, 476, 478, 480, 482, 484, 486, 488, 490, 492,\n",
              "       494, 496, 498, 500, 502, 504, 506, 508, 510, 512, 514, 516, 518,\n",
              "       520, 522, 524, 526, 528, 530, 532, 534, 536, 538, 540, 542, 544,\n",
              "       546, 548, 550, 552, 554, 556, 558, 560, 562, 564, 566, 568, 570,\n",
              "       572, 574, 576, 578, 580, 582, 584, 586, 588, 590, 592, 594, 596,\n",
              "       598, 600, 602, 604, 606, 608, 610, 612, 614, 616, 618, 620, 622,\n",
              "       624, 626, 628, 630, 632, 634, 636, 638, 640, 642, 644, 646, 648,\n",
              "       650, 652, 654, 656, 658, 660, 662, 664, 666, 668, 670, 672, 674,\n",
              "       676, 678, 680, 682, 684, 686, 688, 690, 692, 694, 696, 698, 700,\n",
              "       702, 704, 706, 708, 710, 712, 714, 716, 718, 720, 722, 724, 726,\n",
              "       728, 730, 732, 734, 736, 738, 740, 742, 744, 746, 748, 750, 752,\n",
              "       754, 756, 758, 760, 762, 764, 766, 768, 770, 772, 774, 776, 778,\n",
              "       780, 782, 784, 786, 788, 790, 792, 794, 796, 798, 800, 802, 804,\n",
              "       806, 808, 810, 812, 814, 816, 818, 820, 822, 824, 826, 828, 830,\n",
              "       832, 834, 836, 838, 840, 842, 844, 846, 848, 850, 852, 854, 856,\n",
              "       858, 860, 862, 864, 866, 868, 870, 872, 874, 876, 878, 880, 882,\n",
              "       884, 886, 888, 890, 892, 894, 896, 898, 900, 902, 904, 906, 908,\n",
              "       910, 912, 914, 916, 918, 920, 922, 924, 926, 928, 930, 932, 934,\n",
              "       936, 938, 940, 942, 944, 946, 948, 950, 952, 954, 956, 958, 960,\n",
              "       962, 964, 966, 968, 970, 972, 974, 976, 978, 980, 982, 984, 986,\n",
              "       988, 990, 992, 994, 996, 998])"
            ]
          },
          "metadata": {},
          "execution_count": 30
        }
      ],
      "source": [
        "np.arange(0, 1000, 2) # arguments: start, stop, step"
      ]
    },
    {
      "cell_type": "code",
      "execution_count": 31,
      "metadata": {
        "id": "9fzTNTucxdQj",
        "colab": {
          "base_uri": "https://localhost:8080/"
        },
        "outputId": "771f1869-fe0a-4bfb-a718-dcc5b325b1d6"
      },
      "outputs": [
        {
          "output_type": "execute_result",
          "data": {
            "text/plain": [
              "(500,)"
            ]
          },
          "metadata": {},
          "execution_count": 31
        }
      ],
      "source": [
        "np.arange(0, 1000, 2).shape # arguments: start, stop, step"
      ]
    },
    {
      "cell_type": "markdown",
      "metadata": {
        "id": "lVI7GePaxdQj"
      },
      "source": [
        " linspace and logspace\n",
        "\n",
        "Both also return evenly spaced numbers over a specified interval.\n",
        "\n",
        "linspace can include or exclude the endpoint\n",
        "\n",
        "```python\n",
        "# using linspace, both end points ARE included\n",
        "np.linspace(0, 10, 25) # start, stop, num=50, endpoint: optional, dtype: optional)\n",
        "```\n",
        "\n",
        "logspace is similar to linspace but using a log scale\n",
        "\n",
        "```python\n",
        "np.logspace(0, 10, 10, base=np.e) # start, stop, num=50, endpoint=True, base=10.0, dtype: optional)\n",
        "```\n"
      ]
    },
    {
      "cell_type": "code",
      "execution_count": 35,
      "metadata": {
        "id": "_iI3SEpjxdQj",
        "colab": {
          "base_uri": "https://localhost:8080/"
        },
        "outputId": "9709fc1a-e480-4fd9-f674-6668017045ee"
      },
      "outputs": [
        {
          "output_type": "execute_result",
          "data": {
            "text/plain": [
              "array([ 0.        ,  1.11111111,  2.22222222,  3.33333333,  4.44444444,\n",
              "        5.55555556,  6.66666667,  7.77777778,  8.88888889, 10.        ])"
            ]
          },
          "metadata": {},
          "execution_count": 35
        }
      ],
      "source": [
        "np.linspace(0, 10, 10)"
      ]
    },
    {
      "cell_type": "code",
      "source": [
        "np.logspace(0, 10, 10, base=2) # start, stop, num=50, endpoint=True, base=10.0, dtype: optional)"
      ],
      "metadata": {
        "id": "ypYu_e27F2hi",
        "colab": {
          "base_uri": "https://localhost:8080/"
        },
        "outputId": "3671895c-bd4f-48a8-f282-981a043d6cd5"
      },
      "execution_count": 38,
      "outputs": [
        {
          "output_type": "execute_result",
          "data": {
            "text/plain": [
              "array([1.00000000e+00, 2.16011948e+00, 4.66611616e+00, 1.00793684e+01,\n",
              "       2.17726400e+01, 4.70315038e+01, 1.01593667e+02, 2.19454460e+02,\n",
              "       4.74047853e+02, 1.02400000e+03])"
            ]
          },
          "metadata": {},
          "execution_count": 38
        }
      ]
    },
    {
      "cell_type": "code",
      "execution_count": null,
      "metadata": {
        "id": "6fV6g5gjxdQk"
      },
      "outputs": [],
      "source": []
    },
    {
      "cell_type": "markdown",
      "metadata": {
        "id": "lrpz6rz-xdQk"
      },
      "source": [
        "#### Random data\n",
        "\n",
        "The function numpy.random.rand creates an array of the given shape and populate it with random samples from a uniform distribution over [0, 1).\n",
        "\n",
        "```python\n",
        "# uniform random numbers in [0,1]\n",
        "np.random.rand(5,5)  # d0, d1, ..., dn\n",
        "```"
      ]
    },
    {
      "cell_type": "code",
      "execution_count": 39,
      "metadata": {
        "id": "L1Xu_s7nxdQl",
        "colab": {
          "base_uri": "https://localhost:8080/"
        },
        "outputId": "73739c2c-643d-4e19-e03d-a29ad0792662"
      },
      "outputs": [
        {
          "output_type": "execute_result",
          "data": {
            "text/plain": [
              "array([[0.38815138, 0.95503764, 0.42228853, 0.55935666, 0.23200143],\n",
              "       [0.61046831, 0.82513093, 0.76064622, 0.44051365, 0.04655013],\n",
              "       [0.06828318, 0.97977979, 0.2247532 , 0.28383492, 0.07979715],\n",
              "       [0.03451677, 0.45461796, 0.29556978, 0.5203179 , 0.91691465],\n",
              "       [0.14008353, 0.90839563, 0.23036629, 0.65065378, 0.08284201]])"
            ]
          },
          "metadata": {},
          "execution_count": 39
        }
      ],
      "source": [
        "np.random.rand(5,5)  # d0, d1, ..., dn"
      ]
    },
    {
      "cell_type": "code",
      "execution_count": 40,
      "metadata": {
        "id": "KgUPFxzbxdQl",
        "colab": {
          "base_uri": "https://localhost:8080/"
        },
        "outputId": "d16b66f9-6e4f-4efb-8ea3-ec40e371e396"
      },
      "outputs": [
        {
          "output_type": "execute_result",
          "data": {
            "text/plain": [
              "(5, 5)"
            ]
          },
          "metadata": {},
          "execution_count": 40
        }
      ],
      "source": [
        "np.random.rand(5,5).shape  # d0, d1, ..., dn"
      ]
    },
    {
      "cell_type": "code",
      "source": [
        "np.random.rand(5,5).size  # d0, d1, ..., dn"
      ],
      "metadata": {
        "colab": {
          "base_uri": "https://localhost:8080/"
        },
        "id": "p2mCkr5xwwGa",
        "outputId": "1f26f149-8df1-41f1-ab8c-d11bd0831711"
      },
      "execution_count": 41,
      "outputs": [
        {
          "output_type": "execute_result",
          "data": {
            "text/plain": [
              "25"
            ]
          },
          "metadata": {},
          "execution_count": 41
        }
      ]
    },
    {
      "cell_type": "code",
      "source": [],
      "metadata": {
        "id": "B2FdGoCswwIj"
      },
      "execution_count": null,
      "outputs": []
    },
    {
      "cell_type": "code",
      "source": [],
      "metadata": {
        "id": "GTvF2o4jwwK7"
      },
      "execution_count": null,
      "outputs": []
    },
    {
      "cell_type": "markdown",
      "metadata": {
        "id": "nyPHcKvQxdQl"
      },
      "source": [
        "#### Zeros and ones\n",
        "\n",
        "These two functions create and array of the given shapes and fill them with zeroes or ones.\n",
        "\n",
        "```python\n",
        "np.zeroes(5)  # shape, dtype=float\n",
        "np.ones((3,2))  # shape, dtype=float\n",
        "```\n",
        "Let's try out!"
      ]
    },
    {
      "cell_type": "code",
      "execution_count": 42,
      "metadata": {
        "id": "DR6u-TblxdQl",
        "colab": {
          "base_uri": "https://localhost:8080/"
        },
        "outputId": "4b056606-52cc-41cf-993b-ac0e76e73d19"
      },
      "outputs": [
        {
          "output_type": "execute_result",
          "data": {
            "text/plain": [
              "array([0., 0., 0., 0., 0.])"
            ]
          },
          "metadata": {},
          "execution_count": 42
        }
      ],
      "source": [
        "np.zeros(5)"
      ]
    },
    {
      "cell_type": "code",
      "execution_count": 43,
      "metadata": {
        "id": "PMksIoHixdQm",
        "colab": {
          "base_uri": "https://localhost:8080/"
        },
        "outputId": "b8aaf024-0d2c-4b5e-c650-1fe841ce0c90"
      },
      "outputs": [
        {
          "output_type": "execute_result",
          "data": {
            "text/plain": [
              "array([[1., 1.],\n",
              "       [1., 1.],\n",
              "       [1., 1.]])"
            ]
          },
          "metadata": {},
          "execution_count": 43
        }
      ],
      "source": [
        "np.ones((3,2)) "
      ]
    },
    {
      "cell_type": "markdown",
      "metadata": {
        "id": "wQXRSaX_xdQm"
      },
      "source": [
        "## File I/O"
      ]
    },
    {
      "cell_type": "markdown",
      "metadata": {
        "id": "MGJLAu6OxdQm"
      },
      "source": [
        "### Comma-separated values (CSV)"
      ]
    },
    {
      "cell_type": "markdown",
      "metadata": {
        "id": "eOuSHwh4xdQm"
      },
      "source": [
        "A very common file format for data files is comma-separated values (CSV), or related formats such as TSV (tab-separated values). To read data from such files into Numpy arrays we can use the [`numpy.genfromtxt`](https://numpy.org/doc/stable/reference/generated/numpy.genfromtxt.html) function.\n",
        "\n",
        "Let's check how this works using the california_housing_train.csv that you can fnid in the sample_data folder from your Google Colab environment.\n",
        "\n",
        "Let's first check the contents of the file, and then load into a new object with the following code:\n",
        "\n",
        "```python \n",
        "data = np.genfromtxt('sample_data/california_housing_train.csv', delimiter=',', skip_header=1)\n",
        "```"
      ]
    },
    {
      "cell_type": "code",
      "execution_count": 47,
      "metadata": {
        "id": "xwLJZWXjxdQm"
      },
      "outputs": [],
      "source": [
        "data = np.genfromtxt('sample_data/california_housing_train.csv', delimiter=',', skip_header=1)"
      ]
    },
    {
      "cell_type": "code",
      "execution_count": 48,
      "metadata": {
        "id": "olFppDxUxdQm",
        "colab": {
          "base_uri": "https://localhost:8080/"
        },
        "outputId": "8d62075d-0beb-403f-f8ad-100bdfc00a47"
      },
      "outputs": [
        {
          "output_type": "execute_result",
          "data": {
            "text/plain": [
              "(17000, 9)"
            ]
          },
          "metadata": {},
          "execution_count": 48
        }
      ],
      "source": [
        "data.shape # 17000 values 9 feature"
      ]
    },
    {
      "cell_type": "markdown",
      "metadata": {
        "id": "EnQ1t-n-xdQn"
      },
      "source": [
        "Using `numpy.savetxt` we can store a Numpy array to a file in CSV format:\n",
        "\n",
        "```python\n",
        "mat = np.random.rand(3,3)\n",
        "np.savetxt('random-matrix.csv',mat)\n",
        "```"
      ]
    },
    {
      "cell_type": "code",
      "execution_count": 49,
      "metadata": {
        "id": "o7TbZkxQxdQn"
      },
      "outputs": [],
      "source": [
        "mat = np.random.rand(3,3)\n",
        "np.savetxt('random-matrix.csv',mat)"
      ]
    },
    {
      "cell_type": "code",
      "source": [],
      "metadata": {
        "id": "ERWs92uDPEt7"
      },
      "execution_count": null,
      "outputs": []
    },
    {
      "cell_type": "code",
      "source": [],
      "metadata": {
        "id": "ziTtZ2f2t-wm"
      },
      "execution_count": null,
      "outputs": []
    },
    {
      "cell_type": "markdown",
      "metadata": {
        "id": "oA2VfCaWxdQo"
      },
      "source": [
        "## Manipulating arrays"
      ]
    },
    {
      "cell_type": "markdown",
      "metadata": {
        "id": "GkTil5xnxdQo"
      },
      "source": [
        "### Indexing"
      ]
    },
    {
      "cell_type": "markdown",
      "metadata": {
        "id": "OpicWY3NxdQp"
      },
      "source": [
        "We can index elements in an array using square brackets and indices:\n",
        "\n",
        "```python\n",
        "# vec is a vector, and has only one dimension, taking one index\n",
        "vec[0]\n",
        "\n",
        "# mat is a matrix, or a 2 dimensional array, taking two indices \n",
        "mat[1,1]\n",
        "mat[1][1]\n",
        "```"
      ]
    },
    {
      "cell_type": "code",
      "execution_count": 51,
      "metadata": {
        "id": "Gd6dHrybxdQp",
        "colab": {
          "base_uri": "https://localhost:8080/"
        },
        "outputId": "ce941a3a-6938-4d34-a5a8-f91b9260bb32"
      },
      "outputs": [
        {
          "output_type": "execute_result",
          "data": {
            "text/plain": [
              "4"
            ]
          },
          "metadata": {},
          "execution_count": 51
        }
      ],
      "source": [
        "vec[3]"
      ]
    },
    {
      "cell_type": "code",
      "execution_count": 52,
      "metadata": {
        "id": "J0fjrys1xdQp",
        "colab": {
          "base_uri": "https://localhost:8080/"
        },
        "outputId": "0e0d70a1-93a1-4368-9403-84da158e535d"
      },
      "outputs": [
        {
          "output_type": "execute_result",
          "data": {
            "text/plain": [
              "array([[0.70001669, 0.76168287, 0.3389477 ],\n",
              "       [0.829597  , 0.08670692, 0.60939506],\n",
              "       [0.24487821, 0.00848602, 0.57613573]])"
            ]
          },
          "metadata": {},
          "execution_count": 52
        }
      ],
      "source": [
        "mat"
      ]
    },
    {
      "cell_type": "code",
      "source": [
        "mat[1,1]"
      ],
      "metadata": {
        "id": "UU5gA4SUR-PN",
        "colab": {
          "base_uri": "https://localhost:8080/"
        },
        "outputId": "f45ad561-f3cf-4d91-d900-55ede734ebe8"
      },
      "execution_count": 53,
      "outputs": [
        {
          "output_type": "execute_result",
          "data": {
            "text/plain": [
              "0.08670691959624877"
            ]
          },
          "metadata": {},
          "execution_count": 53
        }
      ]
    },
    {
      "cell_type": "code",
      "source": [
        "mat[1][1]"
      ],
      "metadata": {
        "id": "ocbggSzMSCyL",
        "colab": {
          "base_uri": "https://localhost:8080/"
        },
        "outputId": "fc653cbd-491a-44d6-92db-33df216bb1b8"
      },
      "execution_count": 54,
      "outputs": [
        {
          "output_type": "execute_result",
          "data": {
            "text/plain": [
              "0.08670691959624877"
            ]
          },
          "metadata": {},
          "execution_count": 54
        }
      ]
    },
    {
      "cell_type": "markdown",
      "metadata": {
        "id": "0_2YomOMxdQp"
      },
      "source": [
        "If we omit an index of a multidimensional array it returns the whole row (or, in general, a N-1 dimensional array) \n",
        "\n",
        "```python\n",
        "mat[1]  # row 1\n",
        "```"
      ]
    },
    {
      "cell_type": "code",
      "execution_count": 55,
      "metadata": {
        "id": "fnJy0Lp-xdQp",
        "colab": {
          "base_uri": "https://localhost:8080/"
        },
        "outputId": "79858415-d6ad-44f0-b757-a40bdb1682c6"
      },
      "outputs": [
        {
          "output_type": "execute_result",
          "data": {
            "text/plain": [
              "array([0.829597  , 0.08670692, 0.60939506])"
            ]
          },
          "metadata": {},
          "execution_count": 55
        }
      ],
      "source": [
        "mat[1]  # row 1"
      ]
    },
    {
      "cell_type": "code",
      "execution_count": null,
      "metadata": {
        "id": "mCOuKIkIxdQp"
      },
      "outputs": [],
      "source": []
    },
    {
      "cell_type": "markdown",
      "metadata": {
        "id": "440mi1vKxdQp"
      },
      "source": [
        "The same thing can be achieved with using `:` instead of an index: \n",
        "\n",
        "```python\n",
        "mat[1,:] # row 1\n",
        "mat[0,:] # row 0\n",
        "mat[:,1] # column 1\n",
        "```"
      ]
    },
    {
      "cell_type": "code",
      "execution_count": 57,
      "metadata": {
        "id": "4BlwDbANxdQp",
        "colab": {
          "base_uri": "https://localhost:8080/"
        },
        "outputId": "0b3c92ff-7ff3-46d0-9b9f-1bf37af16d90"
      },
      "outputs": [
        {
          "output_type": "execute_result",
          "data": {
            "text/plain": [
              "array([0.829597  , 0.08670692, 0.60939506])"
            ]
          },
          "metadata": {},
          "execution_count": 57
        }
      ],
      "source": [
        "mat[1,:] # row 1\n",
        "# mat[0,:] # row 0\n",
        "# mat[:,1] # column 1"
      ]
    },
    {
      "cell_type": "code",
      "execution_count": 58,
      "metadata": {
        "id": "6IeODia3xdQp",
        "colab": {
          "base_uri": "https://localhost:8080/"
        },
        "outputId": "29116c98-0518-4893-ec09-3283db09b5bc"
      },
      "outputs": [
        {
          "output_type": "execute_result",
          "data": {
            "text/plain": [
              "array([0.70001669, 0.76168287, 0.3389477 ])"
            ]
          },
          "metadata": {},
          "execution_count": 58
        }
      ],
      "source": [
        "mat[0,:] # row 0"
      ]
    },
    {
      "cell_type": "code",
      "source": [
        "mat[:,1] # column 1"
      ],
      "metadata": {
        "colab": {
          "base_uri": "https://localhost:8080/"
        },
        "id": "Tt39UaPGzrl-",
        "outputId": "a5b03cc5-a68a-4cd5-df26-c0660117d774"
      },
      "execution_count": 59,
      "outputs": [
        {
          "output_type": "execute_result",
          "data": {
            "text/plain": [
              "array([0.76168287, 0.08670692, 0.00848602])"
            ]
          },
          "metadata": {},
          "execution_count": 59
        }
      ]
    },
    {
      "cell_type": "code",
      "source": [
        "mat[:,2] = 12"
      ],
      "metadata": {
        "id": "PzNeGyrJzrok"
      },
      "execution_count": 60,
      "outputs": []
    },
    {
      "cell_type": "code",
      "source": [
        "mat"
      ],
      "metadata": {
        "colab": {
          "base_uri": "https://localhost:8080/"
        },
        "id": "ji5bnEFM0VrS",
        "outputId": "19991d38-6187-42b2-c974-ac63ce1fa974"
      },
      "execution_count": 61,
      "outputs": [
        {
          "output_type": "execute_result",
          "data": {
            "text/plain": [
              "array([[7.00016686e-01, 7.61682870e-01, 1.20000000e+01],\n",
              "       [8.29597005e-01, 8.67069196e-02, 1.20000000e+01],\n",
              "       [2.44878207e-01, 8.48601733e-03, 1.20000000e+01]])"
            ]
          },
          "metadata": {},
          "execution_count": 61
        }
      ]
    },
    {
      "cell_type": "markdown",
      "metadata": {
        "id": "CEIONzcGxdQq"
      },
      "source": [
        "We can assign new values to elements in an array using indexing:\n",
        "\n",
        "```python\n",
        "mat[0,0] = 1  # assing the value of 1 to the first row, first column element\n",
        "\n",
        "```\n",
        "\n",
        "It also works for rows and columns\n",
        "\n",
        "```python\n",
        "mat[1,:] = 0  # assing the value of 0 to the the second row\n",
        "mat[:,2] = -1 # assign the value of -1 to the third column\n",
        "```\n",
        "\n",
        "Let's explore this"
      ]
    },
    {
      "cell_type": "code",
      "source": [],
      "metadata": {
        "id": "H5OvLY910VKv"
      },
      "execution_count": null,
      "outputs": []
    },
    {
      "cell_type": "code",
      "execution_count": null,
      "metadata": {
        "id": "LoyRHxUFxdQq"
      },
      "outputs": [],
      "source": []
    },
    {
      "cell_type": "code",
      "execution_count": null,
      "metadata": {
        "id": "jpzyfLHmxdQq"
      },
      "outputs": [],
      "source": []
    },
    {
      "cell_type": "code",
      "execution_count": null,
      "metadata": {
        "id": "Hqu4sPLuxdQq"
      },
      "outputs": [],
      "source": []
    },
    {
      "cell_type": "code",
      "execution_count": null,
      "metadata": {
        "id": "SKvkwYbvxdQq"
      },
      "outputs": [],
      "source": []
    },
    {
      "cell_type": "markdown",
      "metadata": {
        "id": "iedasW-hxdQq"
      },
      "source": [
        "### Index slicing"
      ]
    },
    {
      "cell_type": "markdown",
      "metadata": {
        "id": "PqSf5FaXxdQq"
      },
      "source": [
        "Index slicing is the technical name for the syntax `mat[lower:upper:step]` to extract part of an array:\n",
        "\n",
        "Let's create the following array:\n",
        "\n",
        "```python\n",
        "a = np.array([1,2,3,4,5])\n",
        "```\n",
        "\n",
        "After that, let's try the previous sintax as follows:\n",
        "\n",
        "```python\n",
        "a[1:3]\n",
        "```\n"
      ]
    },
    {
      "cell_type": "code",
      "execution_count": 62,
      "metadata": {
        "id": "fZsOsP6exdQq"
      },
      "outputs": [],
      "source": [
        "a = np.array([1,2,3,4,5]) "
      ]
    },
    {
      "cell_type": "code",
      "execution_count": 64,
      "metadata": {
        "id": "CUZ9HkH1xdQr",
        "colab": {
          "base_uri": "https://localhost:8080/"
        },
        "outputId": "2e5558b1-de3f-443b-f1ed-d96690d8159c"
      },
      "outputs": [
        {
          "output_type": "execute_result",
          "data": {
            "text/plain": [
              "array([2, 3])"
            ]
          },
          "metadata": {},
          "execution_count": 64
        }
      ],
      "source": [
        "a[1:3]"
      ]
    },
    {
      "cell_type": "markdown",
      "metadata": {
        "id": "fl2WhWSYxdQr"
      },
      "source": [
        "Array slices are *mutable*: if they are assigned a new value the original array from which the slice was extracted is modified:\n",
        "\n",
        "```python\n",
        "a[1:3] = [-2,-3]\n",
        "```"
      ]
    },
    {
      "cell_type": "code",
      "execution_count": 65,
      "metadata": {
        "id": "GSENzcnhxdQr"
      },
      "outputs": [],
      "source": [
        "a[1:3] = [-2,-3]"
      ]
    },
    {
      "cell_type": "code",
      "source": [
        "a"
      ],
      "metadata": {
        "colab": {
          "base_uri": "https://localhost:8080/"
        },
        "id": "W3WJgJwu0sw2",
        "outputId": "3b47c9cc-0147-44c1-a2cb-522c8b1ee761"
      },
      "execution_count": 66,
      "outputs": [
        {
          "output_type": "execute_result",
          "data": {
            "text/plain": [
              "array([ 1, -2, -3,  4,  5])"
            ]
          },
          "metadata": {},
          "execution_count": 66
        }
      ]
    },
    {
      "cell_type": "markdown",
      "metadata": {
        "id": "AhYf19Q7xdQr"
      },
      "source": [
        "We can omit any of the three parameters in `M[lower:upper:step]`:\n",
        "\n",
        "```python\n",
        "a[::] # lower, upper, step all take the default values\n",
        "a[::2] # step is 2, lower and upper defaults to the beginning and end of the array\n",
        "a[:3] # first three elements\n",
        "a[3:] # elements from index 3\n",
        "```\n",
        "\n",
        "Let's try out\n"
      ]
    },
    {
      "cell_type": "code",
      "execution_count": 67,
      "metadata": {
        "id": "RcRlmYyxxdQr",
        "colab": {
          "base_uri": "https://localhost:8080/"
        },
        "outputId": "f70ca5e3-3fe8-4443-f1c9-0147f16e0ca8"
      },
      "outputs": [
        {
          "output_type": "execute_result",
          "data": {
            "text/plain": [
              "array([ 1, -2, -3,  4,  5])"
            ]
          },
          "metadata": {},
          "execution_count": 67
        }
      ],
      "source": [
        "a[::] # lower, upper, step all take the default values"
      ]
    },
    {
      "cell_type": "code",
      "execution_count": 68,
      "metadata": {
        "id": "Y2hK-SLrxdQr",
        "colab": {
          "base_uri": "https://localhost:8080/"
        },
        "outputId": "4d369c5b-e53c-45dd-aeb8-e6d34cda0ad9"
      },
      "outputs": [
        {
          "output_type": "execute_result",
          "data": {
            "text/plain": [
              "array([ 1, -3,  5])"
            ]
          },
          "metadata": {},
          "execution_count": 68
        }
      ],
      "source": [
        "a[::2] # step is 2, lower and upper defaults to the beginning and end of the array\n"
      ]
    },
    {
      "cell_type": "code",
      "execution_count": 69,
      "metadata": {
        "id": "6nnCNM7YxdQr",
        "colab": {
          "base_uri": "https://localhost:8080/"
        },
        "outputId": "eb1877d0-b469-440b-f373-ce7140a138a9"
      },
      "outputs": [
        {
          "output_type": "execute_result",
          "data": {
            "text/plain": [
              "array([ 1, -2, -3])"
            ]
          },
          "metadata": {},
          "execution_count": 69
        }
      ],
      "source": [
        "a[:3] # first three elements"
      ]
    },
    {
      "cell_type": "code",
      "execution_count": 70,
      "metadata": {
        "id": "Wcwxf8cwxdQr",
        "colab": {
          "base_uri": "https://localhost:8080/"
        },
        "outputId": "3fcf1258-06f8-4b73-fb18-4709722ce2c7"
      },
      "outputs": [
        {
          "output_type": "execute_result",
          "data": {
            "text/plain": [
              "array([4, 5])"
            ]
          },
          "metadata": {},
          "execution_count": 70
        }
      ],
      "source": [
        "a[3:] # elements from index 3"
      ]
    },
    {
      "cell_type": "code",
      "source": [
        "a[-1]"
      ],
      "metadata": {
        "colab": {
          "base_uri": "https://localhost:8080/"
        },
        "id": "xprbAMEv1RkI",
        "outputId": "0e02db3f-13a1-43da-94c5-8857c63a24e2"
      },
      "execution_count": 71,
      "outputs": [
        {
          "output_type": "execute_result",
          "data": {
            "text/plain": [
              "5"
            ]
          },
          "metadata": {},
          "execution_count": 71
        }
      ]
    },
    {
      "cell_type": "code",
      "source": [
        "a[1:-2]"
      ],
      "metadata": {
        "colab": {
          "base_uri": "https://localhost:8080/"
        },
        "id": "eO6ZCcU81RmU",
        "outputId": "5e3e87c3-1a5f-4105-9a8e-c5aeb6d43934"
      },
      "execution_count": 72,
      "outputs": [
        {
          "output_type": "execute_result",
          "data": {
            "text/plain": [
              "array([-2, -3])"
            ]
          },
          "metadata": {},
          "execution_count": 72
        }
      ]
    },
    {
      "cell_type": "markdown",
      "metadata": {
        "id": "bCCrXLiaxdQs"
      },
      "source": [
        "Negative indices counts from the end of the array (positive index from the begining):\n",
        "\n",
        "```python\n",
        "a[-1] # the last element in the array\n",
        "a[-3:] # the last three elements\n",
        "```"
      ]
    },
    {
      "cell_type": "code",
      "execution_count": null,
      "metadata": {
        "id": "IIdHvAA_xdQs"
      },
      "outputs": [],
      "source": []
    },
    {
      "cell_type": "code",
      "execution_count": null,
      "metadata": {
        "id": "svqjfQd0xdQs"
      },
      "outputs": [],
      "source": []
    },
    {
      "cell_type": "code",
      "execution_count": null,
      "metadata": {
        "id": "I272_n-DxdQs"
      },
      "outputs": [],
      "source": []
    },
    {
      "cell_type": "markdown",
      "metadata": {
        "id": "3y4TcYvsxdQs"
      },
      "source": [
        "Index slicing works exactly the same way for multidimensional arrays:\n",
        "\n",
        "Let's create the following array:\n",
        "\n",
        "```python\n",
        "a = np.array(np.arange(25)).reshape(5,5)\n",
        "```\n",
        "\n",
        "And then, let's get a block and some strides from the original array\n",
        "\n",
        "```python\n",
        "# a block from the original array\n",
        "a[1:4, 1:4]\n",
        "\n",
        "# strides\n",
        "a[::2, ::2]\n",
        "```\n",
        "\n",
        "Let's try out this. Can you guess what will be the output of both statements?"
      ]
    },
    {
      "cell_type": "code",
      "execution_count": 73,
      "metadata": {
        "id": "I4M9Zdd7xdQs"
      },
      "outputs": [],
      "source": [
        "a = np.array(np.arange(25)).reshape(5,5)"
      ]
    },
    {
      "cell_type": "code",
      "source": [
        "a"
      ],
      "metadata": {
        "id": "Wfa_omdRV3Zg",
        "colab": {
          "base_uri": "https://localhost:8080/"
        },
        "outputId": "cb1602c7-c93f-4bec-a61d-4057d3256653"
      },
      "execution_count": 74,
      "outputs": [
        {
          "output_type": "execute_result",
          "data": {
            "text/plain": [
              "array([[ 0,  1,  2,  3,  4],\n",
              "       [ 5,  6,  7,  8,  9],\n",
              "       [10, 11, 12, 13, 14],\n",
              "       [15, 16, 17, 18, 19],\n",
              "       [20, 21, 22, 23, 24]])"
            ]
          },
          "metadata": {},
          "execution_count": 74
        }
      ]
    },
    {
      "cell_type": "code",
      "execution_count": 75,
      "metadata": {
        "id": "3HZavUsCxdQs",
        "colab": {
          "base_uri": "https://localhost:8080/"
        },
        "outputId": "628c00a2-1513-4635-b0e2-fb2c5cc1d562"
      },
      "outputs": [
        {
          "output_type": "execute_result",
          "data": {
            "text/plain": [
              "array([[ 6,  7,  8],\n",
              "       [11, 12, 13],\n",
              "       [16, 17, 18]])"
            ]
          },
          "metadata": {},
          "execution_count": 75
        }
      ],
      "source": [
        "a[1:4, 1:4]\n"
      ]
    },
    {
      "cell_type": "code",
      "execution_count": 76,
      "metadata": {
        "id": "26WrTv1QxdQs",
        "colab": {
          "base_uri": "https://localhost:8080/"
        },
        "outputId": "f4cf84a6-6145-4137-fc68-6cf3cb1581ac"
      },
      "outputs": [
        {
          "output_type": "execute_result",
          "data": {
            "text/plain": [
              "array([[ 0,  2,  4],\n",
              "       [10, 12, 14],\n",
              "       [20, 22, 24]])"
            ]
          },
          "metadata": {},
          "execution_count": 76
        }
      ],
      "source": [
        "a[::2, ::2]"
      ]
    },
    {
      "cell_type": "markdown",
      "source": [
        "### Fancy indexing\n",
        "\n",
        "We can use array or lists for slicing an array. For example:\n",
        "\n",
        "```python\n",
        "row_indices = [1, 2, 3] # a list of row indexes that we want to keep\n",
        "col_indices = [1, 2, -1] # a list of column indexes that we want to keep\n",
        "a[row_indices, col_indices]\n",
        "\n",
        "```\n",
        "\n",
        "Let's see this:\n"
      ],
      "metadata": {
        "id": "M1D1IMjEDZvF"
      }
    },
    {
      "cell_type": "code",
      "source": [
        "row_indices = [1, 2, 3] # a list of row indexes that we want to keep\n",
        "row_indices"
      ],
      "metadata": {
        "id": "AwsfGZbAEDWE",
        "colab": {
          "base_uri": "https://localhost:8080/"
        },
        "outputId": "4978cd77-fa67-45c4-d966-c8fa458cc64b"
      },
      "execution_count": 78,
      "outputs": [
        {
          "output_type": "execute_result",
          "data": {
            "text/plain": [
              "[1, 2, 3]"
            ]
          },
          "metadata": {},
          "execution_count": 78
        }
      ]
    },
    {
      "cell_type": "code",
      "source": [],
      "metadata": {
        "id": "WtEGZpWsD8aj"
      },
      "execution_count": null,
      "outputs": []
    },
    {
      "cell_type": "code",
      "source": [],
      "metadata": {
        "id": "ZQWcJ2OID8dU"
      },
      "execution_count": null,
      "outputs": []
    },
    {
      "cell_type": "markdown",
      "source": [
        "We can also use index masks: If the index mask is an Numpy array of data type bool, then an element is selected (True) or not (False) depending on the value of the index mask at the position of each element:\n",
        "\n",
        "```python\n",
        "b = np.array([n for n in range(5)])\n",
        "row_mask = np.array([True, False, True, False, False])\n",
        "b[row_mask]\n",
        "```\n",
        "\n",
        "Try it by yourself!"
      ],
      "metadata": {
        "id": "BmolcaQcEdxz"
      }
    },
    {
      "cell_type": "code",
      "source": [
        "b = np.array([n for n in range(5)])\n",
        "b"
      ],
      "metadata": {
        "id": "xUSqDCfYEnYV",
        "colab": {
          "base_uri": "https://localhost:8080/"
        },
        "outputId": "2f93799e-11eb-47e7-e71d-f05b5aff833f"
      },
      "execution_count": 79,
      "outputs": [
        {
          "output_type": "execute_result",
          "data": {
            "text/plain": [
              "array([0, 1, 2, 3, 4])"
            ]
          },
          "metadata": {},
          "execution_count": 79
        }
      ]
    },
    {
      "cell_type": "code",
      "source": [
        "row_mask = np.array([True, False, True, False, False])\n",
        "row_mask"
      ],
      "metadata": {
        "id": "_EHG2BMREnbb",
        "colab": {
          "base_uri": "https://localhost:8080/"
        },
        "outputId": "99dbe3d6-1d02-46a1-904f-a89b452fac2f"
      },
      "execution_count": 80,
      "outputs": [
        {
          "output_type": "execute_result",
          "data": {
            "text/plain": [
              "array([ True, False,  True, False, False])"
            ]
          },
          "metadata": {},
          "execution_count": 80
        }
      ]
    },
    {
      "cell_type": "code",
      "source": [
        "b[row_mask]"
      ],
      "metadata": {
        "colab": {
          "base_uri": "https://localhost:8080/"
        },
        "id": "JrAZQp_62YPg",
        "outputId": "6ef166da-f2db-4d92-cfa7-2102ce5a3442"
      },
      "execution_count": 81,
      "outputs": [
        {
          "output_type": "execute_result",
          "data": {
            "text/plain": [
              "array([0, 2])"
            ]
          },
          "metadata": {},
          "execution_count": 81
        }
      ]
    },
    {
      "cell_type": "markdown",
      "source": [
        "This feature is very useful to conditionally select elements from an array, using for example comparison operators:\n",
        "\n",
        "For example:\n",
        "\n",
        "```python\n",
        "x = np.arange(0, 10, 0.5)\n",
        "mask = (5 < x) * (x < 7.5)\n",
        "x[mask]\n",
        "\n",
        "```"
      ],
      "metadata": {
        "id": "0nIVOQgkE8of"
      }
    },
    {
      "cell_type": "code",
      "source": [
        "x = np.arange(0, 10, 0.5)\n",
        "x"
      ],
      "metadata": {
        "colab": {
          "base_uri": "https://localhost:8080/"
        },
        "id": "x7-Td_tu2wk0",
        "outputId": "14182a39-05e4-49e3-d386-15d024117380"
      },
      "execution_count": 84,
      "outputs": [
        {
          "output_type": "execute_result",
          "data": {
            "text/plain": [
              "array([0. , 0.5, 1. , 1.5, 2. , 2.5, 3. , 3.5, 4. , 4.5, 5. , 5.5, 6. ,\n",
              "       6.5, 7. , 7.5, 8. , 8.5, 9. , 9.5])"
            ]
          },
          "metadata": {},
          "execution_count": 84
        }
      ]
    },
    {
      "cell_type": "code",
      "source": [
        "x = np.arange(0, 10, 0.5)\n",
        "mask = (5 < x) * (x < 7.5)\n",
        "x[mask]"
      ],
      "metadata": {
        "id": "e6-mjCPtFHD8",
        "colab": {
          "base_uri": "https://localhost:8080/"
        },
        "outputId": "00e904c4-9b86-4a68-c64b-caa9fb57bb6c"
      },
      "execution_count": 82,
      "outputs": [
        {
          "output_type": "execute_result",
          "data": {
            "text/plain": [
              "array([5.5, 6. , 6.5, 7. ])"
            ]
          },
          "metadata": {},
          "execution_count": 82
        }
      ]
    },
    {
      "cell_type": "code",
      "source": [],
      "metadata": {
        "id": "tfecVYpJFHGY"
      },
      "execution_count": null,
      "outputs": []
    },
    {
      "cell_type": "code",
      "source": [],
      "metadata": {
        "id": "mOjX6jwOFHIb"
      },
      "execution_count": null,
      "outputs": []
    },
    {
      "cell_type": "markdown",
      "metadata": {
        "id": "PnW3q2lYxdQx"
      },
      "source": [
        "## Linear algebra"
      ]
    },
    {
      "cell_type": "markdown",
      "metadata": {
        "id": "aPl1-In7xdQx"
      },
      "source": [
        "Vectorizing code is the key to writing efficient numerical calculation with Python/Numpy. That means that as much as possible of a program should be formulated in terms of matrix and vector operations, like matrix-matrix multiplication."
      ]
    },
    {
      "cell_type": "markdown",
      "metadata": {
        "id": "B0Fw0WxbxdQx"
      },
      "source": [
        "### Scalar-array operations"
      ]
    },
    {
      "cell_type": "markdown",
      "metadata": {
        "id": "7f0jXc5qxdQx"
      },
      "source": [
        "We can use the usual arithmetic operators to multiply, add, subtract, and divide arrays with scalar numbers.\n",
        "\n",
        "```python\n",
        "v1 = np.arange(0, 5)\n",
        "a = np.array(np.arange(25)).reshape(5,5)\n",
        "\n",
        "v1 * 2  # multiplying a vector with a scalar\n",
        "v1 + 2  # adding a scalar to a vector\n",
        "\n",
        "a * 2  # multiplying a matrix with a scalar\n",
        "a + 2  # adding a scalar to a matrix\n",
        "```\n",
        "\n",
        "Let's try this and other basic arithmetic operations ..."
      ]
    },
    {
      "cell_type": "code",
      "execution_count": null,
      "metadata": {
        "id": "yeje5v_axdQx"
      },
      "outputs": [],
      "source": []
    },
    {
      "cell_type": "code",
      "execution_count": null,
      "metadata": {
        "id": "kDzwrSpSxdQx"
      },
      "outputs": [],
      "source": []
    },
    {
      "cell_type": "code",
      "execution_count": null,
      "metadata": {
        "id": "ij2FnPA4xdQx"
      },
      "outputs": [],
      "source": []
    },
    {
      "cell_type": "code",
      "execution_count": null,
      "metadata": {
        "id": "NqYEKyIkxdQy"
      },
      "outputs": [],
      "source": []
    },
    {
      "cell_type": "code",
      "source": [],
      "metadata": {
        "id": "KpUU__f_Z8Wa"
      },
      "execution_count": null,
      "outputs": []
    },
    {
      "cell_type": "markdown",
      "metadata": {
        "id": "3Dvfx5q_xdQy"
      },
      "source": [
        "### Element-wise array-array operations"
      ]
    },
    {
      "cell_type": "markdown",
      "metadata": {
        "id": "Pzwj2nsgxdQy"
      },
      "source": [
        "When we add, subtract, multiply and divide arrays with each other, the default behaviour is **element-wise** operations:\n",
        "\n",
        "```python\n",
        "a * a  \n",
        "v1 * v1\n",
        "``` \n",
        "\n",
        "Let's check this"
      ]
    },
    {
      "cell_type": "code",
      "execution_count": null,
      "metadata": {
        "id": "VA3y4oo9xdQy"
      },
      "outputs": [],
      "source": []
    },
    {
      "cell_type": "code",
      "execution_count": null,
      "metadata": {
        "id": "QQG9JU9hxdQy"
      },
      "outputs": [],
      "source": []
    },
    {
      "cell_type": "markdown",
      "metadata": {
        "id": "Sz_rVnBjxdQy"
      },
      "source": [
        "If we multiply arrays with compatible shapes, we get an element-wise multiplication of each row:\n",
        "\n",
        "```python\n",
        "a.shape, v1.shape\n",
        "A *  v1\n",
        "```"
      ]
    },
    {
      "cell_type": "code",
      "execution_count": null,
      "metadata": {
        "id": "38CJ8DZRxdQy"
      },
      "outputs": [],
      "source": []
    },
    {
      "cell_type": "code",
      "execution_count": null,
      "metadata": {
        "id": "qISMov-UxdQz"
      },
      "outputs": [],
      "source": []
    },
    {
      "cell_type": "markdown",
      "metadata": {
        "id": "W6IXO19-xdQz"
      },
      "source": [
        "### Matrix algebra"
      ]
    },
    {
      "cell_type": "markdown",
      "metadata": {
        "id": "CmXkTne-xdQz"
      },
      "source": [
        "What about matrix mutiplication? There are two ways. We can either use the `dot` function, which applies a matrix-matrix, matrix-vector, or inner vector multiplication to its two arguments: \n",
        "\n",
        "```python\n",
        "np.dot(a,a)  # matrix-matix\n",
        "np.dot(a,v1) # matrix-vector\n",
        "\n",
        "```\n",
        "\n",
        "![](https://d138zd1ktt9iqe.cloudfront.net/media/seo_landing_files/multiplication-of-matrices-in-linear-algebra-1627878775.png)\n",
        "\n",
        "You can also use the `matmul` function and the `@` operator.\n",
        "\n",
        "```python\n",
        "np.matmul(a,a)\n",
        "a @ v1\n",
        "\n",
        "```"
      ]
    },
    {
      "cell_type": "code",
      "execution_count": null,
      "metadata": {
        "id": "alDRFW8zxdQz"
      },
      "outputs": [],
      "source": []
    },
    {
      "cell_type": "code",
      "execution_count": null,
      "metadata": {
        "id": "zRdjPMFyxdQz"
      },
      "outputs": [],
      "source": []
    },
    {
      "cell_type": "code",
      "execution_count": null,
      "metadata": {
        "id": "TnNAkQgLxdQz"
      },
      "outputs": [],
      "source": []
    },
    {
      "cell_type": "code",
      "source": [],
      "metadata": {
        "id": "njeYsrSCc4MP"
      },
      "execution_count": null,
      "outputs": []
    },
    {
      "cell_type": "code",
      "source": [],
      "metadata": {
        "id": "9UbcBjjec_VT"
      },
      "execution_count": null,
      "outputs": []
    },
    {
      "cell_type": "markdown",
      "metadata": {
        "id": "Jfhmk24nxdQ1"
      },
      "source": [
        "### Array/Matrix transformations"
      ]
    },
    {
      "cell_type": "markdown",
      "metadata": {
        "id": "A9SfGT5BxdQ1"
      },
      "source": [
        "We can get the transpose of a matrix using `.T` function. We can also have used the `transpose` function to accomplish the same thing. \n",
        "\n",
        "```python\n",
        "c = np.array([[-1, 2, 3], [4, -5, 6]])\n",
        "c.T\n",
        "c.transpose()\n",
        "```\n",
        "\n",
        "Additinoally we can obtain the absolute value of all the elements of an array using the `np.abs` function"
      ]
    },
    {
      "cell_type": "code",
      "execution_count": null,
      "metadata": {
        "id": "-ePqzZFQxdQ1"
      },
      "outputs": [],
      "source": []
    },
    {
      "cell_type": "code",
      "execution_count": null,
      "metadata": {
        "id": "fvT0Cm-_xdQ1"
      },
      "outputs": [],
      "source": []
    },
    {
      "cell_type": "code",
      "source": [],
      "metadata": {
        "id": "lEGzHw_8eLuy"
      },
      "execution_count": null,
      "outputs": []
    },
    {
      "cell_type": "code",
      "execution_count": null,
      "metadata": {
        "id": "ZWHy1qfExdQ2"
      },
      "outputs": [],
      "source": []
    },
    {
      "cell_type": "markdown",
      "metadata": {
        "id": "CAecd-qrxdQ2"
      },
      "source": [
        "### Matrix computations"
      ]
    },
    {
      "cell_type": "markdown",
      "metadata": {
        "id": "VF8_ENXzxdQ2"
      },
      "source": [
        "#### Inverse\n",
        "\n",
        "We can compute the inverse of a matrix using the `linalg.inv` function.\n",
        "\n",
        "```python\n",
        "c =  np.array([[-1, 2], [3, 4]])\n",
        "c_inv = np.linalg.inv(c)\n",
        "```\n",
        "\n",
        "Remember the definition of matrix inverse.\n",
        "\n",
        "The inverse of a square matrix $A$, sometimes called a reciprocal matrix, is a matrix $A^{-1}$ such that\n",
        "\n",
        " $AA^{-1}=I$\n",
        "\n",
        "\n",
        "Let's try"
      ]
    },
    {
      "cell_type": "code",
      "source": [],
      "metadata": {
        "id": "8zRc_VVS2jue"
      },
      "execution_count": null,
      "outputs": []
    },
    {
      "cell_type": "code",
      "execution_count": null,
      "metadata": {
        "id": "JlcfJbi4xdQ2"
      },
      "outputs": [],
      "source": []
    },
    {
      "cell_type": "code",
      "execution_count": null,
      "metadata": {
        "id": "dtA5i9WYxdQ2"
      },
      "outputs": [],
      "source": []
    },
    {
      "cell_type": "markdown",
      "metadata": {
        "id": "dxWSG0fQxdQ2"
      },
      "source": [
        "#### Determinant\n",
        "\n",
        "The determinant of an array can be computed using the `linalg.det` function.\n",
        "\n",
        "```python\n",
        "np.linalg.det(c)\n",
        "```"
      ]
    },
    {
      "cell_type": "code",
      "execution_count": null,
      "metadata": {
        "id": "fEwk0Qj2xdQ3"
      },
      "outputs": [],
      "source": []
    },
    {
      "cell_type": "code",
      "source": [],
      "metadata": {
        "id": "P8y5BNjS5ZU-"
      },
      "execution_count": null,
      "outputs": []
    },
    {
      "cell_type": "code",
      "execution_count": null,
      "metadata": {
        "id": "2PkvvEdVxdQ3"
      },
      "outputs": [],
      "source": []
    },
    {
      "cell_type": "markdown",
      "metadata": {
        "id": "6szSalh1xdQ3"
      },
      "source": [
        "### Data processing"
      ]
    },
    {
      "cell_type": "markdown",
      "metadata": {
        "id": "sGBMrV_RxdQ3"
      },
      "source": [
        "Often it is useful to store datasets in Numpy arrays. Numpy provides a number of functions to calculate statistics of datasets in arrays. \n",
        "\n",
        "For example, let's calculate some properties from the California Housing dataset used above.\n",
        "\n",
        "```python\n",
        "# Check the shape of the dataset is stored in the data variable:\n",
        "np.shape(data)  # => (17,000 , 9)\n",
        "```\n",
        "\n",
        "Every one of the 9 columns (8 features + response variable) is listed below:\n",
        "\n",
        "* longitude\t(0)\n",
        "* latitude\t(1)\n",
        "* housing_median_age\t(2)\n",
        "* total_rooms\t(3)\n",
        "* total_bedrooms  (4)\t\n",
        "* population\t(5)\n",
        "* households\t(6) \n",
        "* median_income\t (7)\n",
        "* median_house_value  (8)\n",
        "\n",
        "Let's compute different statistics using this dataset"
      ]
    },
    {
      "cell_type": "code",
      "execution_count": null,
      "metadata": {
        "id": "a5lhDhAOxdQ3"
      },
      "outputs": [],
      "source": []
    },
    {
      "cell_type": "markdown",
      "metadata": {
        "id": "c-gmLDXwxdQ3"
      },
      "source": [
        "#### mean\n",
        "\n",
        "We can compute the arithmetic mean of a numpy array with the `mean` function. We can choose the axis (0 = by rows, 1 = by columns)\n",
        "\n",
        "```python\n",
        "np.mean(data[:,3])  # compute the mean of the fourth column\n",
        "data[:,3].mean()    \n",
        "```\n",
        "\n",
        "Using the `axis` argument we can specify to what dimension we apply the function: \n",
        "\n",
        "```pyhthon\n",
        "np.mean(axis=1)     # compute the mean of all the columns\n",
        "```\n",
        "\n",
        "Let's explore this function:"
      ]
    },
    {
      "cell_type": "code",
      "execution_count": null,
      "metadata": {
        "id": "JjAQkGmgxdQ3"
      },
      "outputs": [],
      "source": []
    },
    {
      "cell_type": "code",
      "source": [],
      "metadata": {
        "id": "AAmNnrXWBTIR"
      },
      "execution_count": null,
      "outputs": []
    },
    {
      "cell_type": "code",
      "source": [],
      "metadata": {
        "id": "MLzt19hqBTLD"
      },
      "execution_count": null,
      "outputs": []
    },
    {
      "cell_type": "code",
      "source": [],
      "metadata": {
        "id": "0--nfmutBTN6"
      },
      "execution_count": null,
      "outputs": []
    },
    {
      "cell_type": "markdown",
      "metadata": {
        "id": "BmOCWUpPxdQ3"
      },
      "source": [
        "#### Other statistics\n",
        "\n",
        "We can compute other statistics i the same way, the most common are:\n",
        "\n",
        "* Standard deviation -- `np.std`\n",
        "* Variance -- `np.var`\n",
        "* Minimum -- `np.min`\n",
        "* Maximum -- `np.max`\n",
        "* Summation -- `np.sum`\n",
        "* Product -- `np.prod`\n",
        "* Cummulative summation -- `np.cumsum`\n",
        "* Unique values -- `np.unique`\n",
        "\n",
        "Let's try all of this functions~\n",
        "\n"
      ]
    },
    {
      "cell_type": "code",
      "execution_count": null,
      "metadata": {
        "id": "saQzo8PtxdQ4"
      },
      "outputs": [],
      "source": []
    },
    {
      "cell_type": "code",
      "source": [],
      "metadata": {
        "id": "db0knoHDCOKj"
      },
      "execution_count": null,
      "outputs": []
    },
    {
      "cell_type": "code",
      "source": [],
      "metadata": {
        "id": "1WbFheKoCONb"
      },
      "execution_count": null,
      "outputs": []
    },
    {
      "cell_type": "code",
      "source": [],
      "metadata": {
        "id": "Ad7U0gKUCOQX"
      },
      "execution_count": null,
      "outputs": []
    },
    {
      "cell_type": "code",
      "source": [],
      "metadata": {
        "id": "6xBXOAeWCOTF"
      },
      "execution_count": null,
      "outputs": []
    },
    {
      "cell_type": "code",
      "source": [],
      "metadata": {
        "id": "iJOoOij_COV_"
      },
      "execution_count": null,
      "outputs": []
    },
    {
      "cell_type": "code",
      "source": [],
      "metadata": {
        "id": "Nf8fkCPhCOYs"
      },
      "execution_count": null,
      "outputs": []
    },
    {
      "cell_type": "code",
      "source": [],
      "metadata": {
        "id": "PyS7zJ5BCObr"
      },
      "execution_count": null,
      "outputs": []
    },
    {
      "cell_type": "code",
      "source": [],
      "metadata": {
        "id": "TN4cyv7SCOgW"
      },
      "execution_count": null,
      "outputs": []
    },
    {
      "cell_type": "code",
      "source": [],
      "metadata": {
        "id": "b2WMW3LuCOic"
      },
      "execution_count": null,
      "outputs": []
    },
    {
      "cell_type": "markdown",
      "metadata": {
        "id": "53yEgc5_xdQ5"
      },
      "source": [
        "### Computations on subsets of arrays"
      ]
    },
    {
      "cell_type": "markdown",
      "metadata": {
        "id": "A9zdQksRxdQ5"
      },
      "source": [
        "We can compute with subsets of the data in an array using indexing, fancy indexing, and the other methods of extracting data from an array (described above).\n",
        "\n",
        "For example:\n",
        "\n",
        "```python\n",
        "\n",
        "mean_greater_than_mean_idx = data[:,8]>data[:,8].mean()\n",
        "data[:,8][mean_greater_than_mean_idx].mean()\n",
        "\n",
        "```\n",
        "\n",
        "Can you explain what is the meaning of the output of that computation?\n",
        "\n",
        "Try!"
      ]
    },
    {
      "cell_type": "code",
      "source": [],
      "metadata": {
        "id": "bU5yCZGlU3L9"
      },
      "execution_count": null,
      "outputs": []
    },
    {
      "cell_type": "code",
      "execution_count": null,
      "metadata": {
        "id": "Z9UVc5puxdQ5"
      },
      "outputs": [],
      "source": [
        "\n"
      ]
    },
    {
      "cell_type": "code",
      "execution_count": null,
      "metadata": {
        "id": "XGzJfXsdxdQ5"
      },
      "outputs": [],
      "source": []
    },
    {
      "cell_type": "markdown",
      "metadata": {
        "id": "hFxrBDo-xdQ7"
      },
      "source": [
        "## Reshaping, resizing and stacking arrays"
      ]
    },
    {
      "cell_type": "markdown",
      "metadata": {
        "id": "BFXFpt8DxdQ7"
      },
      "source": [
        "The shape of an Numpy array can be modified without copying the underlaying data, which makes it a fast operation even for large arrays.\n",
        "\n",
        "Let's first get the size of matrix `a`, and store those values in n and m variabels.\n",
        "\n",
        "```python\n",
        "n, m = a.shape\n",
        "```\n",
        "\n",
        "Now we can use the reshape argument to change the shape of our matrix `a`.\n",
        "\n",
        "```python\n",
        "a.reshape((1,n*m)) \n",
        "```\n",
        "\n",
        "The new shape should have the same size, for example (2,5) and (1,10)\n",
        "\n",
        "Let's try"
      ]
    },
    {
      "cell_type": "code",
      "execution_count": null,
      "metadata": {
        "id": "e0zhKOZqxdQ7"
      },
      "outputs": [],
      "source": []
    },
    {
      "cell_type": "code",
      "execution_count": null,
      "metadata": {
        "id": "iYv2bfx5xdQ7"
      },
      "outputs": [],
      "source": []
    },
    {
      "cell_type": "code",
      "execution_count": null,
      "metadata": {
        "id": "8A92e-5MxdQ7"
      },
      "outputs": [],
      "source": []
    },
    {
      "cell_type": "code",
      "execution_count": null,
      "metadata": {
        "id": "YIZUrnThxdQ7"
      },
      "outputs": [],
      "source": []
    },
    {
      "cell_type": "code",
      "execution_count": null,
      "metadata": {
        "id": "hkdlz2KMxdQ7"
      },
      "outputs": [],
      "source": []
    },
    {
      "cell_type": "markdown",
      "metadata": {
        "id": "sR7PAfhPxdQ7"
      },
      "source": [
        "We can also use the function `flatten` to make a higher-dimensional array into a vector. \n",
        "\n",
        "b = a.flatten()"
      ]
    },
    {
      "cell_type": "code",
      "execution_count": null,
      "metadata": {
        "id": "uVFXLz6jxdQ7"
      },
      "outputs": [],
      "source": []
    },
    {
      "cell_type": "code",
      "execution_count": null,
      "metadata": {
        "id": "M4YJrpwJxdQ8"
      },
      "outputs": [],
      "source": []
    },
    {
      "cell_type": "code",
      "execution_count": null,
      "metadata": {
        "id": "nsM5T7sgxdQ_"
      },
      "outputs": [],
      "source": []
    },
    {
      "cell_type": "markdown",
      "metadata": {
        "id": "pDTQtmnTxdRG"
      },
      "source": [
        "## Further reading"
      ]
    },
    {
      "cell_type": "markdown",
      "metadata": {
        "id": "cZZQRA4axdRG"
      },
      "source": [
        "* http://numpy.scipy.org\n",
        "* http://scipy.org/Tentative_NumPy_Tutorial\n",
        "* http://scipy.org/NumPy_for_Matlab_Users - A Numpy guide for MATLAB users."
      ]
    },
    {
      "cell_type": "code",
      "source": [],
      "metadata": {
        "id": "2bd1yav_P0NT"
      },
      "execution_count": null,
      "outputs": []
    },
    {
      "cell_type": "markdown",
      "source": [
        "# Matplotlib\n",
        "\n",
        "Matplotlib is an excellent 2D and 3D graphics library for generating scientific figures. Some of the many advantages of this library include:\n",
        "\n",
        "* Easy to get started\n",
        "* Support for formatted labels and texts\n",
        "* Great control of every element in a figure, including figure size and DPI.\n",
        "* High-quality output in many formats, including PNG, PDF, SVG, EPS, and PGF.\n",
        "\n",
        "One of the key features of matplotlib that I would like to emphasize, and that I think makes matplotlib highly suitable for generating figures for scientific publications is that all aspects of the figure can be controlled programmatically. This is important for reproducibility and convenient when one needs to regenerate the figure with updated data or change its appearance.\n",
        "\n",
        "More information at the Matplotlib web page: http://matplotlib.org/"
      ],
      "metadata": {
        "id": "TsszY2igXkBQ"
      }
    },
    {
      "cell_type": "markdown",
      "source": [
        "## Coding styles\n",
        "\n",
        "There are essentially two ways to use Matplotlib:\n",
        "\n",
        "* Explicitly create Figures and Axes, and call methods on them (the \"object-oriented (OO) style\").\n",
        "\n",
        "* Rely on pyplot to automatically create and manage the Figures and Axes, and use pyplot functions for plotting.\n",
        "\n",
        "We are going to stick to the pyplot-style since it can be very convenient for quick interactive work\n",
        "\n",
        "For more information check this [link](https://matplotlib.org/stable/tutorials/introductory/usage.html#sphx-glr-tutorials-introductory-usage-py)"
      ],
      "metadata": {
        "id": "EMhnBwI-cFMx"
      }
    },
    {
      "cell_type": "markdown",
      "source": [
        "To get started using Matplotlib in a Python program, import the matplotlib.pyplot module under the name plt (the common way in ML community):\n",
        "\n",
        "```python\n",
        "import matplotlib.pyplot as plt\n",
        "```\n",
        "\n",
        "Let's also add another library, [seaborn](https://seaborn.pydata.org/). Seaborn is a Python data visualization library based on matplotlib. It provides a high-level interface for drawing attractive and informative statistical graphics. \n",
        "\n",
        "However, we will use seaborn just for making the figure look pretty, feel free to explore how to use that library by your own.\n",
        "\n",
        "We use the alias `sns` for seaborn.\n",
        "\n",
        "```python\n",
        "import seaborn as sns\n",
        "```\n",
        "\n",
        "Lets import them and try with a simple code:\n",
        "\n",
        "```python\n",
        "sns.set() # just for setting seaborn style\n",
        "\n",
        "x = np.linspace(0, 5, 10)\n",
        "y = x ** 2\n",
        "\n",
        "plt.figure() # creates the figure\n",
        "plt.plot(x, y, 'r')  # plot the figure with x and y, with color red\n",
        "plt.xlabel('x')  # set the label of x-axis\n",
        "plt.ylabel('y')  # set the label of y-axis\n",
        "plt.title('title') # set the title of the figure\n",
        "plt.show()  # show the figure\n",
        "\n",
        "```\n",
        "\n",
        "Let's try this"
      ],
      "metadata": {
        "id": "V4IPYwx7YPGo"
      }
    },
    {
      "cell_type": "code",
      "source": [],
      "metadata": {
        "id": "oWgPY5RiYx9A"
      },
      "execution_count": null,
      "outputs": []
    },
    {
      "cell_type": "code",
      "source": [
        "import matplotlib.pyplot as plt\n",
        "import seaborn as sns"
      ],
      "metadata": {
        "id": "LhMQA-ZTZI-S"
      },
      "execution_count": 85,
      "outputs": []
    },
    {
      "cell_type": "code",
      "source": [
        "sns.set() # just for setting seaborn style\n",
        "\n",
        "x = np.linspace(0, 5, 10)\n",
        "y = -x ** 2\n",
        "\n",
        "plt.figure() # creates the figure\n",
        "plt.plot(x, y, 'r')  # plot the figure with x and y, with color red\n",
        "plt.xlabel('x')  # set the label of x-axis\n",
        "plt.ylabel('y')  # set the label of y-axis\n",
        "plt.title('title') # set the title of the figure\n",
        "plt.show()  # show the figure"
      ],
      "metadata": {
        "id": "NcrQDpwAYx_v",
        "colab": {
          "base_uri": "https://localhost:8080/",
          "height": 301
        },
        "outputId": "f01f0795-7d3b-44d1-b60a-9e996c30aaae"
      },
      "execution_count": 92,
      "outputs": [
        {
          "output_type": "display_data",
          "data": {
            "text/plain": [
              "<Figure size 432x288 with 1 Axes>"
            ],
            "image/png": "[encoded data removed]"
          },
          "metadata": {}
        }
      ]
    },
    {
      "cell_type": "code",
      "source": [],
      "metadata": {
        "id": "GZPSW78CYyCg"
      },
      "execution_count": null,
      "outputs": []
    },
    {
      "cell_type": "code",
      "source": [],
      "metadata": {
        "id": "cKh9wjEcZObS"
      },
      "execution_count": null,
      "outputs": []
    },
    {
      "cell_type": "markdown",
      "source": [
        "Finally, to finish our class today, let's try to plot several curves in the same figure. The code is very similar, just we add more `plt.plot` functions.\n",
        "\n",
        "Try this code:\n",
        "\n",
        "```python\n",
        "x = np.linspace(0, 2, 100)  # Sample data.\n",
        "\n",
        "plt.figure(figsize=(5, 2.7), layout='constrained')\n",
        "plt.plot(x, x, label='linear')  # Plot some data on the (implicit) axes.\n",
        "plt.plot(x, x**2, label='quadratic')  # etc.\n",
        "plt.plot(x, x**3, label='cubic')\n",
        "plt.xlabel('x label')\n",
        "plt.ylabel('y label')\n",
        "plt.title(\"Simple Plot\")\n",
        "plt.legend() # we add a legend to differentiate the plotted curves in the same figure\n",
        "\n",
        "```"
      ],
      "metadata": {
        "id": "2G3J_x7na0Kk"
      }
    },
    {
      "cell_type": "code",
      "source": [
        "x = np.linspace(0, 2, 100)  # Sample data.\n",
        "\n",
        "plt.figure(figsize=(5, 2.7))\n",
        "plt.plot(x, x, label='linear')  # Plot some data on the (implicit) axes.\n",
        "plt.plot(x, x**2, label='quadratic')  # etc.\n",
        "plt.plot(x, x**3, label='cubic')\n",
        "plt.xlabel('x label')\n",
        "plt.ylabel('y label')\n",
        "plt.title(\"Simple Plot\")\n",
        "plt.legend() # we add a legend to differentiate the plotted curves in the same figure"
      ],
      "metadata": {
        "id": "Ixj_t_MWbIGS",
        "colab": {
          "base_uri": "https://localhost:8080/",
          "height": 248
        },
        "outputId": "179548a9-09a9-4a17-d70a-0f75f328581f"
      },
      "execution_count": 95,
      "outputs": [
        {
          "output_type": "execute_result",
          "data": {
            "text/plain": [
              "<matplotlib.legend.Legend at 0x7f7d33da8350>"
            ]
          },
          "metadata": {},
          "execution_count": 95
        },
        {
          "output_type": "display_data",
          "data": {
            "text/plain": [
              "<Figure size 360x194.4 with 1 Axes>"
            ],
            "image/png": "[encoded data removed]"
          },
          "metadata": {}
        }
      ]
    },
    {
      "cell_type": "code",
      "source": [],
      "metadata": {
        "id": "SxYCFa5Kbztg"
      },
      "execution_count": null,
      "outputs": []
    },
    {
      "cell_type": "markdown",
      "source": [
        "# References\n",
        "\n",
        "The content of this notebook is based and adapted from https://github.com/jrjohansson/scientific-python-lectures/blob/master/Lecture-2-Numpy.ipynb\n",
        "\n",
        "Images used in the notebook\n",
        "\n",
        "* https://predictivehacks.com/tips-about-numpy-arrays/\n",
        "* https://study.com/learn/lesson/inverse-matrix.html\n",
        "* "
      ],
      "metadata": {
        "id": "XByefKKd4ISi"
      }
    },
    {
      "cell_type": "code",
      "source": [],
      "metadata": {
        "id": "gZzk37--4ne7"
      },
      "execution_count": null,
      "outputs": []
    }
  ],
  "metadata": {
    "kernelspec": {
      "display_name": "Python 3",
      "name": "python3"
    },
    "language_info": {
      "name": "python"
    },
    "colab": {
      "provenance": [],
      "toc_visible": true,
      "collapsed_sections": []
    },
    "gpuClass": "standard"
  },
  "nbformat": 4,
  "nbformat_minor": 0
}