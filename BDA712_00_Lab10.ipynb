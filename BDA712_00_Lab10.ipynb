{
  "nbformat": 4,
  "nbformat_minor": 0,
  "metadata": {
    "colab": {
      "provenance": [],
      "include_colab_link": true
    },
    "kernelspec": {
      "name": "python3",
      "display_name": "Python 3"
    },
    "language_info": {
      "name": "python"
    }
  },
  "cells": [
    {
      "cell_type": "markdown",
      "metadata": {
        "id": "view-in-github",
        "colab_type": "text"
      },
      "source": [
        "<a href=\"https://colab.research.google.com/github/johanik/ML_study/blob/main/BDA712_00_Lab10.ipynb\" target=\"_parent\"><img src=\"https://colab.research.google.com/assets/colab-badge.svg\" alt=\"Open In Colab\"/></a>"
      ]
    },
    {
      "cell_type": "markdown",
      "metadata": {
        "id": "saaO06RMwzGH"
      },
      "source": [
        "# Lab Session \\# 10\n",
        "\n",
        "\n",
        "---\n",
        "\n",
        "\n",
        "by Josué Obregón <br>\n",
        "BDA714-00 - Machine Learning Programming <br>\n",
        "Department of Big Data Analytics - Kyung Hee University<br>\n"
      ]
    },
    {
      "cell_type": "markdown",
      "metadata": {
        "id": "w0-nImUHNxOv"
      },
      "source": [
        "## Objectives\n",
        "\n",
        "The objective of this worksheet is to introduce the student to different type of techniques and functions for model assesing and model selection."
      ]
    },
    {
      "cell_type": "markdown",
      "metadata": {
        "id": "RYjZ_KEuTCTe"
      },
      "source": [
        "## Importing libraries \n",
        "\n",
        "\n",
        "The libraries we'll import to start with are pandas and numpy for data handling, and matplotlib, seaborn, and plotly for display generation."
      ]
    },
    {
      "cell_type": "code",
      "metadata": {
        "id": "npr4qhABfl-I"
      },
      "source": [
        "import pandas as pd\n",
        "import numpy as np\n",
        "import matplotlib.pyplot as plt\n",
        "import seaborn as sns"
      ],
      "execution_count": null,
      "outputs": []
    },
    {
      "cell_type": "code",
      "source": [
        "sns.set_style(\"darkgrid\")"
      ],
      "metadata": {
        "id": "40tb7lg0wGuH"
      },
      "execution_count": null,
      "outputs": []
    },
    {
      "cell_type": "markdown",
      "source": [
        "Donwnload the files that we will use"
      ],
      "metadata": {
        "id": "buBFoCRsNRrG"
      }
    },
    {
      "cell_type": "code",
      "source": [
        "!mkdir data"
      ],
      "metadata": {
        "id": "O4NdsA3MOf2v"
      },
      "execution_count": null,
      "outputs": []
    },
    {
      "cell_type": "code",
      "source": [
        "import gdown\n",
        "\n",
        "urls = ['https://drive.google.com/uc?export=download&id=1NnDVngq_4OlIeMHHAZ8miD_isbfF6B5V', # autoMPG6  https://drive.google.com/file/d/1NnDVngq_4OlIeMHHAZ8miD_isbfF6B5V/view?usp=sharing\n",
        "        ]\n",
        "outputs = ['autoMPG6.csv']\n",
        "for url,output in zip(urls,outputs):\n",
        "  gdown.download(url, f'data/{output}', quiet=False)"
      ],
      "metadata": {
        "id": "5CPbXrXyOV8t",
        "colab": {
          "base_uri": "https://localhost:8080/"
        },
        "outputId": "ddf9020f-6c8f-44fd-bfbc-c16b2e4adc35"
      },
      "execution_count": null,
      "outputs": [
        {
          "output_type": "stream",
          "name": "stderr",
          "text": [
            "Downloading...\n",
            "From: https://drive.google.com/uc?export=download&id=1NnDVngq_4OlIeMHHAZ8miD_isbfF6B5V\n",
            "To: /content/data/autoMPG6.csv\n",
            "100%|██████████| 10.7k/10.7k [00:00<00:00, 7.59MB/s]\n"
          ]
        }
      ]
    },
    {
      "cell_type": "markdown",
      "source": [
        "# Pipes"
      ],
      "metadata": {
        "id": "0A6j_J85Vu1a"
      }
    },
    {
      "cell_type": "code",
      "source": [
        "from sklearn.preprocessing import StandardScaler, PowerTransformer, MinMaxScaler\n",
        "from sklearn.linear_model import LinearRegression\n",
        "from sklearn.pipeline import Pipeline\n",
        "\n",
        "from sklearn.model_selection import train_test_split"
      ],
      "metadata": {
        "id": "f5pf6pRuVuDI"
      },
      "execution_count": null,
      "outputs": []
    },
    {
      "cell_type": "code",
      "source": [
        "df = pd.read_csv('data/autoMPG6.csv')\n",
        "df.info()"
      ],
      "metadata": {
        "id": "LuJpiZ51WvgO",
        "colab": {
          "base_uri": "https://localhost:8080/"
        },
        "outputId": "c047e251-4cfc-4848-8713-1281ecdd7280"
      },
      "execution_count": null,
      "outputs": [
        {
          "output_type": "stream",
          "name": "stdout",
          "text": [
            "<class 'pandas.core.frame.DataFrame'>\n",
            "RangeIndex: 392 entries, 0 to 391\n",
            "Data columns (total 6 columns):\n",
            " #   Column        Non-Null Count  Dtype  \n",
            "---  ------        --------------  -----  \n",
            " 0   Displacement  392 non-null    float64\n",
            " 1   Horse_power   392 non-null    int64  \n",
            " 2   Weight        392 non-null    int64  \n",
            " 3   Acceleration  392 non-null    float64\n",
            " 4   Model_year    392 non-null    int64  \n",
            " 5   Mpg           392 non-null    float64\n",
            "dtypes: float64(3), int64(3)\n",
            "memory usage: 18.5 KB\n"
          ]
        }
      ]
    },
    {
      "cell_type": "code",
      "source": [
        "df.describe()"
      ],
      "metadata": {
        "id": "MMj4ys3L9aQC",
        "colab": {
          "base_uri": "https://localhost:8080/",
          "height": 300
        },
        "outputId": "52cda8c4-e9ad-4b0a-f746-eae702b6f885"
      },
      "execution_count": null,
      "outputs": [
        {
          "output_type": "execute_result",
          "data": {
            "text/plain": [
              "       Displacement  Horse_power       Weight  Acceleration  Model_year  \\\n",
              "count    392.000000   392.000000   392.000000    392.000000  392.000000   \n",
              "mean     194.411990   104.469388  2977.584184     15.541327   75.979592   \n",
              "std      104.644004    38.491160   849.402560      2.758864    3.683737   \n",
              "min       68.000000    46.000000  1613.000000      8.000000   70.000000   \n",
              "25%      105.000000    75.000000  2225.250000     13.775000   73.000000   \n",
              "50%      151.000000    93.500000  2803.500000     15.500000   76.000000   \n",
              "75%      275.750000   126.000000  3614.750000     17.025000   79.000000   \n",
              "max      455.000000   230.000000  5140.000000     24.800000   82.000000   \n",
              "\n",
              "              Mpg  \n",
              "count  392.000000  \n",
              "mean    23.445918  \n",
              "std      7.805007  \n",
              "min      9.000000  \n",
              "25%     17.000000  \n",
              "50%     22.750000  \n",
              "75%     29.000000  \n",
              "max     46.600000  "
            ],
            "text/html": [
              "\n",
              "  <div id=\"df-446c3eb2-31eb-4dcc-9da1-88cab1747046\">\n",
              "    <div class=\"colab-df-container\">\n",
              "      <div>\n",
              "<style scoped>\n",
              "    .dataframe tbody tr th:only-of-type {\n",
              "        vertical-align: middle;\n",
              "    }\n",
              "\n",
              "    .dataframe tbody tr th {\n",
              "        vertical-align: top;\n",
              "    }\n",
              "\n",
              "    .dataframe thead th {\n",
              "        text-align: right;\n",
              "    }\n",
              "</style>\n",
              "<table border=\"1\" class=\"dataframe\">\n",
              "  <thead>\n",
              "    <tr style=\"text-align: right;\">\n",
              "      <th></th>\n",
              "      <th>Displacement</th>\n",
              "      <th>Horse_power</th>\n",
              "      <th>Weight</th>\n",
              "      <th>Acceleration</th>\n",
              "      <th>Model_year</th>\n",
              "      <th>Mpg</th>\n",
              "    </tr>\n",
              "  </thead>\n",
              "  <tbody>\n",
              "    <tr>\n",
              "      <th>count</th>\n",
              "      <td>392.000000</td>\n",
              "      <td>392.000000</td>\n",
              "      <td>392.000000</td>\n",
              "      <td>392.000000</td>\n",
              "      <td>392.000000</td>\n",
              "      <td>392.000000</td>\n",
              "    </tr>\n",
              "    <tr>\n",
              "      <th>mean</th>\n",
              "      <td>194.411990</td>\n",
              "      <td>104.469388</td>\n",
              "      <td>2977.584184</td>\n",
              "      <td>15.541327</td>\n",
              "      <td>75.979592</td>\n",
              "      <td>23.445918</td>\n",
              "    </tr>\n",
              "    <tr>\n",
              "      <th>std</th>\n",
              "      <td>104.644004</td>\n",
              "      <td>38.491160</td>\n",
              "      <td>849.402560</td>\n",
              "      <td>2.758864</td>\n",
              "      <td>3.683737</td>\n",
              "      <td>7.805007</td>\n",
              "    </tr>\n",
              "    <tr>\n",
              "      <th>min</th>\n",
              "      <td>68.000000</td>\n",
              "      <td>46.000000</td>\n",
              "      <td>1613.000000</td>\n",
              "      <td>8.000000</td>\n",
              "      <td>70.000000</td>\n",
              "      <td>9.000000</td>\n",
              "    </tr>\n",
              "    <tr>\n",
              "      <th>25%</th>\n",
              "      <td>105.000000</td>\n",
              "      <td>75.000000</td>\n",
              "      <td>2225.250000</td>\n",
              "      <td>13.775000</td>\n",
              "      <td>73.000000</td>\n",
              "      <td>17.000000</td>\n",
              "    </tr>\n",
              "    <tr>\n",
              "      <th>50%</th>\n",
              "      <td>151.000000</td>\n",
              "      <td>93.500000</td>\n",
              "      <td>2803.500000</td>\n",
              "      <td>15.500000</td>\n",
              "      <td>76.000000</td>\n",
              "      <td>22.750000</td>\n",
              "    </tr>\n",
              "    <tr>\n",
              "      <th>75%</th>\n",
              "      <td>275.750000</td>\n",
              "      <td>126.000000</td>\n",
              "      <td>3614.750000</td>\n",
              "      <td>17.025000</td>\n",
              "      <td>79.000000</td>\n",
              "      <td>29.000000</td>\n",
              "    </tr>\n",
              "    <tr>\n",
              "      <th>max</th>\n",
              "      <td>455.000000</td>\n",
              "      <td>230.000000</td>\n",
              "      <td>5140.000000</td>\n",
              "      <td>24.800000</td>\n",
              "      <td>82.000000</td>\n",
              "      <td>46.600000</td>\n",
              "    </tr>\n",
              "  </tbody>\n",
              "</table>\n",
              "</div>\n",
              "      <button class=\"colab-df-convert\" onclick=\"convertToInteractive('df-446c3eb2-31eb-4dcc-9da1-88cab1747046')\"\n",
              "              title=\"Convert this dataframe to an interactive table.\"\n",
              "              style=\"display:none;\">\n",
              "        \n",
              "  <svg xmlns=\"http://www.w3.org/2000/svg\" height=\"24px\"viewBox=\"0 0 24 24\"\n",
              "       width=\"24px\">\n",
              "    <path d=\"M0 0h24v24H0V0z\" fill=\"none\"/>\n",
              "    <path d=\"M18.56 5.44l.94 2.06.94-2.06 2.06-.94-2.06-.94-.94-2.06-.94 2.06-2.06.94zm-11 1L8.5 8.5l.94-2.06 2.06-.94-2.06-.94L8.5 2.5l-.94 2.06-2.06.94zm10 10l.94 2.06.94-2.06 2.06-.94-2.06-.94-.94-2.06-.94 2.06-2.06.94z\"/><path d=\"M17.41 7.96l-1.37-1.37c-.4-.4-.92-.59-1.43-.59-.52 0-1.04.2-1.43.59L10.3 9.45l-7.72 7.72c-.78.78-.78 2.05 0 2.83L4 21.41c.39.39.9.59 1.41.59.51 0 1.02-.2 1.41-.59l7.78-7.78 2.81-2.81c.8-.78.8-2.07 0-2.86zM5.41 20L4 18.59l7.72-7.72 1.47 1.35L5.41 20z\"/>\n",
              "  </svg>\n",
              "      </button>\n",
              "      \n",
              "  <style>\n",
              "    .colab-df-container {\n",
              "      display:flex;\n",
              "      flex-wrap:wrap;\n",
              "      gap: 12px;\n",
              "    }\n",
              "\n",
              "    .colab-df-convert {\n",
              "      background-color: #E8F0FE;\n",
              "      border: none;\n",
              "      border-radius: 50%;\n",
              "      cursor: pointer;\n",
              "      display: none;\n",
              "      fill: #1967D2;\n",
              "      height: 32px;\n",
              "      padding: 0 0 0 0;\n",
              "      width: 32px;\n",
              "    }\n",
              "\n",
              "    .colab-df-convert:hover {\n",
              "      background-color: #E2EBFA;\n",
              "      box-shadow: 0px 1px 2px rgba(60, 64, 67, 0.3), 0px 1px 3px 1px rgba(60, 64, 67, 0.15);\n",
              "      fill: #174EA6;\n",
              "    }\n",
              "\n",
              "    [theme=dark] .colab-df-convert {\n",
              "      background-color: #3B4455;\n",
              "      fill: #D2E3FC;\n",
              "    }\n",
              "\n",
              "    [theme=dark] .colab-df-convert:hover {\n",
              "      background-color: #434B5C;\n",
              "      box-shadow: 0px 1px 3px 1px rgba(0, 0, 0, 0.15);\n",
              "      filter: drop-shadow(0px 1px 2px rgba(0, 0, 0, 0.3));\n",
              "      fill: #FFFFFF;\n",
              "    }\n",
              "  </style>\n",
              "\n",
              "      <script>\n",
              "        const buttonEl =\n",
              "          document.querySelector('#df-446c3eb2-31eb-4dcc-9da1-88cab1747046 button.colab-df-convert');\n",
              "        buttonEl.style.display =\n",
              "          google.colab.kernel.accessAllowed ? 'block' : 'none';\n",
              "\n",
              "        async function convertToInteractive(key) {\n",
              "          const element = document.querySelector('#df-446c3eb2-31eb-4dcc-9da1-88cab1747046');\n",
              "          const dataTable =\n",
              "            await google.colab.kernel.invokeFunction('convertToInteractive',\n",
              "                                                     [key], {});\n",
              "          if (!dataTable) return;\n",
              "\n",
              "          const docLinkHtml = 'Like what you see? Visit the ' +\n",
              "            '<a target=\"_blank\" href=https://colab.research.google.com/notebooks/data_table.ipynb>data table notebook</a>'\n",
              "            + ' to learn more about interactive tables.';\n",
              "          element.innerHTML = '';\n",
              "          dataTable['output_type'] = 'display_data';\n",
              "          await google.colab.output.renderOutput(dataTable, element);\n",
              "          const docLink = document.createElement('div');\n",
              "          docLink.innerHTML = docLinkHtml;\n",
              "          element.appendChild(docLink);\n",
              "        }\n",
              "      </script>\n",
              "    </div>\n",
              "  </div>\n",
              "  "
            ]
          },
          "metadata": {},
          "execution_count": 7
        }
      ]
    },
    {
      "cell_type": "code",
      "source": [
        "X = df[['Horse_power','Displacement']]\n",
        "y = df['Mpg']"
      ],
      "metadata": {
        "id": "2hLNH-AsY0Hq"
      },
      "execution_count": null,
      "outputs": []
    },
    {
      "cell_type": "code",
      "source": [
        "pipe = Pipeline([('minmax', MinMaxScaler()),\n",
        "                 ('LR', LinearRegression())])\n",
        "\n",
        "pipe"
      ],
      "metadata": {
        "id": "P2sZEARMW9zq",
        "colab": {
          "base_uri": "https://localhost:8080/"
        },
        "outputId": "11159bec-f46d-4a15-e6b9-31c100b5b4f2"
      },
      "execution_count": null,
      "outputs": [
        {
          "output_type": "execute_result",
          "data": {
            "text/plain": [
              "Pipeline(steps=[('minmax', MinMaxScaler()), ('LR', LinearRegression())])"
            ]
          },
          "metadata": {},
          "execution_count": 12
        }
      ]
    },
    {
      "cell_type": "code",
      "source": [
        "from sklearn import set_config\n",
        "set_config(display='diagram')"
      ],
      "metadata": {
        "id": "mtNyrTXGW92Q"
      },
      "execution_count": null,
      "outputs": []
    },
    {
      "cell_type": "code",
      "source": [
        "pipe"
      ],
      "metadata": {
        "id": "jmZf6fXJW943",
        "colab": {
          "base_uri": "https://localhost:8080/",
          "height": 172
        },
        "outputId": "87ea5472-77f6-4e0b-ac12-45b8963edb20"
      },
      "execution_count": null,
      "outputs": [
        {
          "output_type": "execute_result",
          "data": {
            "text/plain": [
              "Pipeline(steps=[('minmax', MinMaxScaler()), ('LR', LinearRegression())])"
            ],
            "text/html": [
              "<style>#sk-49d1f2ea-da80-46bf-a8c8-a9e1269cbcb5 {color: black;background-color: white;}#sk-49d1f2ea-da80-46bf-a8c8-a9e1269cbcb5 pre{padding: 0;}#sk-49d1f2ea-da80-46bf-a8c8-a9e1269cbcb5 div.sk-toggleable {background-color: white;}#sk-49d1f2ea-da80-46bf-a8c8-a9e1269cbcb5 label.sk-toggleable__label {cursor: pointer;display: block;width: 100%;margin-bottom: 0;padding: 0.3em;box-sizing: border-box;text-align: center;}#sk-49d1f2ea-da80-46bf-a8c8-a9e1269cbcb5 label.sk-toggleable__label-arrow:before {content: \"▸\";float: left;margin-right: 0.25em;color: #696969;}#sk-49d1f2ea-da80-46bf-a8c8-a9e1269cbcb5 label.sk-toggleable__label-arrow:hover:before {color: black;}#sk-49d1f2ea-da80-46bf-a8c8-a9e1269cbcb5 div.sk-estimator:hover label.sk-toggleable__label-arrow:before {color: black;}#sk-49d1f2ea-da80-46bf-a8c8-a9e1269cbcb5 div.sk-toggleable__content {max-height: 0;max-width: 0;overflow: hidden;text-align: left;background-color: #f0f8ff;}#sk-49d1f2ea-da80-46bf-a8c8-a9e1269cbcb5 div.sk-toggleable__content pre {margin: 0.2em;color: black;border-radius: 0.25em;background-color: #f0f8ff;}#sk-49d1f2ea-da80-46bf-a8c8-a9e1269cbcb5 input.sk-toggleable__control:checked~div.sk-toggleable__content {max-height: 200px;max-width: 100%;overflow: auto;}#sk-49d1f2ea-da80-46bf-a8c8-a9e1269cbcb5 input.sk-toggleable__control:checked~label.sk-toggleable__label-arrow:before {content: \"▾\";}#sk-49d1f2ea-da80-46bf-a8c8-a9e1269cbcb5 div.sk-estimator input.sk-toggleable__control:checked~label.sk-toggleable__label {background-color: #d4ebff;}#sk-49d1f2ea-da80-46bf-a8c8-a9e1269cbcb5 div.sk-label input.sk-toggleable__control:checked~label.sk-toggleable__label {background-color: #d4ebff;}#sk-49d1f2ea-da80-46bf-a8c8-a9e1269cbcb5 input.sk-hidden--visually {border: 0;clip: rect(1px 1px 1px 1px);clip: rect(1px, 1px, 1px, 1px);height: 1px;margin: -1px;overflow: hidden;padding: 0;position: absolute;width: 1px;}#sk-49d1f2ea-da80-46bf-a8c8-a9e1269cbcb5 div.sk-estimator {font-family: monospace;background-color: #f0f8ff;border: 1px dotted black;border-radius: 0.25em;box-sizing: border-box;margin-bottom: 0.5em;}#sk-49d1f2ea-da80-46bf-a8c8-a9e1269cbcb5 div.sk-estimator:hover {background-color: #d4ebff;}#sk-49d1f2ea-da80-46bf-a8c8-a9e1269cbcb5 div.sk-parallel-item::after {content: \"\";width: 100%;border-bottom: 1px solid gray;flex-grow: 1;}#sk-49d1f2ea-da80-46bf-a8c8-a9e1269cbcb5 div.sk-label:hover label.sk-toggleable__label {background-color: #d4ebff;}#sk-49d1f2ea-da80-46bf-a8c8-a9e1269cbcb5 div.sk-serial::before {content: \"\";position: absolute;border-left: 1px solid gray;box-sizing: border-box;top: 2em;bottom: 0;left: 50%;}#sk-49d1f2ea-da80-46bf-a8c8-a9e1269cbcb5 div.sk-serial {display: flex;flex-direction: column;align-items: center;background-color: white;padding-right: 0.2em;padding-left: 0.2em;}#sk-49d1f2ea-da80-46bf-a8c8-a9e1269cbcb5 div.sk-item {z-index: 1;}#sk-49d1f2ea-da80-46bf-a8c8-a9e1269cbcb5 div.sk-parallel {display: flex;align-items: stretch;justify-content: center;background-color: white;}#sk-49d1f2ea-da80-46bf-a8c8-a9e1269cbcb5 div.sk-parallel::before {content: \"\";position: absolute;border-left: 1px solid gray;box-sizing: border-box;top: 2em;bottom: 0;left: 50%;}#sk-49d1f2ea-da80-46bf-a8c8-a9e1269cbcb5 div.sk-parallel-item {display: flex;flex-direction: column;position: relative;background-color: white;}#sk-49d1f2ea-da80-46bf-a8c8-a9e1269cbcb5 div.sk-parallel-item:first-child::after {align-self: flex-end;width: 50%;}#sk-49d1f2ea-da80-46bf-a8c8-a9e1269cbcb5 div.sk-parallel-item:last-child::after {align-self: flex-start;width: 50%;}#sk-49d1f2ea-da80-46bf-a8c8-a9e1269cbcb5 div.sk-parallel-item:only-child::after {width: 0;}#sk-49d1f2ea-da80-46bf-a8c8-a9e1269cbcb5 div.sk-dashed-wrapped {border: 1px dashed gray;margin: 0 0.4em 0.5em 0.4em;box-sizing: border-box;padding-bottom: 0.4em;background-color: white;position: relative;}#sk-49d1f2ea-da80-46bf-a8c8-a9e1269cbcb5 div.sk-label label {font-family: monospace;font-weight: bold;background-color: white;display: inline-block;line-height: 1.2em;}#sk-49d1f2ea-da80-46bf-a8c8-a9e1269cbcb5 div.sk-label-container {position: relative;z-index: 2;text-align: center;}#sk-49d1f2ea-da80-46bf-a8c8-a9e1269cbcb5 div.sk-container {/* jupyter's `normalize.less` sets `[hidden] { display: none; }` but bootstrap.min.css set `[hidden] { display: none !important; }` so we also need the `!important` here to be able to override the default hidden behavior on the sphinx rendered scikit-learn.org. See: https://github.com/scikit-learn/scikit-learn/issues/21755 */display: inline-block !important;position: relative;}#sk-49d1f2ea-da80-46bf-a8c8-a9e1269cbcb5 div.sk-text-repr-fallback {display: none;}</style><div id=\"sk-49d1f2ea-da80-46bf-a8c8-a9e1269cbcb5\" class=\"sk-top-container\"><div class=\"sk-text-repr-fallback\"><pre>Pipeline(steps=[(&#x27;minmax&#x27;, MinMaxScaler()), (&#x27;LR&#x27;, LinearRegression())])</pre><b>Please rerun this cell to show the HTML repr or trust the notebook.</b></div><div class=\"sk-container\" hidden><div class=\"sk-item sk-dashed-wrapped\"><div class=\"sk-label-container\"><div class=\"sk-label sk-toggleable\"><input class=\"sk-toggleable__control sk-hidden--visually\" id=\"e860f097-c9e7-4991-b56a-a830f783b3b6\" type=\"checkbox\" ><label for=\"e860f097-c9e7-4991-b56a-a830f783b3b6\" class=\"sk-toggleable__label sk-toggleable__label-arrow\">Pipeline</label><div class=\"sk-toggleable__content\"><pre>Pipeline(steps=[(&#x27;minmax&#x27;, MinMaxScaler()), (&#x27;LR&#x27;, LinearRegression())])</pre></div></div></div><div class=\"sk-serial\"><div class=\"sk-item\"><div class=\"sk-estimator sk-toggleable\"><input class=\"sk-toggleable__control sk-hidden--visually\" id=\"f03c83e6-8e4e-4ad7-8630-accb7e9bc86b\" type=\"checkbox\" ><label for=\"f03c83e6-8e4e-4ad7-8630-accb7e9bc86b\" class=\"sk-toggleable__label sk-toggleable__label-arrow\">MinMaxScaler</label><div class=\"sk-toggleable__content\"><pre>MinMaxScaler()</pre></div></div></div><div class=\"sk-item\"><div class=\"sk-estimator sk-toggleable\"><input class=\"sk-toggleable__control sk-hidden--visually\" id=\"b3e5f12c-6721-45f5-8501-4d0435956c55\" type=\"checkbox\" ><label for=\"b3e5f12c-6721-45f5-8501-4d0435956c55\" class=\"sk-toggleable__label sk-toggleable__label-arrow\">LinearRegression</label><div class=\"sk-toggleable__content\"><pre>LinearRegression()</pre></div></div></div></div></div></div></div>"
            ]
          },
          "metadata": {},
          "execution_count": 14
        }
      ]
    },
    {
      "cell_type": "code",
      "source": [
        " X_train, X_test, y_train, y_test = (X,y,test_size=.20, shuffle=True, random_state=712)"
      ],
      "metadata": {
        "id": "WqpKjAzGiIk0"
      },
      "execution_count": null,
      "outputs": []
    },
    {
      "cell_type": "code",
      "source": [
        "pipe.fit(X_train, y_train)"
      ],
      "metadata": {
        "id": "_jQN2z7oiFNa",
        "colab": {
          "base_uri": "https://localhost:8080/",
          "height": 126
        },
        "outputId": "3a15428a-6f34-4884-a3aa-1beb9e0522b5"
      },
      "execution_count": null,
      "outputs": [
        {
          "output_type": "execute_result",
          "data": {
            "text/plain": [
              "Pipeline(steps=[('minmax', MinMaxScaler()), ('LR', LinearRegression())])"
            ],
            "text/html": [
              "<style>#sk-67785b34-f692-433b-bb86-4c908a979a70 {color: black;background-color: white;}#sk-67785b34-f692-433b-bb86-4c908a979a70 pre{padding: 0;}#sk-67785b34-f692-433b-bb86-4c908a979a70 div.sk-toggleable {background-color: white;}#sk-67785b34-f692-433b-bb86-4c908a979a70 label.sk-toggleable__label {cursor: pointer;display: block;width: 100%;margin-bottom: 0;padding: 0.3em;box-sizing: border-box;text-align: center;}#sk-67785b34-f692-433b-bb86-4c908a979a70 label.sk-toggleable__label-arrow:before {content: \"▸\";float: left;margin-right: 0.25em;color: #696969;}#sk-67785b34-f692-433b-bb86-4c908a979a70 label.sk-toggleable__label-arrow:hover:before {color: black;}#sk-67785b34-f692-433b-bb86-4c908a979a70 div.sk-estimator:hover label.sk-toggleable__label-arrow:before {color: black;}#sk-67785b34-f692-433b-bb86-4c908a979a70 div.sk-toggleable__content {max-height: 0;max-width: 0;overflow: hidden;text-align: left;background-color: #f0f8ff;}#sk-67785b34-f692-433b-bb86-4c908a979a70 div.sk-toggleable__content pre {margin: 0.2em;color: black;border-radius: 0.25em;background-color: #f0f8ff;}#sk-67785b34-f692-433b-bb86-4c908a979a70 input.sk-toggleable__control:checked~div.sk-toggleable__content {max-height: 200px;max-width: 100%;overflow: auto;}#sk-67785b34-f692-433b-bb86-4c908a979a70 input.sk-toggleable__control:checked~label.sk-toggleable__label-arrow:before {content: \"▾\";}#sk-67785b34-f692-433b-bb86-4c908a979a70 div.sk-estimator input.sk-toggleable__control:checked~label.sk-toggleable__label {background-color: #d4ebff;}#sk-67785b34-f692-433b-bb86-4c908a979a70 div.sk-label input.sk-toggleable__control:checked~label.sk-toggleable__label {background-color: #d4ebff;}#sk-67785b34-f692-433b-bb86-4c908a979a70 input.sk-hidden--visually {border: 0;clip: rect(1px 1px 1px 1px);clip: rect(1px, 1px, 1px, 1px);height: 1px;margin: -1px;overflow: hidden;padding: 0;position: absolute;width: 1px;}#sk-67785b34-f692-433b-bb86-4c908a979a70 div.sk-estimator {font-family: monospace;background-color: #f0f8ff;border: 1px dotted black;border-radius: 0.25em;box-sizing: border-box;margin-bottom: 0.5em;}#sk-67785b34-f692-433b-bb86-4c908a979a70 div.sk-estimator:hover {background-color: #d4ebff;}#sk-67785b34-f692-433b-bb86-4c908a979a70 div.sk-parallel-item::after {content: \"\";width: 100%;border-bottom: 1px solid gray;flex-grow: 1;}#sk-67785b34-f692-433b-bb86-4c908a979a70 div.sk-label:hover label.sk-toggleable__label {background-color: #d4ebff;}#sk-67785b34-f692-433b-bb86-4c908a979a70 div.sk-serial::before {content: \"\";position: absolute;border-left: 1px solid gray;box-sizing: border-box;top: 2em;bottom: 0;left: 50%;}#sk-67785b34-f692-433b-bb86-4c908a979a70 div.sk-serial {display: flex;flex-direction: column;align-items: center;background-color: white;padding-right: 0.2em;padding-left: 0.2em;}#sk-67785b34-f692-433b-bb86-4c908a979a70 div.sk-item {z-index: 1;}#sk-67785b34-f692-433b-bb86-4c908a979a70 div.sk-parallel {display: flex;align-items: stretch;justify-content: center;background-color: white;}#sk-67785b34-f692-433b-bb86-4c908a979a70 div.sk-parallel::before {content: \"\";position: absolute;border-left: 1px solid gray;box-sizing: border-box;top: 2em;bottom: 0;left: 50%;}#sk-67785b34-f692-433b-bb86-4c908a979a70 div.sk-parallel-item {display: flex;flex-direction: column;position: relative;background-color: white;}#sk-67785b34-f692-433b-bb86-4c908a979a70 div.sk-parallel-item:first-child::after {align-self: flex-end;width: 50%;}#sk-67785b34-f692-433b-bb86-4c908a979a70 div.sk-parallel-item:last-child::after {align-self: flex-start;width: 50%;}#sk-67785b34-f692-433b-bb86-4c908a979a70 div.sk-parallel-item:only-child::after {width: 0;}#sk-67785b34-f692-433b-bb86-4c908a979a70 div.sk-dashed-wrapped {border: 1px dashed gray;margin: 0 0.4em 0.5em 0.4em;box-sizing: border-box;padding-bottom: 0.4em;background-color: white;position: relative;}#sk-67785b34-f692-433b-bb86-4c908a979a70 div.sk-label label {font-family: monospace;font-weight: bold;background-color: white;display: inline-block;line-height: 1.2em;}#sk-67785b34-f692-433b-bb86-4c908a979a70 div.sk-label-container {position: relative;z-index: 2;text-align: center;}#sk-67785b34-f692-433b-bb86-4c908a979a70 div.sk-container {/* jupyter's `normalize.less` sets `[hidden] { display: none; }` but bootstrap.min.css set `[hidden] { display: none !important; }` so we also need the `!important` here to be able to override the default hidden behavior on the sphinx rendered scikit-learn.org. See: https://github.com/scikit-learn/scikit-learn/issues/21755 */display: inline-block !important;position: relative;}#sk-67785b34-f692-433b-bb86-4c908a979a70 div.sk-text-repr-fallback {display: none;}</style><div id=\"sk-67785b34-f692-433b-bb86-4c908a979a70\" class=\"sk-top-container\"><div class=\"sk-text-repr-fallback\"><pre>Pipeline(steps=[(&#x27;minmax&#x27;, MinMaxScaler()), (&#x27;LR&#x27;, LinearRegression())])</pre><b>Please rerun this cell to show the HTML repr or trust the notebook.</b></div><div class=\"sk-container\" hidden><div class=\"sk-item sk-dashed-wrapped\"><div class=\"sk-label-container\"><div class=\"sk-label sk-toggleable\"><input class=\"sk-toggleable__control sk-hidden--visually\" id=\"fcd0c656-33ab-40f0-80e7-96434038d18b\" type=\"checkbox\" ><label for=\"fcd0c656-33ab-40f0-80e7-96434038d18b\" class=\"sk-toggleable__label sk-toggleable__label-arrow\">Pipeline</label><div class=\"sk-toggleable__content\"><pre>Pipeline(steps=[(&#x27;minmax&#x27;, MinMaxScaler()), (&#x27;LR&#x27;, LinearRegression())])</pre></div></div></div><div class=\"sk-serial\"><div class=\"sk-item\"><div class=\"sk-estimator sk-toggleable\"><input class=\"sk-toggleable__control sk-hidden--visually\" id=\"6d953b9b-dc15-426b-9d2a-b99dcb829147\" type=\"checkbox\" ><label for=\"6d953b9b-dc15-426b-9d2a-b99dcb829147\" class=\"sk-toggleable__label sk-toggleable__label-arrow\">MinMaxScaler</label><div class=\"sk-toggleable__content\"><pre>MinMaxScaler()</pre></div></div></div><div class=\"sk-item\"><div class=\"sk-estimator sk-toggleable\"><input class=\"sk-toggleable__control sk-hidden--visually\" id=\"ac1e453f-c06c-4375-864e-859cd389a94a\" type=\"checkbox\" ><label for=\"ac1e453f-c06c-4375-864e-859cd389a94a\" class=\"sk-toggleable__label sk-toggleable__label-arrow\">LinearRegression</label><div class=\"sk-toggleable__content\"><pre>LinearRegression()</pre></div></div></div></div></div></div></div>"
            ]
          },
          "metadata": {},
          "execution_count": 16
        }
      ]
    },
    {
      "cell_type": "code",
      "source": [
        "y_pred = pipe.predict(X_test)\n",
        "y_pred"
      ],
      "metadata": {
        "id": "E2Cv1DGGiRvu",
        "colab": {
          "base_uri": "https://localhost:8080/"
        },
        "outputId": "fa992bb7-7638-4d67-b47c-aaa0dda29552"
      },
      "execution_count": null,
      "outputs": [
        {
          "output_type": "execute_result",
          "data": {
            "text/plain": [
              "array([20.40323958, 12.50294384, 21.47059155,  6.30851999, 31.4449213 ,\n",
              "       26.38797552, 27.92609709, 27.76333005, 28.17995904, 22.44410177,\n",
              "       28.64350891,  6.30851999, 28.68888375, 27.61620329, 27.74236126,\n",
              "       29.84389336, 25.67932947, 23.81378257, 29.33651467, 29.77565848,\n",
              "       22.84594607, 25.964472  , 23.75276744, 26.98988638, 30.21136503,\n",
              "       22.16359731, 13.62443641, 23.1142475 , 31.09841842, 25.964472  ,\n",
              "       23.26292028, 28.64350891, 12.45258571, 29.63918873, 20.78824279,\n",
              "       29.84733062, 14.54999011, 11.34673343, 29.64262599,  9.55440469,\n",
              "       11.12380683, 23.45662269, 16.73917986, 21.75075079,  5.04866642,\n",
              "       13.91147018, 24.11645663, 28.68733773, 28.4826331 , 17.7668307 ,\n",
              "       13.86764135, 17.30602766, 15.44082598, 15.44082598, 13.1852926 ,\n",
              "       29.84389336,  5.42834112, 28.18150507, 22.16359731,  5.04866642,\n",
              "       25.61951514, 16.80741474, 28.68200923, 21.51974887, 21.47059155,\n",
              "       27.15076219, 21.51974887, 12.28379972, 27.80183037, 14.98913392,\n",
              "       20.78824279, 28.88671386, 27.60245424, 14.54999011, 21.86092325,\n",
              "       27.33329722, 28.18683357, 31.17885632, 30.3058972 ])"
            ]
          },
          "metadata": {},
          "execution_count": 20
        }
      ]
    },
    {
      "cell_type": "code",
      "source": [
        "from sklearn.metrics import mean_squared_error, mean_absolute_error, r2_score, mean_absolute_percentage_error"
      ],
      "metadata": {
        "id": "CB98e-1NiSTM"
      },
      "execution_count": null,
      "outputs": []
    },
    {
      "cell_type": "code",
      "source": [
        "def print_reg_metrics(y_true ,y_pred):\n",
        "  print(f'MSE: {mean_squared_error(y_true, y_pred)}')\n",
        "  print(f'MAE: {mean_absolute_error(y_true, y_pred)}')\n",
        "  print(f'MAPE: {mean_absolute_percentage_error(y_true, y_pred)}')\n",
        "  print(f'R2: {r2_score(y_true, y_pred)}')\n"
      ],
      "metadata": {
        "id": "1VGTGN3p8BvM"
      },
      "execution_count": null,
      "outputs": []
    },
    {
      "cell_type": "code",
      "source": [
        "print_reg_metrics(y_test, y_pred)"
      ],
      "metadata": {
        "id": "QwaEIXse8qFJ",
        "colab": {
          "base_uri": "https://localhost:8080/"
        },
        "outputId": "dc7b1152-1c2b-488a-d96b-2a25ff7fc5c7"
      },
      "execution_count": null,
      "outputs": [
        {
          "output_type": "stream",
          "name": "stdout",
          "text": [
            "MSE: 22.276320809518445\n",
            "MAE: 3.6639010798641363\n",
            "MAPE: 0.17018787218241435\n",
            "R2: 0.6762237776793226\n"
          ]
        }
      ]
    },
    {
      "cell_type": "markdown",
      "source": [
        "## Using other predictors"
      ],
      "metadata": {
        "id": "is8a_abw9Xdt"
      }
    },
    {
      "cell_type": "code",
      "source": [],
      "metadata": {
        "id": "VqhRdVQjheZd"
      },
      "execution_count": null,
      "outputs": []
    },
    {
      "cell_type": "code",
      "source": [],
      "metadata": {
        "id": "De2oirQ69lKH"
      },
      "execution_count": null,
      "outputs": []
    },
    {
      "cell_type": "code",
      "source": [],
      "metadata": {
        "id": "or1lg80v9lN0"
      },
      "execution_count": null,
      "outputs": []
    },
    {
      "cell_type": "code",
      "source": [],
      "metadata": {
        "id": "xFpZL8849lQv"
      },
      "execution_count": null,
      "outputs": []
    },
    {
      "cell_type": "code",
      "source": [],
      "metadata": {
        "id": "Q4ioseLp9lTx"
      },
      "execution_count": null,
      "outputs": []
    },
    {
      "cell_type": "markdown",
      "source": [
        "# Validation set"
      ],
      "metadata": {
        "id": "vmiVYnlHfqHX"
      }
    },
    {
      "cell_type": "code",
      "source": [
        "X = df[['Horse_power']]\n",
        "y = df['Mpg']"
      ],
      "metadata": {
        "id": "epcAPRJdg_ko"
      },
      "execution_count": null,
      "outputs": []
    },
    {
      "cell_type": "code",
      "source": [
        "%%time\n",
        "transformation_list = [('minmax',MinMaxScaler()),\n",
        "                       ('sd', StandardScaler()),\n",
        "                       ('yeo', PowerTransformer())]\n",
        "\n",
        "for i in range(10):\n",
        "  mses = []\n",
        "  X_train, X_test, y_train, y_test = train_test_split(X,y,test_size=.50, shuffle=True, random_state=i+1)\n",
        "  for trans in transformation_list:\n",
        "    pipe = Pipeline([trans, ('LR', LinearRegression())])\n",
        "    pipe.fit(X_train, y_train)\n",
        "    y_pred = pipe.predict(X_test)\n",
        "    mse = mean_squared_error(y_test, y_pred)\n",
        "    mses.append(mse)\n",
        "\n",
        "  sns.lineplot(x=['mm','sd','yeo'], y=mses)\n",
        "plt.xlabel('Transformation')\n",
        "plt.ylabel('Test MSE')\n"
      ],
      "metadata": {
        "id": "S5LUpKUhfu0o",
        "colab": {
          "base_uri": "https://localhost:8080/",
          "height": 331
        },
        "outputId": "c27305d1-06a5-42a3-e5d6-dba9663835b7"
      },
      "execution_count": null,
      "outputs": [
        {
          "output_type": "stream",
          "name": "stdout",
          "text": [
            "CPU times: user 642 ms, sys: 2.29 ms, total: 644 ms\n",
            "Wall time: 1.09 s\n"
          ]
        },
        {
          "output_type": "execute_result",
          "data": {
            "text/plain": [
              "Text(0, 0.5, 'Test MSE')"
            ]
          },
          "metadata": {},
          "execution_count": 27
        },
        {
          "output_type": "display_data",
          "data": {
            "text/plain": [
              "<Figure size 432x288 with 1 Axes>"
            ],
            "image/png": "[encoded data removed]"
          },
          "metadata": {}
        }
      ]
    },
    {
      "cell_type": "markdown",
      "source": [
        "# Cross-validation"
      ],
      "metadata": {
        "id": "YOEEKrqXVMnu"
      }
    },
    {
      "cell_type": "code",
      "source": [],
      "metadata": {
        "id": "ymun2bRwlFi3"
      },
      "execution_count": null,
      "outputs": []
    },
    {
      "cell_type": "code",
      "source": [],
      "metadata": {
        "id": "_u2jWdXxljgD"
      },
      "execution_count": null,
      "outputs": []
    },
    {
      "cell_type": "code",
      "source": [
        "\n"
      ],
      "metadata": {
        "id": "9t5efQD5lj8A"
      },
      "execution_count": null,
      "outputs": []
    },
    {
      "cell_type": "code",
      "source": [],
      "metadata": {
        "id": "yHFxAwx_w6Q6"
      },
      "execution_count": null,
      "outputs": []
    },
    {
      "cell_type": "code",
      "source": [],
      "metadata": {
        "id": "5ceE8-lxlj-3"
      },
      "execution_count": null,
      "outputs": []
    },
    {
      "cell_type": "markdown",
      "source": [
        "## Leve one out cross-validation"
      ],
      "metadata": {
        "id": "wEN4vLJexYp3"
      }
    },
    {
      "cell_type": "code",
      "source": [],
      "metadata": {
        "id": "TnR1YnnwlkBo"
      },
      "execution_count": null,
      "outputs": []
    },
    {
      "cell_type": "code",
      "source": [],
      "metadata": {
        "id": "01G9cWXolkEO"
      },
      "execution_count": null,
      "outputs": []
    },
    {
      "cell_type": "code",
      "source": [],
      "metadata": {
        "id": "NiKGIzEluxMo"
      },
      "execution_count": null,
      "outputs": []
    },
    {
      "cell_type": "code",
      "source": [],
      "metadata": {
        "id": "w6YqYMH5vUA_"
      },
      "execution_count": null,
      "outputs": []
    }
  ]
}