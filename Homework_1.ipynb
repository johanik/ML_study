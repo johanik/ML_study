{
  "nbformat": 4,
  "nbformat_minor": 0,
  "metadata": {
    "colab": {
      "provenance": [],
      "collapsed_sections": [],
      "authorship_tag": "ABX9TyNq71meEO0df0ACAZqoZfOZ",
      "include_colab_link": true
    },
    "kernelspec": {
      "name": "python3",
      "display_name": "Python 3"
    },
    "language_info": {
      "name": "python"
    }
  },
  "cells": [
    {
      "cell_type": "markdown",
      "metadata": {
        "id": "view-in-github",
        "colab_type": "text"
      },
      "source": [
        "<a href=\"https://colab.research.google.com/github/johanik/ML_study/blob/main/Homework_1.ipynb\" target=\"_parent\"><img src=\"https://colab.research.google.com/assets/colab-badge.svg\" alt=\"Open In Colab\"/></a>"
      ]
    },
    {
      "cell_type": "code",
      "execution_count": 2,
      "metadata": {
        "id": "OrVt9_mu4Li1"
      },
      "outputs": [],
      "source": [
        "import gdown"
      ]
    },
    {
      "cell_type": "code",
      "source": [
        "!mkdir data"
      ],
      "metadata": {
        "id": "N-YNnES65a_k"
      },
      "execution_count": 3,
      "outputs": []
    },
    {
      "cell_type": "code",
      "source": [
        "urls = ['https://drive.google.com/uc?export=download&id=1Hqv36-YZKOMJwoAy__LERnrC9mzFNT6G', # pizza.txt  https://drive.google.com/file/d/1Hqv36-YZKOMJwoAy__LERnrC9mzFNT6G/view?usp=sharing       \n",
        "        'https://drive.google.com/uc?export=download&id=1t0fujnd3LfoAMBE9JUIOjBusn02Q4WqP', # pizza_2_vars.txt  https://drive.google.com/file/d/1t0fujnd3LfoAMBE9JUIOjBusn02Q4WqP/view?usp=sharing      \n",
        "        'https://drive.google.com/uc?export=download&id=12mp_1uPGEIyW334Znp33RIPHoirFNrYe', # pizza_3_vars.txt  https://drive.google.com/file/d/12mp_1uPGEIyW334Znp33RIPHoirFNrYe/view?usp=sharing       \n",
        "      ]\n",
        "outputs = ['pizza.txt','pizza_2_vars.txt','pizza_3_vars.txt']\n",
        "for url,output in zip(urls,outputs):\n",
        "  gdown.download(url, f'data/{output}', quiet=False)"
      ],
      "metadata": {
        "colab": {
          "base_uri": "https://localhost:8080/"
        },
        "id": "-_pRQHf27rSO",
        "outputId": "dd0e1e0b-cd4c-4681-f02c-209658e48b73"
      },
      "execution_count": 37,
      "outputs": [
        {
          "output_type": "stream",
          "name": "stderr",
          "text": [
            "Downloading...\n",
            "From: https://drive.google.com/uc?export=download&id=1Hqv36-YZKOMJwoAy__LERnrC9mzFNT6G\n",
            "To: /content/data/pizza.txt\n",
            "100%|██████████| 232/232 [00:00<00:00, 201kB/s]\n",
            "Downloading...\n",
            "From: https://drive.google.com/uc?export=download&id=1t0fujnd3LfoAMBE9JUIOjBusn02Q4WqP\n",
            "To: /content/data/pizza_2_vars.txt\n",
            "100%|██████████| 360/360 [00:00<00:00, 706kB/s]\n",
            "Downloading...\n",
            "From: https://drive.google.com/uc?export=download&id=12mp_1uPGEIyW334Znp33RIPHoirFNrYe\n",
            "To: /content/data/pizza_3_vars.txt\n",
            "100%|██████████| 468/468 [00:00<00:00, 1.00MB/s]\n"
          ]
        }
      ]
    },
    {
      "cell_type": "code",
      "source": [
        "import numpy as np\n",
        "import matplotlib.pyplot as plt\n",
        "import seaborn as sns"
      ],
      "metadata": {
        "id": "gPA4YwMP7rUc"
      },
      "execution_count": 38,
      "outputs": []
    },
    {
      "cell_type": "code",
      "source": [
        "data = np.genfromtxt('data/pizza.txt', delimiter=',', skip_header=1)\n",
        "X, Y = data[:,0], data[:,1]\n",
        "print(X.shape)\n",
        "print(Y.shape)\n",
        "print(data.shape)"
      ],
      "metadata": {
        "colab": {
          "base_uri": "https://localhost:8080/"
        },
        "id": "oe9XruxJ7rWj",
        "outputId": "79f6727a-bafd-443c-e6f9-8d438e459d69"
      },
      "execution_count": 39,
      "outputs": [
        {
          "output_type": "stream",
          "name": "stdout",
          "text": [
            "(30,)\n",
            "(30,)\n",
            "(30, 2)\n"
          ]
        }
      ]
    },
    {
      "cell_type": "code",
      "source": [
        "X"
      ],
      "metadata": {
        "colab": {
          "base_uri": "https://localhost:8080/"
        },
        "id": "3U0_cBSAyfXv",
        "outputId": "e608abf3-c08d-4b29-f7f9-8c6d46614a19"
      },
      "execution_count": 40,
      "outputs": [
        {
          "output_type": "execute_result",
          "data": {
            "text/plain": [
              "array([13.,  2., 14., 23., 13.,  1., 18., 10., 26.,  3.,  3., 21.,  7.,\n",
              "       22.,  2., 27.,  6., 10., 18., 15.,  9., 26.,  8., 15., 10., 21.,\n",
              "        5.,  6., 13., 13.])"
            ]
          },
          "metadata": {},
          "execution_count": 40
        }
      ]
    },
    {
      "cell_type": "code",
      "source": [
        "Y"
      ],
      "metadata": {
        "colab": {
          "base_uri": "https://localhost:8080/"
        },
        "id": "pCsFn5Xhyfby",
        "outputId": "c0d13c13-101a-47d8-9638-17dd398d4567"
      },
      "execution_count": 41,
      "outputs": [
        {
          "output_type": "execute_result",
          "data": {
            "text/plain": [
              "array([33., 16., 32., 51., 27., 16., 34., 17., 29., 15., 15., 32., 22.,\n",
              "       37., 13., 44., 16., 21., 37., 30., 26., 34., 23., 39., 27., 37.,\n",
              "       17., 18., 25., 23.])"
            ]
          },
          "metadata": {},
          "execution_count": 41
        }
      ]
    },
    {
      "cell_type": "code",
      "source": [
        "def make_linear(w=0.5 , b=0.8, size=50, noise=1.0):\n",
        "    x = np.arange(size)\n",
        "    y = w * x + b\n",
        "    noise = np.random.uniform(-abs(noise), abs(noise), size=y.shape)\n",
        "    yy = y + noise\n",
        "    plt.figure(figsize=(10, 7))\n",
        "    plt.plot(x, y, color='r', label=f'y = {w}*x + {b}')\n",
        "    plt.scatter(x, yy, label='data')\n",
        "    plt.legend(fontsize=20)\n",
        "    plt.show()\n",
        "    print(f'w: {w}, b: {b}')\n",
        "    return x, yy"
      ],
      "metadata": {
        "id": "NAuy5rsmxh_Z"
      },
      "execution_count": 43,
      "outputs": []
    },
    {
      "cell_type": "code",
      "source": [
        "# X, Y평균 구하기\n",
        "# X_bar = X.mean()\n",
        "# Y_bar = Y.mean()"
      ],
      "metadata": {
        "id": "udZtjXNj7ra_"
      },
      "execution_count": 44,
      "outputs": []
    },
    {
      "cell_type": "code",
      "source": [
        "# w계수 찾기\n",
        "# calculated_weight = ((X - X_bar) * (Y - Y_bar)).sum() / ((X - X_bar)**2).sum()\n",
        "# print('w: {:.2f}'.format(calculated_weight))"
      ],
      "metadata": {
        "id": "LK4vpQKb7rc3"
      },
      "execution_count": 45,
      "outputs": []
    },
    {
      "cell_type": "code",
      "source": [
        "# b의 계수 값 구현하기 \n",
        "# calculated_bias = Y_bar - calculated_weight * X_bar\n",
        "# print('b: {:.2f}'.format(calculated_bias))"
      ],
      "metadata": {
        "id": "u_D5MoGd7rfM"
      },
      "execution_count": 46,
      "outputs": []
    },
    {
      "cell_type": "code",
      "source": [
        "X, Y = make_linear(size=100, w=0.7, b=0.2, noise=5.5)\n",
        "# 임의로 2개의 outlier를 추가해 보도록 하겠습니다. # Let's randomly add two outliers \n",
        "# Y[5]=60\n",
        "# Y[10]=60\n",
        "# plt.figure(figsize=(10, 7))\n",
        "# plt.scatter(X, Y)\n",
        "# plt.show()"
      ],
      "metadata": {
        "colab": {
          "base_uri": "https://localhost:8080/",
          "height": 446
        },
        "id": "JG_BiBhr7rja",
        "outputId": "2888ef13-a093-4238-c18c-7a0b311e9378"
      },
      "execution_count": 51,
      "outputs": [
        {
          "output_type": "display_data",
          "data": {
            "text/plain": [
              "<Figure size 720x504 with 1 Axes>"
            ],
            "image/png": "[encoded data removed]"
          },
          "metadata": {
            "needs_background": "light"
          }
        },
        {
          "output_type": "stream",
          "name": "stdout",
          "text": [
            "w: 0.7, b: 0.2\n"
          ]
        }
      ]
    },
    {
      "cell_type": "code",
      "source": [
        "# 위에서 구한 w, b 찾는 공식을 그대로 적용합니다.\n",
        "\n",
        "# X, Y평균 구하기\n",
        "X_bar = X.mean()\n",
        "Y_bar = Y.mean()\n",
        "\n",
        "# w, b계산하기\n",
        "calculated_weight = ((X - X_bar) * (Y - Y_bar)).sum() / ((X - X_bar)**2).sum()\n",
        "calculated_bias = Y_bar - calculated_weight * X_bar\n",
        "\n",
        "print('w: {:.2f}, b: {:.2f}'.format(calculated_weight, calculated_bias))"
      ],
      "metadata": {
        "colab": {
          "base_uri": "https://localhost:8080/"
        },
        "id": "XTOiI9YT7rnv",
        "outputId": "958695ed-e016-45b2-e2bb-e3d278aa429c"
      },
      "execution_count": 52,
      "outputs": [
        {
          "output_type": "stream",
          "name": "stdout",
          "text": [
            "w: 0.70, b: 0.81\n"
          ]
        }
      ]
    },
    {
      "cell_type": "code",
      "source": [
        "# 임의로 2개의 outlier를 추가해 보도록 하겠습니다. # Let's randomly add two outliers \n",
        "Y[5]=60\n",
        "Y[10]=60\n",
        "plt.figure(figsize=(10, 7))\n",
        "plt.scatter(X, Y)\n",
        "plt.show()"
      ],
      "metadata": {
        "colab": {
          "base_uri": "https://localhost:8080/",
          "height": 428
        },
        "id": "T_M-nYuC7rp0",
        "outputId": "6e149ce1-17ba-4e1e-f5be-70fc81b392fb"
      },
      "execution_count": 53,
      "outputs": [
        {
          "output_type": "display_data",
          "data": {
            "text/plain": [
              "<Figure size 720x504 with 1 Axes>"
            ],
            "image/png": "[encoded data removed]"
          },
          "metadata": {
            "needs_background": "light"
          }
        }
      ]
    },
    {
      "cell_type": "code",
      "source": [
        "# 임의로 2개의 outlier를 추가해 보도록 하겠습니다. # Let's randomly add two outliers \n",
        "\n",
        "# X, Y평균 구하기\n",
        "X_bar = X.mean()\n",
        "Y_bar = Y.mean()\n",
        "\n",
        "# w, b계산하기\n",
        "calculated_weight = ((X - X_bar) * (Y - Y_bar)).sum() / ((X - X_bar)**2).sum()\n",
        "calculated_bias = Y_bar - calculated_weight * X_bar\n",
        "\n",
        "print('w: {:.2f}, b: {:.2f}'.format(calculated_weight, calculated_bias))"
      ],
      "metadata": {
        "colab": {
          "base_uri": "https://localhost:8080/"
        },
        "id": "ssbM7mHn7rrq",
        "outputId": "598de8aa-8db5-4795-d35b-93575687ec56"
      },
      "execution_count": 54,
      "outputs": [
        {
          "output_type": "stream",
          "name": "stdout",
          "text": [
            "w: 0.64, b: 4.45\n"
          ]
        }
      ]
    },
    {
      "cell_type": "code",
      "source": [],
      "metadata": {
        "id": "LZCKEvNr7rtz"
      },
      "execution_count": null,
      "outputs": []
    },
    {
      "cell_type": "code",
      "source": [],
      "metadata": {
        "id": "GVIEp2av7rv6"
      },
      "execution_count": null,
      "outputs": []
    },
    {
      "cell_type": "code",
      "source": [],
      "metadata": {
        "id": "nw1jPW6c7ryJ"
      },
      "execution_count": null,
      "outputs": []
    },
    {
      "cell_type": "code",
      "source": [],
      "metadata": {
        "id": "es6gFSHB7r0d"
      },
      "execution_count": null,
      "outputs": []
    },
    {
      "cell_type": "code",
      "source": [],
      "metadata": {
        "id": "r81DE_F07r2Z"
      },
      "execution_count": null,
      "outputs": []
    },
    {
      "cell_type": "code",
      "source": [],
      "metadata": {
        "id": "q6bwo84i7r4d"
      },
      "execution_count": null,
      "outputs": []
    },
    {
      "cell_type": "code",
      "source": [],
      "metadata": {
        "id": "U1Nxv56F7r6e"
      },
      "execution_count": null,
      "outputs": []
    },
    {
      "cell_type": "code",
      "source": [],
      "metadata": {
        "id": "SErnBx4s7r8r"
      },
      "execution_count": null,
      "outputs": []
    },
    {
      "cell_type": "code",
      "source": [],
      "metadata": {
        "id": "0X6sW3vq7r-6"
      },
      "execution_count": null,
      "outputs": []
    },
    {
      "cell_type": "code",
      "source": [],
      "metadata": {
        "id": "Pa0efgHi7sA9"
      },
      "execution_count": null,
      "outputs": []
    },
    {
      "cell_type": "code",
      "source": [],
      "metadata": {
        "id": "fp0cKhcT7sC_"
      },
      "execution_count": null,
      "outputs": []
    },
    {
      "cell_type": "code",
      "source": [],
      "metadata": {
        "id": "Eg7dqmG77sFH"
      },
      "execution_count": null,
      "outputs": []
    },
    {
      "cell_type": "code",
      "source": [],
      "metadata": {
        "id": "VVyOTabJ7sIi"
      },
      "execution_count": null,
      "outputs": []
    }
  ]
}