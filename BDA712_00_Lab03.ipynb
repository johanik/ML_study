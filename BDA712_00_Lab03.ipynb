{
  "nbformat": 4,
  "nbformat_minor": 0,
  "metadata": {
    "colab": {
      "provenance": [],
      "collapsed_sections": []
    },
    "kernelspec": {
      "name": "python3",
      "display_name": "Python 3"
    },
    "language_info": {
      "name": "python"
    }
  },
  "cells": [
    {
      "cell_type": "markdown",
      "source": [
        "# Lab Session \\# 03\n",
        "\n",
        "\n",
        "---\n",
        "\n",
        "\n",
        "by Josué Obregón <br>\n",
        "BDA712-00 - Machine Learning Programming <br>\n",
        "Department of Big Data Analytics - Kyung Hee University<br>\n",
        "\n",
        "## Objective\n",
        "\n",
        "The objective of this session is to start playing around with the concept of linear regression. We will program a simple linear regression to help Roberto with his pizza business.\n"
      ],
      "metadata": {
        "id": "jCqG2Vz70NNX"
      }
    },
    {
      "cell_type": "markdown",
      "source": [
        "# Getting the data"
      ],
      "metadata": {
        "id": "tffQN5TXQoMe"
      }
    },
    {
      "cell_type": "code",
      "source": [
        "import gdown"
      ],
      "metadata": {
        "id": "2M5n_qs5acMe"
      },
      "execution_count": 2,
      "outputs": []
    },
    {
      "cell_type": "code",
      "source": [
        "!mkdir data"
      ],
      "metadata": {
        "id": "vouLYEd0aZcf"
      },
      "execution_count": 3,
      "outputs": []
    },
    {
      "cell_type": "code",
      "source": [
        "urls = ['https://drive.google.com/uc?export=download&id=1Hqv36-YZKOMJwoAy__LERnrC9mzFNT6G', # pizza.txt  https://drive.google.com/file/d/1Hqv36-YZKOMJwoAy__LERnrC9mzFNT6G/view?usp=sharing       \n",
        "      ]\n",
        "outputs = ['pizza.txt']\n",
        "for url,output in zip(urls,outputs):\n",
        "  gdown.download(url, f'data/{output}', quiet=False)"
      ],
      "metadata": {
        "id": "gkFTKhLl0I72",
        "outputId": "4ca3f860-4517-4879-ec84-77d08d437d14",
        "colab": {
          "base_uri": "https://localhost:8080/"
        }
      },
      "execution_count": 4,
      "outputs": [
        {
          "output_type": "stream",
          "name": "stderr",
          "text": [
            "Downloading...\n",
            "From: https://drive.google.com/uc?export=download&id=1Hqv36-YZKOMJwoAy__LERnrC9mzFNT6G\n",
            "To: /content/data/pizza.txt\n",
            "100%|██████████| 232/232 [00:00<00:00, 148kB/s]\n"
          ]
        }
      ]
    },
    {
      "cell_type": "markdown",
      "source": [
        "# Making sense of the data\n",
        "\n",
        "If we glance at Roberto’s examples, it seems that the reservations and pizzas are correlated. \n",
        "\n",
        "Let's import the file into a numpy array and take a peek on the data..."
      ],
      "metadata": {
        "id": "zhc1fdmralXW"
      }
    },
    {
      "cell_type": "code",
      "source": [
        "import numpy as np "
      ],
      "metadata": {
        "id": "ElL0PnEca2tJ"
      },
      "execution_count": 5,
      "outputs": []
    },
    {
      "cell_type": "code",
      "source": [
        "data = np.genfromtxt('data/pizza.txt', delimiter=',', skip_header=1)"
      ],
      "metadata": {
        "id": "pdwYV3F-rcqg"
      },
      "execution_count": 6,
      "outputs": []
    },
    {
      "cell_type": "code",
      "source": [
        "x,y = data[:,0], data[:,1]"
      ],
      "metadata": {
        "id": "LZorevItokMP"
      },
      "execution_count": 7,
      "outputs": []
    },
    {
      "cell_type": "code",
      "source": [
        "import matplotlib.pyplot as plt\n",
        "import seaborn as sns"
      ],
      "metadata": {
        "id": "73eT8OmLcEhx"
      },
      "execution_count": 8,
      "outputs": []
    },
    {
      "cell_type": "markdown",
      "source": [
        "The numbers are consistent with Roberto’s file, but it’s still hard to make\n",
        "sense of them. Plot them on a chart, though, and they become clear:"
      ],
      "metadata": {
        "id": "Hr-IJ5wLdv2N"
      }
    },
    {
      "cell_type": "code",
      "source": [
        "import matplotlib.pyplot as plt \n",
        "import seaborn as sns "
      ],
      "metadata": {
        "id": "-prVtQf7dao5"
      },
      "execution_count": null,
      "outputs": []
    },
    {
      "cell_type": "code",
      "source": [
        "sns.set()\n",
        "plt.figure()\n",
        "plt.scatter(x, y)\n",
        "plt.xlabel('Number of reservation')\n",
        "plt.ylabel('Number of Pizza')"
      ],
      "metadata": {
        "id": "lQa5Hmhrd2nP",
        "outputId": "26b9b7ec-a407-4e8b-e432-acb8c8e226be",
        "colab": {
          "base_uri": "https://localhost:8080/",
          "height": 303
        }
      },
      "execution_count": 9,
      "outputs": [
        {
          "output_type": "execute_result",
          "data": {
            "text/plain": [
              "Text(0, 0.5, 'Number of Pizza')"
            ]
          },
          "metadata": {},
          "execution_count": 9
        },
        {
          "output_type": "display_data",
          "data": {
            "text/plain": [
              "<Figure size 432x288 with 1 Axes>"
            ],
            "image/png": "[encoded data removed]"
          },
          "metadata": {}
        }
      ]
    },
    {
      "cell_type": "markdown",
      "source": [
        "Is there a clear relationship between $X$ and $Y$?"
      ],
      "metadata": {
        "id": "wPmK4-JwJqYw"
      }
    },
    {
      "cell_type": "markdown",
      "source": [],
      "metadata": {
        "id": "kDqwA8rFJx9L"
      }
    },
    {
      "cell_type": "markdown",
      "source": [
        "# Coding Linear Regression\n",
        "\n",
        "---\n",
        "* So to recap our goal: we want to write a program that calculates the number of\n",
        "pizzas from the number of reservations. \n",
        "* In other words, make predictions of $Y$ at new points $X = x$.\n",
        "\n",
        "So that program should follow the following approach:\n",
        "\n",
        "* During the `training phase`, the program approximates the data with a function\n",
        "* Then, during the `prediction phase`, it should use that function to infer the number of pizzas.\n",
        "\n",
        "---\n",
        "\n",
        "More formally:\n",
        "\n",
        "\n",
        "We want to use the observed data to construct a predictor $\\hat{f}(x)$ that is\n",
        "a good estimate of the regression function $f(x) = E(Y  | X = x)$.\n"
      ],
      "metadata": {
        "id": "dtgj0hBcKEGS"
      }
    },
    {
      "cell_type": "markdown",
      "source": [
        "In the general case, finding a function $\\hat{f}(x)$ that approximates the data could be a lot of work. In our specific case, however, we lucked out. Our data points are roughly aligned, so we can approximate them with an especially simple function:\n",
        "\n",
        "\n",
        "\n",
        "> **a line**\n",
        "\n"
      ],
      "metadata": {
        "id": "r_EE47gkKo1Y"
      }
    },
    {
      "cell_type": "markdown",
      "source": [
        "Let's try to plot a nice line that passes throuh the origin of the axes and seems to follow those points.\n",
        "\n",
        "Hint: let's use the slope-intercept line equation: $y = mx + b$"
      ],
      "metadata": {
        "id": "Q4M9HFQ_NAFu"
      }
    },
    {
      "cell_type": "code",
      "source": [
        "# b = 0, sinxe its go through \n",
        "# x = 15, y = 30 \n",
        "# m  dy/dx = 30/15 = 2\n",
        "m = 2\n",
        "x_line = np.linspace(0,20, 100) \n",
        "y_line =  m * x_line \n",
        "\n",
        "plt.figure() \n",
        "plt.scatter(x,y) \n",
        "plt.plot(x_line, y_line, 'r') \n",
        "plt.xlabel('Number of reservation') \n",
        "plt.ylabel('Number of Pizza') "
      ],
      "metadata": {
        "id": "oUVSEDdpeHrn",
        "outputId": "3271c93a-7095-4ae4-a207-7d46501b2b5f",
        "colab": {
          "base_uri": "https://localhost:8080/",
          "height": 303
        }
      },
      "execution_count": 10,
      "outputs": [
        {
          "output_type": "execute_result",
          "data": {
            "text/plain": [
              "Text(0, 0.5, 'Number of Pizza')"
            ]
          },
          "metadata": {},
          "execution_count": 10
        },
        {
          "output_type": "display_data",
          "data": {
            "text/plain": [
              "<Figure size 432x288 with 1 Axes>"
            ],
            "image/png": "[encoded data removed]"
          },
          "metadata": {}
        }
      ]
    },
    {
      "cell_type": "markdown",
      "source": [
        "Let's try with different slopes."
      ],
      "metadata": {
        "id": "1zPRXjajWsPH"
      }
    },
    {
      "cell_type": "code",
      "source": [
        "# b = 0, sinxe its go through \n",
        "# x = 15, y = 30 \n",
        "#m  dy/dx = 30/15 = 2\n",
        "m = 2\n",
        "m2 = 3\n",
        "m3 = 1 \n",
        "\n",
        "x_line = np.linspace(0,30, 100) \n",
        "\n",
        "y_line =  m * x_line \n",
        "y_line2 =  m2 * x_line \n",
        "y_line3 =  m3 * x_line \n",
        "\n",
        "\n",
        "plt.figure() \n",
        "plt.scatter(x,y) \n",
        "plt.plot(x_line, y_line , 'r') \n",
        "plt.plot(x_line, y_line2 , 'g') \n",
        "plt.plot(x_line, y_line3 , 'y') \n",
        "plt.xlabel('Number of reservation') \n",
        "plt.ylabel('Number of Pizza') "
      ],
      "metadata": {
        "id": "Ulv3C6bSV2Iu",
        "outputId": "b43415cf-9d48-4abc-9b2b-9a1c0f19ab8b",
        "colab": {
          "base_uri": "https://localhost:8080/",
          "height": 303
        }
      },
      "execution_count": 11,
      "outputs": [
        {
          "output_type": "execute_result",
          "data": {
            "text/plain": [
              "Text(0, 0.5, 'Number of Pizza')"
            ]
          },
          "metadata": {},
          "execution_count": 11
        },
        {
          "output_type": "display_data",
          "data": {
            "text/plain": [
              "<Figure size 432x288 with 1 Axes>"
            ],
            "image/png": "[encoded data removed]"
          },
          "metadata": {}
        }
      ]
    },
    {
      "cell_type": "markdown",
      "source": [
        "Once we’ve found the line, the `training phase` is over. You can say that the\n",
        "line is our model of the relation between reservations and pizzas. Therefore\n",
        "\n",
        "$\\hat{f}(x)= (2)x = (2)x$\n",
        "\n",
        "Now we can move on to the `prediction phase`, where we use the line to predict\n",
        "the label from the input variable."
      ],
      "metadata": {
        "id": "KSEr38lTPouS"
      }
    },
    {
      "cell_type": "markdown",
      "source": [
        "## Implementing the prediction phase"
      ],
      "metadata": {
        "id": "FVp2QURDZ15W"
      }
    },
    {
      "cell_type": "markdown",
      "source": [
        "[링크 텍스트](https://)Here is an example: we have 20 reservations;\n",
        "how much pizza do we expect to sell? \n",
        "\n",
        "For this let's create a `predict` function that implements the next equation:\n",
        "\n",
        "$\\hat{y}= x*w$\n",
        "\n",
        "What do you think it will look like?\n",
        "\n",
        "\n",
        "> Note: for convenience, let's change the $m$ of the slope to $w$, we will see in a few moments why.\n",
        "\n"
      ],
      "metadata": {
        "id": "GrxJPZB-Z2ZK"
      }
    },
    {
      "cell_type": "code",
      "source": [],
      "metadata": {
        "id": "Ax3FKv0sPWY2"
      },
      "execution_count": null,
      "outputs": []
    },
    {
      "cell_type": "markdown",
      "source": [
        "Let's use this function with the slope we found"
      ],
      "metadata": {
        "id": "jwhaNZtQUowL"
      }
    },
    {
      "cell_type": "code",
      "source": [],
      "metadata": {
        "id": "6gK5h7TOUoCT"
      },
      "execution_count": null,
      "outputs": []
    },
    {
      "cell_type": "markdown",
      "source": [
        "To recap, here is how you do supervised learning with linear regression:\n",
        "* `Training phase` : Trace a line that approximates the examples.\n",
        "* `Prediction phase` : Use the line to predict the label from the input variable\n",
        "\n",
        "Admittedly, not every relation can be approximated well with a straight line.\n",
        "If your examples fall along a curve, or lack a discernible shape, then you\n",
        "can’t get away with this simple method.\n",
        "\n",
        "But, remember what we said before:\n",
        "\n",
        "> Linear models don’t work for everything in our world, but they do work  well in many cases. \n",
        "\n",
        "So let's learn one way to implement linear regression.\n",
        "\n"
      ],
      "metadata": {
        "id": "aVkkJWmcQwry"
      }
    },
    {
      "cell_type": "markdown",
      "source": [
        "For the `prediction phase`, the `predict()` function predicts the pizzas from the reservations. To be more precise, it takes the input variable and the weight, and it uses them to calculate $\\hat{y}$.\n",
        "\n",
        "This tiny function is more powerful than you may think. In particular, $X$ can\n",
        "be either a single number, or an entire array of reservations (NumPy comes handy here since it can be used in both ways)\n",
        "\n",
        "Try it!"
      ],
      "metadata": {
        "id": "OFL13nWRZAzC"
      }
    },
    {
      "cell_type": "code",
      "source": [],
      "metadata": {
        "id": "TrJqnNmmRBmD"
      },
      "execution_count": null,
      "outputs": []
    },
    {
      "cell_type": "code",
      "source": [],
      "metadata": {
        "id": "uci8JhuvQuvS"
      },
      "execution_count": null,
      "outputs": []
    },
    {
      "cell_type": "markdown",
      "source": [
        "## Implementing the training phase"
      ],
      "metadata": {
        "id": "_EIRAoCwZ6o3"
      }
    },
    {
      "cell_type": "markdown",
      "source": [
        "Now we want to write code that implements the first part of linear regression:\n",
        "given a bunch of examples ($X$ and $Y$), it finds a line $w$ that approximates them.\n",
        "\n",
        "Can you think of a way to do that?"
      ],
      "metadata": {
        "id": "O_vHrkPmaGSe"
      }
    },
    {
      "cell_type": "markdown",
      "source": [
        "### How wrong are we?"
      ],
      "metadata": {
        "id": "OEn8TcyyakER"
      }
    },
    {
      "cell_type": "code",
      "source": [
        "def predict(x,w):\n",
        "  return x*w"
      ],
      "metadata": {
        "id": "38beGOwW3DOw"
      },
      "execution_count": 18,
      "outputs": []
    },
    {
      "cell_type": "markdown",
      "source": [
        "Here is one strategy to find the best line that approximates the examples.\n",
        "\n",
        "Imagine if we had a function that takes the examples $(X$ and $Y)$ and a line $(w)$, and measures the line’s error. The better the line approximates the examples, the lower the error. \n",
        "\n",
        "If we had such a function, we could use it to evaluate multiple lines, until we find a line with a low enough error.\n",
        "\n",
        "\n",
        "\n",
        "> This error function is called `loss function` in the machine learning lingo.\n",
        "\n",
        "Let's think together:\n"
      ],
      "metadata": {
        "id": "FZLDwEZXdYFx"
      }
    },
    {
      "cell_type": "markdown",
      "source": [
        "*Now* let's define our loss function!!"
      ],
      "metadata": {
        "id": "uyxTu2QThChQ"
      }
    },
    {
      "cell_type": "code",
      "source": [
        "def loss(x, y, w): \n",
        "  return  np.mean(predict(x,w)-y)**2)"
      ],
      "metadata": {
        "id": "3rjgMaowhBwS",
        "outputId": "db4b9672-a2c2-4d3d-9943-648ec7ebf195",
        "colab": {
          "base_uri": "https://localhost:8080/",
          "height": 136
        }
      },
      "execution_count": 19,
      "outputs": [
        {
          "output_type": "error",
          "ename": "SyntaxError",
          "evalue": "ignored",
          "traceback": [
            "\u001b[0;36m  File \u001b[0;32m\"<ipython-input-19-1781ca6db192>\"\u001b[0;36m, line \u001b[0;32m2\u001b[0m\n\u001b[0;31m    return  np.mean(predict(x,w)-y)**2)\u001b[0m\n\u001b[0m                                      ^\u001b[0m\n\u001b[0;31mSyntaxError\u001b[0m\u001b[0;31m:\u001b[0m invalid syntax\n"
          ]
        }
      ]
    },
    {
      "cell_type": "markdown",
      "source": [
        "\n",
        "The name of this loss function is mean squared error"
      ],
      "metadata": {
        "id": "zUQa7yAJhaHj"
      }
    },
    {
      "cell_type": "markdown",
      "source": [
        "## Closer and closer"
      ],
      "metadata": {
        "id": "f8GrZQ4Vh0_n"
      }
    },
    {
      "cell_type": "markdown",
      "source": [
        "Remember what the training phase of linear regression is about: we want to find a line that approximates the examples. In other words, we want to calculate $w$ from the values in $X$ and $Y$. We can use an iterative algorithm to do that:\n",
        "\n",
        "* The `train()` function should go over the examples over and over, until it learns how to approximate them. Its arguments are $X$, $Y$, a number of iterations, and a value called `lr` which means learning rate. \n",
        "\n",
        "* The algorithm begins by initializing $w$ to an arbitrary value of 0. This $w$ represents a line on the chart. It’s unlikely to be a good approximation of the examples, but it’s a start.\n",
        "\n",
        "* Afterwards, `train()` gets into a loop. Each iteration starts by calculating the current loss. Then it considers an alternative line—the one that you get when you increase $w$ by a small amount. We could call that amount the “step size,” or \"learning rate\" —lr for short.\n",
        "\n",
        "* We just added the learning rate to $w$, that results in a new line. Does this new line result in a lower loss than our current line? \n",
        "\n",
        "* If so, then $w + lr$ becomes the new current $w$, and the loop continues. Otherwise, the algorithm tries another line: $w - lr$. Once again, if that line results in a lower loss than the current $w$, the code updates $w$ and continues the loop.\n",
        "\n",
        "* If neither $w + lr$ nor $w - lr$ yield a better loss than the current $w$, then we’re done. \n",
        "\n",
        "* We’ve approximated the examples as well as we can, and we return $w$ to the\n",
        "caller."
      ],
      "metadata": {
        "id": "J-3kzylri5Dm"
      }
    },
    {
      "cell_type": "code",
      "source": [
        "def train(x, y, iterations, lr):\n",
        "  w = 0 \n",
        "  for i in range(iterations):\n",
        "    current_loss = loss(x, y, w)\n",
        "    print(f'iterations {i} => Loss (MSE): {current_loss : .6f}')\n",
        "    if loss(x, y, w + lr) < current_loss: \n",
        "      w += lr \n",
        "    elif loss(x, y, w - lr) < current_loss: \n",
        "      w -= lr \n",
        "    else:\n",
        "      print(f'Best w : {w}')\n",
        "    return w\n",
        "  raise Exception(f'couldn/ t coverge within {iterations} iterations') "
      ],
      "metadata": {
        "id": "WD01OrokQpou"
      },
      "execution_count": null,
      "outputs": []
    },
    {
      "cell_type": "code",
      "source": [
        "train(x,y, 5, 0.5)"
      ],
      "metadata": {
        "id": "YDGfh6z90VFp"
      },
      "execution_count": null,
      "outputs": []
    },
    {
      "cell_type": "markdown",
      "source": [
        "To put it in more concrete terms, this algorithm rotates the line, making it either a tad steeper or a tad less steep at each iteration, while keeping an eye on the loss. \n",
        "\n",
        "The higher the learning rate, the faster the system rotates the line.\n",
        "\n",
        "Let's experiment with this function!"
      ],
      "metadata": {
        "id": "xFAmkhtPkw77"
      }
    },
    {
      "cell_type": "code",
      "source": [],
      "metadata": {
        "id": "nMmxg0pEiiuR"
      },
      "execution_count": null,
      "outputs": []
    },
    {
      "cell_type": "code",
      "source": [],
      "metadata": {
        "id": "srMySDaq9iR9"
      },
      "execution_count": null,
      "outputs": []
    },
    {
      "cell_type": "code",
      "source": [
        "y_line = w*x_line \n",
        "\n",
        "plt.figure(x,y)"
      ],
      "metadata": {
        "id": "LxRPVriY9iZP"
      },
      "execution_count": null,
      "outputs": []
    },
    {
      "cell_type": "markdown",
      "source": [
        "Let's find the best $w$ and plot our linear model!!"
      ],
      "metadata": {
        "id": "4zm3ONXelQ2F"
      }
    },
    {
      "cell_type": "code",
      "source": [],
      "metadata": {
        "id": "-ay-uUE4lSfn"
      },
      "execution_count": null,
      "outputs": []
    },
    {
      "cell_type": "markdown",
      "source": [
        "Success! The loss decreased at each iteration, until the algorithm gave up at\n",
        "squeezing it further. The weight at that point is $w=??$, so that’s the number of pizzas that Roberto can expect to sell for each reservation. "
      ],
      "metadata": {
        "id": "5-2Bqf3J8Mbm"
      }
    },
    {
      "cell_type": "code",
      "source": [],
      "metadata": {
        "id": "sKOMSrIlilpK"
      },
      "execution_count": null,
      "outputs": []
    },
    {
      "cell_type": "markdown",
      "source": [
        "## Adding a Bias"
      ],
      "metadata": {
        "id": "BuXGOlH9l39k"
      }
    },
    {
      "cell_type": "markdown",
      "source": [
        "So far, we forced the line to pass by the origin to keep our model as simple as we could. It’s time to remove that constraint. To draw a line that is not constrained to pass by the origin, we need one more parameter in our model:\n",
        "\n",
        "$\\hat{y} = w*x + b$\n",
        "\n",
        "Remember we just saw this classic slope-intercept line equation: $y = mx + b$\n",
        "\n",
        "Using the ML vocabulary we will call them:\n",
        "\n",
        "* $w$ : weight\n",
        "* $b$ : bias"
      ],
      "metadata": {
        "id": "9WRDgase_G-7"
      }
    },
    {
      "cell_type": "markdown",
      "source": [
        "Intuitively, the bias measures the “shift” of the line up or down the chart, as shown in the slide. The line crosses the $y$ axis at a value equal to $b$. If the bias happens to be 0, then we’re back at our previous case, with a\n",
        "line passing by the origin."
      ],
      "metadata": {
        "id": "Anme_WE0AE80"
      }
    },
    {
      "cell_type": "markdown",
      "source": [
        "Let's add the bias parameter $b$ to our training function..."
      ],
      "metadata": {
        "id": "O6wm4u2HAqoB"
      }
    },
    {
      "cell_type": "code",
      "source": [
        "def predict(X, w, b): \n",
        "  return X * w + b "
      ],
      "metadata": {
        "id": "ed7aNV1Pltah"
      },
      "execution_count": 20,
      "outputs": []
    },
    {
      "cell_type": "code",
      "source": [
        "def loss(X, Y, w, b): \n",
        "  return np.mean((predict(X, w, b) - Y) **2 ) "
      ],
      "metadata": {
        "id": "ejw2ZXFzBBwZ"
      },
      "execution_count": 21,
      "outputs": []
    },
    {
      "cell_type": "code",
      "source": [
        "def train(x, y, iterations, lr):\n",
        "  w = 0 \n",
        "  b = 0 \n",
        "  for i in range(iterations):\n",
        "    current_loss = loss(x, y, w, b)\n",
        "    print(f'iterations {i} => Loss (MSE): {current_loss : .6f}')\n",
        "    if loss(x, y, w + lr, b) < current_loss: \n",
        "      w += lr \n",
        "    elif loss(x, y, w - lr, b) < current_loss: \n",
        "      w -= lr \n",
        "    elif loss(x, y, w - lr, b - lr) < current_loss: \n",
        "      b += lr\n",
        "    elif loss(x, y, w, b - lr) < current_loss: \n",
        "      b -= lr\n",
        "    else:\n",
        "      print(f'Best w : {w}, Best b : {b}')\n",
        "    return w, b\n",
        "  raise Exception(f'couldn/ t coverge within {iterations} iterations') "
      ],
      "metadata": {
        "id": "jk4RxXi_BEiH"
      },
      "execution_count": null,
      "outputs": []
    },
    {
      "cell_type": "markdown",
      "source": [
        "Let's use the new function!!! What do you think it will happen to the last loss function value???\n"
      ],
      "metadata": {
        "id": "IGrPP2eeBrBw"
      }
    },
    {
      "cell_type": "code",
      "source": [
        "w, b = train(x, y, iterations = 100, lr = 0.1)"
      ],
      "metadata": {
        "id": "3hYUE9e-Bosl"
      },
      "execution_count": null,
      "outputs": []
    },
    {
      "cell_type": "code",
      "source": [
        "# b = 0, sinxe its go through \n",
        "# x = 15, y = 30 \n",
        "# m  dy/dx = 30/15 = 2\n",
        "m = 2\n",
        "x_line = np.linspace(0,20, 100) \n",
        "y_line =  m * x_line + b \n",
        "\n",
        "plt.figure() \n",
        "plt.scatter(x,y) \n",
        "plt.plot(x_line, y_line, 'r') \n",
        "plt.xlabel('Number of reservation') \n",
        "plt.ylabel('Number of Pizza') "
      ],
      "metadata": {
        "id": "pSxrCgCoDXeE"
      },
      "execution_count": null,
      "outputs": []
    },
    {
      "cell_type": "code",
      "source": [],
      "metadata": {
        "id": "9vgP2IWlCNJK"
      },
      "execution_count": null,
      "outputs": []
    },
    {
      "cell_type": "markdown",
      "source": [
        "Now we’re really talking! This line approximates the examples much better, and it crosses the y axis at a value equal to b. Even better, our final loss is lower than it used to be, which means that we’re more accurate than ever at forecasting pizza sales. Roberto will be delighted! "
      ],
      "metadata": {
        "id": "aLPsCPiiD_TL"
      }
    },
    {
      "cell_type": "markdown",
      "source": [
        "# Summary\n",
        "\n",
        "* A supervised learning system learns from examples composed of input variables and labels.\n",
        "  * In our case, the input variables were the number of reservations, and the\n",
        "labels were the number of pizzas.\n",
        "\n",
        "* Supervised learning works by approximating the examples with a function, also called the model. \n",
        "  * In our first program, the model is a line identified by two parameters—the weight and the bias. \n",
        "  * This idea of approximating the examples with a line is called linear regression.\n",
        "\n",
        "* The first phase of supervised learning is the `training phase`, when the system learn the parameters of the model to approximate the examples.\n",
        "  * During this search, the system is guided by a `loss function` that measures the distance between the current model and the ground truth: the lower the loss, the better the model. \n",
        "  * Our program calculates the loss with a formula called the mean\n",
        "squared error. \n",
        "  * The result of training are a weight and a bias—the ones that\n",
        "result in the lowest loss that the system could find.\n",
        "\n",
        "* The parameters found during the `training phase` are then used during the\n",
        "second phase of supervised learning: the `prediction phase`. \n",
        "  * This phase passes an unlabeled input through the parametrized model. The result is a forecast / prediction / estimation, such as: “Tonight, you can expect to sell 42 pizzas.\n",
        "\n",
        "\n",
        "Congratulations, you programmed your first supervised learning algorithm!!!"
      ],
      "metadata": {
        "id": "pJcHheNyEzG0"
      }
    },
    {
      "cell_type": "code",
      "source": [],
      "metadata": {
        "id": "8GMM-SecFukL"
      },
      "execution_count": null,
      "outputs": []
    }
  ]
}